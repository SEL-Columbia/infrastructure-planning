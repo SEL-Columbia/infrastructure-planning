{
 "cells": [
  {
   "cell_type": "code",
   "execution_count": 1,
   "metadata": {
    "collapsed": true
   },
   "outputs": [],
   "source": [
    "annual_table_path = 'datasets/example-production-cost-by-year.csv'\n",
    "annual_table_year_column = 'Year'\n",
    "annual_table_production_cost_column = 'Production Cost'\n",
    "annual_table_consumption_column = 'Consumption (kWh)'\n",
    "financing_year = 2020\n",
    "discount_rate_as_percent = 10"
   ]
  },
  {
   "cell_type": "code",
   "execution_count": 2,
   "metadata": {
    "collapsed": false
   },
   "outputs": [
    {
     "data": {
      "text/html": [
       "<div>\n",
       "<table border=\"1\" class=\"dataframe\">\n",
       "  <thead>\n",
       "    <tr style=\"text-align: right;\">\n",
       "      <th></th>\n",
       "      <th>Production Cost</th>\n",
       "      <th>Consumption (kWh)</th>\n",
       "    </tr>\n",
       "    <tr>\n",
       "      <th>Year</th>\n",
       "      <th></th>\n",
       "      <th></th>\n",
       "    </tr>\n",
       "  </thead>\n",
       "  <tbody>\n",
       "    <tr>\n",
       "      <th>2020</th>\n",
       "      <td>250000</td>\n",
       "      <td>0</td>\n",
       "    </tr>\n",
       "    <tr>\n",
       "      <th>2021</th>\n",
       "      <td>250000</td>\n",
       "      <td>0</td>\n",
       "    </tr>\n",
       "    <tr>\n",
       "      <th>2022</th>\n",
       "      <td>50000</td>\n",
       "      <td>1000000</td>\n",
       "    </tr>\n",
       "    <tr>\n",
       "      <th>2023</th>\n",
       "      <td>50000</td>\n",
       "      <td>1000000</td>\n",
       "    </tr>\n",
       "    <tr>\n",
       "      <th>2024</th>\n",
       "      <td>50000</td>\n",
       "      <td>1000000</td>\n",
       "    </tr>\n",
       "  </tbody>\n",
       "</table>\n",
       "</div>"
      ],
      "text/plain": [
       "      Production Cost  Consumption (kWh)\n",
       "Year                                    \n",
       "2020           250000                  0\n",
       "2021           250000                  0\n",
       "2022            50000            1000000\n",
       "2023            50000            1000000\n",
       "2024            50000            1000000"
      ]
     },
     "execution_count": 2,
     "metadata": {},
     "output_type": "execute_result"
    }
   ],
   "source": [
    "from pandas import read_csv\n",
    "annual_table = read_csv(annual_table_path)\n",
    "annual_table.set_index(annual_table_year_column, inplace=True)\n",
    "annual_table[:5]"
   ]
  },
  {
   "cell_type": "code",
   "execution_count": 3,
   "metadata": {
    "collapsed": true
   },
   "outputs": [],
   "source": [
    "from infrastructure_planning.finance.valuation import compute_discounted_cash_flow\n",
    "financing_year = int(financing_year)\n",
    "discount_rate_as_percent = float(discount_rate_as_percent)"
   ]
  },
  {
   "cell_type": "code",
   "execution_count": 4,
   "metadata": {
    "collapsed": false
   },
   "outputs": [
    {
     "data": {
      "text/plain": [
       "954154.47456090269"
      ]
     },
     "execution_count": 4,
     "metadata": {},
     "output_type": "execute_result"
    }
   ],
   "source": [
    "discounted_production_cost = compute_discounted_cash_flow(annual_table[\n",
    "    annual_table_production_cost_column], financing_year, discount_rate_as_percent)\n",
    "discounted_production_cost"
   ]
  },
  {
   "cell_type": "code",
   "execution_count": 5,
   "metadata": {
    "collapsed": false
   },
   "outputs": [
    {
     "data": {
      "text/plain": [
       "12227897.195998356"
      ]
     },
     "execution_count": 5,
     "metadata": {},
     "output_type": "execute_result"
    }
   ],
   "source": [
    "discounted_consumption_in_kwh = compute_discounted_cash_flow(annual_table[\n",
    "    annual_table_consumption_column], financing_year, discount_rate_as_percent)\n",
    "discounted_consumption_in_kwh"
   ]
  },
  {
   "cell_type": "code",
   "execution_count": 6,
   "metadata": {
    "collapsed": false
   },
   "outputs": [
    {
     "name": "stdout",
     "output_type": "stream",
     "text": [
      "levelized_cost_per_kwh_consumed = 0.0780309532593\n"
     ]
    }
   ],
   "source": [
    "from invisibleroads_macros.calculator import divide_safely\n",
    "print('levelized_cost_per_kwh_consumed = %s' % divide_safely(\n",
    "    discounted_production_cost, discounted_consumption_in_kwh, 0))"
   ]
  }
 ],
 "metadata": {
  "kernelspec": {
   "display_name": "Python 2",
   "language": "python",
   "name": "python2"
  },
  "language_info": {
   "codemirror_mode": {
    "name": "ipython",
    "version": 2
   },
   "file_extension": ".py",
   "mimetype": "text/x-python",
   "name": "python",
   "nbconvert_exporter": "python",
   "pygments_lexer": "ipython2",
   "version": "2.7.12"
  }
 },
 "nbformat": 4,
 "nbformat_minor": 1
}
