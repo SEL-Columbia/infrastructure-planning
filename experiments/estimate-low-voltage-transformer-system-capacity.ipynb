{
 "cells": [
  {
   "cell_type": "code",
   "execution_count": null,
   "metadata": {
    "collapsed": true
   },
   "outputs": [],
   "source": [
    "# Implement function that takes consumption, computes peak demand, fits capacity\n",
    "# We should do this based on the highest projected consumption."
   ]
  },
  {
   "cell_type": "code",
   "execution_count": 2,
   "metadata": {
    "collapsed": false
   },
   "outputs": [],
   "source": [
    "# Levelized cost\n",
    "from pandas import DataFrame\n",
    "consumption_by_year_table = DataFrame([\n",
    "    [2020, 10000],\n",
    "    [2021, 50000],\n",
    "    [2022, 99999],\n",
    "    [2023, 99999],\n",
    "    [2024, 99999],\n",
    "], columns=[\n",
    "    'Year', 'Consumption (kWh)',\n",
    "])"
   ]
  },
  {
   "cell_type": "code",
   "execution_count": 3,
   "metadata": {
    "collapsed": true
   },
   "outputs": [],
   "source": [
    "# Get the peak consumption from the consumption_by_year_table\n",
    "# Compute peak demand using old formula\n",
    "# Fit capacity using multiples of the largest available capacity"
   ]
  },
  {
   "cell_type": "code",
   "execution_count": 5,
   "metadata": {
    "collapsed": false
   },
   "outputs": [
    {
     "data": {
      "text/plain": [
       "99999"
      ]
     },
     "execution_count": 5,
     "metadata": {},
     "output_type": "execute_result"
    }
   ],
   "source": [
    "consumption_column = 'Consumption (kWh)'\n",
    "consumption_by_year_table[consumption_column].max()"
   ]
  },
  {
   "cell_type": "code",
   "execution_count": 8,
   "metadata": {
    "collapsed": true
   },
   "outputs": [],
   "source": [
    "maximum_consumption_per_year = consumption_by_year_table[consumption_column].max()"
   ]
  },
  {
   "cell_type": "code",
   "execution_count": null,
   "metadata": {
    "collapsed": true
   },
   "outputs": [],
   "source": [
    "# Assume that most electricity consumption happens during peak hours\n",
    "# Then maximum_consumption_per_year / peak_hours_per_year is approximately the amount of electricity consumed per peak hour\n",
    "# demand as fraction of consumption per peak hour"
   ]
  },
  {
   "cell_type": "code",
   "execution_count": 9,
   "metadata": {
    "collapsed": true
   },
   "outputs": [],
   "source": [
    "peak_hours_per_year = 1460"
   ]
  },
  {
   "cell_type": "code",
   "execution_count": 11,
   "metadata": {
    "collapsed": false
   },
   "outputs": [
    {
     "data": {
      "text/plain": [
       "68"
      ]
     },
     "execution_count": 11,
     "metadata": {},
     "output_type": "execute_result"
    }
   ],
   "source": [
    "maximum_consumption_per_peak_hour = maximum_consumption_per_year / peak_hours_per_year\n",
    "maximum_consumption_per_peak_hour # in kWh"
   ]
  },
  {
   "cell_type": "code",
   "execution_count": 12,
   "metadata": {
    "collapsed": true
   },
   "outputs": [],
   "source": [
    "peak_demand_as_fraction_of_maximum_consumption_per_peak_hour = 0.4"
   ]
  },
  {
   "cell_type": "code",
   "execution_count": 13,
   "metadata": {
    "collapsed": false
   },
   "outputs": [
    {
     "data": {
      "text/plain": [
       "27.200000000000003"
      ]
     },
     "execution_count": 13,
     "metadata": {},
     "output_type": "execute_result"
    }
   ],
   "source": [
    "peak_demand = peak_demand_as_fraction_of_maximum_consumption_per_peak_hour * maximum_consumption_per_peak_hour\n",
    "peak_demand # kW"
   ]
  },
  {
   "cell_type": "code",
   "execution_count": 15,
   "metadata": {
    "collapsed": false
   },
   "outputs": [
    {
     "data": {
      "text/plain": [
       "0.85"
      ]
     },
     "execution_count": 15,
     "metadata": {},
     "output_type": "execute_result"
    }
   ],
   "source": [
    "1 - distribution_loss_percent / 100."
   ]
  },
  {
   "cell_type": "code",
   "execution_count": 14,
   "metadata": {
    "collapsed": false
   },
   "outputs": [
    {
     "data": {
      "text/plain": [
       "32.00000000000001"
      ]
     },
     "execution_count": 14,
     "metadata": {},
     "output_type": "execute_result"
    }
   ],
   "source": [
    "# that will serve the entire village\n",
    "distribution_loss_percent = 15\n",
    "desired_system_capacity = peak_demand / float(1 - distribution_loss_percent / 100.)\n",
    "desired_system_capacity"
   ]
  },
  {
   "cell_type": "code",
   "execution_count": null,
   "metadata": {
    "collapsed": true
   },
   "outputs": [],
   "source": [
    "1000 900 800 700 600 500 400 300 200 100 90 80 70 60 50 40 30 20 15 5"
   ]
  },
  {
   "cell_type": "code",
   "execution_count": 73,
   "metadata": {
    "collapsed": false
   },
   "outputs": [
    {
     "data": {
      "text/html": [
       "<div>\n",
       "<table border=\"1\" class=\"dataframe\">\n",
       "  <thead>\n",
       "    <tr style=\"text-align: right;\">\n",
       "      <th></th>\n",
       "      <th>Capacity in Kilowatts</th>\n",
       "      <th>Installation Worker Salary in Dollars per Year</th>\n",
       "      <th>Installation Worker Count</th>\n",
       "      <th>Installation Time in Years</th>\n",
       "      <th>Installation Material Cost in Dollars</th>\n",
       "      <th>Maintenance Worker Salary in Dollars per Year</th>\n",
       "      <th>Maintenance Worker Count</th>\n",
       "      <th>Maintenance Time in Years</th>\n",
       "      <th>Maintenance Material Cost in Dollars per Year</th>\n",
       "      <th>Replacement Worker Salary in Dollars per Year</th>\n",
       "      <th>Replacement Worker Count</th>\n",
       "      <th>Replacement Time in Years</th>\n",
       "      <th>Replacement Material Cost in Dollars</th>\n",
       "    </tr>\n",
       "  </thead>\n",
       "  <tbody>\n",
       "    <tr>\n",
       "      <th>0</th>\n",
       "      <td>1000</td>\n",
       "      <td>50000</td>\n",
       "      <td>2</td>\n",
       "      <td>2</td>\n",
       "      <td>5000</td>\n",
       "      <td>60000</td>\n",
       "      <td>2</td>\n",
       "      <td>10</td>\n",
       "      <td>500</td>\n",
       "      <td>50000</td>\n",
       "      <td>3</td>\n",
       "      <td>3</td>\n",
       "      <td>7500</td>\n",
       "    </tr>\n",
       "    <tr>\n",
       "      <th>1</th>\n",
       "      <td>500</td>\n",
       "      <td>20000</td>\n",
       "      <td>1</td>\n",
       "      <td>1</td>\n",
       "      <td>1000</td>\n",
       "      <td>30000</td>\n",
       "      <td>1</td>\n",
       "      <td>10</td>\n",
       "      <td>100</td>\n",
       "      <td>20000</td>\n",
       "      <td>1</td>\n",
       "      <td>1</td>\n",
       "      <td>1500</td>\n",
       "    </tr>\n",
       "  </tbody>\n",
       "</table>\n",
       "</div>"
      ],
      "text/plain": [
       "   Capacity in Kilowatts  Installation Worker Salary in Dollars per Year  \\\n",
       "0                   1000                                           50000   \n",
       "1                    500                                           20000   \n",
       "\n",
       "   Installation Worker Count  Installation Time in Years  \\\n",
       "0                          2                           2   \n",
       "1                          1                           1   \n",
       "\n",
       "   Installation Material Cost in Dollars  \\\n",
       "0                                   5000   \n",
       "1                                   1000   \n",
       "\n",
       "   Maintenance Worker Salary in Dollars per Year  Maintenance Worker Count  \\\n",
       "0                                          60000                         2   \n",
       "1                                          30000                         1   \n",
       "\n",
       "   Maintenance Time in Years  Maintenance Material Cost in Dollars per Year  \\\n",
       "0                         10                                            500   \n",
       "1                         10                                            100   \n",
       "\n",
       "   Replacement Worker Salary in Dollars per Year  Replacement Worker Count  \\\n",
       "0                                          50000                         3   \n",
       "1                                          20000                         1   \n",
       "\n",
       "   Replacement Time in Years  Replacement Material Cost in Dollars  \n",
       "0                          3                                  7500  \n",
       "1                          1                                  1500  "
      ]
     },
     "execution_count": 73,
     "metadata": {},
     "output_type": "execute_result"
    }
   ],
   "source": [
    "from pandas import DataFrame\n",
    "transformer_table = DataFrame([\n",
    "    [1000, 50000, 2, 2, 5000, 60000, 2, 10, 500, 50000, 3, 3, 7500],\n",
    "    [ 500, 20000, 1, 1, 1000, 30000, 1, 10, 100, 20000, 1, 1, 1500],\n",
    "], columns=[\n",
    "    'Capacity in Kilowatts',\n",
    "    \n",
    "    'Installation Worker Salary in Dollars per Year',\n",
    "    'Installation Worker Count',\n",
    "    'Installation Time in Years',\n",
    "    'Installation Material Cost in Dollars',\n",
    "    \n",
    "    'Maintenance Worker Salary in Dollars per Year',\n",
    "    'Maintenance Worker Count',\n",
    "    'Maintenance Time in Years',\n",
    "    'Maintenance Material Cost in Dollars per Year',\n",
    "\n",
    "    'Replacement Worker Salary in Dollars per Year',\n",
    "    'Replacement Worker Count',\n",
    "    'Replacement Time in Years',\n",
    "    'Replacement Material Cost in Dollars',\n",
    "])\n",
    "transformer_table"
   ]
  },
  {
   "cell_type": "code",
   "execution_count": 74,
   "metadata": {
    "collapsed": true
   },
   "outputs": [],
   "source": [
    "low_voltage_transformer_installation_worker_salary = 50000\n",
    "low_voltage_transformer_maintenance_worker_salary = 60000\n",
    "low_voltage_transformer_replacement_worker_salary = 50000"
   ]
  },
  {
   "cell_type": "code",
   "execution_count": 75,
   "metadata": {
    "collapsed": false
   },
   "outputs": [
    {
     "data": {
      "text/html": [
       "<div>\n",
       "<table border=\"1\" class=\"dataframe\">\n",
       "  <thead>\n",
       "    <tr style=\"text-align: right;\">\n",
       "      <th></th>\n",
       "      <th>Capacity in Kilowatts</th>\n",
       "      <th>Installation Worker Salary</th>\n",
       "      <th>Installation Worker Count</th>\n",
       "      <th>Installation Time in Years</th>\n",
       "      <th>Installation Material Cost in Dollars</th>\n",
       "      <th>Maintenance Worker Salary</th>\n",
       "      <th>Maintenance Worker Count</th>\n",
       "      <th>Maintenance Time in Years</th>\n",
       "      <th>Maintenance Material Cost in Dollars Per Year</th>\n",
       "      <th>Replacement Worker Salary</th>\n",
       "      <th>Replacement Worker Count</th>\n",
       "      <th>Replacement Time in Years</th>\n",
       "      <th>Replacement Material Cost in Dollars</th>\n",
       "    </tr>\n",
       "  </thead>\n",
       "  <tbody>\n",
       "  </tbody>\n",
       "</table>\n",
       "</div>"
      ],
      "text/plain": [
       "Empty DataFrame\n",
       "Columns: [Capacity in Kilowatts, Installation Worker Salary, Installation Worker Count, Installation Time in Years, Installation Material Cost in Dollars, Maintenance Worker Salary, Maintenance Worker Count, Maintenance Time in Years, Maintenance Material Cost in Dollars Per Year, Replacement Worker Salary, Replacement Worker Count, Replacement Time in Years, Replacement Material Cost in Dollars]\n",
       "Index: []"
      ]
     },
     "execution_count": 75,
     "metadata": {},
     "output_type": "execute_result"
    }
   ],
   "source": [
    "eligible_transformer_table = low_voltage_transformer_table[\n",
    "    low_voltage_transformer_table[\n",
    "        'Capacity in Kilowatts'] < desired_system_capacity]\n",
    "eligible_transformer_table"
   ]
  },
  {
   "cell_type": "code",
   "execution_count": 76,
   "metadata": {
    "collapsed": false
   },
   "outputs": [
    {
     "data": {
      "text/html": [
       "<div>\n",
       "<table border=\"1\" class=\"dataframe\">\n",
       "  <thead>\n",
       "    <tr style=\"text-align: right;\">\n",
       "      <th></th>\n",
       "      <th>Capacity in Kilowatts</th>\n",
       "      <th>Installation Worker Salary</th>\n",
       "      <th>Installation Worker Count</th>\n",
       "      <th>Installation Time in Years</th>\n",
       "      <th>Installation Material Cost in Dollars</th>\n",
       "      <th>Maintenance Worker Salary</th>\n",
       "      <th>Maintenance Worker Count</th>\n",
       "      <th>Maintenance Time in Years</th>\n",
       "      <th>Maintenance Material Cost in Dollars Per Year</th>\n",
       "      <th>Replacement Worker Salary</th>\n",
       "      <th>Replacement Worker Count</th>\n",
       "      <th>Replacement Time in Years</th>\n",
       "      <th>Replacement Material Cost in Dollars</th>\n",
       "    </tr>\n",
       "  </thead>\n",
       "  <tbody>\n",
       "    <tr>\n",
       "      <th>1</th>\n",
       "      <td>500</td>\n",
       "      <td>20000</td>\n",
       "      <td>1</td>\n",
       "      <td>1</td>\n",
       "      <td>1000</td>\n",
       "      <td>30000</td>\n",
       "      <td>1</td>\n",
       "      <td>10</td>\n",
       "      <td>100</td>\n",
       "      <td>20000</td>\n",
       "      <td>1</td>\n",
       "      <td>1</td>\n",
       "      <td>1500</td>\n",
       "    </tr>\n",
       "  </tbody>\n",
       "</table>\n",
       "</div>"
      ],
      "text/plain": [
       "   Capacity in Kilowatts  Installation Worker Salary  \\\n",
       "1                    500                       20000   \n",
       "\n",
       "   Installation Worker Count  Installation Time in Years  \\\n",
       "1                          1                           1   \n",
       "\n",
       "   Installation Material Cost in Dollars  Maintenance Worker Salary  \\\n",
       "1                                   1000                      30000   \n",
       "\n",
       "   Maintenance Worker Count  Maintenance Time in Years  \\\n",
       "1                         1                         10   \n",
       "\n",
       "   Maintenance Material Cost in Dollars Per Year  Replacement Worker Salary  \\\n",
       "1                                            100                      20000   \n",
       "\n",
       "   Replacement Worker Count  Replacement Time in Years  \\\n",
       "1                         1                          1   \n",
       "\n",
       "   Replacement Material Cost in Dollars  \n",
       "1                                  1500  "
      ]
     },
     "execution_count": 76,
     "metadata": {},
     "output_type": "execute_result"
    }
   ],
   "source": [
    "low_voltage_transformer_table[\n",
    "    low_voltage_transformer_table[\n",
    "        'Capacity in Kilowatts'\n",
    "    ] == low_voltage_transformer_table[\n",
    "        'Capacity in Kilowatts'\n",
    "    ].min()]"
   ]
  },
  {
   "cell_type": "code",
   "execution_count": 98,
   "metadata": {
    "collapsed": false
   },
   "outputs": [
    {
     "data": {
      "text/plain": [
       "Capacity in Kilowatts                               500\n",
       "Installation Worker Salary in Dollars per Year    20000\n",
       "Installation Worker Count                             1\n",
       "Installation Time in Years                            1\n",
       "Installation Material Cost in Dollars              1000\n",
       "Maintenance Worker Salary in Dollars per Year     30000\n",
       "Maintenance Worker Count                              1\n",
       "Maintenance Time in Years                            10\n",
       "Maintenance Material Cost in Dollars per Year       100\n",
       "Replacement Worker Salary in Dollars per Year     20000\n",
       "Replacement Worker Count                              1\n",
       "Replacement Time in Years                             1\n",
       "Replacement Material Cost in Dollars               1500\n",
       "Name: 1, dtype: int64"
      ]
     },
     "execution_count": 98,
     "metadata": {},
     "output_type": "execute_result"
    }
   ],
   "source": [
    "# Choose largest capacity from available system capacities that is less than the desired capacity\n",
    "if len(eligible_transformer_table):\n",
    "    selected_transformer_table = eligible_transformer_table[\n",
    "        eligible_transformer_table[\n",
    "            'Capacity in Kilowatts'\n",
    "        ] == eligible_transformer_table[\n",
    "            'Capacity in Kilowatts'\n",
    "        ].max()]\n",
    "else:\n",
    "    selected_transformer_table = transformer_table[\n",
    "        transformer_table[\n",
    "            'Capacity in Kilowatts'\n",
    "        ] == transformer_table[\n",
    "            'Capacity in Kilowatts'\n",
    "        ].min()]    \n",
    "selected_transformer = selected_transformer_table.ix[selected_transformer_table.index[0]]\n",
    "selected_transformer"
   ]
  },
  {
   "cell_type": "code",
   "execution_count": 51,
   "metadata": {
    "collapsed": false
   },
   "outputs": [
    {
     "data": {
      "text/plain": [
       "500"
      ]
     },
     "execution_count": 51,
     "metadata": {},
     "output_type": "execute_result"
    }
   ],
   "source": [
    "selected_transformer_capacity = selected_transformer_table['Capacity in Kilowatts'].values[0]\n",
    "selected_transformer_capacity"
   ]
  },
  {
   "cell_type": "code",
   "execution_count": 52,
   "metadata": {
    "collapsed": false
   },
   "outputs": [
    {
     "data": {
      "text/plain": [
       "1.0"
      ]
     },
     "execution_count": 52,
     "metadata": {},
     "output_type": "execute_result"
    }
   ],
   "source": [
    "from math import ceil\n",
    "ceil(0.3)"
   ]
  },
  {
   "cell_type": "code",
   "execution_count": 54,
   "metadata": {
    "collapsed": false
   },
   "outputs": [
    {
     "data": {
      "text/plain": [
       "1"
      ]
     },
     "execution_count": 54,
     "metadata": {},
     "output_type": "execute_result"
    }
   ],
   "source": [
    "selected_transformer_count = int(ceil(\n",
    "    desired_system_capacity / float(selected_transformer_capacity)))\n",
    "selected_transformer_count"
   ]
  },
  {
   "cell_type": "code",
   "execution_count": 57,
   "metadata": {
    "collapsed": false
   },
   "outputs": [
    {
     "name": "stdout",
     "output_type": "stream",
     "text": [
      "\n",
      "get multiple of that to compute actual\n",
      "output multiple\n",
      "output desired\n",
      "output actual\n",
      "output peak demand\n",
      "\n"
     ]
    }
   ],
   "source": [
    "print(\"\"\"\n",
    "get multiple of that to compute actual\n",
    "output multiple\n",
    "output desired\n",
    "output actual\n",
    "output peak demand\n",
    "\"\"\")"
   ]
  },
  {
   "cell_type": "code",
   "execution_count": 61,
   "metadata": {
    "collapsed": true
   },
   "outputs": [],
   "source": [
    "prefix = 'Low Voltage Transformer'"
   ]
  },
  {
   "cell_type": "code",
   "execution_count": 62,
   "metadata": {
    "collapsed": false
   },
   "outputs": [
    {
     "data": {
      "text/plain": [
       "5"
      ]
     },
     "execution_count": 62,
     "metadata": {},
     "output_type": "execute_result"
    }
   ],
   "source": [
    "consumption_by_year_table.drop_duplicates('Year', inplace=True)\n",
    "year_count = len(consumption_by_year_table)\n",
    "year_count"
   ]
  },
  {
   "cell_type": "code",
   "execution_count": 63,
   "metadata": {
    "collapsed": true
   },
   "outputs": [],
   "source": [
    "year_count = 30  # Length of consumption table after dropping duplicates"
   ]
  },
  {
   "cell_type": "code",
   "execution_count": 78,
   "metadata": {
    "collapsed": false
   },
   "outputs": [
    {
     "data": {
      "text/html": [
       "<div>\n",
       "<table border=\"1\" class=\"dataframe\">\n",
       "  <thead>\n",
       "    <tr style=\"text-align: right;\">\n",
       "      <th></th>\n",
       "      <th>Capacity in Kilowatts</th>\n",
       "      <th>Installation Worker Salary in Dollars per Year</th>\n",
       "      <th>Installation Worker Count</th>\n",
       "      <th>Installation Time in Years</th>\n",
       "      <th>Installation Material Cost in Dollars</th>\n",
       "      <th>Maintenance Worker Salary in Dollars per Year</th>\n",
       "      <th>Maintenance Worker Count</th>\n",
       "      <th>Maintenance Time in Years</th>\n",
       "      <th>Maintenance Material Cost in Dollars per Year</th>\n",
       "      <th>Replacement Worker Salary in Dollars per Year</th>\n",
       "      <th>Replacement Worker Count</th>\n",
       "      <th>Replacement Time in Years</th>\n",
       "      <th>Replacement Material Cost in Dollars</th>\n",
       "    </tr>\n",
       "  </thead>\n",
       "  <tbody>\n",
       "    <tr>\n",
       "      <th>1</th>\n",
       "      <td>500</td>\n",
       "      <td>20000</td>\n",
       "      <td>1</td>\n",
       "      <td>1</td>\n",
       "      <td>1000</td>\n",
       "      <td>30000</td>\n",
       "      <td>1</td>\n",
       "      <td>10</td>\n",
       "      <td>100</td>\n",
       "      <td>20000</td>\n",
       "      <td>1</td>\n",
       "      <td>1</td>\n",
       "      <td>1500</td>\n",
       "    </tr>\n",
       "  </tbody>\n",
       "</table>\n",
       "</div>"
      ],
      "text/plain": [
       "   Capacity in Kilowatts  Installation Worker Salary in Dollars per Year  \\\n",
       "1                    500                                           20000   \n",
       "\n",
       "   Installation Worker Count  Installation Time in Years  \\\n",
       "1                          1                           1   \n",
       "\n",
       "   Installation Material Cost in Dollars  \\\n",
       "1                                   1000   \n",
       "\n",
       "   Maintenance Worker Salary in Dollars per Year  Maintenance Worker Count  \\\n",
       "1                                          30000                         1   \n",
       "\n",
       "   Maintenance Time in Years  Maintenance Material Cost in Dollars per Year  \\\n",
       "1                         10                                            100   \n",
       "\n",
       "   Replacement Worker Salary in Dollars per Year  Replacement Worker Count  \\\n",
       "1                                          20000                         1   \n",
       "\n",
       "   Replacement Time in Years  Replacement Material Cost in Dollars  \n",
       "1                          1                                  1500  "
      ]
     },
     "execution_count": 78,
     "metadata": {},
     "output_type": "execute_result"
    }
   ],
   "source": [
    "t = selected_transformer_table\n",
    "t"
   ]
  },
  {
   "cell_type": "code",
   "execution_count": 90,
   "metadata": {
    "collapsed": true
   },
   "outputs": [],
   "source": [
    "[\n",
    "    capacity_column,\n",
    "    installation_worker_salary_column,\n",
    "    installation_worker_count_column,\n",
    "    installation_time_column,\n",
    "    installation_material_cost_column,\n",
    "    maintenance_worker_salary_column,\n",
    "    maintenance_worker_count_column,\n",
    "    maintenance_time_column,\n",
    "    maintenance_material_cost_column,\n",
    "    replacement_worker_salary_column,\n",
    "    replacement_worker_count_column,\n",
    "    replacement_time_column,\n",
    "    replacement_material_cost_column,\n",
    "] = [\n",
    "    'Capacity in Kilowatts',\n",
    "\n",
    "    'Installation Worker Salary in Dollars per Year',\n",
    "    'Installation Worker Count',\n",
    "    'Installation Time in Years',\n",
    "    'Installation Material Cost in Dollars',\n",
    "\n",
    "    'Maintenance Worker Salary in Dollars per Year',\n",
    "    'Maintenance Worker Count',\n",
    "    'Maintenance Time in Years',\n",
    "    'Maintenance Material Cost in Dollars per Year',\n",
    "\n",
    "    'Replacement Worker Salary in Dollars per Year',\n",
    "    'Replacement Worker Count',\n",
    "    'Replacement Time in Years',\n",
    "    'Replacement Material Cost in Dollars',        \n",
    "]"
   ]
  },
  {
   "cell_type": "code",
   "execution_count": 88,
   "metadata": {
    "collapsed": true
   },
   "outputs": [],
   "source": [
    "installation_labor_cost_in_dollars_per_year = (t[\n",
    "    installation_worker_salary_column] * t[\n",
    "    installation_worker_count_column]).values[0]\n",
    "installation_material_cost_in_dollars = t[\n",
    "    installation_material_cost_column].values[0]\n",
    "installation_time_in_years = t[\n",
    "    installation_time_column].values[0]"
   ]
  },
  {
   "cell_type": "code",
   "execution_count": 92,
   "metadata": {
    "collapsed": false
   },
   "outputs": [],
   "source": [
    "maintenance_labor_cost_in_dollars_per_year = (t[\n",
    "    maintenance_worker_salary_column] * t[\n",
    "    maintenance_worker_count_column]).values[0]\n",
    "maintenance_material_cost_in_dollars_per_year = t[\n",
    "    maintenance_material_cost_column].values[0]\n",
    "maintenance_time_in_years = t[\n",
    "    maintenance_time_column].values[0]"
   ]
  },
  {
   "cell_type": "code",
   "execution_count": 96,
   "metadata": {
    "collapsed": false
   },
   "outputs": [
    {
     "data": {
      "text/plain": [
       "Capacity in Kilowatts                               500\n",
       "Installation Worker Salary in Dollars per Year    20000\n",
       "Installation Worker Count                             1\n",
       "Installation Time in Years                            1\n",
       "Installation Material Cost in Dollars              1000\n",
       "Maintenance Worker Salary in Dollars per Year     30000\n",
       "Maintenance Worker Count                              1\n",
       "Maintenance Time in Years                            10\n",
       "Maintenance Material Cost in Dollars per Year       100\n",
       "Replacement Worker Salary in Dollars per Year     20000\n",
       "Replacement Worker Count                              1\n",
       "Replacement Time in Years                             1\n",
       "Replacement Material Cost in Dollars               1500\n",
       "Name: 1, dtype: int64"
      ]
     },
     "execution_count": 96,
     "metadata": {},
     "output_type": "execute_result"
    }
   ],
   "source": [
    "t.ix[t.index[0]]"
   ]
  },
  {
   "cell_type": "code",
   "execution_count": 99,
   "metadata": {
    "collapsed": false
   },
   "outputs": [
    {
     "data": {
      "text/plain": [
       "[20000, 1000, 1]"
      ]
     },
     "execution_count": 99,
     "metadata": {},
     "output_type": "execute_result"
    }
   ],
   "source": [
    "def get_labor_material_time(d, worker_salary_column, worker_count_column, material_cost_column, time_column):\n",
    "    worker_salary = d[worker_salary_column]\n",
    "    worker_count = d[worker_count_column]\n",
    "    labor_cost_per_year = worker_salary * worker_count\n",
    "    material_cost_per_year = d[material_cost_column]\n",
    "    year_count = d[time_column]\n",
    "    return [labor_cost_per_year, material_cost_per_year, year_count]\n",
    "\n",
    "get_labor_material_time(\n",
    "    selected_transformer,\n",
    "    installation_worker_salary_column,\n",
    "    installation_worker_count_column,\n",
    "    installation_material_cost_column,\n",
    "    installation_time_column)"
   ]
  },
  {
   "cell_type": "code",
   "execution_count": null,
   "metadata": {
    "collapsed": true
   },
   "outputs": [],
   "source": [
    "replacement_labor_cost_in_dollars_per_year\n",
    "replacement_material_cost_in_dollars\n",
    "replacement_time_in_years"
   ]
  },
  {
   "cell_type": "code",
   "execution_count": null,
   "metadata": {
    "collapsed": true
   },
   "outputs": [],
   "source": [
    "import numpy as np\n",
    "\n",
    "def get_cost_breakdown_table(\n",
    "        prefix,\n",
    "        year_count,\n",
    "        installation_labor_cost_in_dollars_per_year,\n",
    "        installation_material_cost_in_dollars,\n",
    "        installation_time_in_years,\n",
    "        maintenance_labor_cost_in_dollars_per_year,\n",
    "        maintenance_material_cost_in_dollars_per_year,\n",
    "        maintenance_time_in_years,\n",
    "        replacement_labor_cost_in_dollars_per_year,\n",
    "        replacement_material_cost_in_dollars,\n",
    "        replacement_time_in_years):\n",
    "\n",
    "    installation_labor_costs = np.zeros(year_count)\n",
    "    installation_labor_costs[:installation_time_in_years] = installation_labor_cost_in_dollars_per_year\n",
    "\n",
    "    installation_material_costs = np.zeros(year_count)\n",
    "    installation_material_costs[0] = installation_material_cost_in_dollars\n",
    "\n",
    "    maintenance_labor_costs = np.zeros(year_count)\n",
    "    maintenance_labor_costs[installation_time_in_years:] = maintenance_labor_cost_in_dollars_per_year\n",
    "\n",
    "    maintenance_material_costs = np.zeros(year_count)\n",
    "    maintenance_material_costs[installation_time_in_years:] = maintenance_material_cost_in_dollars_per_year\n",
    "\n",
    "    replacement_labor_costs = np.zeros(year_count)\n",
    "    index1 = installation_time_in_years + maintenance_time_in_years\n",
    "    index2 = index1 + replacement_time_in_years\n",
    "    while index1 < year_count:\n",
    "        replacement_labor_costs[index1:index2] = replacement_labor_cost_in_dollars_per_year\n",
    "        index1 = index2 + maintenance_time_in_years\n",
    "        index2 = index1 + replacement_time_in_years\n",
    "\n",
    "    replacement_material_costs = np.zeros(year_count)\n",
    "    index1 = installation_time_in_years + maintenance_time_in_years\n",
    "    while index1 < year_count:\n",
    "        replacement_material_costs[index1] = replacement_material_cost_in_dollars\n",
    "        index1 += maintenance_time_in_years + replacement_time_in_years\n",
    "    replacement_material_costs\n",
    "\n",
    "    return DataFrame({\n",
    "        prefix + ' Installation Labor Cost ($)': installation_labor_costs,\n",
    "        prefix + ' Installation Material Cost ($)': installation_material_costs,\n",
    "        prefix + ' Maintenance Labor Cost ($)': maintenance_labor_costs,\n",
    "        prefix + ' Maintenance Material Cost ($)': maintenance_material_costs,\n",
    "        prefix + ' Replacement Labor Cost ($)': replacement_labor_costs,\n",
    "        prefix + ' Replacement Material Cost ($)': replacement_material_costs,\n",
    "    })\n",
    "\n",
    "get_cost_breakdown_table(\n",
    "    prefix='LV Transformer',\n",
    "    year_count=30,\n",
    "    installation_labor_cost_in_dollars_per_year=500000,\n",
    "    installation_material_cost_in_dollars=100000,\n",
    "    installation_time_in_years=2,\n",
    "    maintenance_labor_cost_in_dollars_per_year=50000,\n",
    "    maintenance_material_cost_in_dollars_per_year=1000,\n",
    "    maintenance_time_in_years=5,\n",
    "    replacement_labor_cost_in_dollars_per_year=50000,\n",
    "    replacement_material_cost_in_dollars=150000,\n",
    "    replacement_time_in_years=3)"
   ]
  }
 ],
 "metadata": {
  "kernelspec": {
   "display_name": "Python 2",
   "language": "python",
   "name": "python2"
  },
  "language_info": {
   "codemirror_mode": {
    "name": "ipython",
    "version": 2
   },
   "file_extension": ".py",
   "mimetype": "text/x-python",
   "name": "python",
   "nbconvert_exporter": "python",
   "pygments_lexer": "ipython2",
   "version": "2.7.10"
  }
 },
 "nbformat": 4,
 "nbformat_minor": 0
}
