{
 "cells": [
  {
   "cell_type": "code",
   "execution_count": 4,
   "metadata": {
    "collapsed": true
   },
   "outputs": [],
   "source": [
    "time_horizon_in_years = 10\n",
    "discount_rate_as_percent_per_year = 10"
   ]
  },
  {
   "cell_type": "code",
   "execution_count": 5,
   "metadata": {
    "collapsed": true
   },
   "outputs": [],
   "source": [
    "# demographic_table\n",
    "population_count = 1000\n",
    "population_growth_rate_as_percent_per_year = 10"
   ]
  },
  {
   "cell_type": "code",
   "execution_count": 6,
   "metadata": {
    "collapsed": false
   },
   "outputs": [
    {
     "data": {
      "text/plain": [
       "1000"
      ]
     },
     "execution_count": 6,
     "metadata": {},
     "output_type": "execute_result"
    }
   ],
   "source": [
    "# Compute the population at year zero\n",
    "population_count"
   ]
  },
  {
   "cell_type": "code",
   "execution_count": 7,
   "metadata": {
    "collapsed": false
   },
   "outputs": [
    {
     "data": {
      "text/plain": [
       "1100.0"
      ]
     },
     "execution_count": 7,
     "metadata": {},
     "output_type": "execute_result"
    }
   ],
   "source": [
    "# Compute the population at year one\n",
    "population_count * (1 + population_growth_rate_as_percent_per_year / 100.)"
   ]
  },
  {
   "cell_type": "code",
   "execution_count": 8,
   "metadata": {
    "collapsed": false
   },
   "outputs": [
    {
     "data": {
      "text/plain": [
       "1210.0000000000002"
      ]
     },
     "execution_count": 8,
     "metadata": {},
     "output_type": "execute_result"
    }
   ],
   "source": [
    "# Compute the population at year two\n",
    "population_count * (1 + population_growth_rate_as_percent_per_year / 100.) ** 2"
   ]
  },
  {
   "cell_type": "code",
   "execution_count": 9,
   "metadata": {
    "collapsed": false
   },
   "outputs": [
    {
     "data": {
      "text/plain": [
       "2593.7424601000025"
      ]
     },
     "execution_count": 9,
     "metadata": {},
     "output_type": "execute_result"
    }
   ],
   "source": [
    "projected_population_count = population_count * (\n",
    "    1 + population_growth_rate_as_percent_per_year / 100.\n",
    ") ** time_horizon_in_years\n",
    "projected_population_count"
   ]
  },
  {
   "cell_type": "code",
   "execution_count": 11,
   "metadata": {
    "collapsed": true
   },
   "outputs": [],
   "source": [
    "population_by_year = {\n",
    "    2000: 1000,\n",
    "    2010: 2000,\n",
    "}"
   ]
  },
  {
   "cell_type": "code",
   "execution_count": 13,
   "metadata": {
    "collapsed": false
   },
   "outputs": [
    {
     "data": {
      "text/plain": [
       "2000    1000\n",
       "2010    2000\n",
       "dtype: int64"
      ]
     },
     "execution_count": 13,
     "metadata": {},
     "output_type": "execute_result"
    }
   ],
   "source": [
    "from pandas import Series\n",
    "Series(population_by_year)"
   ]
  },
  {
   "cell_type": "code",
   "execution_count": 15,
   "metadata": {
    "collapsed": false
   },
   "outputs": [
    {
     "data": {
      "text/html": [
       "<div>\n",
       "<table border=\"1\" class=\"dataframe\">\n",
       "  <thead>\n",
       "    <tr style=\"text-align: right;\">\n",
       "      <th></th>\n",
       "      <th>population</th>\n",
       "    </tr>\n",
       "  </thead>\n",
       "  <tbody>\n",
       "    <tr>\n",
       "      <th>2000</th>\n",
       "      <td>1000</td>\n",
       "    </tr>\n",
       "    <tr>\n",
       "      <th>2010</th>\n",
       "      <td>2000</td>\n",
       "    </tr>\n",
       "  </tbody>\n",
       "</table>\n",
       "</div>"
      ],
      "text/plain": [
       "      population\n",
       "2000        1000\n",
       "2010        2000"
      ]
     },
     "execution_count": 15,
     "metadata": {},
     "output_type": "execute_result"
    }
   ],
   "source": [
    "t = DataFrame({'population': population_by_year})\n",
    "t"
   ]
  },
  {
   "cell_type": "code",
   "execution_count": 26,
   "metadata": {
    "collapsed": false
   },
   "outputs": [
    {
     "data": {
      "text/plain": [
       "2000    1000\n",
       "2010    2000\n",
       "Name: population, dtype: int64"
      ]
     },
     "execution_count": 26,
     "metadata": {},
     "output_type": "execute_result"
    }
   ],
   "source": [
    "x = t['population']\n",
    "x"
   ]
  },
  {
   "cell_type": "code",
   "execution_count": 28,
   "metadata": {
    "collapsed": false
   },
   "outputs": [
    {
     "data": {
      "text/plain": [
       "array([1000, 2000])"
      ]
     },
     "execution_count": 28,
     "metadata": {},
     "output_type": "execute_result"
    }
   ],
   "source": [
    "x.values"
   ]
  },
  {
   "cell_type": "code",
   "execution_count": 32,
   "metadata": {
    "collapsed": false
   },
   "outputs": [
    {
     "data": {
      "text/plain": [
       "2000   NaN\n",
       "2010   NaN\n",
       "dtype: float64"
      ]
     },
     "execution_count": 32,
     "metadata": {},
     "output_type": "execute_result"
    }
   ],
   "source": [
    "x = Series(index=[2000, 2010])\n",
    "x"
   ]
  },
  {
   "cell_type": "code",
   "execution_count": 36,
   "metadata": {
    "collapsed": false
   },
   "outputs": [
    {
     "data": {
      "text/html": [
       "<div>\n",
       "<table border=\"1\" class=\"dataframe\">\n",
       "  <thead>\n",
       "    <tr style=\"text-align: right;\">\n",
       "      <th></th>\n",
       "      <th>index</th>\n",
       "      <th>0</th>\n",
       "    </tr>\n",
       "  </thead>\n",
       "  <tbody>\n",
       "    <tr>\n",
       "      <th>0</th>\n",
       "      <td>2000</td>\n",
       "      <td>NaN</td>\n",
       "    </tr>\n",
       "    <tr>\n",
       "      <th>1</th>\n",
       "      <td>2010</td>\n",
       "      <td>NaN</td>\n",
       "    </tr>\n",
       "  </tbody>\n",
       "</table>\n",
       "</div>"
      ],
      "text/plain": [
       "   index   0\n",
       "0   2000 NaN\n",
       "1   2010 NaN"
      ]
     },
     "execution_count": 36,
     "metadata": {},
     "output_type": "execute_result"
    }
   ],
   "source": [
    "x.reset_index()"
   ]
  },
  {
   "cell_type": "code",
   "execution_count": 39,
   "metadata": {
    "collapsed": false
   },
   "outputs": [],
   "source": [
    "years = Series([2000, 2010])"
   ]
  },
  {
   "cell_type": "code",
   "execution_count": 42,
   "metadata": {
    "collapsed": false
   },
   "outputs": [
    {
     "data": {
      "text/plain": [
       "0    4000\n",
       "1    4020\n",
       "dtype: int64"
      ]
     },
     "execution_count": 42,
     "metadata": {},
     "output_type": "execute_result"
    }
   ],
   "source": [
    "2 * years"
   ]
  },
  {
   "cell_type": "code",
   "execution_count": 44,
   "metadata": {
    "collapsed": true
   },
   "outputs": [],
   "source": [
    "time_horizon_in_years = 10\n",
    "financing_year = 2000\n",
    "base_population = 1000\n",
    "population_growth_rate_as_percent_per_year = 10"
   ]
  },
  {
   "cell_type": "code",
   "execution_count": 45,
   "metadata": {
    "collapsed": false
   },
   "outputs": [
    {
     "data": {
      "text/plain": [
       "0      0\n",
       "1      1\n",
       "2      2\n",
       "3      3\n",
       "4      4\n",
       "5      5\n",
       "6      6\n",
       "7      7\n",
       "8      8\n",
       "9      9\n",
       "10    10\n",
       "dtype: int64"
      ]
     },
     "execution_count": 45,
     "metadata": {},
     "output_type": "execute_result"
    }
   ],
   "source": [
    "year_increments = Series(range(time_horizon_in_years + 1))\n",
    "year_increments"
   ]
  },
  {
   "cell_type": "code",
   "execution_count": 47,
   "metadata": {
    "collapsed": false
   },
   "outputs": [
    {
     "data": {
      "text/plain": [
       "0     2000\n",
       "1     2001\n",
       "2     2002\n",
       "3     2003\n",
       "4     2004\n",
       "5     2005\n",
       "6     2006\n",
       "7     2007\n",
       "8     2008\n",
       "9     2009\n",
       "10    2010\n",
       "dtype: int64"
      ]
     },
     "execution_count": 47,
     "metadata": {},
     "output_type": "execute_result"
    }
   ],
   "source": [
    "years = financing_year + year_increments\n",
    "years"
   ]
  },
  {
   "cell_type": "code",
   "execution_count": 49,
   "metadata": {
    "collapsed": false
   },
   "outputs": [
    {
     "data": {
      "text/plain": [
       "0     1000.000000\n",
       "1     1100.000000\n",
       "2     1210.000000\n",
       "3     1331.000000\n",
       "4     1464.100000\n",
       "5     1610.510000\n",
       "6     1771.561000\n",
       "7     1948.717100\n",
       "8     2143.588810\n",
       "9     2357.947691\n",
       "10    2593.742460\n",
       "dtype: float64"
      ]
     },
     "execution_count": 49,
     "metadata": {},
     "output_type": "execute_result"
    }
   ],
   "source": [
    "def grow_exponentially(value, growth_rate_as_percent, growth_count):\n",
    "    return value * (1 + growth_rate_as_percent / 100.) ** growth_count\n",
    "\n",
    "populations = grow_exponentially(\n",
    "    base_population, population_growth_rate_as_percent_per_year, year_increments)\n",
    "populations"
   ]
  },
  {
   "cell_type": "code",
   "execution_count": 50,
   "metadata": {
    "collapsed": false
   },
   "outputs": [
    {
     "data": {
      "text/plain": [
       "2000    1000.000000\n",
       "2001    1100.000000\n",
       "2002    1210.000000\n",
       "2003    1331.000000\n",
       "2004    1464.100000\n",
       "2005    1610.510000\n",
       "2006    1771.561000\n",
       "2007    1948.717100\n",
       "2008    2143.588810\n",
       "2009    2357.947691\n",
       "2010    2593.742460\n",
       "dtype: float64"
      ]
     },
     "execution_count": 50,
     "metadata": {},
     "output_type": "execute_result"
    }
   ],
   "source": [
    "populations.index = years\n",
    "populations"
   ]
  },
  {
   "cell_type": "code",
   "execution_count": 51,
   "metadata": {
    "collapsed": true
   },
   "outputs": [],
   "source": [
    "populations.index = year_increments"
   ]
  },
  {
   "cell_type": "code",
   "execution_count": 55,
   "metadata": {
    "collapsed": false
   },
   "outputs": [
    {
     "data": {
      "text/plain": [
       "0     1000.000000\n",
       "1     1100.000000\n",
       "2     1210.000000\n",
       "3     1331.000000\n",
       "4     1464.100000\n",
       "5     1610.510000\n",
       "6     1771.561000\n",
       "7     1948.717100\n",
       "8     2143.588810\n",
       "9     2357.947691\n",
       "10    2593.742460\n",
       "dtype: float64"
      ]
     },
     "execution_count": 55,
     "metadata": {},
     "output_type": "execute_result"
    }
   ],
   "source": [
    "populations"
   ]
  },
  {
   "cell_type": "code",
   "execution_count": 61,
   "metadata": {
    "collapsed": false
   },
   "outputs": [
    {
     "data": {
      "text/plain": [
       "2593.7424601000025"
      ]
     },
     "execution_count": 61,
     "metadata": {},
     "output_type": "execute_result"
    }
   ],
   "source": [
    "populations.max()"
   ]
  },
  {
   "cell_type": "code",
   "execution_count": 56,
   "metadata": {
    "collapsed": false
   },
   "outputs": [
    {
     "data": {
      "text/plain": [
       "0     2000\n",
       "1     2001\n",
       "2     2002\n",
       "3     2003\n",
       "4     2004\n",
       "5     2005\n",
       "6     2006\n",
       "7     2007\n",
       "8     2008\n",
       "9     2009\n",
       "10    2010\n",
       "dtype: int64"
      ]
     },
     "execution_count": 56,
     "metadata": {},
     "output_type": "execute_result"
    }
   ],
   "source": [
    "years"
   ]
  },
  {
   "cell_type": "code",
   "execution_count": 10,
   "metadata": {
    "collapsed": true
   },
   "outputs": [],
   "source": [
    "connection_count_per_thousand_people = 120\n",
    "consumption_per_connection_in_kwh = 456"
   ]
  },
  {
   "cell_type": "code",
   "execution_count": 95,
   "metadata": {
    "collapsed": false
   },
   "outputs": [
    {
     "data": {
      "text/plain": [
       "312"
      ]
     },
     "execution_count": 95,
     "metadata": {},
     "output_type": "execute_result"
    }
   ],
   "source": [
    "from math import ceil\n",
    "projected_connection_count = \\\n",
    "    projected_population_count * connection_count_per_thousand_people / 1000.\n",
    "int(ceil(projected_connection_count))"
   ]
  },
  {
   "cell_type": "code",
   "execution_count": 12,
   "metadata": {
    "collapsed": false
   },
   "outputs": [
    {
     "data": {
      "text/plain": [
       "141929.58741667215"
      ]
     },
     "execution_count": 12,
     "metadata": {},
     "output_type": "execute_result"
    }
   ],
   "source": [
    "projected_consumption_in_kwh = \\\n",
    "    consumption_per_connection_in_kwh * projected_connection_count\n",
    "projected_consumption_in_kwh"
   ]
  },
  {
   "cell_type": "code",
   "execution_count": 23,
   "metadata": {
    "collapsed": true
   },
   "outputs": [],
   "source": []
  },
  {
   "cell_type": "code",
   "execution_count": 7,
   "metadata": {
    "collapsed": false
   },
   "outputs": [
    {
     "name": "stdout",
     "output_type": "stream",
     "text": [
      "{'y': 2, 'x': 1}\n"
     ]
    }
   ],
   "source": [
    "def f(**kw):\n",
    "    print kw\n",
    "    \n",
    "f(x=1, y=2)"
   ]
  },
  {
   "cell_type": "code",
   "execution_count": 2,
   "metadata": {
    "collapsed": true
   },
   "outputs": [],
   "source": [
    "import inspect"
   ]
  },
  {
   "cell_type": "code",
   "execution_count": 4,
   "metadata": {
    "collapsed": false
   },
   "outputs": [
    {
     "data": {
      "text/plain": [
       "ArgSpec(args=[], varargs=None, keywords='kw', defaults=None)"
      ]
     },
     "execution_count": 4,
     "metadata": {},
     "output_type": "execute_result"
    }
   ],
   "source": [
    "x = inspect.getargspec(f)\n",
    "x"
   ]
  },
  {
   "cell_type": "code",
   "execution_count": 5,
   "metadata": {
    "collapsed": false
   },
   "outputs": [
    {
     "data": {
      "text/plain": [
       "'kw'"
      ]
     },
     "execution_count": 5,
     "metadata": {},
     "output_type": "execute_result"
    }
   ],
   "source": [
    "x.keywords"
   ]
  },
  {
   "cell_type": "code",
   "execution_count": null,
   "metadata": {
    "collapsed": true
   },
   "outputs": [],
   "source": []
  },
  {
   "cell_type": "code",
   "execution_count": 2,
   "metadata": {
    "collapsed": false
   },
   "outputs": [
    {
     "data": {
      "text/plain": [
       "123.45679012345678"
      ]
     },
     "execution_count": 2,
     "metadata": {},
     "output_type": "execute_result"
    }
   ],
   "source": [
    "# def adjust_for_loss(x, *loss_as_fractions):\n",
    "# def adjust_for_loss(x, *losses_as_fractions):\n",
    "# def adjust_for_loss(x, *fraction_losses):\n",
    "def adjust_for_losses(x, *fractional_losses):\n",
    "\n",
    "    def adjust_for_loss(x, fractional_loss):\n",
    "        divisor = 1 - fractional_loss\n",
    "        if not divisor:\n",
    "            return x\n",
    "        return x / float(divisor)\n",
    "        \n",
    "    y = x\n",
    "    for fractional_loss in fractional_losses:\n",
    "        y = adjust_for_loss(y, fractional_loss)\n",
    "    return y\n",
    "\n",
    "adjust_for_losses(100, 0.1, 0.1)"
   ]
  },
  {
   "cell_type": "code",
   "execution_count": null,
   "metadata": {
    "collapsed": true
   },
   "outputs": [],
   "source": [
    "adjust_for_losses()"
   ]
  },
  {
   "cell_type": "code",
   "execution_count": null,
   "metadata": {
    "collapsed": true
   },
   "outputs": [],
   "source": []
  },
  {
   "cell_type": "code",
   "execution_count": null,
   "metadata": {
    "collapsed": true
   },
   "outputs": [],
   "source": [
    "grid_system_loss_as_percent = 15\n",
    "medium_voltage_transformer_load_power_factor = 0.85"
   ]
  },
  {
   "cell_type": "code",
   "execution_count": 29,
   "metadata": {
    "collapsed": false
   },
   "outputs": [
    {
     "data": {
      "text/plain": [
       "141929.58741667215"
      ]
     },
     "execution_count": 29,
     "metadata": {},
     "output_type": "execute_result"
    }
   ],
   "source": [
    "projected_consumption_in_kwh"
   ]
  },
  {
   "cell_type": "code",
   "execution_count": 37,
   "metadata": {
    "collapsed": false
   },
   "outputs": [
    {
     "data": {
      "text/plain": [
       "196442.33552480576"
      ]
     },
     "execution_count": 37,
     "metadata": {},
     "output_type": "execute_result"
    }
   ],
   "source": [
    "projected_production_in_kwh = adjust_for_losses(\n",
    "    projected_consumption_in_kwh,\n",
    "    grid_system_loss_as_percent / 100.,\n",
    "    1 - medium_voltage_transformer_load_power_factor)\n",
    "projected_production_in_kwh"
   ]
  },
  {
   "cell_type": "code",
   "execution_count": 38,
   "metadata": {
    "collapsed": false
   },
   "outputs": [
    {
     "data": {
      "text/plain": [
       "33395.19703921698"
      ]
     },
     "execution_count": 38,
     "metadata": {},
     "output_type": "execute_result"
    }
   ],
   "source": [
    "remote_electricity_production_cost_in_dollars_per_kwh = 0.17\n",
    "remote_electricity_production_cost_in_dollars = \\\n",
    "    remote_electricity_production_cost_in_dollars_per_kwh * projected_production_in_kwh\n",
    "remote_electricity_production_cost_in_dollars"
   ]
  },
  {
   "cell_type": "code",
   "execution_count": 5,
   "metadata": {
    "collapsed": true
   },
   "outputs": [],
   "source": [
    "from pandas import Series\n",
    "s = Series([\n",
    "    (2000, 1000),\n",
    "    (2001, 2000),\n",
    "])"
   ]
  },
  {
   "cell_type": "code",
   "execution_count": 6,
   "metadata": {
    "collapsed": false
   },
   "outputs": [
    {
     "data": {
      "text/plain": [
       "0    (2000, 1000)\n",
       "1    (2001, 2000)\n",
       "dtype: object"
      ]
     },
     "execution_count": 6,
     "metadata": {},
     "output_type": "execute_result"
    }
   ],
   "source": [
    "s"
   ]
  },
  {
   "cell_type": "code",
   "execution_count": null,
   "metadata": {
    "collapsed": true
   },
   "outputs": [],
   "source": [
    "def compute_discounted_cash_flow(time_value_packs, discount_rate_percent):\n",
    "    time_value_packs = sort_time_packs(time_value_packs)\n",
    "    discount_rate_factor = 1 + discount_rate_percent / 100.\n",
    "    values = [value for time, value in time_value_packs]\n",
    "    return sum(x / discount_rate_factor ** t for t, x in enumerate(values))"
   ]
  },
  {
   "cell_type": "code",
   "execution_count": 11,
   "metadata": {
    "collapsed": false
   },
   "outputs": [],
   "source": [
    "from pandas import Series\n",
    "\n",
    "def compute_discounted_cash_flow(cash_flow_by_year, financing_year, discount_rate_as_percent):\n",
    "    # TODO\n",
    "    pass\n",
    "\n",
    "cash_flow_by_year = Series([\n",
    "    1000,\n",
    "    1000,\n",
    "    1000,\n",
    "    1000,\n",
    "], index=[2000, 2002, 2004, 2006])\n",
    "discount_rate_as_percent = 10\n",
    "financing_year = 2000\n",
    "compute_discounted_cash_flow(cash_flow_by_year, financing_year, discount_rate_as_percent)"
   ]
  },
  {
   "cell_type": "code",
   "execution_count": 12,
   "metadata": {
    "collapsed": false
   },
   "outputs": [
    {
     "data": {
      "text/plain": [
       "Int64Index([2000, 2002, 2004, 2006], dtype='int64')"
      ]
     },
     "execution_count": 12,
     "metadata": {},
     "output_type": "execute_result"
    }
   ],
   "source": [
    "cash_flow_by_year.index"
   ]
  },
  {
   "cell_type": "code",
   "execution_count": 15,
   "metadata": {
    "collapsed": false
   },
   "outputs": [
    {
     "data": {
      "text/plain": [
       "array([False, False, False, False], dtype=bool)"
      ]
     },
     "execution_count": 15,
     "metadata": {},
     "output_type": "execute_result"
    }
   ],
   "source": [
    "cash_flow_by_year.index < 0"
   ]
  },
  {
   "cell_type": "code",
   "execution_count": 35,
   "metadata": {
    "collapsed": false
   },
   "outputs": [
    {
     "data": {
      "text/plain": [
       "True"
      ]
     },
     "execution_count": 35,
     "metadata": {},
     "output_type": "execute_result"
    }
   ],
   "source": [
    "x = Series()\n",
    "x.empty"
   ]
  },
  {
   "cell_type": "code",
   "execution_count": 23,
   "metadata": {
    "collapsed": false
   },
   "outputs": [
    {
     "data": {
      "text/plain": [
       "array([-3, -1,  1,  3])"
      ]
     },
     "execution_count": 23,
     "metadata": {},
     "output_type": "execute_result"
    }
   ],
   "source": [
    "import numpy as np\n",
    "financing_year = 2003\n",
    "year_increments = np.array(cash_flow_by_year.index - financing_year)\n",
    "year_increments"
   ]
  },
  {
   "cell_type": "code",
   "execution_count": 26,
   "metadata": {
    "collapsed": false
   },
   "outputs": [
    {
     "data": {
      "text/plain": [
       "array([0, 0, 1, 3])"
      ]
     },
     "execution_count": 26,
     "metadata": {},
     "output_type": "execute_result"
    }
   ],
   "source": [
    "year_increments[year_increments < 0] = 0\n",
    "year_increments"
   ]
  },
  {
   "cell_type": "code",
   "execution_count": 28,
   "metadata": {
    "collapsed": false
   },
   "outputs": [
    {
     "data": {
      "text/plain": [
       "1.1"
      ]
     },
     "execution_count": 28,
     "metadata": {},
     "output_type": "execute_result"
    }
   ],
   "source": [
    "discount_rate_as_factor = 1 + discount_rate_as_percent / 100.\n",
    "discount_rate_as_factor"
   ]
  },
  {
   "cell_type": "code",
   "execution_count": 32,
   "metadata": {
    "collapsed": false
   },
   "outputs": [
    {
     "data": {
      "text/plain": [
       "3660.4057099924867"
      ]
     },
     "execution_count": 32,
     "metadata": {},
     "output_type": "execute_result"
    }
   ],
   "source": [
    "sum(cash_flow_by_year / discount_rate_as_factor ** year_increments)"
   ]
  },
  {
   "cell_type": "code",
   "execution_count": 31,
   "metadata": {
    "collapsed": false
   },
   "outputs": [
    {
     "data": {
      "text/plain": [
       "array([ 2,  9, 64])"
      ]
     },
     "execution_count": 31,
     "metadata": {},
     "output_type": "execute_result"
    }
   ],
   "source": [
    "np.array([2, 3, 4]) ** np.array([1, 2, 3])"
   ]
  },
  {
   "cell_type": "code",
   "execution_count": 21,
   "metadata": {
    "collapsed": false
   },
   "outputs": [
    {
     "data": {
      "text/plain": [
       "Int64Index([-3, -1], dtype='int64')"
      ]
     },
     "execution_count": 21,
     "metadata": {},
     "output_type": "execute_result"
    }
   ],
   "source": [
    "\n",
    "\n",
    "def compute_discounted_cash_flow(time_value_packs, discount_rate_percent):\n",
    "    time_value_packs = sort_time_packs(time_value_packs)\n",
    "    discount_rate_factor = 1 + discount_rate_percent / 100.\n",
    "    values = [value for time, value in time_value_packs]\n",
    "    return sum(x / discount_rate_factor ** t for t, x in enumerate(values))"
   ]
  },
  {
   "cell_type": "code",
   "execution_count": null,
   "metadata": {
    "collapsed": true
   },
   "outputs": [],
   "source": []
  },
  {
   "cell_type": "code",
   "execution_count": null,
   "metadata": {
    "collapsed": true
   },
   "outputs": [],
   "source": [
    "cash_flow_by_year_increment"
   ]
  },
  {
   "cell_type": "code",
   "execution_count": 116,
   "metadata": {
    "collapsed": false
   },
   "outputs": [],
   "source": [
    "# Medium Voltage Transformer\n",
    "\n",
    "\"\"\"\n",
    "Initial Installation Cost\n",
    "The cost of a transformer depends on its capacity, which is how much electricity it can deliver.\n",
    "Transformer capacity is listed in kVA.\n",
    "If the power factor of the load is 0.85, then the number of kWh delivered is kVA * 0.85.\n",
    "Size transformer capacity based on estimated peak demand.\n",
    "\n",
    "Estimate the amount of loss-adjusted consumption that is happening during peak hours.\n",
    "Divide the loss-adjusted consumption by the number of peak hours per year to estimate peak demand.\n",
    "\n",
    "Select the largest transformer capacity that will satisfy the estimated peak demand.\n",
    "Estimate the number of those transformers that will satisfy the estimated peak demand.\n",
    "Estimate the installation cost by multiplying the installation cost of the selected transformer by the number of transformers.\n",
    "\n",
    "Recurring Maintenance Cost\n",
    "Multiply the maintenance cost per year of the selected transformer by the number of transformers.\n",
    "\n",
    "Recurring Replacement Cost\n",
    "Divide the installation cost by the lifetime of the selected transformer.\n",
    "\"\"\";"
   ]
  },
  {
   "cell_type": "code",
   "execution_count": 40,
   "metadata": {
    "collapsed": false
   },
   "outputs": [
    {
     "data": {
      "text/html": [
       "<div>\n",
       "<table border=\"1\" class=\"dataframe\">\n",
       "  <thead>\n",
       "    <tr style=\"text-align: right;\">\n",
       "      <th></th>\n",
       "      <th>Capacity (kVA)</th>\n",
       "      <th>Installation Labor and Material Cost ($)</th>\n",
       "      <th>Maintenance Labor and Material Cost ($/year)</th>\n",
       "      <th>Lifetime (years)</th>\n",
       "    </tr>\n",
       "  </thead>\n",
       "  <tbody>\n",
       "    <tr>\n",
       "      <th>0</th>\n",
       "      <td>1</td>\n",
       "      <td>1000</td>\n",
       "      <td>30</td>\n",
       "      <td>10</td>\n",
       "    </tr>\n",
       "    <tr>\n",
       "      <th>1</th>\n",
       "      <td>10</td>\n",
       "      <td>15000</td>\n",
       "      <td>450</td>\n",
       "      <td>12</td>\n",
       "    </tr>\n",
       "  </tbody>\n",
       "</table>\n",
       "</div>"
      ],
      "text/plain": [
       "   Capacity (kVA)  Installation Labor and Material Cost ($)  \\\n",
       "0               1                                      1000   \n",
       "1              10                                     15000   \n",
       "\n",
       "   Maintenance Labor and Material Cost ($/year)  Lifetime (years)  \n",
       "0                                            30                10  \n",
       "1                                           450                12  "
      ]
     },
     "execution_count": 40,
     "metadata": {},
     "output_type": "execute_result"
    }
   ],
   "source": [
    "# Get the transformer table\n",
    "from pandas import DataFrame\n",
    "medium_voltage_transformer_table = DataFrame([\n",
    "    (1, 1000, 30, 10),\n",
    "    (10, 15000, 450, 12),\n",
    "], columns=[\n",
    "    'Capacity (kVA)',\n",
    "    'Installation Labor and Material Cost ($)',\n",
    "    'Maintenance Labor and Material Cost ($/year)',\n",
    "    'Lifetime (years)'        \n",
    "])\n",
    "medium_voltage_transformer_table"
   ]
  },
  {
   "cell_type": "code",
   "execution_count": 41,
   "metadata": {
    "collapsed": false
   },
   "outputs": [
    {
     "ename": "NameError",
     "evalue": "name 'projected_production_in_kwh' is not defined",
     "output_type": "error",
     "traceback": [
      "\u001b[1;31m---------------------------------------------------------------------------\u001b[0m",
      "\u001b[1;31mNameError\u001b[0m                                 Traceback (most recent call last)",
      "\u001b[1;32m<ipython-input-41-0199049f0c0a>\u001b[0m in \u001b[0;36m<module>\u001b[1;34m()\u001b[0m\n\u001b[1;32m----> 1\u001b[1;33m \u001b[0mprojected_production_in_kwh\u001b[0m\u001b[1;33m\u001b[0m\u001b[0m\n\u001b[0m",
      "\u001b[1;31mNameError\u001b[0m: name 'projected_production_in_kwh' is not defined"
     ]
    }
   ],
   "source": [
    "projected_production_in_kwh"
   ]
  },
  {
   "cell_type": "code",
   "execution_count": 42,
   "metadata": {
    "collapsed": true
   },
   "outputs": [],
   "source": [
    "peak_hours_of_production_per_year = 1460\n",
    "consumption_during_peak_hours_as_percent_of_total_consumption = 40"
   ]
  },
  {
   "cell_type": "code",
   "execution_count": 43,
   "metadata": {
    "collapsed": true
   },
   "outputs": [],
   "source": [
    "def estimate_peak_demand_in_kilowatts(\n",
    "        consumption_in_kilowatt_hours_by_year,\n",
    "        consumption_during_peak_hours_as_percent_of_total_consumption,\n",
    "        peak_hours_of_consumption_per_year):\n",
    "    maximum_consumption_per_year_in_kilowatt_hours = \\\n",
    "        max([x[1] for x in consumption_in_kilowatt_hours_by_year.items()])\n",
    "    consumption_during_peak_hours_in_kilowatt_hours = \\\n",
    "        maximum_consumption_per_year_in_kilowatt_hours * \\\n",
    "        consumption_during_peak_hours_as_percent_of_total_consumption / 100.\n",
    "    return consumption_during_peak_hours_in_kilowatt_hours / float(peak_hours_of_consumption_per_year)"
   ]
  },
  {
   "cell_type": "code",
   "execution_count": 44,
   "metadata": {
    "collapsed": false
   },
   "outputs": [
    {
     "data": {
      "text/plain": [
       "0.053691275167785234"
      ]
     },
     "execution_count": 44,
     "metadata": {},
     "output_type": "execute_result"
    }
   ],
   "source": [
    "estimate_peak_demand_in_kilowatts({2000: 100, 2015: 200}, 40, 1490)"
   ]
  },
  {
   "cell_type": "code",
   "execution_count": 45,
   "metadata": {
    "collapsed": false
   },
   "outputs": [
    {
     "data": {
      "text/plain": [
       "0.2684563758389262"
      ]
     },
     "execution_count": 45,
     "metadata": {},
     "output_type": "execute_result"
    }
   ],
   "source": [
    "estimate_peak_demand_in_kilowatts({2000: 1000}, 40, 1490)"
   ]
  },
  {
   "cell_type": "code",
   "execution_count": 46,
   "metadata": {
    "collapsed": false
   },
   "outputs": [
    {
     "data": {
      "text/plain": [
       "0.2684563758389262"
      ]
     },
     "execution_count": 46,
     "metadata": {},
     "output_type": "execute_result"
    }
   ],
   "source": [
    "estimate_peak_demand_in_kilowatts({2000: 100}, 40, 1490) * 10"
   ]
  },
  {
   "cell_type": "code",
   "execution_count": 47,
   "metadata": {
    "collapsed": false
   },
   "outputs": [
    {
     "ename": "NameError",
     "evalue": "name 'projected_production_in_kwh' is not defined",
     "output_type": "error",
     "traceback": [
      "\u001b[1;31m---------------------------------------------------------------------------\u001b[0m",
      "\u001b[1;31mNameError\u001b[0m                                 Traceback (most recent call last)",
      "\u001b[1;32m<ipython-input-47-b7746619809a>\u001b[0m in \u001b[0;36m<module>\u001b[1;34m()\u001b[0m\n\u001b[1;32m----> 1\u001b[1;33m \u001b[0mproduction_during_peak_hours_in_kwh\u001b[0m \u001b[1;33m=\u001b[0m     \u001b[0mprojected_production_in_kwh\u001b[0m \u001b[1;33m*\u001b[0m \u001b[0mconsumption_during_peak_hours_as_percent_of_total_consumption\u001b[0m \u001b[1;33m/\u001b[0m \u001b[1;36m100.\u001b[0m\u001b[1;33m\u001b[0m\u001b[0m\n\u001b[0m\u001b[0;32m      2\u001b[0m \u001b[0mproduction_during_peak_hours_in_kwh\u001b[0m\u001b[1;33m\u001b[0m\u001b[0m\n",
      "\u001b[1;31mNameError\u001b[0m: name 'projected_production_in_kwh' is not defined"
     ]
    }
   ],
   "source": [
    "production_during_peak_hours_in_kwh = \\\n",
    "    projected_production_in_kwh * consumption_during_peak_hours_as_percent_of_total_consumption / 100.\n",
    "production_during_peak_hours_in_kwh"
   ]
  },
  {
   "cell_type": "code",
   "execution_count": 48,
   "metadata": {
    "collapsed": false
   },
   "outputs": [
    {
     "ename": "NameError",
     "evalue": "name 'production_during_peak_hours_in_kwh' is not defined",
     "output_type": "error",
     "traceback": [
      "\u001b[1;31m---------------------------------------------------------------------------\u001b[0m",
      "\u001b[1;31mNameError\u001b[0m                                 Traceback (most recent call last)",
      "\u001b[1;32m<ipython-input-48-9df449df875d>\u001b[0m in \u001b[0;36m<module>\u001b[1;34m()\u001b[0m\n\u001b[1;32m----> 1\u001b[1;33m \u001b[0mpeak_demand_in_kw\u001b[0m \u001b[1;33m=\u001b[0m \u001b[0mproduction_during_peak_hours_in_kwh\u001b[0m \u001b[1;33m/\u001b[0m \u001b[0mfloat\u001b[0m\u001b[1;33m(\u001b[0m\u001b[0mpeak_hours_of_production_per_year\u001b[0m\u001b[1;33m)\u001b[0m\u001b[1;33m\u001b[0m\u001b[0m\n\u001b[0m\u001b[0;32m      2\u001b[0m \u001b[0mpeak_demand_in_kw\u001b[0m\u001b[1;33m\u001b[0m\u001b[0m\n",
      "\u001b[1;31mNameError\u001b[0m: name 'production_during_peak_hours_in_kwh' is not defined"
     ]
    }
   ],
   "source": [
    "peak_demand_in_kw = production_during_peak_hours_in_kwh / float(peak_hours_of_production_per_year)\n",
    "peak_demand_in_kw"
   ]
  },
  {
   "cell_type": "code",
   "execution_count": 52,
   "metadata": {
    "collapsed": false
   },
   "outputs": [],
   "source": [
    "peak_demand_in_kw = 100\n",
    "desired_system_capacity_in_kw = peak_demand_in_kw"
   ]
  },
  {
   "cell_type": "code",
   "execution_count": 53,
   "metadata": {
    "collapsed": false
   },
   "outputs": [],
   "source": [
    "transformer_table = medium_voltage_transformer_table\n",
    "capacity_column = 'Capacity (kVA)'"
   ]
  },
  {
   "cell_type": "code",
   "execution_count": 54,
   "metadata": {
    "collapsed": false
   },
   "outputs": [
    {
     "data": {
      "text/html": [
       "<div>\n",
       "<table border=\"1\" class=\"dataframe\">\n",
       "  <thead>\n",
       "    <tr style=\"text-align: right;\">\n",
       "      <th></th>\n",
       "      <th>Capacity (kVA)</th>\n",
       "      <th>Installation Labor and Material Cost ($)</th>\n",
       "      <th>Maintenance Labor and Material Cost ($/year)</th>\n",
       "      <th>Lifetime (years)</th>\n",
       "    </tr>\n",
       "  </thead>\n",
       "  <tbody>\n",
       "    <tr>\n",
       "      <th>0</th>\n",
       "      <td>1</td>\n",
       "      <td>1000</td>\n",
       "      <td>30</td>\n",
       "      <td>10</td>\n",
       "    </tr>\n",
       "    <tr>\n",
       "      <th>1</th>\n",
       "      <td>10</td>\n",
       "      <td>15000</td>\n",
       "      <td>450</td>\n",
       "      <td>12</td>\n",
       "    </tr>\n",
       "  </tbody>\n",
       "</table>\n",
       "</div>"
      ],
      "text/plain": [
       "   Capacity (kVA)  Installation Labor and Material Cost ($)  \\\n",
       "0               1                                      1000   \n",
       "1              10                                     15000   \n",
       "\n",
       "   Maintenance Labor and Material Cost ($/year)  Lifetime (years)  \n",
       "0                                            30                10  \n",
       "1                                           450                12  "
      ]
     },
     "execution_count": 54,
     "metadata": {},
     "output_type": "execute_result"
    }
   ],
   "source": [
    "# Choose transformer type\n",
    "eligible_transformer_table = transformer_table[\n",
    "    transformer_table[capacity_column] < desired_system_capacity_in_kw]\n",
    "eligible_transformer_table"
   ]
  },
  {
   "cell_type": "code",
   "execution_count": 55,
   "metadata": {
    "collapsed": false
   },
   "outputs": [
    {
     "data": {
      "text/plain": [
       "Capacity (kVA)                                     10\n",
       "Installation Labor and Material Cost ($)        15000\n",
       "Maintenance Labor and Material Cost ($/year)      450\n",
       "Lifetime (years)                                   12\n",
       "Name: 1, dtype: int64"
      ]
     },
     "execution_count": 55,
     "metadata": {},
     "output_type": "execute_result"
    }
   ],
   "source": [
    "if len(eligible_transformer_table):\n",
    "    selected_transformer_table = eligible_transformer_table[\n",
    "        eligible_transformer_table[\n",
    "            capacity_column\n",
    "        ] == eligible_transformer_table[\n",
    "            capacity_column\n",
    "        ].max()]\n",
    "else:\n",
    "    selected_transformer_table = transformer_table[\n",
    "        transformer_table[\n",
    "            capacity_column\n",
    "        ] == transformer_table[\n",
    "            capacity_column\n",
    "        ].min()]    \n",
    "selected_transformer = selected_transformer_table.ix[selected_transformer_table.index[0]]\n",
    "selected_transformer"
   ]
  },
  {
   "cell_type": "code",
   "execution_count": 56,
   "metadata": {
    "collapsed": false
   },
   "outputs": [
    {
     "data": {
      "text/plain": [
       "10"
      ]
     },
     "execution_count": 56,
     "metadata": {},
     "output_type": "execute_result"
    }
   ],
   "source": [
    "selected_transformer[capacity_column]"
   ]
  },
  {
   "cell_type": "code",
   "execution_count": 77,
   "metadata": {
    "collapsed": false
   },
   "outputs": [
    {
     "data": {
      "text/plain": [
       "10"
      ]
     },
     "execution_count": 77,
     "metadata": {},
     "output_type": "execute_result"
    }
   ],
   "source": [
    "selected_transformer_capacity_in_kw = selected_transformer_table[capacity_column].values[0]\n",
    "selected_transformer_capacity_in_kw"
   ]
  },
  {
   "cell_type": "code",
   "execution_count": 78,
   "metadata": {
    "collapsed": false
   },
   "outputs": [
    {
     "data": {
      "text/plain": [
       "6"
      ]
     },
     "execution_count": 78,
     "metadata": {},
     "output_type": "execute_result"
    }
   ],
   "source": [
    "# Get selected_transformer_count\n",
    "from math import ceil\n",
    "selected_transformer_count = int(ceil(\n",
    "    desired_system_capacity_in_kw / float(selected_transformer_capacity_in_kw)))\n",
    "selected_transformer_count"
   ]
  },
  {
   "cell_type": "code",
   "execution_count": 91,
   "metadata": {
    "collapsed": false
   },
   "outputs": [
    {
     "data": {
      "text/plain": [
       "90000"
      ]
     },
     "execution_count": 91,
     "metadata": {},
     "output_type": "execute_result"
    }
   ],
   "source": [
    "installation_cost_per_transformer = selected_transformer_table[\n",
    "    'Installation Labor and Material Cost ($)'].values[0]\n",
    "installation_cost = installation_cost_per_transformer * selected_transformer_count\n",
    "installation_cost"
   ]
  },
  {
   "cell_type": "code",
   "execution_count": 92,
   "metadata": {
    "collapsed": false
   },
   "outputs": [
    {
     "data": {
      "text/plain": [
       "2700"
      ]
     },
     "execution_count": 92,
     "metadata": {},
     "output_type": "execute_result"
    }
   ],
   "source": [
    "maintenance_cost_per_year_per_transformer = selected_transformer_table[\n",
    "    'Maintenance Labor and Material Cost ($/year)'].values[0]\n",
    "maintenance_cost_per_year = maintenance_cost_per_year_per_transformer * selected_transformer_count\n",
    "maintenance_cost_per_year"
   ]
  },
  {
   "cell_type": "code",
   "execution_count": 94,
   "metadata": {
    "collapsed": false
   },
   "outputs": [
    {
     "data": {
      "text/plain": [
       "7500.0"
      ]
     },
     "execution_count": 94,
     "metadata": {},
     "output_type": "execute_result"
    }
   ],
   "source": [
    "lifetime_in_years = selected_transformer_table[\n",
    "    'Lifetime (years)'].values[0]\n",
    "replacement_cost_per_year = installation_cost / float(lifetime_in_years)\n",
    "replacement_cost_per_year"
   ]
  },
  {
   "cell_type": "code",
   "execution_count": null,
   "metadata": {
    "collapsed": true
   },
   "outputs": [],
   "source": [
    "\"\"\"\n",
    "Low Voltage Line\n",
    "\n",
    "Initial Installation Cost\n",
    "Multiply the installation cost of LV line per meter by the estimated number of meters of LV line.\n",
    "The number of meters of LV line is the number of connections multiplied by the average distance between buildings.\n",
    "\n",
    "Recurring Maintenance Cost\n",
    "Multiply the maintenance cost of LV line per meter by the number of meters of LV line.\n",
    "\n",
    "Recurring Replacement Cost\n",
    "Divide the installation cost by the lifetime of LV line.\n",
    "\n",
    "low voltage line\n",
    "    installation cost = $10 / meter\n",
    "    maintenance cost = $0.10 / meter / year\n",
    "    lifetime = 10 years\n",
    "average distance between buildings = 25 meters\n",
    "\"\"\""
   ]
  },
  {
   "cell_type": "code",
   "execution_count": 97,
   "metadata": {
    "collapsed": true
   },
   "outputs": [],
   "source": [
    "low_voltage_line_installation_labor_and_material_cost_in_dollars_per_meter = 0.10\n",
    "low_voltage_line_maintenance_labor_and_material_cost_in_dollars_per_meter_per_year = 0.10\n",
    "low_voltage_line_lifetime_in_years = 10\n",
    "average_distance_between_buildings_in_meters = 25"
   ]
  },
  {
   "cell_type": "code",
   "execution_count": 101,
   "metadata": {
    "collapsed": false
   },
   "outputs": [
    {
     "data": {
      "text/plain": [
       "7756.227380300008"
      ]
     },
     "execution_count": 101,
     "metadata": {},
     "output_type": "execute_result"
    }
   ],
   "source": [
    "low_voltage_line_length_in_meters = \\\n",
    "    (projected_connection_count - 1) * average_distance_between_buildings_in_meters\n",
    "low_voltage_line_length_in_meters"
   ]
  },
  {
   "cell_type": "code",
   "execution_count": 104,
   "metadata": {
    "collapsed": false
   },
   "outputs": [
    {
     "data": {
      "text/plain": [
       "775.6227380300008"
      ]
     },
     "execution_count": 104,
     "metadata": {},
     "output_type": "execute_result"
    }
   ],
   "source": [
    "low_voltage_line_installation_labor_and_material_cost_in_dollars = \\\n",
    "    low_voltage_line_installation_labor_and_material_cost_in_dollars_per_meter * low_voltage_line_length_in_meters\n",
    "low_voltage_line_installation_labor_and_material_cost_in_dollars"
   ]
  },
  {
   "cell_type": "code",
   "execution_count": 105,
   "metadata": {
    "collapsed": false
   },
   "outputs": [
    {
     "data": {
      "text/plain": [
       "775.6227380300008"
      ]
     },
     "execution_count": 105,
     "metadata": {},
     "output_type": "execute_result"
    }
   ],
   "source": [
    "low_voltage_line_maintenance_labor_and_material_cost_in_dollars_per_meter_per_year * low_voltage_line_length_in_meters"
   ]
  },
  {
   "cell_type": "code",
   "execution_count": 107,
   "metadata": {
    "collapsed": false
   },
   "outputs": [],
   "source": [
    "low_voltage_line_replacement_labor_and_material_cost_in_dollars_per_year = \\\n",
    "    low_voltage_line_installation_labor_and_material_cost_in_dollars / float(low_voltage_line_lifetime_in_years)\n",
    "low_voltage_line_replacement_labor_and_material_cost_in_dollars_per_year"
   ]
  },
  {
   "cell_type": "code",
   "execution_count": null,
   "metadata": {
    "collapsed": true
   },
   "outputs": [],
   "source": [
    "\"\"\"\n",
    "Low Voltage Connection\n",
    "\n",
    "Initial Installation Cost\n",
    "Multiply the installation cost per connection by the estimated number of connections.\n",
    "\n",
    "Recurring Maintenance Cost\n",
    "Multiply the maintenance cost per connection by the estimated number of connections.\n",
    "\n",
    "Recurring Replacement Cost\n",
    "Divide the installation cost by the lifetime of the connection to estimate the replacement cost per year.\n",
    "\n",
    "low voltage connection     \n",
    "    installation cost = $330 / connection        \n",
    "    maintenance cost = $3.00 / connection / year    \n",
    "    lifetime = 10 years\n",
    "\"\"\""
   ]
  },
  {
   "cell_type": "code",
   "execution_count": 108,
   "metadata": {
    "collapsed": true
   },
   "outputs": [],
   "source": [
    "low_voltage_connection_installation_cost_per_connection = 330\n",
    "low_voltage_connection_maintenance_cost_per_connection_per_year = 3\n",
    "low_voltage_connection_lifetime_in_years = 10"
   ]
  },
  {
   "cell_type": "code",
   "execution_count": 115,
   "metadata": {
    "collapsed": false
   },
   "outputs": [
    {
     "data": {
      "text/plain": [
       "102712.20141996011"
      ]
     },
     "execution_count": 115,
     "metadata": {},
     "output_type": "execute_result"
    }
   ],
   "source": [
    "low_voltage_connection_installation_cost = \\\n",
    "    low_voltage_connection_installation_cost_per_connection * projected_connection_count\n",
    "low_voltage_connection_installation_cost"
   ]
  },
  {
   "cell_type": "code",
   "execution_count": 113,
   "metadata": {
    "collapsed": false
   },
   "outputs": [
    {
     "data": {
      "text/plain": [
       "933.7472856360009"
      ]
     },
     "execution_count": 113,
     "metadata": {},
     "output_type": "execute_result"
    }
   ],
   "source": [
    "low_voltage_connection_maintenance_cost_per_connection_per_year * projected_connection_count"
   ]
  },
  {
   "cell_type": "code",
   "execution_count": 114,
   "metadata": {
    "collapsed": false
   },
   "outputs": [
    {
     "data": {
      "text/plain": [
       "10271.220141996011"
      ]
     },
     "execution_count": 114,
     "metadata": {},
     "output_type": "execute_result"
    }
   ],
   "source": [
    "low_voltage_connection_installation_cost / float(\n",
    "    low_voltage_connection_lifetime_in_years)"
   ]
  },
  {
   "cell_type": "code",
   "execution_count": null,
   "metadata": {
    "collapsed": true
   },
   "outputs": [],
   "source": []
  },
  {
   "cell_type": "code",
   "execution_count": 2,
   "metadata": {
    "collapsed": true
   },
   "outputs": [],
   "source": [
    "from pandas import Series\n",
    "s = Series([1, 2, 3], index=[2000, 2001, 2002])"
   ]
  },
  {
   "cell_type": "code",
   "execution_count": 3,
   "metadata": {
    "collapsed": false
   },
   "outputs": [
    {
     "data": {
      "text/plain": [
       "2000    1\n",
       "2001    2\n",
       "2002    3\n",
       "dtype: int64"
      ]
     },
     "execution_count": 3,
     "metadata": {},
     "output_type": "execute_result"
    }
   ],
   "source": [
    "s"
   ]
  },
  {
   "cell_type": "code",
   "execution_count": 4,
   "metadata": {
    "collapsed": false
   },
   "outputs": [
    {
     "data": {
      "text/plain": [
       "array([1, 2, 3])"
      ]
     },
     "execution_count": 4,
     "metadata": {},
     "output_type": "execute_result"
    }
   ],
   "source": [
    "s.values"
   ]
  },
  {
   "cell_type": "code",
   "execution_count": 5,
   "metadata": {
    "collapsed": false
   },
   "outputs": [
    {
     "data": {
      "text/plain": [
       "3"
      ]
     },
     "execution_count": 5,
     "metadata": {},
     "output_type": "execute_result"
    }
   ],
   "source": [
    "max(s)"
   ]
  },
  {
   "cell_type": "code",
   "execution_count": 6,
   "metadata": {
    "collapsed": false
   },
   "outputs": [
    {
     "data": {
      "text/plain": [
       "3"
      ]
     },
     "execution_count": 6,
     "metadata": {},
     "output_type": "execute_result"
    }
   ],
   "source": [
    "s.max()"
   ]
  },
  {
   "cell_type": "code",
   "execution_count": 1,
   "metadata": {
    "collapsed": true
   },
   "outputs": [],
   "source": []
  }
 ],
 "metadata": {
  "kernelspec": {
   "display_name": "Python 2",
   "language": "python",
   "name": "python2"
  },
  "language_info": {
   "codemirror_mode": {
    "name": "ipython",
    "version": 2
   },
   "file_extension": ".py",
   "mimetype": "text/x-python",
   "name": "python",
   "nbconvert_exporter": "python",
   "pygments_lexer": "ipython2",
   "version": "2.7.10"
  }
 },
 "nbformat": 4,
 "nbformat_minor": 0
}
