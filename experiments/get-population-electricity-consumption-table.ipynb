{
 "cells": [
  {
   "cell_type": "code",
   "execution_count": 1,
   "metadata": {
    "collapsed": false
   },
   "outputs": [
    {
     "data": {
      "text/html": [
       "<div>\n",
       "<table border=\"1\" class=\"dataframe\">\n",
       "  <thead>\n",
       "    <tr style=\"text-align: right;\">\n",
       "      <th></th>\n",
       "    </tr>\n",
       "  </thead>\n",
       "  <tbody>\n",
       "  </tbody>\n",
       "</table>\n",
       "</div>"
      ],
      "text/plain": [
       "Empty DataFrame\n",
       "Columns: []\n",
       "Index: []"
      ]
     },
     "execution_count": 1,
     "metadata": {},
     "output_type": "execute_result"
    }
   ],
   "source": [
    "from pandas import DataFrame\n",
    "\n",
    "def get_population_electricity_consumption_table(target_year):\n",
    "    return DataFrame()\n",
    "\n",
    "target_year = 2020\n",
    "population_electricity_consumption_table = get_population_electricity_consumption_table(target_year)\n",
    "population_electricity_consumption_table[:2]"
   ]
  },
  {
   "cell_type": "code",
   "execution_count": 2,
   "metadata": {
    "collapsed": true
   },
   "outputs": [],
   "source": [
    "from os.path import expanduser, join\n",
    "from pandas import read_csv\n",
    "source_folder = expanduser('~/Projects/infrastructure-planning/datasets')\n",
    "country_name_variation_table_path = join(\n",
    "    source_folder, 'world-country-name-variation.csv')\n",
    "country_region_income_table_path = join(\n",
    "    source_folder, 'world-country-region-income.csv')\n",
    "electricity_consumption_per_capita_by_year_table_path = join(\n",
    "    source_folder, 'world-electricity-consumption-per-capita-by-year.csv')\n",
    "population_by_year_by_country_table_path = join(\n",
    "    source_folder, 'world-population-by-year-by-country.csv')"
   ]
  },
  {
   "cell_type": "code",
   "execution_count": 3,
   "metadata": {
    "collapsed": false
   },
   "outputs": [
    {
     "data": {
      "text/html": [
       "<div>\n",
       "<table border=\"1\" class=\"dataframe\">\n",
       "  <thead>\n",
       "    <tr style=\"text-align: right;\">\n",
       "      <th></th>\n",
       "      <th>World Bank</th>\n",
       "      <th>United Nations</th>\n",
       "    </tr>\n",
       "  </thead>\n",
       "  <tbody>\n",
       "    <tr>\n",
       "      <th>0</th>\n",
       "      <td>Bahamas, The</td>\n",
       "      <td>Bahamas</td>\n",
       "    </tr>\n",
       "    <tr>\n",
       "      <th>1</th>\n",
       "      <td>Bolivia</td>\n",
       "      <td>Bolivia (Plurinational State of)</td>\n",
       "    </tr>\n",
       "  </tbody>\n",
       "</table>\n",
       "</div>"
      ],
      "text/plain": [
       "     World Bank                    United Nations\n",
       "0  Bahamas, The                           Bahamas\n",
       "1       Bolivia  Bolivia (Plurinational State of)"
      ]
     },
     "execution_count": 3,
     "metadata": {},
     "output_type": "execute_result"
    }
   ],
   "source": [
    "country_name_variation_table = read_csv(country_name_variation_table_path)\n",
    "country_name_variation_table[:2]"
   ]
  },
  {
   "cell_type": "code",
   "execution_count": 4,
   "metadata": {
    "collapsed": false
   },
   "outputs": [
    {
     "data": {
      "text/html": [
       "<div>\n",
       "<table border=\"1\" class=\"dataframe\">\n",
       "  <thead>\n",
       "    <tr style=\"text-align: right;\">\n",
       "      <th></th>\n",
       "      <th>Country Name</th>\n",
       "      <th>Country Code</th>\n",
       "      <th>Region</th>\n",
       "      <th>IncomeGroup</th>\n",
       "      <th>SpecialNotes</th>\n",
       "      <th>Unnamed: 5</th>\n",
       "    </tr>\n",
       "  </thead>\n",
       "  <tbody>\n",
       "    <tr>\n",
       "      <th>0</th>\n",
       "      <td>Aruba</td>\n",
       "      <td>ABW</td>\n",
       "      <td>Latin America &amp; Caribbean</td>\n",
       "      <td>High income: nonOECD</td>\n",
       "      <td>SNA data for 2000-2011 are updated from offici...</td>\n",
       "      <td>NaN</td>\n",
       "    </tr>\n",
       "    <tr>\n",
       "      <th>1</th>\n",
       "      <td>Afghanistan</td>\n",
       "      <td>AFG</td>\n",
       "      <td>South Asia</td>\n",
       "      <td>Low income</td>\n",
       "      <td>Fiscal year end: March 20; reporting period fo...</td>\n",
       "      <td>NaN</td>\n",
       "    </tr>\n",
       "  </tbody>\n",
       "</table>\n",
       "</div>"
      ],
      "text/plain": [
       "  Country Name Country Code                     Region           IncomeGroup  \\\n",
       "0        Aruba          ABW  Latin America & Caribbean  High income: nonOECD   \n",
       "1  Afghanistan          AFG                 South Asia            Low income   \n",
       "\n",
       "                                        SpecialNotes  Unnamed: 5  \n",
       "0  SNA data for 2000-2011 are updated from offici...         NaN  \n",
       "1  Fiscal year end: March 20; reporting period fo...         NaN  "
      ]
     },
     "execution_count": 4,
     "metadata": {},
     "output_type": "execute_result"
    }
   ],
   "source": [
    "from StringIO import StringIO\n",
    "country_region_income_table = read_csv(StringIO(open(country_region_income_table_path, 'r').read().decode('utf-8-sig')))\n",
    "country_region_income_table[:2]"
   ]
  },
  {
   "cell_type": "code",
   "execution_count": 5,
   "metadata": {
    "collapsed": false
   },
   "outputs": [
    {
     "data": {
      "text/html": [
       "<div>\n",
       "<table border=\"1\" class=\"dataframe\">\n",
       "  <thead>\n",
       "    <tr style=\"text-align: right;\">\n",
       "      <th></th>\n",
       "      <th>Country or Area</th>\n",
       "      <th>Year(s)</th>\n",
       "      <th>Variant</th>\n",
       "      <th>Value</th>\n",
       "    </tr>\n",
       "  </thead>\n",
       "  <tbody>\n",
       "    <tr>\n",
       "      <th>0</th>\n",
       "      <td>Afghanistan</td>\n",
       "      <td>2100</td>\n",
       "      <td>Const. mortality (Medium)</td>\n",
       "      <td>40190.280</td>\n",
       "    </tr>\n",
       "    <tr>\n",
       "      <th>1</th>\n",
       "      <td>Afghanistan</td>\n",
       "      <td>2100</td>\n",
       "      <td>Constant-fertility scenario</td>\n",
       "      <td>845843.367</td>\n",
       "    </tr>\n",
       "  </tbody>\n",
       "</table>\n",
       "</div>"
      ],
      "text/plain": [
       "  Country or Area  Year(s)                      Variant       Value\n",
       "0     Afghanistan     2100    Const. mortality (Medium)   40190.280\n",
       "1     Afghanistan     2100  Constant-fertility scenario  845843.367"
      ]
     },
     "execution_count": 5,
     "metadata": {},
     "output_type": "execute_result"
    }
   ],
   "source": [
    "population_by_year_by_country_table = read_csv(population_by_year_by_country_table_path)\n",
    "population_by_year_by_country_table[:2]"
   ]
  },
  {
   "cell_type": "code",
   "execution_count": 6,
   "metadata": {
    "collapsed": false
   },
   "outputs": [
    {
     "data": {
      "text/html": [
       "<div>\n",
       "<table border=\"1\" class=\"dataframe\">\n",
       "  <thead>\n",
       "    <tr style=\"text-align: right;\">\n",
       "      <th></th>\n",
       "      <th>Country Name</th>\n",
       "      <th>2000</th>\n",
       "      <th>2005</th>\n",
       "      <th>2010</th>\n",
       "    </tr>\n",
       "  </thead>\n",
       "  <tbody>\n",
       "    <tr>\n",
       "      <th>232</th>\n",
       "      <td>Uruguay</td>\n",
       "      <td>2030.264582</td>\n",
       "      <td>1999.634353</td>\n",
       "      <td>2803.153377</td>\n",
       "    </tr>\n",
       "    <tr>\n",
       "      <th>233</th>\n",
       "      <td>United States</td>\n",
       "      <td>13671.052024</td>\n",
       "      <td>13704.577048</td>\n",
       "      <td>13394.014607</td>\n",
       "    </tr>\n",
       "  </tbody>\n",
       "</table>\n",
       "</div>"
      ],
      "text/plain": [
       "      Country Name          2000          2005          2010\n",
       "232        Uruguay   2030.264582   1999.634353   2803.153377\n",
       "233  United States  13671.052024  13704.577048  13394.014607"
      ]
     },
     "execution_count": 6,
     "metadata": {},
     "output_type": "execute_result"
    }
   ],
   "source": [
    "electricity_consumption_per_capita_by_year_table = read_csv(\n",
    "    electricity_consumption_per_capita_by_year_table_path, skiprows=3)\n",
    "electricity_consumption_per_capita_by_year_table[232:234][['Country Name', '2000', '2005', '2010']]"
   ]
  },
  {
   "cell_type": "code",
   "execution_count": 7,
   "metadata": {
    "collapsed": true
   },
   "outputs": [],
   "source": [
    "# List output table columns\n",
    "# Country, Region, Income Group, Year, Population, Electricity Consumption Per Capita, Electricity Consumption"
   ]
  },
  {
   "cell_type": "code",
   "execution_count": 55,
   "metadata": {
    "collapsed": false
   },
   "outputs": [
    {
     "name": "stdout",
     "output_type": "stream",
     "text": [
      "Bahamas, The\n",
      "Angola\n",
      "Bahamas\n"
     ]
    }
   ],
   "source": [
    "united_nations_country_names = population_by_year_by_country_table['Country or Area'].unique()\n",
    "world_bank_country_names = country_region_income_table['Country Name'].unique()\n",
    "\n",
    "def get_united_nations_country_name(world_bank_country_name):\n",
    "    t = country_name_variation_table\n",
    "    try:\n",
    "        return t[t['World Bank'] == world_bank_country_name]['United Nations'].values[0]\n",
    "    except IndexError:\n",
    "        pass\n",
    "    if world_bank_country_name not in united_nations_country_names:\n",
    "        raise ValueError\n",
    "    return world_bank_country_name\n",
    "\n",
    "def get_world_bank_country_name(united_nations_country_name):\n",
    "    t = country_name_variation_table\n",
    "    try:\n",
    "        return t[t['United Nations'] == united_nations_country_name]['World Bank'].values[0]\n",
    "    except IndexError:\n",
    "        pass\n",
    "    if united_nations_country_name not in world_bank_country_names:\n",
    "        raise ValueError\n",
    "    return united_nations_country_name\n",
    "\n",
    "print get_world_bank_country_name('Bahamas')\n",
    "print get_world_bank_country_name('Angola')\n",
    "print get_united_nations_country_name('Bahamas, The')"
   ]
  },
  {
   "cell_type": "code",
   "execution_count": 74,
   "metadata": {
    "collapsed": false
   },
   "outputs": [
    {
     "name": "stdout",
     "output_type": "stream",
     "text": [
      "Ireland\n",
      "Ireland\n"
     ]
    }
   ],
   "source": [
    "# Get countries from United Nations\n",
    "united_nations_country_name = united_nations_country_names[111]\n",
    "world_bank_country_name = get_world_bank_country_name(united_nations_country_name)\n",
    "print united_nations_country_name\n",
    "print world_bank_country_name"
   ]
  },
  {
   "cell_type": "code",
   "execution_count": 75,
   "metadata": {
    "collapsed": false
   },
   "outputs": [
    {
     "data": {
      "text/html": [
       "<div>\n",
       "<table border=\"1\" class=\"dataframe\">\n",
       "  <thead>\n",
       "    <tr style=\"text-align: right;\">\n",
       "      <th></th>\n",
       "      <th>Country or Area</th>\n",
       "      <th>Year(s)</th>\n",
       "      <th>Variant</th>\n",
       "      <th>Value</th>\n",
       "    </tr>\n",
       "  </thead>\n",
       "  <tbody>\n",
       "    <tr>\n",
       "      <th>18071</th>\n",
       "      <td>Ireland</td>\n",
       "      <td>2100</td>\n",
       "      <td>Const. mortality (Medium)</td>\n",
       "      <td>5738.911</td>\n",
       "    </tr>\n",
       "    <tr>\n",
       "      <th>18072</th>\n",
       "      <td>Ireland</td>\n",
       "      <td>2100</td>\n",
       "      <td>Constant-fertility scenario</td>\n",
       "      <td>6732.225</td>\n",
       "    </tr>\n",
       "  </tbody>\n",
       "</table>\n",
       "</div>"
      ],
      "text/plain": [
       "      Country or Area  Year(s)                      Variant     Value\n",
       "18071         Ireland     2100    Const. mortality (Medium)  5738.911\n",
       "18072         Ireland     2100  Constant-fertility scenario  6732.225"
      ]
     },
     "execution_count": 75,
     "metadata": {},
     "output_type": "execute_result"
    }
   ],
   "source": [
    "# Get actual and estimated populations for selected country\n",
    "t = population_by_year_by_country_table\n",
    "country_t = t[t['Country or Area'] == united_nations_country_name]\n",
    "country_t[:2]"
   ]
  },
  {
   "cell_type": "code",
   "execution_count": 76,
   "metadata": {
    "collapsed": false
   },
   "outputs": [
    {
     "data": {
      "text/plain": [
       "2010"
      ]
     },
     "execution_count": 76,
     "metadata": {},
     "output_type": "execute_result"
    }
   ],
   "source": [
    "# Get the earliest year when the United Nations starts estimating populations\n",
    "earliest_estimated_year = min(country_t[country_t['Variant'] == 'Low variant']['Year(s)'])\n",
    "earliest_estimated_year"
   ]
  },
  {
   "cell_type": "code",
   "execution_count": 77,
   "metadata": {
    "collapsed": false
   },
   "outputs": [
    {
     "data": {
      "text/plain": [
       "array([[ 2005.   ,  4158.002],\n",
       "       [ 2000.   ,  3803.741],\n",
       "       [ 1995.   ,  3610.918],\n",
       "       [ 1990.   ,  3531.185],\n",
       "       [ 1985.   ,  3534.064],\n",
       "       [ 1980.   ,  3417.754],\n",
       "       [ 1975.   ,  3183.722],\n",
       "       [ 1970.   ,  2963.004],\n",
       "       [ 1965.   ,  2874.705],\n",
       "       [ 1960.   ,  2828.866],\n",
       "       [ 1955.   ,  2901.138],\n",
       "       [ 1950.   ,  2913.093]])"
      ]
     },
     "execution_count": 77,
     "metadata": {},
     "output_type": "execute_result"
    }
   ],
   "source": [
    "# Get actual populations for selected country\n",
    "year_packs = country_t[country_t['Year(s)'] < earliest_estimated_year][[\n",
    "    'Year(s)', 'Value',\n",
    "]].values\n",
    "year_packs"
   ]
  },
  {
   "cell_type": "code",
   "execution_count": 78,
   "metadata": {
    "collapsed": false
   },
   "outputs": [
    {
     "data": {
      "text/plain": [
       "array(4499.1355874125875)"
      ]
     },
     "execution_count": 78,
     "metadata": {},
     "output_type": "execute_result"
    }
   ],
   "source": [
    "# Estimate population for the given year\n",
    "# Use the spline interpolation regression extrapolation model\n",
    "from infrastructure_planning.growth.interpolated import get_interpolated_spline_extrapolated_linear_function\n",
    "estimate_population = get_interpolated_spline_extrapolated_linear_function(year_packs)\n",
    "population = estimate_population(target_year)\n",
    "population"
   ]
  },
  {
   "cell_type": "code",
   "execution_count": 79,
   "metadata": {
    "collapsed": false
   },
   "outputs": [
    {
     "data": {
      "text/html": [
       "<div>\n",
       "<table border=\"1\" class=\"dataframe\">\n",
       "  <thead>\n",
       "    <tr style=\"text-align: right;\">\n",
       "      <th></th>\n",
       "      <th>Country Name</th>\n",
       "      <th>Country Code</th>\n",
       "      <th>Indicator Name</th>\n",
       "      <th>Indicator Code</th>\n",
       "      <th>1960</th>\n",
       "      <th>1961</th>\n",
       "      <th>1962</th>\n",
       "      <th>1963</th>\n",
       "      <th>1964</th>\n",
       "      <th>1965</th>\n",
       "      <th>...</th>\n",
       "      <th>2007</th>\n",
       "      <th>2008</th>\n",
       "      <th>2009</th>\n",
       "      <th>2010</th>\n",
       "      <th>2011</th>\n",
       "      <th>2012</th>\n",
       "      <th>2013</th>\n",
       "      <th>2014</th>\n",
       "      <th>2015</th>\n",
       "      <th>Unnamed: 60</th>\n",
       "    </tr>\n",
       "  </thead>\n",
       "  <tbody>\n",
       "    <tr>\n",
       "      <th>101</th>\n",
       "      <td>Ireland</td>\n",
       "      <td>IRL</td>\n",
       "      <td>Electric power consumption (kWh per capita)</td>\n",
       "      <td>EG.USE.ELEC.KH.PC</td>\n",
       "      <td>695.043484</td>\n",
       "      <td>752.018128</td>\n",
       "      <td>838.13755</td>\n",
       "      <td>886.193539</td>\n",
       "      <td>1041.670301</td>\n",
       "      <td>1134.39683</td>\n",
       "      <td>...</td>\n",
       "      <td>6218.768058</td>\n",
       "      <td>6340.733045</td>\n",
       "      <td>5947.909489</td>\n",
       "      <td>5910.983289</td>\n",
       "      <td>5661.168058</td>\n",
       "      <td>5664.831802</td>\n",
       "      <td>NaN</td>\n",
       "      <td>NaN</td>\n",
       "      <td>NaN</td>\n",
       "      <td>NaN</td>\n",
       "    </tr>\n",
       "  </tbody>\n",
       "</table>\n",
       "<p>1 rows × 61 columns</p>\n",
       "</div>"
      ],
      "text/plain": [
       "    Country Name Country Code                               Indicator Name  \\\n",
       "101      Ireland          IRL  Electric power consumption (kWh per capita)   \n",
       "\n",
       "        Indicator Code        1960        1961       1962        1963  \\\n",
       "101  EG.USE.ELEC.KH.PC  695.043484  752.018128  838.13755  886.193539   \n",
       "\n",
       "            1964        1965     ...              2007         2008  \\\n",
       "101  1041.670301  1134.39683     ...       6218.768058  6340.733045   \n",
       "\n",
       "            2009         2010         2011         2012  2013  2014  2015  \\\n",
       "101  5947.909489  5910.983289  5661.168058  5664.831802   NaN   NaN   NaN   \n",
       "\n",
       "     Unnamed: 60  \n",
       "101          NaN  \n",
       "\n",
       "[1 rows x 61 columns]"
      ]
     },
     "execution_count": 79,
     "metadata": {},
     "output_type": "execute_result"
    }
   ],
   "source": [
    "# Get electricity consumption per capita for provided years\n",
    "t = electricity_consumption_per_capita_by_year_table\n",
    "country_t = t[t['Country Name'] == world_bank_country_name]\n",
    "country_t"
   ]
  },
  {
   "cell_type": "code",
   "execution_count": 80,
   "metadata": {
    "collapsed": false
   },
   "outputs": [
    {
     "data": {
      "text/plain": [
       "[(1960, 695.04348440924809),\n",
       " (1961, 752.01812774394602),\n",
       " (1962, 838.13755046631809)]"
      ]
     },
     "execution_count": 80,
     "metadata": {},
     "output_type": "execute_result"
    }
   ],
   "source": [
    "# Get year_packs\n",
    "import numpy as np\n",
    "year_packs = []\n",
    "for column_name in country_t.columns:\n",
    "    try:\n",
    "        year = int(column_name)\n",
    "    except ValueError:    \n",
    "        continue\n",
    "    value = country_t[column_name].values[0]\n",
    "    if np.isnan(value):\n",
    "        continue\n",
    "    year_packs.append((year, value))\n",
    "year_packs[:3]"
   ]
  },
  {
   "cell_type": "code",
   "execution_count": 81,
   "metadata": {
    "collapsed": false
   },
   "outputs": [
    {
     "data": {
      "text/plain": [
       "array(6596.209336832399)"
      ]
     },
     "execution_count": 81,
     "metadata": {},
     "output_type": "execute_result"
    }
   ],
   "source": [
    "# Estimate electricity consumption per capita for the given year\n",
    "from infrastructure_planning.exceptions import EmptyDataset\n",
    "\n",
    "try:\n",
    "    estimate_electricity_consumption_per_capita = get_interpolated_spline_extrapolated_linear_function(\n",
    "        year_packs)\n",
    "except EmptyDataset as e:\n",
    "    raise\n",
    "    \n",
    "electricity_consumption_per_capita = estimate_electricity_consumption_per_capita(target_year)\n",
    "electricity_consumption_per_capita"
   ]
  },
  {
   "cell_type": "code",
   "execution_count": 84,
   "metadata": {
    "collapsed": false
   },
   "outputs": [
    {
     "data": {
      "text/plain": [
       "29677240.169365827"
      ]
     },
     "execution_count": 84,
     "metadata": {},
     "output_type": "execute_result"
    }
   ],
   "source": [
    "# Multiply population by electricity consumption per capita to get electricity consumption\n",
    "electricity_consumption = population * electricity_consumption_per_capita\n",
    "electricity_consumption"
   ]
  },
  {
   "cell_type": "code",
   "execution_count": 85,
   "metadata": {
    "collapsed": true
   },
   "outputs": [],
   "source": [
    "# Save table"
   ]
  },
  {
   "cell_type": "code",
   "execution_count": null,
   "metadata": {
    "collapsed": true
   },
   "outputs": [],
   "source": [
    "def get_population_electricity_consumption_table(target_year):\n",
    "    pass"
   ]
  }
 ],
 "metadata": {
  "kernelspec": {
   "display_name": "Python 2",
   "language": "python",
   "name": "python2"
  },
  "language_info": {
   "codemirror_mode": {
    "name": "ipython",
    "version": 2
   },
   "file_extension": ".py",
   "mimetype": "text/x-python",
   "name": "python",
   "nbconvert_exporter": "python",
   "pygments_lexer": "ipython2",
   "version": "2.7.10"
  }
 },
 "nbformat": 4,
 "nbformat_minor": 0
}
