{
 "cells": [
  {
   "cell_type": "code",
   "execution_count": 58,
   "metadata": {
    "collapsed": false
   },
   "outputs": [
    {
     "data": {
      "text/html": [
       "<div>\n",
       "<table border=\"1\" class=\"dataframe\">\n",
       "  <thead>\n",
       "    <tr style=\"text-align: right;\">\n",
       "      <th></th>\n",
       "      <th>Entity</th>\n",
       "      <th>State</th>\n",
       "      <th>Ownership</th>\n",
       "      <th>Customers (Count)</th>\n",
       "      <th>Sales (Megawatthours)</th>\n",
       "      <th>Revenues (Thousands Dollars)</th>\n",
       "      <th>Average Price (cents/kWh)</th>\n",
       "      <th>Year</th>\n",
       "    </tr>\n",
       "  </thead>\n",
       "  <tbody>\n",
       "    <tr>\n",
       "      <th>0</th>\n",
       "      <td>City of Ashland</td>\n",
       "      <td>OR</td>\n",
       "      <td>Public</td>\n",
       "      <td>10422</td>\n",
       "      <td>10942</td>\n",
       "      <td>169437</td>\n",
       "      <td>6.457857</td>\n",
       "      <td>2004</td>\n",
       "    </tr>\n",
       "    <tr>\n",
       "      <th>1</th>\n",
       "      <td>City of Ashland</td>\n",
       "      <td>OR</td>\n",
       "      <td>Public</td>\n",
       "      <td>11310</td>\n",
       "      <td>12247</td>\n",
       "      <td>169156</td>\n",
       "      <td>7.240062</td>\n",
       "      <td>2005</td>\n",
       "    </tr>\n",
       "    <tr>\n",
       "      <th>2</th>\n",
       "      <td>City of Ashland</td>\n",
       "      <td>OR</td>\n",
       "      <td>Public</td>\n",
       "      <td>11503</td>\n",
       "      <td>13874</td>\n",
       "      <td>173811</td>\n",
       "      <td>7.982234</td>\n",
       "      <td>2006</td>\n",
       "    </tr>\n",
       "    <tr>\n",
       "      <th>3</th>\n",
       "      <td>City of Ashland</td>\n",
       "      <td>OR</td>\n",
       "      <td>Public</td>\n",
       "      <td>10730</td>\n",
       "      <td>12518</td>\n",
       "      <td>175565</td>\n",
       "      <td>7.130000</td>\n",
       "      <td>2007</td>\n",
       "    </tr>\n",
       "    <tr>\n",
       "      <th>4</th>\n",
       "      <td>City of Ashland</td>\n",
       "      <td>OR</td>\n",
       "      <td>Public</td>\n",
       "      <td>11879</td>\n",
       "      <td>180514</td>\n",
       "      <td>12989</td>\n",
       "      <td>7.200000</td>\n",
       "      <td>2008</td>\n",
       "    </tr>\n",
       "    <tr>\n",
       "      <th>5</th>\n",
       "      <td>City of Ashland</td>\n",
       "      <td>OR</td>\n",
       "      <td>Public</td>\n",
       "      <td>11549</td>\n",
       "      <td>165688</td>\n",
       "      <td>11755</td>\n",
       "      <td>7.090000</td>\n",
       "      <td>2009</td>\n",
       "    </tr>\n",
       "    <tr>\n",
       "      <th>6</th>\n",
       "      <td>City of Ashland</td>\n",
       "      <td>OR</td>\n",
       "      <td>Public</td>\n",
       "      <td>11056</td>\n",
       "      <td>173022</td>\n",
       "      <td>11306</td>\n",
       "      <td>6.530000</td>\n",
       "      <td>2010</td>\n",
       "    </tr>\n",
       "    <tr>\n",
       "      <th>7</th>\n",
       "      <td>City of Ashland</td>\n",
       "      <td>OR</td>\n",
       "      <td>Public</td>\n",
       "      <td>11390</td>\n",
       "      <td>175389</td>\n",
       "      <td>12436</td>\n",
       "      <td>7.090000</td>\n",
       "      <td>2011</td>\n",
       "    </tr>\n",
       "    <tr>\n",
       "      <th>8</th>\n",
       "      <td>City of Ashland</td>\n",
       "      <td>OR</td>\n",
       "      <td>Municipal</td>\n",
       "      <td>11688</td>\n",
       "      <td>172148</td>\n",
       "      <td>12475</td>\n",
       "      <td>7.246671</td>\n",
       "      <td>2012</td>\n",
       "    </tr>\n",
       "    <tr>\n",
       "      <th>9</th>\n",
       "      <td>City of Ashland</td>\n",
       "      <td>OR</td>\n",
       "      <td>Municipal</td>\n",
       "      <td>11117</td>\n",
       "      <td>176839</td>\n",
       "      <td>13313</td>\n",
       "      <td>7.528317</td>\n",
       "      <td>2013</td>\n",
       "    </tr>\n",
       "    <tr>\n",
       "      <th>10</th>\n",
       "      <td>City of Ashland</td>\n",
       "      <td>OR</td>\n",
       "      <td>Municipal</td>\n",
       "      <td>11167</td>\n",
       "      <td>166504</td>\n",
       "      <td>13410</td>\n",
       "      <td>8.053861</td>\n",
       "      <td>2014</td>\n",
       "    </tr>\n",
       "  </tbody>\n",
       "</table>\n",
       "</div>"
      ],
      "text/plain": [
       "             Entity State  Ownership  Customers (Count)  \\\n",
       "0   City of Ashland    OR     Public              10422   \n",
       "1   City of Ashland    OR     Public              11310   \n",
       "2   City of Ashland    OR     Public              11503   \n",
       "3   City of Ashland    OR     Public              10730   \n",
       "4   City of Ashland    OR     Public              11879   \n",
       "5   City of Ashland    OR     Public              11549   \n",
       "6   City of Ashland    OR     Public              11056   \n",
       "7   City of Ashland    OR     Public              11390   \n",
       "8   City of Ashland    OR  Municipal              11688   \n",
       "9   City of Ashland    OR  Municipal              11117   \n",
       "10  City of Ashland    OR  Municipal              11167   \n",
       "\n",
       "    Sales (Megawatthours)  Revenues (Thousands Dollars)  \\\n",
       "0                   10942                        169437   \n",
       "1                   12247                        169156   \n",
       "2                   13874                        173811   \n",
       "3                   12518                        175565   \n",
       "4                  180514                         12989   \n",
       "5                  165688                         11755   \n",
       "6                  173022                         11306   \n",
       "7                  175389                         12436   \n",
       "8                  172148                         12475   \n",
       "9                  176839                         13313   \n",
       "10                 166504                         13410   \n",
       "\n",
       "    Average Price (cents/kWh)  Year  \n",
       "0                    6.457857  2004  \n",
       "1                    7.240062  2005  \n",
       "2                    7.982234  2006  \n",
       "3                    7.130000  2007  \n",
       "4                    7.200000  2008  \n",
       "5                    7.090000  2009  \n",
       "6                    6.530000  2010  \n",
       "7                    7.090000  2011  \n",
       "8                    7.246671  2012  \n",
       "9                    7.528317  2013  \n",
       "10                   8.053861  2014  "
      ]
     },
     "execution_count": 58,
     "metadata": {},
     "output_type": "execute_result"
    }
   ],
   "source": [
    "from os.path import expanduser, join\n",
    "from pandas import read_csv\n",
    "\n",
    "electricity_consumption_by_year_table_path = join(\n",
    "    '..',\n",
    "    'datasets',\n",
    "    'oregon-electricity-consumption-by-year-for-sixteen-cities.csv')\n",
    "electricity_consumption_by_year_table = read_csv(\n",
    "    electricity_consumption_by_year_table_path)\n",
    "electricity_consumption_by_year_table[:11]"
   ]
  },
  {
   "cell_type": "code",
   "execution_count": 59,
   "metadata": {
    "collapsed": true
   },
   "outputs": [],
   "source": [
    "name_column = electricity_consumption_by_year_table_name_column = 'Entity'\n",
    "consumption_column = electricity_consumption_by_year_table_consumption_column = 'Sales (Megawatthours)'"
   ]
  },
  {
   "cell_type": "code",
   "execution_count": 60,
   "metadata": {
    "collapsed": false
   },
   "outputs": [
    {
     "name": "stdout",
     "output_type": "stream",
     "text": [
      "City of Ashland\n"
     ]
    }
   ],
   "source": [
    "for name, local_consumption_by_year_table in electricity_consumption_by_year_table.groupby(\n",
    "        electricity_consumption_by_year_table_name_column):\n",
    "    print(name)\n",
    "    t = local_consumption_by_year_table\n",
    "    break"
   ]
  },
  {
   "cell_type": "code",
   "execution_count": 61,
   "metadata": {
    "collapsed": false
   },
   "outputs": [
    {
     "data": {
      "text/plain": [
       "180514000"
      ]
     },
     "execution_count": 61,
     "metadata": {},
     "output_type": "execute_result"
    }
   ],
   "source": [
    "def define_get_consumption_in_kilowatt_hours(consumption_column):\n",
    "    x = consumption_column.lower()\n",
    "    \n",
    "    if 'kwh' in x or ('kilowatt' in x and 'hour' in x):\n",
    "        conversion_factor = 10 ** 0\n",
    "    if 'mwh' in x or ('megawatt' in x and 'hour' in x):\n",
    "        conversion_factor = 10 ** 3\n",
    "    if 'gwh' in x or ('gigawatt' in x and 'hour' in x):\n",
    "        conversion_factor = 10 ** 6\n",
    "    \n",
    "    return lambda x: x * conversion_factor\n",
    "\n",
    "get_consumption_in_kilowatt_hours = define_get_consumption_in_kilowatt_hours(\n",
    "    consumption_column)\n",
    "maximum_consumption_in_kilowatt_hours_per_year = get_consumption_in_kilowatt_hours(\n",
    "    t[consumption_column].max())\n",
    "maximum_consumption_in_kilowatt_hours_per_year"
   ]
  },
  {
   "cell_type": "code",
   "execution_count": 62,
   "metadata": {
    "collapsed": false
   },
   "outputs": [
    {
     "data": {
      "text/plain": [
       "49455.890410958906"
      ]
     },
     "execution_count": 62,
     "metadata": {},
     "output_type": "execute_result"
    }
   ],
   "source": [
    "# Get peak_demand\n",
    "\n",
    "def estimate_peak_demand_in_kilowatts(\n",
    "        maximum_consumption_in_kilowatt_hours_per_year,\n",
    "        peak_hours_per_year,\n",
    "        peak_demand_in_kilowatts_as_fraction_of_estimated_consumption_in_kilowatt_hours_per_peak_hour):    \n",
    "    \"\"\"\n",
    "    Estimate peak demand in order to size system capacity.\n",
    "    The main assumption is that most electricity consumption happens during peak hours.\n",
    "    Then the maximum consumption per year divided by the peak hours per year\n",
    "    is approximately the amount of electricity consumed per peak hour.\n",
    "    \"\"\"\n",
    "    estimated_consumption_in_kilowatt_hours_per_peak_hour = maximum_consumption_in_kilowatt_hours_per_year / float(peak_hours_per_year)\n",
    "    return peak_demand_in_kilowatts_as_fraction_of_estimated_consumption_in_kilowatt_hours_per_peak_hour * estimated_consumption_in_kilowatt_hours_per_peak_hour\n",
    "\n",
    "peak_hours_per_year = 1460\n",
    "peak_demand_in_kilowatts_as_fraction_of_estimated_consumption_in_kilowatt_hours_per_peak_hour = 0.4\n",
    "peak_demand_in_kilowatts = estimate_peak_demand_in_kilowatts(\n",
    "    maximum_consumption_in_kilowatt_hours_per_year,\n",
    "    peak_hours_per_year,\n",
    "    peak_demand_in_kilowatts_as_fraction_of_estimated_consumption_in_kilowatt_hours_per_peak_hour)\n",
    "peak_demand_in_kilowatts"
   ]
  },
  {
   "cell_type": "code",
   "execution_count": 63,
   "metadata": {
    "collapsed": false
   },
   "outputs": [
    {
     "data": {
      "text/plain": [
       "58183.400483481069"
      ]
     },
     "execution_count": 63,
     "metadata": {},
     "output_type": "execute_result"
    }
   ],
   "source": [
    "# Get desired system capacity that will serve the entire community\n",
    "\n",
    "distribution_loss_percent = 15\n",
    "desired_system_capacity_in_kilowatts = peak_demand_in_kilowatts / float(\n",
    "    1 - distribution_loss_percent / 100.)\n",
    "desired_system_capacity_in_kilowatts"
   ]
  },
  {
   "cell_type": "code",
   "execution_count": 64,
   "metadata": {
    "collapsed": false
   },
   "outputs": [
    {
     "data": {
      "text/html": [
       "<div>\n",
       "<table border=\"1\" class=\"dataframe\">\n",
       "  <thead>\n",
       "    <tr style=\"text-align: right;\">\n",
       "      <th></th>\n",
       "      <th>Capacity in Kilowatts</th>\n",
       "      <th>Installation Worker Salary in Dollars per Year</th>\n",
       "      <th>Installation Worker Count</th>\n",
       "      <th>Installation Time in Years</th>\n",
       "      <th>Installation Material Cost in Dollars</th>\n",
       "      <th>Maintenance Worker Salary in Dollars per Year</th>\n",
       "      <th>Maintenance Worker Count</th>\n",
       "      <th>Maintenance Time in Years</th>\n",
       "      <th>Maintenance Material Cost in Dollars per Year</th>\n",
       "      <th>Replacement Worker Salary in Dollars per Year</th>\n",
       "      <th>Replacement Worker Count</th>\n",
       "      <th>Replacement Time in Years</th>\n",
       "      <th>Replacement Material Cost in Dollars</th>\n",
       "    </tr>\n",
       "  </thead>\n",
       "  <tbody>\n",
       "    <tr>\n",
       "      <th>0</th>\n",
       "      <td>1000</td>\n",
       "      <td>50000</td>\n",
       "      <td>2</td>\n",
       "      <td>2</td>\n",
       "      <td>5000</td>\n",
       "      <td>60000</td>\n",
       "      <td>2</td>\n",
       "      <td>5</td>\n",
       "      <td>500</td>\n",
       "      <td>50000</td>\n",
       "      <td>3</td>\n",
       "      <td>3</td>\n",
       "      <td>7500</td>\n",
       "    </tr>\n",
       "    <tr>\n",
       "      <th>1</th>\n",
       "      <td>500</td>\n",
       "      <td>20000</td>\n",
       "      <td>1</td>\n",
       "      <td>1</td>\n",
       "      <td>1000</td>\n",
       "      <td>30000</td>\n",
       "      <td>1</td>\n",
       "      <td>3</td>\n",
       "      <td>100</td>\n",
       "      <td>20000</td>\n",
       "      <td>1</td>\n",
       "      <td>1</td>\n",
       "      <td>1500</td>\n",
       "    </tr>\n",
       "  </tbody>\n",
       "</table>\n",
       "</div>"
      ],
      "text/plain": [
       "   Capacity in Kilowatts  Installation Worker Salary in Dollars per Year  \\\n",
       "0                   1000                                           50000   \n",
       "1                    500                                           20000   \n",
       "\n",
       "   Installation Worker Count  Installation Time in Years  \\\n",
       "0                          2                           2   \n",
       "1                          1                           1   \n",
       "\n",
       "   Installation Material Cost in Dollars  \\\n",
       "0                                   5000   \n",
       "1                                   1000   \n",
       "\n",
       "   Maintenance Worker Salary in Dollars per Year  Maintenance Worker Count  \\\n",
       "0                                          60000                         2   \n",
       "1                                          30000                         1   \n",
       "\n",
       "   Maintenance Time in Years  Maintenance Material Cost in Dollars per Year  \\\n",
       "0                          5                                            500   \n",
       "1                          3                                            100   \n",
       "\n",
       "   Replacement Worker Salary in Dollars per Year  Replacement Worker Count  \\\n",
       "0                                          50000                         3   \n",
       "1                                          20000                         1   \n",
       "\n",
       "   Replacement Time in Years  Replacement Material Cost in Dollars  \n",
       "0                          3                                  7500  \n",
       "1                          1                                  1500  "
      ]
     },
     "execution_count": 64,
     "metadata": {},
     "output_type": "execute_result"
    }
   ],
   "source": [
    "from os.path import expanduser, join\n",
    "from pandas import read_csv\n",
    "\n",
    "transformer_table_path = join(\n",
    "    '..',\n",
    "    'datasets',\n",
    "    'example-transformer-by-capacity.csv')\n",
    "transformer_table = read_csv(transformer_table_path)\n",
    "transformer_table"
   ]
  },
  {
   "cell_type": "code",
   "execution_count": 65,
   "metadata": {
    "collapsed": true
   },
   "outputs": [],
   "source": [
    "capacity_column = 'Capacity in Kilowatts'"
   ]
  },
  {
   "cell_type": "code",
   "execution_count": 66,
   "metadata": {
    "collapsed": false
   },
   "outputs": [
    {
     "data": {
      "text/html": [
       "<div>\n",
       "<table border=\"1\" class=\"dataframe\">\n",
       "  <thead>\n",
       "    <tr style=\"text-align: right;\">\n",
       "      <th></th>\n",
       "      <th>Capacity in Kilowatts</th>\n",
       "      <th>Installation Worker Salary in Dollars per Year</th>\n",
       "      <th>Installation Worker Count</th>\n",
       "      <th>Installation Time in Years</th>\n",
       "      <th>Installation Material Cost in Dollars</th>\n",
       "      <th>Maintenance Worker Salary in Dollars per Year</th>\n",
       "      <th>Maintenance Worker Count</th>\n",
       "      <th>Maintenance Time in Years</th>\n",
       "      <th>Maintenance Material Cost in Dollars per Year</th>\n",
       "      <th>Replacement Worker Salary in Dollars per Year</th>\n",
       "      <th>Replacement Worker Count</th>\n",
       "      <th>Replacement Time in Years</th>\n",
       "      <th>Replacement Material Cost in Dollars</th>\n",
       "    </tr>\n",
       "  </thead>\n",
       "  <tbody>\n",
       "    <tr>\n",
       "      <th>0</th>\n",
       "      <td>1000</td>\n",
       "      <td>50000</td>\n",
       "      <td>2</td>\n",
       "      <td>2</td>\n",
       "      <td>5000</td>\n",
       "      <td>60000</td>\n",
       "      <td>2</td>\n",
       "      <td>5</td>\n",
       "      <td>500</td>\n",
       "      <td>50000</td>\n",
       "      <td>3</td>\n",
       "      <td>3</td>\n",
       "      <td>7500</td>\n",
       "    </tr>\n",
       "    <tr>\n",
       "      <th>1</th>\n",
       "      <td>500</td>\n",
       "      <td>20000</td>\n",
       "      <td>1</td>\n",
       "      <td>1</td>\n",
       "      <td>1000</td>\n",
       "      <td>30000</td>\n",
       "      <td>1</td>\n",
       "      <td>3</td>\n",
       "      <td>100</td>\n",
       "      <td>20000</td>\n",
       "      <td>1</td>\n",
       "      <td>1</td>\n",
       "      <td>1500</td>\n",
       "    </tr>\n",
       "  </tbody>\n",
       "</table>\n",
       "</div>"
      ],
      "text/plain": [
       "   Capacity in Kilowatts  Installation Worker Salary in Dollars per Year  \\\n",
       "0                   1000                                           50000   \n",
       "1                    500                                           20000   \n",
       "\n",
       "   Installation Worker Count  Installation Time in Years  \\\n",
       "0                          2                           2   \n",
       "1                          1                           1   \n",
       "\n",
       "   Installation Material Cost in Dollars  \\\n",
       "0                                   5000   \n",
       "1                                   1000   \n",
       "\n",
       "   Maintenance Worker Salary in Dollars per Year  Maintenance Worker Count  \\\n",
       "0                                          60000                         2   \n",
       "1                                          30000                         1   \n",
       "\n",
       "   Maintenance Time in Years  Maintenance Material Cost in Dollars per Year  \\\n",
       "0                          5                                            500   \n",
       "1                          3                                            100   \n",
       "\n",
       "   Replacement Worker Salary in Dollars per Year  Replacement Worker Count  \\\n",
       "0                                          50000                         3   \n",
       "1                                          20000                         1   \n",
       "\n",
       "   Replacement Time in Years  Replacement Material Cost in Dollars  \n",
       "0                          3                                  7500  \n",
       "1                          1                                  1500  "
      ]
     },
     "execution_count": 66,
     "metadata": {},
     "output_type": "execute_result"
    }
   ],
   "source": [
    "# Choose transformer type\n",
    "eligible_transformer_table = transformer_table[\n",
    "    transformer_table[capacity_column] < desired_system_capacity_in_kilowatts]\n",
    "eligible_transformer_table"
   ]
  },
  {
   "cell_type": "code",
   "execution_count": 67,
   "metadata": {
    "collapsed": false
   },
   "outputs": [
    {
     "data": {
      "text/plain": [
       "Capacity in Kilowatts                              1000\n",
       "Installation Worker Salary in Dollars per Year    50000\n",
       "Installation Worker Count                             2\n",
       "Installation Time in Years                            2\n",
       "Installation Material Cost in Dollars              5000\n",
       "Maintenance Worker Salary in Dollars per Year     60000\n",
       "Maintenance Worker Count                              2\n",
       "Maintenance Time in Years                             5\n",
       "Maintenance Material Cost in Dollars per Year       500\n",
       "Replacement Worker Salary in Dollars per Year     50000\n",
       "Replacement Worker Count                              3\n",
       "Replacement Time in Years                             3\n",
       "Replacement Material Cost in Dollars               7500\n",
       "Name: 0, dtype: int64"
      ]
     },
     "execution_count": 67,
     "metadata": {},
     "output_type": "execute_result"
    }
   ],
   "source": [
    "# Choose largest capacity from available system capacities that is less than the desired capacity\n",
    "if len(eligible_transformer_table):\n",
    "    selected_transformer_table = eligible_transformer_table[\n",
    "        eligible_transformer_table[\n",
    "            capacity_column\n",
    "        ] == eligible_transformer_table[\n",
    "            capacity_column\n",
    "        ].max()]\n",
    "else:\n",
    "    selected_transformer_table = transformer_table[\n",
    "        transformer_table[\n",
    "            capacity_column\n",
    "        ] == transformer_table[\n",
    "            capacity_column\n",
    "        ].min()]    \n",
    "selected_transformer = selected_transformer_table.ix[selected_transformer_table.index[0]]\n",
    "selected_transformer"
   ]
  },
  {
   "cell_type": "code",
   "execution_count": 68,
   "metadata": {
    "collapsed": false
   },
   "outputs": [
    {
     "data": {
      "text/plain": [
       "1000"
      ]
     },
     "execution_count": 68,
     "metadata": {},
     "output_type": "execute_result"
    }
   ],
   "source": [
    "selected_transformer_capacity_in_kilowatts = selected_transformer_table[capacity_column].values[0]\n",
    "selected_transformer_capacity_in_kilowatts"
   ]
  },
  {
   "cell_type": "code",
   "execution_count": 69,
   "metadata": {
    "collapsed": false
   },
   "outputs": [
    {
     "data": {
      "text/plain": [
       "59"
      ]
     },
     "execution_count": 69,
     "metadata": {},
     "output_type": "execute_result"
    }
   ],
   "source": [
    "# Get selected_transformer_count\n",
    "from math import ceil\n",
    "selected_transformer_count = int(ceil(\n",
    "    desired_system_capacity_in_kilowatts / float(selected_transformer_capacity_in_kilowatts)))\n",
    "selected_transformer_count"
   ]
  },
  {
   "cell_type": "code",
   "execution_count": 70,
   "metadata": {
    "collapsed": true
   },
   "outputs": [],
   "source": [
    "[\n",
    "    capacity_column,\n",
    "    installation_worker_salary_column,\n",
    "    installation_worker_count_column,\n",
    "    installation_time_column,\n",
    "    installation_material_cost_column,\n",
    "    maintenance_worker_salary_column,\n",
    "    maintenance_worker_count_column,\n",
    "    maintenance_time_column,\n",
    "    maintenance_material_cost_column,\n",
    "    replacement_worker_salary_column,\n",
    "    replacement_worker_count_column,\n",
    "    replacement_time_column,\n",
    "    replacement_material_cost_column,\n",
    "] = [\n",
    "    'Capacity in Kilowatts',\n",
    "\n",
    "    'Installation Worker Salary in Dollars per Year',\n",
    "    'Installation Worker Count',\n",
    "    'Installation Time in Years',\n",
    "    'Installation Material Cost in Dollars',\n",
    "\n",
    "    'Maintenance Worker Salary in Dollars per Year',\n",
    "    'Maintenance Worker Count',\n",
    "    'Maintenance Time in Years',\n",
    "    'Maintenance Material Cost in Dollars per Year',\n",
    "\n",
    "    'Replacement Worker Salary in Dollars per Year',\n",
    "    'Replacement Worker Count',\n",
    "    'Replacement Time in Years',\n",
    "    'Replacement Material Cost in Dollars',        \n",
    "]"
   ]
  },
  {
   "cell_type": "code",
   "execution_count": 71,
   "metadata": {
    "collapsed": false
   },
   "outputs": [
    {
     "data": {
      "text/plain": [
       "[5900000, 295000, 2]"
      ]
     },
     "execution_count": 71,
     "metadata": {},
     "output_type": "execute_result"
    }
   ],
   "source": [
    "def get_labor_material_time(\n",
    "        selected_transformer,\n",
    "        selected_transformer_count,\n",
    "        worker_salary_column,\n",
    "        worker_count_column,\n",
    "        material_cost_column,\n",
    "        time_column):\n",
    "    d, k = selected_transformer, selected_transformer_count\n",
    "    worker_salary = d[worker_salary_column]\n",
    "    worker_count = d[worker_count_column] * k\n",
    "    labor_cost_per_year = worker_salary * worker_count\n",
    "    material_cost_per_year = d[material_cost_column] * k\n",
    "    year_count = d[time_column]\n",
    "    return [labor_cost_per_year, material_cost_per_year, year_count]\n",
    "\n",
    "get_labor_material_time(\n",
    "    selected_transformer,\n",
    "    selected_transformer_count,\n",
    "    installation_worker_salary_column,\n",
    "    installation_worker_count_column,\n",
    "    installation_material_cost_column,\n",
    "    installation_time_column)"
   ]
  },
  {
   "cell_type": "code",
   "execution_count": 72,
   "metadata": {
    "collapsed": true
   },
   "outputs": [],
   "source": [
    "# Get cost breakdown\n",
    "[\n",
    "    installation_labor_cost_in_dollars_per_year,\n",
    "    installation_material_cost_in_dollars,\n",
    "    installation_time_in_years,\n",
    "] = get_labor_material_time(\n",
    "    selected_transformer,\n",
    "    selected_transformer_count,\n",
    "    installation_worker_salary_column,\n",
    "    installation_worker_count_column,\n",
    "    installation_material_cost_column,\n",
    "    installation_time_column)"
   ]
  },
  {
   "cell_type": "code",
   "execution_count": 73,
   "metadata": {
    "collapsed": true
   },
   "outputs": [],
   "source": [
    "[\n",
    "    maintenance_labor_cost_in_dollars_per_year,\n",
    "    maintenance_material_cost_in_dollars_per_year,\n",
    "    maintenance_time_in_years,\n",
    "] = get_labor_material_time(\n",
    "    selected_transformer,\n",
    "    selected_transformer_count,\n",
    "    maintenance_worker_salary_column,\n",
    "    maintenance_worker_count_column,\n",
    "    maintenance_material_cost_column,\n",
    "    maintenance_time_column)"
   ]
  },
  {
   "cell_type": "code",
   "execution_count": 74,
   "metadata": {
    "collapsed": true
   },
   "outputs": [],
   "source": [
    "[\n",
    "    replacement_labor_cost_in_dollars_per_year,\n",
    "    replacement_material_cost_in_dollars,\n",
    "    replacement_time_in_years,\n",
    "] = get_labor_material_time(\n",
    "    selected_transformer,\n",
    "    selected_transformer_count,\n",
    "    replacement_worker_salary_column,\n",
    "    replacement_worker_count_column,\n",
    "    replacement_material_cost_column,\n",
    "    replacement_time_column)"
   ]
  },
  {
   "cell_type": "code",
   "execution_count": 75,
   "metadata": {
    "collapsed": false
   },
   "outputs": [
    {
     "data": {
      "text/plain": [
       "11"
      ]
     },
     "execution_count": 75,
     "metadata": {},
     "output_type": "execute_result"
    }
   ],
   "source": [
    "year_count = len(t)\n",
    "year_count"
   ]
  },
  {
   "cell_type": "code",
   "execution_count": 76,
   "metadata": {
    "collapsed": false
   },
   "outputs": [
    {
     "data": {
      "text/html": [
       "<div>\n",
       "<table border=\"1\" class=\"dataframe\">\n",
       "  <thead>\n",
       "    <tr style=\"text-align: right;\">\n",
       "      <th></th>\n",
       "      <th>LV Transformer Installation Labor Cost ($)</th>\n",
       "      <th>LV Transformer Installation Material Cost ($)</th>\n",
       "      <th>LV Transformer Maintenance Labor Cost ($)</th>\n",
       "      <th>LV Transformer Maintenance Material Cost ($)</th>\n",
       "      <th>LV Transformer Replacement Labor Cost ($)</th>\n",
       "      <th>LV Transformer Replacement Material Cost ($)</th>\n",
       "    </tr>\n",
       "  </thead>\n",
       "  <tbody>\n",
       "    <tr>\n",
       "      <th>0</th>\n",
       "      <td>5900000</td>\n",
       "      <td>295000</td>\n",
       "      <td>0</td>\n",
       "      <td>0</td>\n",
       "      <td>0</td>\n",
       "      <td>0</td>\n",
       "    </tr>\n",
       "    <tr>\n",
       "      <th>1</th>\n",
       "      <td>5900000</td>\n",
       "      <td>0</td>\n",
       "      <td>0</td>\n",
       "      <td>0</td>\n",
       "      <td>0</td>\n",
       "      <td>0</td>\n",
       "    </tr>\n",
       "    <tr>\n",
       "      <th>2</th>\n",
       "      <td>0</td>\n",
       "      <td>0</td>\n",
       "      <td>7080000</td>\n",
       "      <td>29500</td>\n",
       "      <td>0</td>\n",
       "      <td>0</td>\n",
       "    </tr>\n",
       "    <tr>\n",
       "      <th>3</th>\n",
       "      <td>0</td>\n",
       "      <td>0</td>\n",
       "      <td>7080000</td>\n",
       "      <td>29500</td>\n",
       "      <td>0</td>\n",
       "      <td>0</td>\n",
       "    </tr>\n",
       "    <tr>\n",
       "      <th>4</th>\n",
       "      <td>0</td>\n",
       "      <td>0</td>\n",
       "      <td>7080000</td>\n",
       "      <td>29500</td>\n",
       "      <td>0</td>\n",
       "      <td>0</td>\n",
       "    </tr>\n",
       "    <tr>\n",
       "      <th>5</th>\n",
       "      <td>0</td>\n",
       "      <td>0</td>\n",
       "      <td>7080000</td>\n",
       "      <td>29500</td>\n",
       "      <td>0</td>\n",
       "      <td>0</td>\n",
       "    </tr>\n",
       "    <tr>\n",
       "      <th>6</th>\n",
       "      <td>0</td>\n",
       "      <td>0</td>\n",
       "      <td>7080000</td>\n",
       "      <td>29500</td>\n",
       "      <td>0</td>\n",
       "      <td>0</td>\n",
       "    </tr>\n",
       "    <tr>\n",
       "      <th>7</th>\n",
       "      <td>0</td>\n",
       "      <td>0</td>\n",
       "      <td>7080000</td>\n",
       "      <td>29500</td>\n",
       "      <td>8850000</td>\n",
       "      <td>442500</td>\n",
       "    </tr>\n",
       "    <tr>\n",
       "      <th>8</th>\n",
       "      <td>0</td>\n",
       "      <td>0</td>\n",
       "      <td>7080000</td>\n",
       "      <td>29500</td>\n",
       "      <td>8850000</td>\n",
       "      <td>0</td>\n",
       "    </tr>\n",
       "    <tr>\n",
       "      <th>9</th>\n",
       "      <td>0</td>\n",
       "      <td>0</td>\n",
       "      <td>7080000</td>\n",
       "      <td>29500</td>\n",
       "      <td>8850000</td>\n",
       "      <td>0</td>\n",
       "    </tr>\n",
       "    <tr>\n",
       "      <th>10</th>\n",
       "      <td>0</td>\n",
       "      <td>0</td>\n",
       "      <td>7080000</td>\n",
       "      <td>29500</td>\n",
       "      <td>0</td>\n",
       "      <td>0</td>\n",
       "    </tr>\n",
       "  </tbody>\n",
       "</table>\n",
       "</div>"
      ],
      "text/plain": [
       "    LV Transformer Installation Labor Cost ($)  \\\n",
       "0                                      5900000   \n",
       "1                                      5900000   \n",
       "2                                            0   \n",
       "3                                            0   \n",
       "4                                            0   \n",
       "5                                            0   \n",
       "6                                            0   \n",
       "7                                            0   \n",
       "8                                            0   \n",
       "9                                            0   \n",
       "10                                           0   \n",
       "\n",
       "    LV Transformer Installation Material Cost ($)  \\\n",
       "0                                          295000   \n",
       "1                                               0   \n",
       "2                                               0   \n",
       "3                                               0   \n",
       "4                                               0   \n",
       "5                                               0   \n",
       "6                                               0   \n",
       "7                                               0   \n",
       "8                                               0   \n",
       "9                                               0   \n",
       "10                                              0   \n",
       "\n",
       "    LV Transformer Maintenance Labor Cost ($)  \\\n",
       "0                                           0   \n",
       "1                                           0   \n",
       "2                                     7080000   \n",
       "3                                     7080000   \n",
       "4                                     7080000   \n",
       "5                                     7080000   \n",
       "6                                     7080000   \n",
       "7                                     7080000   \n",
       "8                                     7080000   \n",
       "9                                     7080000   \n",
       "10                                    7080000   \n",
       "\n",
       "    LV Transformer Maintenance Material Cost ($)  \\\n",
       "0                                              0   \n",
       "1                                              0   \n",
       "2                                          29500   \n",
       "3                                          29500   \n",
       "4                                          29500   \n",
       "5                                          29500   \n",
       "6                                          29500   \n",
       "7                                          29500   \n",
       "8                                          29500   \n",
       "9                                          29500   \n",
       "10                                         29500   \n",
       "\n",
       "    LV Transformer Replacement Labor Cost ($)  \\\n",
       "0                                           0   \n",
       "1                                           0   \n",
       "2                                           0   \n",
       "3                                           0   \n",
       "4                                           0   \n",
       "5                                           0   \n",
       "6                                           0   \n",
       "7                                     8850000   \n",
       "8                                     8850000   \n",
       "9                                     8850000   \n",
       "10                                          0   \n",
       "\n",
       "    LV Transformer Replacement Material Cost ($)  \n",
       "0                                              0  \n",
       "1                                              0  \n",
       "2                                              0  \n",
       "3                                              0  \n",
       "4                                              0  \n",
       "5                                              0  \n",
       "6                                              0  \n",
       "7                                         442500  \n",
       "8                                              0  \n",
       "9                                              0  \n",
       "10                                             0  "
      ]
     },
     "execution_count": 76,
     "metadata": {},
     "output_type": "execute_result"
    }
   ],
   "source": [
    "import numpy as np\n",
    "\n",
    "def get_cost_breakdown_table(\n",
    "        prefix,\n",
    "        year_count,\n",
    "        installation_labor_cost_in_dollars_per_year,\n",
    "        installation_material_cost_in_dollars,\n",
    "        installation_time_in_years,\n",
    "        maintenance_labor_cost_in_dollars_per_year,\n",
    "        maintenance_material_cost_in_dollars_per_year,\n",
    "        maintenance_time_in_years,\n",
    "        replacement_labor_cost_in_dollars_per_year,\n",
    "        replacement_material_cost_in_dollars,\n",
    "        replacement_time_in_years):\n",
    "\n",
    "    installation_labor_costs = np.zeros(year_count)\n",
    "    installation_labor_costs[:installation_time_in_years] = installation_labor_cost_in_dollars_per_year\n",
    "\n",
    "    installation_material_costs = np.zeros(year_count)\n",
    "    installation_material_costs[0] = installation_material_cost_in_dollars\n",
    "\n",
    "    maintenance_labor_costs = np.zeros(year_count)\n",
    "    maintenance_labor_costs[installation_time_in_years:] = maintenance_labor_cost_in_dollars_per_year\n",
    "\n",
    "    maintenance_material_costs = np.zeros(year_count)\n",
    "    maintenance_material_costs[installation_time_in_years:] = maintenance_material_cost_in_dollars_per_year\n",
    "\n",
    "    replacement_labor_costs = np.zeros(year_count)\n",
    "    index1 = installation_time_in_years + maintenance_time_in_years\n",
    "    index2 = index1 + replacement_time_in_years\n",
    "    while index1 < year_count:\n",
    "        replacement_labor_costs[index1:index2] = replacement_labor_cost_in_dollars_per_year\n",
    "        index1 = index2 + maintenance_time_in_years\n",
    "        index2 = index1 + replacement_time_in_years\n",
    "\n",
    "    replacement_material_costs = np.zeros(year_count)\n",
    "    index1 = installation_time_in_years + maintenance_time_in_years\n",
    "    while index1 < year_count:\n",
    "        replacement_material_costs[index1] = replacement_material_cost_in_dollars\n",
    "        index1 += maintenance_time_in_years + replacement_time_in_years\n",
    "    replacement_material_costs\n",
    "\n",
    "    return DataFrame({\n",
    "        prefix + ' Installation Labor Cost ($)': installation_labor_costs,\n",
    "        prefix + ' Installation Material Cost ($)': installation_material_costs,\n",
    "        prefix + ' Maintenance Labor Cost ($)': maintenance_labor_costs,\n",
    "        prefix + ' Maintenance Material Cost ($)': maintenance_material_costs,\n",
    "        prefix + ' Replacement Labor Cost ($)': replacement_labor_costs,\n",
    "        prefix + ' Replacement Material Cost ($)': replacement_material_costs,\n",
    "    })\n",
    "\n",
    "get_cost_breakdown_table(\n",
    "    'LV Transformer',\n",
    "    year_count,\n",
    "    installation_labor_cost_in_dollars_per_year,\n",
    "    installation_material_cost_in_dollars,\n",
    "    installation_time_in_years,\n",
    "    maintenance_labor_cost_in_dollars_per_year,\n",
    "    maintenance_material_cost_in_dollars_per_year,\n",
    "    maintenance_time_in_years,\n",
    "    replacement_labor_cost_in_dollars_per_year,\n",
    "    replacement_material_cost_in_dollars,\n",
    "    replacement_time_in_years)"
   ]
  },
  {
   "cell_type": "code",
   "execution_count": 77,
   "metadata": {
    "collapsed": true
   },
   "outputs": [],
   "source": [
    "# For each location,\n",
    "\n",
    "    # + Get peak_demand\n",
    "    # + Get desired system capacity in kilowatts\n",
    "    \n",
    "    # + Load transformer table\n",
    "    # + Choose transformer type\n",
    "    # + Get selected_transformer_count\n",
    "    \n",
    "    # Get cost breakdown\n",
    "    # Get discounted cost\n",
    "    # Get levelized cost\n",
    "\n",
    "# Get aggregated cost breakdown\n",
    "# Get aggregated discounted cost\n",
    "# Get aggregated levelized cost"
   ]
  },
  {
   "cell_type": "code",
   "execution_count": null,
   "metadata": {
    "collapsed": true
   },
   "outputs": [],
   "source": [
    "def prepare_pre_network_grid_costs(\n",
    "        consumption_by_year_table,\n",
    "        consumption_column):\n",
    "    d = {}\n",
    "    return d"
   ]
  },
  {
   "cell_type": "code",
   "execution_count": null,
   "metadata": {
    "collapsed": true
   },
   "outputs": [],
   "source": [
    "# For each location,\n",
    "for name, local_consumption_by_year_table in electricity_consumption_by_year_table.groupby(\n",
    "        electricity_consumption_by_year_table_name_column):\n",
    "    prepare_pre_network_grid_costs(\n",
    "        local_consumption_by_year_table, electricity_consumption_by_year_table_consumption_column)"
   ]
  }
 ],
 "metadata": {
  "kernelspec": {
   "display_name": "Python 2",
   "language": "python",
   "name": "python2"
  },
  "language_info": {
   "codemirror_mode": {
    "name": "ipython",
    "version": 2
   },
   "file_extension": ".py",
   "mimetype": "text/x-python",
   "name": "python",
   "nbconvert_exporter": "python",
   "pygments_lexer": "ipython2",
   "version": "2.7.10"
  }
 },
 "nbformat": 4,
 "nbformat_minor": 0
}
