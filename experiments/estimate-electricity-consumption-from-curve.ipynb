{
 "cells": [
  {
   "cell_type": "code",
   "execution_count": null,
   "metadata": {
    "collapsed": false
   },
   "outputs": [],
   "source": [
    "from os.path import expanduser\n",
    "from pandas import read_csv\n",
    "\n",
    "demographic_by_year_table_path = expanduser('~/Projects/infrastructure-planning/datasets/usa-population-by-year-three-cities.csv')\n",
    "demographic_by_year_table = read_csv(demographic_by_year_table_path)\n",
    "demographic_by_year_table"
   ]
  },
  {
   "cell_type": "code",
   "execution_count": null,
   "metadata": {
    "collapsed": true
   },
   "outputs": [],
   "source": [
    "demographic_by_year_table_name_column = 'City'\n",
    "demographic_by_year_table_year_column = 'Year'\n",
    "demographic_by_year_table_population_column = 'Population'"
   ]
  },
  {
   "cell_type": "code",
   "execution_count": null,
   "metadata": {
    "collapsed": true
   },
   "outputs": [],
   "source": [
    "# For the default consumption by population curve, I think we should get an average across all cities and countries\n",
    "# Another option is to get different consumption curves for different countries, regions and/or income groups\n",
    "# There should be an option to choose different consumption curves or define your own, perhaps graphically\n",
    "# This is a plot data type, which should plot directly\n",
    "\n",
    "# world\n",
    "# by country\n",
    "# by region\n",
    "# by income group"
   ]
  },
  {
   "cell_type": "code",
   "execution_count": null,
   "metadata": {
    "collapsed": true
   },
   "outputs": [],
   "source": [
    "# Get consumption curve points across world by year\n",
    "# Get consumption curve points for each country by year\n",
    "# Get consumption curve points for each region by year\n",
    "# Get consumption curve points for each income group by year\n",
    "# This could be a tool...\n",
    "# Consider being able to combine multiple countries or multiple regions (maybe)"
   ]
  },
  {
   "cell_type": "code",
   "execution_count": null,
   "metadata": {
    "collapsed": true
   },
   "outputs": [],
   "source": [
    "# We could also turn the population forecasting into a more close ended tool...\n",
    "# We might also be able to turn the consumption into a more close ended tool (if the user specifies the country profile) ..."
   ]
  },
  {
   "cell_type": "code",
   "execution_count": 1,
   "metadata": {
    "collapsed": true
   },
   "outputs": [],
   "source": [
    "from pandas import DataFrame\n",
    "consumption_by_population_table = DataFrame([\n",
    "    (100, 1000),\n",
    "    (1000, 5000),\n",
    "    (10000, 10000),\n",
    "], columns=['Population', 'Consumption'])\n",
    "consumption_by_population_table_population_column = 'Population'\n",
    "consumption_by_population_table_consumption_column = 'Consumption'"
   ]
  },
  {
   "cell_type": "code",
   "execution_count": 10,
   "metadata": {
    "collapsed": false
   },
   "outputs": [
    {
     "data": {
      "text/html": [
       "<div>\n",
       "<table border=\"1\" class=\"dataframe\">\n",
       "  <thead>\n",
       "    <tr style=\"text-align: right;\">\n",
       "      <th></th>\n",
       "      <th>0</th>\n",
       "    </tr>\n",
       "  </thead>\n",
       "  <tbody>\n",
       "    <tr>\n",
       "      <th>0</th>\n",
       "      <td>1</td>\n",
       "    </tr>\n",
       "  </tbody>\n",
       "</table>\n",
       "</div>"
      ],
      "text/plain": [
       "   0\n",
       "0  1"
      ]
     },
     "execution_count": 10,
     "metadata": {},
     "output_type": "execute_result"
    }
   ],
   "source": [
    "t = DataFrame([1])\n",
    "t.copy()"
   ]
  },
  {
   "cell_type": "code",
   "execution_count": 7,
   "metadata": {
    "collapsed": false
   },
   "outputs": [
    {
     "data": {
      "image/png": "[encoded data removed]",
      "text/plain": [
       "<matplotlib.figure.Figure at 0x7f74c6cd36d0>"
      ]
     },
     "metadata": {},
     "output_type": "display_data"
    }
   ],
   "source": [
    "%matplotlib inline\n",
    "consumption_by_population_table.plot(x='Population', y='Consumption');"
   ]
  },
  {
   "cell_type": "code",
   "execution_count": null,
   "metadata": {
    "collapsed": true
   },
   "outputs": [],
   "source": [
    "def estimate_consumption_from_curve(\n",
    "      demographic_by_year_table,\n",
    "      demographic_by_year_table_name_column,\n",
    "      demographic_by_year_table_year_column,\n",
    "      demographic_by_year_table_population_column,\n",
    "      consumption_by_population_table,\n",
    "      consumption_by_population_table_population_column,\n",
    "      consumption_by_population_table_consumption_column):\n",
    "    return consumption_by_year_table"
   ]
  },
  {
   "cell_type": "code",
   "execution_count": null,
   "metadata": {
    "collapsed": true
   },
   "outputs": [],
   "source": [
    "# Define consumption_by_population_table"
   ]
  },
  {
   "cell_type": "code",
   "execution_count": null,
   "metadata": {
    "collapsed": true
   },
   "outputs": [],
   "source": [
    "# Fit curve to consumption_by_population_table"
   ]
  },
  {
   "cell_type": "code",
   "execution_count": null,
   "metadata": {
    "collapsed": true
   },
   "outputs": [],
   "source": [
    "# For each row of population, interpolate to get consumption"
   ]
  }
 ],
 "metadata": {
  "kernelspec": {
   "display_name": "Python 2",
   "language": "python",
   "name": "python2"
  },
  "language_info": {
   "codemirror_mode": {
    "name": "ipython",
    "version": 2
   },
   "file_extension": ".py",
   "mimetype": "text/x-python",
   "name": "python",
   "nbconvert_exporter": "python",
   "pygments_lexer": "ipython2",
   "version": "2.7.10"
  }
 },
 "nbformat": 4,
 "nbformat_minor": 0
}
