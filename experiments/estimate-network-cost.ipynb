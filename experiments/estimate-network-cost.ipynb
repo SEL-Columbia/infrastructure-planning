{
 "cells": [
  {
   "cell_type": "code",
   "execution_count": 5,
   "metadata": {
    "collapsed": false
   },
   "outputs": [],
   "source": [
    "from os.path import expanduser, join\n",
    "\n",
    "source_folder = expanduser('~/Projects/infrastructure-planning/datasets')\n",
    "source_node_path = join(\n",
    "    source_folder, 'ethiopia-population-by-year-for-three-cities-with-locations.csv')"
   ]
  },
  {
   "cell_type": "code",
   "execution_count": 6,
   "metadata": {
    "collapsed": false
   },
   "outputs": [
    {
     "data": {
      "text/html": [
       "<div>\n",
       "<table border=\"1\" class=\"dataframe\">\n",
       "  <thead>\n",
       "    <tr style=\"text-align: right;\">\n",
       "      <th></th>\n",
       "      <th>Name</th>\n",
       "      <th>Year</th>\n",
       "      <th>Population</th>\n",
       "    </tr>\n",
       "  </thead>\n",
       "  <tbody>\n",
       "    <tr>\n",
       "      <th>0</th>\n",
       "      <td>Addis Ababa</td>\n",
       "      <td>2008</td>\n",
       "      <td>3385000</td>\n",
       "    </tr>\n",
       "    <tr>\n",
       "      <th>1</th>\n",
       "      <td>Dire Dawa</td>\n",
       "      <td>2008</td>\n",
       "      <td>607321</td>\n",
       "    </tr>\n",
       "    <tr>\n",
       "      <th>2</th>\n",
       "      <td>Mek'ele</td>\n",
       "      <td>2015</td>\n",
       "      <td>410217</td>\n",
       "    </tr>\n",
       "  </tbody>\n",
       "</table>\n",
       "</div>"
      ],
      "text/plain": [
       "          Name  Year  Population\n",
       "0  Addis Ababa  2008     3385000\n",
       "1    Dire Dawa  2008      607321\n",
       "2      Mek'ele  2015      410217"
      ]
     },
     "execution_count": 6,
     "metadata": {},
     "output_type": "execute_result"
    }
   ],
   "source": [
    "from pandas import read_csv\n",
    "\n",
    "source_node_table = read_csv(source_node_path)\n",
    "source_node_table"
   ]
  },
  {
   "cell_type": "code",
   "execution_count": 7,
   "metadata": {
    "collapsed": true
   },
   "outputs": [],
   "source": [
    "# Let's assemble the table"
   ]
  },
  {
   "cell_type": "code",
   "execution_count": 8,
   "metadata": {
    "collapsed": false,
    "scrolled": true
   },
   "outputs": [
    {
     "name": "stdout",
     "output_type": "stream",
     "text": [
      "Addis Ababa 8.9806034 38.7577605\n",
      "Dire Dawa 9.6008747 41.850142\n",
      "Mek'ele 13.4935504 39.465738\n"
     ]
    }
   ],
   "source": [
    "import geopy\n",
    "\n",
    "geocode = geopy.GoogleV3().geocode\n",
    "for name in source_node_table['Name']:\n",
    "    location = geocode(name)\n",
    "    print name, location.latitude, location.longitude"
   ]
  },
  {
   "cell_type": "code",
   "execution_count": 9,
   "metadata": {
    "collapsed": true
   },
   "outputs": [],
   "source": [
    "from pandas import DataFrame\n",
    "# Demand...Projected.nodal.demand.per.year"
   ]
  },
  {
   "cell_type": "code",
   "execution_count": 10,
   "metadata": {
    "collapsed": false
   },
   "outputs": [
    {
     "data": {
      "text/html": [
       "<div>\n",
       "<table border=\"1\" class=\"dataframe\">\n",
       "  <thead>\n",
       "    <tr style=\"text-align: right;\">\n",
       "      <th></th>\n",
       "      <th>Name</th>\n",
       "      <th>Y</th>\n",
       "      <th>X</th>\n",
       "      <th>Population*</th>\n",
       "      <th>Consumption (kWh/yr)*</th>\n",
       "      <th>Network Budget</th>\n",
       "    </tr>\n",
       "  </thead>\n",
       "  <tbody>\n",
       "    <tr>\n",
       "      <th>0</th>\n",
       "      <td>Addis Ababa</td>\n",
       "      <td>8.980603</td>\n",
       "      <td>38.757761</td>\n",
       "      <td>4000000</td>\n",
       "      <td>4000000</td>\n",
       "      <td>1000000</td>\n",
       "    </tr>\n",
       "    <tr>\n",
       "      <th>1</th>\n",
       "      <td>Dire Dawa</td>\n",
       "      <td>9.600875</td>\n",
       "      <td>41.850142</td>\n",
       "      <td>700000</td>\n",
       "      <td>700000</td>\n",
       "      <td>1000000</td>\n",
       "    </tr>\n",
       "    <tr>\n",
       "      <th>2</th>\n",
       "      <td>Mek'ele</td>\n",
       "      <td>13.493550</td>\n",
       "      <td>39.465738</td>\n",
       "      <td>500000</td>\n",
       "      <td>500000</td>\n",
       "      <td>1000000</td>\n",
       "    </tr>\n",
       "  </tbody>\n",
       "</table>\n",
       "</div>"
      ],
      "text/plain": [
       "          Name          Y          X  Population*  Consumption (kWh/yr)*  \\\n",
       "0  Addis Ababa   8.980603  38.757761      4000000                4000000   \n",
       "1    Dire Dawa   9.600875  41.850142       700000                 700000   \n",
       "2      Mek'ele  13.493550  39.465738       500000                 500000   \n",
       "\n",
       "   Network Budget  \n",
       "0         1000000  \n",
       "1         1000000  \n",
       "2         1000000  "
      ]
     },
     "execution_count": 10,
     "metadata": {},
     "output_type": "execute_result"
    }
   ],
   "source": [
    "\"\"\"\n",
    "target_node_table = DataFrame([\n",
    "    ['Addis Ababa', 8.9806034, 38.7577605, 4000000, 4000000, 1000000],\n",
    "    ['Dire Dawa', 9.6008747, 41.850142, 700000, 700000, 1000000],\n",
    "    ['Mek\\'ele', 13.4935504, 39.465738, 500000, 500000, 1000000],\n",
    "], columns=[\n",
    "    'Name', 'Latitude', 'Longitude', 'Future Population', 'Future Consumption (kWh/yr)', 'Network Budget',\n",
    "])\n",
    "\"\"\"\n",
    "\n",
    "target_node_table = DataFrame([\n",
    "    ['Addis Ababa', 8.9806034, 38.7577605, 4000000, 4000000, 1000000],\n",
    "    ['Dire Dawa', 9.6008747, 41.850142, 700000, 700000, 1000000],\n",
    "    ['Mek\\'ele', 13.4935504, 39.465738, 500000, 500000, 1000000],\n",
    "], columns=[\n",
    "    'Name', 'Y', 'X', 'Population*', 'Consumption (kWh/yr)*', 'Network Budget',\n",
    "    # 'Name', 'Y', 'X', 'Future Population', 'Future Consumption (kWh/yr)', 'Network Budget',\n",
    "])\n",
    "\n",
    "target_node_table"
   ]
  },
  {
   "cell_type": "code",
   "execution_count": 11,
   "metadata": {
    "collapsed": false
   },
   "outputs": [
    {
     "data": {
      "text/plain": [
       "'/tmp/xyz/nodes.csv'"
      ]
     },
     "execution_count": 11,
     "metadata": {},
     "output_type": "execute_result"
    }
   ],
   "source": [
    "from invisibleroads_macros.disk import make_folder\n",
    "target_folder = make_folder('/tmp/xyz')\n",
    "target_node_table_path = join(target_folder, 'nodes.csv')\n",
    "target_node_table_path"
   ]
  },
  {
   "cell_type": "code",
   "execution_count": 12,
   "metadata": {
    "collapsed": true
   },
   "outputs": [],
   "source": [
    "target_node_table.to_csv(target_node_table_path, index=False)"
   ]
  },
  {
   "cell_type": "code",
   "execution_count": 13,
   "metadata": {
    "collapsed": true
   },
   "outputs": [],
   "source": [
    "# year, population, financing year, future population, future consumption"
   ]
  },
  {
   "cell_type": "code",
   "execution_count": 14,
   "metadata": {
    "collapsed": true
   },
   "outputs": [],
   "source": [
    "# source_node_path = expanduser('~/Projects/networker/data/max_100.csv')\n",
    "# source_network_path\n",
    "target_network_folder = '/tmp/networker'"
   ]
  },
  {
   "cell_type": "code",
   "execution_count": 15,
   "metadata": {
    "collapsed": false
   },
   "outputs": [
    {
     "data": {
      "text/html": [
       "<div>\n",
       "<table border=\"1\" class=\"dataframe\">\n",
       "  <thead>\n",
       "    <tr style=\"text-align: right;\">\n",
       "      <th></th>\n",
       "      <th>Name</th>\n",
       "      <th>Y</th>\n",
       "      <th>X</th>\n",
       "      <th>Population*</th>\n",
       "      <th>Consumption (kWh/yr)*</th>\n",
       "      <th>Network Budget</th>\n",
       "    </tr>\n",
       "  </thead>\n",
       "  <tbody>\n",
       "    <tr>\n",
       "      <th>0</th>\n",
       "      <td>Addis Ababa</td>\n",
       "      <td>8.980603</td>\n",
       "      <td>38.757761</td>\n",
       "      <td>4000000</td>\n",
       "      <td>4000000</td>\n",
       "      <td>1000000</td>\n",
       "    </tr>\n",
       "    <tr>\n",
       "      <th>1</th>\n",
       "      <td>Dire Dawa</td>\n",
       "      <td>9.600875</td>\n",
       "      <td>41.850142</td>\n",
       "      <td>700000</td>\n",
       "      <td>700000</td>\n",
       "      <td>1000000</td>\n",
       "    </tr>\n",
       "    <tr>\n",
       "      <th>2</th>\n",
       "      <td>Mek'ele</td>\n",
       "      <td>13.493550</td>\n",
       "      <td>39.465738</td>\n",
       "      <td>500000</td>\n",
       "      <td>500000</td>\n",
       "      <td>1000000</td>\n",
       "    </tr>\n",
       "  </tbody>\n",
       "</table>\n",
       "</div>"
      ],
      "text/plain": [
       "          Name          Y          X  Population*  Consumption (kWh/yr)*  \\\n",
       "0  Addis Ababa   8.980603  38.757761      4000000                4000000   \n",
       "1    Dire Dawa   9.600875  41.850142       700000                 700000   \n",
       "2      Mek'ele  13.493550  39.465738       500000                 500000   \n",
       "\n",
       "   Network Budget  \n",
       "0         1000000  \n",
       "1         1000000  \n",
       "2         1000000  "
      ]
     },
     "execution_count": 15,
     "metadata": {},
     "output_type": "execute_result"
    }
   ],
   "source": [
    "target_node_table"
   ]
  },
  {
   "cell_type": "code",
   "execution_count": 16,
   "metadata": {
    "collapsed": false
   },
   "outputs": [],
   "source": [
    "cfg = {\n",
    "    'demand_nodes': {\n",
    "        'filename': target_node_table_path,\n",
    "        # 'x_column': 'Longitude',\n",
    "        # 'y_column': 'Latitude', \n",
    "        'x_column': 'X',\n",
    "        'y_column': 'Y', \n",
    "        'budget_column': 'Network Budget',\n",
    "    },\n",
    "    'network_algorithm': 'mod_boruvka',\n",
    "    'network_parameters': {\n",
    "        'minimum_node_count': 2,\n",
    "    }\n",
    "}"
   ]
  },
  {
   "cell_type": "code",
   "execution_count": 17,
   "metadata": {
    "collapsed": false
   },
   "outputs": [
    {
     "name": "stderr",
     "output_type": "stream",
     "text": [
      "2016-04-11 13:37:30,080 - networker - INFO - building network\n",
      "2016-04-11 13:37:30,081 - networker - INFO - running mod_boruvka on 3 demand nodes and 3 total nodes\n",
      "2016-04-11 13:37:30,167 - networker - INFO - filtered result has 3 nodes and 2 edges\n",
      "2016-04-11 13:37:30,168 - networker - INFO - writing output\n"
     ]
    }
   ],
   "source": [
    "from networker.networker_runner import NetworkerRunner\n",
    "nwk = NetworkerRunner(cfg, target_network_folder)\n",
    "nwk.validate()\n",
    "nwk.run()"
   ]
  },
  {
   "cell_type": "code",
   "execution_count": 14,
   "metadata": {
    "collapsed": false
   },
   "outputs": [
    {
     "name": "stderr",
     "output_type": "stream",
     "text": [
      "2016-04-06 16:16:10,694 - sequencer - INFO - Aligning Network Nodes With Input Metrics\n",
      "2016-04-06 16:16:10,711 - sequencer - INFO - Computing Pairwise Distances\n",
      "2016-04-06 16:16:10,712 - sequencer - INFO - Using haversine Distance\n",
      "2016-04-06 16:16:10,713 - sequencer - INFO - Directing Network Away From Roots\n",
      "2016-04-06 16:16:10,714 - sequencer - INFO - Directing SUBGRAPH 1 / 1\n",
      "/home/rhh/.virtualenvs/134F/lib/python2.7/site-packages/pandas/core/index.py:1353: FutureWarning: using '-' to provide set differences with Indexes is deprecated, use .difference()\n",
      "  \"use .difference()\",FutureWarning)\n",
      "2016-04-06 16:16:10,718 - sequencer - INFO - DONE!\n",
      "2016-04-06 16:16:10,722 - sequencer - INFO - Converting The Network to a HashMap (Warning: this is time consuming for large Networks)\n",
      "2016-04-06 16:16:10,722 - sequencer - INFO - Traversing The Input Network and Computing Decision Frontier\n"
     ]
    },
    {
     "name": "stdout",
     "output_type": "stream",
     "text": [
      "\n",
      "[###################################### 100.00% ######################################]\n",
      "Solving Frontier of n = 1\n",
      "Solving Frontier of n = 1\n",
      "Solving Frontier of n = 1\n"
     ]
    },
    {
     "name": "stderr",
     "output_type": "stream",
     "text": [
      "/home/rhh/Projects/sequencer/sequencer/Sequencer.py:250: VisibleDeprecationWarning: using a non-integer number instead of an integer will result in an error in the future\n",
      "  self.networkplan.network.edge[fnode][tnode]['distance'] = float(self.networkplan.distance_matrix[fnode, tnode])\n",
      "2016-04-06 16:16:10,734 - sequencer - INFO - Joining Sequencer Results on Input Metrics\n",
      "2016-04-06 16:16:10,750 - sequencer - INFO - DONE!\n"
     ]
    },
    {
     "name": "stdout",
     "output_type": "stream",
     "text": [
      "3\n",
      "3\n"
     ]
    }
   ],
   "source": [
    "from os.path import join\n",
    "from sequencer import NetworkPlan\n",
    "from sequencer.Models import EnergyMaximizeReturn\n",
    "\n",
    "# source_folder = expanduser('~/Projects/sequencer/data/sumaila/input')\n",
    "# csv = join(source_folder, 'metrics-local.csv')\n",
    "# shp = join(source_folder, 'networks-proposed.shp')\n",
    "csv = target_node_table_path\n",
    "shp = join(target_network_folder, 'edges.shp')\n",
    "nwp = NetworkPlan(shp, csv, prioritize='Population.')\n",
    "model = EnergyMaximizeReturn(nwp)\n",
    "results = model.sequence()"
   ]
  },
  {
   "cell_type": "code",
   "execution_count": 15,
   "metadata": {
    "collapsed": false
   },
   "outputs": [
    {
     "data": {
      "text/html": [
       "<div>\n",
       "<table border=\"1\" class=\"dataframe\">\n",
       "  <thead>\n",
       "    <tr style=\"text-align: right;\">\n",
       "      <th></th>\n",
       "      <th>Name</th>\n",
       "      <th>Y</th>\n",
       "      <th>X</th>\n",
       "      <th>Population.</th>\n",
       "      <th>Consumption..kWh.yr.</th>\n",
       "      <th>Network.Budget</th>\n",
       "      <th>Sequence..Decision.metric</th>\n",
       "      <th>Sequence..Vertex.id</th>\n",
       "      <th>Sequence..Root.vertex.id</th>\n",
       "      <th>Sequence..Upstream.id</th>\n",
       "      <th>Sequence..Downstream.distance.sum.m</th>\n",
       "      <th>Sequence..Upstream.segment.distance.m</th>\n",
       "      <th>Sequence..Downstream.demand.sum.kwh</th>\n",
       "      <th>Sequence..Far.sighted.sequence</th>\n",
       "      <th>coords</th>\n",
       "    </tr>\n",
       "  </thead>\n",
       "  <tbody>\n",
       "    <tr>\n",
       "      <th>0</th>\n",
       "      <td>Addis Ababa</td>\n",
       "      <td>8.980603</td>\n",
       "      <td>38.757760</td>\n",
       "      <td>4000000</td>\n",
       "      <td>4000000</td>\n",
       "      <td>1000000</td>\n",
       "      <td>6.754872</td>\n",
       "      <td>1</td>\n",
       "      <td>NaN</td>\n",
       "      <td>NaN</td>\n",
       "      <td>769814.777614</td>\n",
       "      <td>0.000000</td>\n",
       "      <td>5200000</td>\n",
       "      <td>1</td>\n",
       "      <td>(38.7577605, 8.9806034)</td>\n",
       "    </tr>\n",
       "    <tr>\n",
       "      <th>1</th>\n",
       "      <td>Dire Dawa</td>\n",
       "      <td>9.600875</td>\n",
       "      <td>41.850142</td>\n",
       "      <td>700000</td>\n",
       "      <td>700000</td>\n",
       "      <td>1000000</td>\n",
       "      <td>1.558817</td>\n",
       "      <td>0</td>\n",
       "      <td>1</td>\n",
       "      <td>1</td>\n",
       "      <td>769814.777614</td>\n",
       "      <td>347854.314239</td>\n",
       "      <td>1200000</td>\n",
       "      <td>2</td>\n",
       "      <td>(41.850142, 9.6008747)</td>\n",
       "    </tr>\n",
       "    <tr>\n",
       "      <th>2</th>\n",
       "      <td>Mek'ele</td>\n",
       "      <td>13.493550</td>\n",
       "      <td>39.465738</td>\n",
       "      <td>500000</td>\n",
       "      <td>500000</td>\n",
       "      <td>1000000</td>\n",
       "      <td>1.184945</td>\n",
       "      <td>2</td>\n",
       "      <td>1</td>\n",
       "      <td>0</td>\n",
       "      <td>421960.463375</td>\n",
       "      <td>421960.463375</td>\n",
       "      <td>500000</td>\n",
       "      <td>3</td>\n",
       "      <td>(39.465738, 13.4935504)</td>\n",
       "    </tr>\n",
       "  </tbody>\n",
       "</table>\n",
       "</div>"
      ],
      "text/plain": [
       "          Name          Y          X  Population.  Consumption..kWh.yr.  \\\n",
       "0  Addis Ababa   8.980603  38.757760      4000000               4000000   \n",
       "1    Dire Dawa   9.600875  41.850142       700000                700000   \n",
       "2      Mek'ele  13.493550  39.465738       500000                500000   \n",
       "\n",
       "   Network.Budget  Sequence..Decision.metric  Sequence..Vertex.id  \\\n",
       "0         1000000                   6.754872                    1   \n",
       "1         1000000                   1.558817                    0   \n",
       "2         1000000                   1.184945                    2   \n",
       "\n",
       "   Sequence..Root.vertex.id  Sequence..Upstream.id  \\\n",
       "0                       NaN                    NaN   \n",
       "1                         1                      1   \n",
       "2                         1                      0   \n",
       "\n",
       "   Sequence..Downstream.distance.sum.m  Sequence..Upstream.segment.distance.m  \\\n",
       "0                        769814.777614                               0.000000   \n",
       "1                        769814.777614                          347854.314239   \n",
       "2                        421960.463375                          421960.463375   \n",
       "\n",
       "   Sequence..Downstream.demand.sum.kwh  Sequence..Far.sighted.sequence  \\\n",
       "0                              5200000                               1   \n",
       "1                              1200000                               2   \n",
       "2                               500000                               3   \n",
       "\n",
       "                    coords  \n",
       "0  (38.7577605, 8.9806034)  \n",
       "1   (41.850142, 9.6008747)  \n",
       "2  (39.465738, 13.4935504)  "
      ]
     },
     "execution_count": 15,
     "metadata": {},
     "output_type": "execute_result"
    }
   ],
   "source": [
    "model.output_frame"
   ]
  },
  {
   "cell_type": "code",
   "execution_count": 15,
   "metadata": {
    "collapsed": false
   },
   "outputs": [
    {
     "name": "stdout",
     "output_type": "stream",
     "text": [
      "1\n",
      "2\n",
      "3\n",
      "4\n",
      "5\n"
     ]
    }
   ],
   "source": [
    "from invisibleroads_macros.disk import make_folder\n",
    "\n",
    "target_sequence_folder = make_folder('/tmp/sequencer')\n",
    "model.output(target_folder)"
   ]
  },
  {
   "cell_type": "code",
   "execution_count": 17,
   "metadata": {
    "collapsed": false
   },
   "outputs": [],
   "source": [
    "model.output_frame.to_csv('/tmp/sequencer/xyz.csv', index=False)"
   ]
  },
  {
   "cell_type": "code",
   "execution_count": 3,
   "metadata": {
    "collapsed": true
   },
   "outputs": [],
   "source": [
    "from os.path import expanduser\n",
    "\n",
    "geometry1_path = expanduser('~/Projects/sequencer/data/sumaila/input/networks-proposed.shp')\n",
    "geometry2_path = '/tmp/networker/edges.shp'\n",
    "geometry3_path = '/tmp/networker/nodes.shp'"
   ]
  },
  {
   "cell_type": "code",
   "execution_count": null,
   "metadata": {
    "collapsed": true
   },
   "outputs": [],
   "source": []
  },
  {
   "cell_type": "code",
   "execution_count": 4,
   "metadata": {
    "collapsed": false
   },
   "outputs": [
    {
     "name": "stdout",
     "output_type": "stream",
     "text": [
      "+proj=longlat +datum=WGS84 +no_defs \n",
      "[<shapely.geometry.linestring.LineString object at 0x7f75a654e990>, <shapely.geometry.linestring.LineString object at 0x7f75a654ea90>]\n",
      "[(0,), (1,)]\n",
      "[('FID', 12)]\n"
     ]
    }
   ],
   "source": [
    "from geometryIO import load\n",
    "a, b, c, d = load(geometry1_path)\n",
    "print a\n",
    "print b[:2]\n",
    "print c[:2]\n",
    "print d"
   ]
  },
  {
   "cell_type": "code",
   "execution_count": 5,
   "metadata": {
    "collapsed": false
   },
   "outputs": [
    {
     "data": {
      "image/svg+xml": [
       "<svg xmlns=\"http://www.w3.org/2000/svg\" xmlns:xlink=\"http://www.w3.org/1999/xlink\" width=\"100.0\" height=\"100.0\" viewBox=\"8.857061654 11.279409166 0.001743988 0.002419038\" preserveAspectRatio=\"xMinYMin meet\"><g transform=\"matrix(1,0,0,-1,0,22.56123737)\"><polyline fill=\"none\" stroke=\"#66cc99\" stroke-width=\"4.838076e-05\" points=\"8.857151248,11.28173861 8.858716048,11.27949876\" opacity=\"0.8\" /></g></svg>"
      ],
      "text/plain": [
       "<shapely.geometry.linestring.LineString at 0x7f75a654e990>"
      ]
     },
     "execution_count": 5,
     "metadata": {},
     "output_type": "execute_result"
    }
   ],
   "source": [
    "b[0]"
   ]
  },
  {
   "cell_type": "code",
   "execution_count": 6,
   "metadata": {
    "collapsed": false
   },
   "outputs": [
    {
     "ename": "GeometryError",
     "evalue": "Could not load edges.shp",
     "output_type": "error",
     "traceback": [
      "\u001b[1;31m---------------------------------------------------------------------------\u001b[0m",
      "\u001b[1;31mGeometryError\u001b[0m                             Traceback (most recent call last)",
      "\u001b[1;32m<ipython-input-6-7283d7a8ff36>\u001b[0m in \u001b[0;36m<module>\u001b[1;34m()\u001b[0m\n\u001b[0;32m      1\u001b[0m \u001b[1;32mfrom\u001b[0m \u001b[0mgeometryIO\u001b[0m \u001b[1;32mimport\u001b[0m \u001b[0mload\u001b[0m\u001b[1;33m\u001b[0m\u001b[0m\n\u001b[1;32m----> 2\u001b[1;33m \u001b[0ma\u001b[0m\u001b[1;33m,\u001b[0m \u001b[0mb\u001b[0m\u001b[1;33m,\u001b[0m \u001b[0mc\u001b[0m\u001b[1;33m,\u001b[0m \u001b[0md\u001b[0m \u001b[1;33m=\u001b[0m \u001b[0mload\u001b[0m\u001b[1;33m(\u001b[0m\u001b[0mgeometry2_path\u001b[0m\u001b[1;33m)\u001b[0m\u001b[1;33m\u001b[0m\u001b[0m\n\u001b[0m\u001b[0;32m      3\u001b[0m \u001b[1;32mprint\u001b[0m \u001b[0ma\u001b[0m\u001b[1;33m\u001b[0m\u001b[0m\n\u001b[0;32m      4\u001b[0m \u001b[1;32mprint\u001b[0m \u001b[0mb\u001b[0m\u001b[1;33m[\u001b[0m\u001b[1;33m:\u001b[0m\u001b[1;36m2\u001b[0m\u001b[1;33m]\u001b[0m\u001b[1;33m\u001b[0m\u001b[0m\n\u001b[0;32m      5\u001b[0m \u001b[1;32mprint\u001b[0m \u001b[0mc\u001b[0m\u001b[1;33m[\u001b[0m\u001b[1;33m:\u001b[0m\u001b[1;36m2\u001b[0m\u001b[1;33m]\u001b[0m\u001b[1;33m\u001b[0m\u001b[0m\n",
      "\u001b[1;32m<decorator-gen-127>\u001b[0m in \u001b[0;36mload\u001b[1;34m(sourcePath, sourceProj4, targetProj4)\u001b[0m\n",
      "\u001b[1;32m/home/rhh/.virtualenvs/crosscompute/lib/python2.7/site-packages/archiveIO/__init__.pyc\u001b[0m in \u001b[0;36mload\u001b[1;34m(function, *args, **kw)\u001b[0m\n\u001b[0;32m    161\u001b[0m         \u001b[1;31m# If we did not recognize the extension, run function as usual\u001b[0m\u001b[1;33m\u001b[0m\u001b[1;33m\u001b[0m\u001b[0m\n\u001b[0;32m    162\u001b[0m         \u001b[1;32mexcept\u001b[0m \u001b[0mArchiveError\u001b[0m\u001b[1;33m:\u001b[0m\u001b[1;33m\u001b[0m\u001b[0m\n\u001b[1;32m--> 163\u001b[1;33m             \u001b[1;32mreturn\u001b[0m \u001b[0mfunction\u001b[0m\u001b[1;33m(\u001b[0m\u001b[1;33m*\u001b[0m\u001b[0margs\u001b[0m\u001b[1;33m,\u001b[0m \u001b[1;33m**\u001b[0m\u001b[0mkw\u001b[0m\u001b[1;33m)\u001b[0m\u001b[1;33m\u001b[0m\u001b[0m\n\u001b[0m\u001b[0;32m    164\u001b[0m         \u001b[1;31m# Make temporaryFolder\u001b[0m\u001b[1;33m\u001b[0m\u001b[1;33m\u001b[0m\u001b[0m\n\u001b[0;32m    165\u001b[0m         \u001b[1;32mwith\u001b[0m \u001b[0mTemporaryFolder\u001b[0m\u001b[1;33m(\u001b[0m\u001b[1;33m)\u001b[0m \u001b[1;32mas\u001b[0m \u001b[0mtemporaryFolder\u001b[0m\u001b[1;33m:\u001b[0m\u001b[1;33m\u001b[0m\u001b[0m\n",
      "\u001b[1;32m/home/rhh/.virtualenvs/crosscompute/lib/python2.7/site-packages/geometryIO/__init__.pyc\u001b[0m in \u001b[0;36mload\u001b[1;34m(sourcePath, sourceProj4, targetProj4)\u001b[0m\n\u001b[0;32m     76\u001b[0m     \u001b[0mdataSource\u001b[0m \u001b[1;33m=\u001b[0m \u001b[0mogr\u001b[0m\u001b[1;33m.\u001b[0m\u001b[0mOpen\u001b[0m\u001b[1;33m(\u001b[0m\u001b[0msourcePath\u001b[0m\u001b[1;33m)\u001b[0m\u001b[1;33m\u001b[0m\u001b[0m\n\u001b[0;32m     77\u001b[0m     \u001b[1;32mif\u001b[0m \u001b[1;32mnot\u001b[0m \u001b[0mdataSource\u001b[0m\u001b[1;33m:\u001b[0m\u001b[1;33m\u001b[0m\u001b[0m\n\u001b[1;32m---> 78\u001b[1;33m         \u001b[1;32mraise\u001b[0m \u001b[0mGeometryError\u001b[0m\u001b[1;33m(\u001b[0m\u001b[1;34m'Could not load %s'\u001b[0m \u001b[1;33m%\u001b[0m \u001b[0mos\u001b[0m\u001b[1;33m.\u001b[0m\u001b[0mpath\u001b[0m\u001b[1;33m.\u001b[0m\u001b[0mbasename\u001b[0m\u001b[1;33m(\u001b[0m\u001b[0msourcePath\u001b[0m\u001b[1;33m)\u001b[0m\u001b[1;33m)\u001b[0m\u001b[1;33m\u001b[0m\u001b[0m\n\u001b[0m\u001b[0;32m     79\u001b[0m     \u001b[0mlayer\u001b[0m \u001b[1;33m=\u001b[0m \u001b[0mdataSource\u001b[0m\u001b[1;33m.\u001b[0m\u001b[0mGetLayer\u001b[0m\u001b[1;33m(\u001b[0m\u001b[1;33m)\u001b[0m\u001b[1;33m\u001b[0m\u001b[0m\n\u001b[0;32m     80\u001b[0m     \u001b[1;31m# Get fieldDefinitions from featureDefinition\u001b[0m\u001b[1;33m\u001b[0m\u001b[1;33m\u001b[0m\u001b[0m\n",
      "\u001b[1;31mGeometryError\u001b[0m: Could not load edges.shp"
     ]
    }
   ],
   "source": [
    "from geometryIO import load\n",
    "a, b, c, d = load(geometry2_path)\n",
    "print a\n",
    "print b[:2]\n",
    "print c[:2]\n",
    "print d"
   ]
  },
  {
   "cell_type": "code",
   "execution_count": null,
   "metadata": {
    "collapsed": true
   },
   "outputs": [],
   "source": []
  },
  {
   "cell_type": "code",
   "execution_count": 32,
   "metadata": {
    "collapsed": false
   },
   "outputs": [
    {
     "name": "stdout",
     "output_type": "stream",
     "text": [
      "+proj=longlat +ellps=WGS84 +towgs84=0,0,0,0,0,0,0 +no_defs \n",
      "[<shapely.geometry.point.Point object at 0x7f5ec7cf7890>, <shapely.geometry.point.Point object at 0x7f5ec7cf7a10>]\n",
      "[(0,), (1,)]\n",
      "[('FID', 12)]\n"
     ]
    }
   ],
   "source": [
    "from geometryIO import load\n",
    "a, b, c, d = load(geometry3_path)\n",
    "print a\n",
    "print b[:2]\n",
    "print c[:2]\n",
    "print d"
   ]
  },
  {
   "cell_type": "code",
   "execution_count": null,
   "metadata": {
    "collapsed": true
   },
   "outputs": [],
   "source": [
    "# Review how to compute grid mv network budget"
   ]
  },
  {
   "cell_type": "code",
   "execution_count": null,
   "metadata": {
    "collapsed": true
   },
   "outputs": [],
   "source": [
    "def compute(self):\n",
    "    return self.get(GridExternalSystemInitialCostPerMeter) + self.get(GridExternalSystemNodalDiscountedRecurringCostPerMeter)\n",
    "\n",
    "def compute(self):\n",
    "    # Compute the cost of the cheapest standalone option for the node\n",
    "    standaloneCost = min(\n",
    "        self.get(costOffGrid.OffGridSystemNodalDiscountedCost),\n",
    "        self.get(costMiniGrid.MiniGridSystemNodalDiscountedCost))\n",
    "    # Compute the (non-negative) amount of money we have left to spend on grid extension\n",
    "    gridExternalBudget = max(0, standaloneCost - self.get(costGrid.GridInternalSystemNodalDiscountedCost))\n",
    "    # Compute the length of line we are allowed for grid extension\n",
    "    return gridExternalBudget / float(self.get(costGrid.GridExternalSystemNodalDiscountedCostPerMeter))"
   ]
  },
  {
   "cell_type": "code",
   "execution_count": 2,
   "metadata": {
    "collapsed": false
   },
   "outputs": [
    {
     "data": {
      "text/plain": [
       "[('two', 'three'), ('two', 'four'), ('one', 'three'), ('one', 'four')]"
      ]
     },
     "execution_count": 2,
     "metadata": {},
     "output_type": "execute_result"
    }
   ],
   "source": [
    "d = {'one': 1, 'two': 2}\n",
    "e = ['three', 'four']\n",
    "from itertools import product\n",
    "list(product(d, e))"
   ]
  },
  {
   "cell_type": "code",
   "execution_count": 4,
   "metadata": {
    "collapsed": true
   },
   "outputs": [],
   "source": [
    "discounted_system_cost_by_technology = {\n",
    "    'grid': 3000,\n",
    "    'diesel_mini_grid': 5000,\n",
    "    'solar_home': 10000,\n",
    "}"
   ]
  },
  {
   "cell_type": "code",
   "execution_count": 7,
   "metadata": {
    "collapsed": false
   },
   "outputs": [
    {
     "data": {
      "text/plain": [
       "5000"
      ]
     },
     "execution_count": 7,
     "metadata": {},
     "output_type": "execute_result"
    }
   ],
   "source": [
    "standalone_cost = min(\n",
    "    v for k, v in discounted_system_cost_by_technology.items() if k != 'grid')\n",
    "standalone_cost"
   ]
  },
  {
   "cell_type": "code",
   "execution_count": 8,
   "metadata": {
    "collapsed": false
   },
   "outputs": [
    {
     "data": {
      "text/plain": [
       "2000"
      ]
     },
     "execution_count": 8,
     "metadata": {},
     "output_type": "execute_result"
    }
   ],
   "source": [
    "mv_network_budget = standalone_cost - discounted_system_cost_by_technology['grid']\n",
    "mv_network_budget"
   ]
  },
  {
   "cell_type": "code",
   "execution_count": null,
   "metadata": {
    "collapsed": true
   },
   "outputs": [],
   "source": [
    "grid_mv_line_installation_lm_cost_per_meter\n",
    "grid_mv_line_maintenance_lm_cost_per_meter_per_year\n",
    "grid_mv_line_lifetime_in_years"
   ]
  },
  {
   "cell_type": "code",
   "execution_count": null,
   "metadata": {
    "collapsed": true
   },
   "outputs": [],
   "source": [
    "# grid_discounted_mv_line_cost_per_meter\n",
    "grid_mv_line_discounted_cost_per_meter"
   ]
  },
  {
   "cell_type": "code",
   "execution_count": null,
   "metadata": {
    "collapsed": true
   },
   "outputs": [],
   "source": [
    "mv_network_budget_in_meters"
   ]
  },
  {
   "cell_type": "code",
   "execution_count": 1,
   "metadata": {
    "collapsed": true
   },
   "outputs": [],
   "source": [
    "from pandas import DataFrame"
   ]
  },
  {
   "cell_type": "code",
   "execution_count": 3,
   "metadata": {
    "collapsed": false
   },
   "outputs": [
    {
     "data": {
      "text/html": [
       "<div>\n",
       "<table border=\"1\" class=\"dataframe\">\n",
       "  <thead>\n",
       "    <tr style=\"text-align: right;\">\n",
       "      <th></th>\n",
       "      <th>A</th>\n",
       "      <th>B</th>\n",
       "      <th>C</th>\n",
       "    </tr>\n",
       "  </thead>\n",
       "  <tbody>\n",
       "    <tr>\n",
       "      <th>0</th>\n",
       "      <td>1</td>\n",
       "      <td>2</td>\n",
       "      <td>3</td>\n",
       "    </tr>\n",
       "    <tr>\n",
       "      <th>1</th>\n",
       "      <td>4</td>\n",
       "      <td>5</td>\n",
       "      <td>6</td>\n",
       "    </tr>\n",
       "    <tr>\n",
       "      <th>2</th>\n",
       "      <td>7</td>\n",
       "      <td>8</td>\n",
       "      <td>9</td>\n",
       "    </tr>\n",
       "  </tbody>\n",
       "</table>\n",
       "</div>"
      ],
      "text/plain": [
       "   A  B  C\n",
       "0  1  2  3\n",
       "1  4  5  6\n",
       "2  7  8  9"
      ]
     },
     "execution_count": 3,
     "metadata": {},
     "output_type": "execute_result"
    }
   ],
   "source": [
    "table = DataFrame([[1, 2, 3], [4, 5, 6], [7, 8, 9]], columns=['A', 'B', 'C'])\n",
    "table"
   ]
  },
  {
   "cell_type": "code",
   "execution_count": 5,
   "metadata": {
    "collapsed": false
   },
   "outputs": [
    {
     "data": {
      "text/html": [
       "<div>\n",
       "<table border=\"1\" class=\"dataframe\">\n",
       "  <thead>\n",
       "    <tr style=\"text-align: right;\">\n",
       "      <th></th>\n",
       "      <th>a</th>\n",
       "      <th>B</th>\n",
       "      <th>C</th>\n",
       "    </tr>\n",
       "  </thead>\n",
       "  <tbody>\n",
       "    <tr>\n",
       "      <th>0</th>\n",
       "      <td>1</td>\n",
       "      <td>2</td>\n",
       "      <td>3</td>\n",
       "    </tr>\n",
       "    <tr>\n",
       "      <th>1</th>\n",
       "      <td>4</td>\n",
       "      <td>5</td>\n",
       "      <td>6</td>\n",
       "    </tr>\n",
       "    <tr>\n",
       "      <th>2</th>\n",
       "      <td>7</td>\n",
       "      <td>8</td>\n",
       "      <td>9</td>\n",
       "    </tr>\n",
       "  </tbody>\n",
       "</table>\n",
       "</div>"
      ],
      "text/plain": [
       "   a  B  C\n",
       "0  1  2  3\n",
       "1  4  5  6\n",
       "2  7  8  9"
      ]
     },
     "execution_count": 5,
     "metadata": {},
     "output_type": "execute_result"
    }
   ],
   "source": [
    "table.rename(columns={'A': 'a'})"
   ]
  },
  {
   "cell_type": "code",
   "execution_count": 6,
   "metadata": {
    "collapsed": false
   },
   "outputs": [
    {
     "data": {
      "text/html": [
       "<div>\n",
       "<table border=\"1\" class=\"dataframe\">\n",
       "  <thead>\n",
       "    <tr style=\"text-align: right;\">\n",
       "      <th></th>\n",
       "      <th>A</th>\n",
       "      <th>B</th>\n",
       "      <th>C</th>\n",
       "    </tr>\n",
       "  </thead>\n",
       "  <tbody>\n",
       "    <tr>\n",
       "      <th>0</th>\n",
       "      <td>1</td>\n",
       "      <td>2</td>\n",
       "      <td>3</td>\n",
       "    </tr>\n",
       "    <tr>\n",
       "      <th>1</th>\n",
       "      <td>4</td>\n",
       "      <td>5</td>\n",
       "      <td>6</td>\n",
       "    </tr>\n",
       "    <tr>\n",
       "      <th>2</th>\n",
       "      <td>7</td>\n",
       "      <td>8</td>\n",
       "      <td>9</td>\n",
       "    </tr>\n",
       "  </tbody>\n",
       "</table>\n",
       "</div>"
      ],
      "text/plain": [
       "   A  B  C\n",
       "0  1  2  3\n",
       "1  4  5  6\n",
       "2  7  8  9"
      ]
     },
     "execution_count": 6,
     "metadata": {},
     "output_type": "execute_result"
    }
   ],
   "source": [
    "table"
   ]
  },
  {
   "cell_type": "code",
   "execution_count": 14,
   "metadata": {
    "collapsed": false
   },
   "outputs": [
    {
     "data": {
      "text/plain": [
       "2"
      ]
     },
     "execution_count": 14,
     "metadata": {},
     "output_type": "execute_result"
    }
   ],
   "source": [
    "table.sort('C').index[-1]"
   ]
  },
  {
   "cell_type": "code",
   "execution_count": 11,
   "metadata": {
    "collapsed": false
   },
   "outputs": [
    {
     "data": {
      "text/plain": [
       "Int64Index([0, 1, 2], dtype='int64')"
      ]
     },
     "execution_count": 11,
     "metadata": {},
     "output_type": "execute_result"
    }
   ],
   "source": [
    "table.index"
   ]
  },
  {
   "cell_type": "code",
   "execution_count": 1,
   "metadata": {
    "collapsed": true
   },
   "outputs": [],
   "source": [
    "import networkx as nx"
   ]
  },
  {
   "cell_type": "code",
   "execution_count": 7,
   "metadata": {
    "collapsed": false
   },
   "outputs": [],
   "source": [
    "g = nx.Graph()"
   ]
  },
  {
   "cell_type": "code",
   "execution_count": 8,
   "metadata": {
    "collapsed": true
   },
   "outputs": [],
   "source": [
    "g.add_node(1, {'a': 'apple'})\n",
    "g.add_node(2, {'a': 'avocado'})"
   ]
  },
  {
   "cell_type": "code",
   "execution_count": 9,
   "metadata": {
    "collapsed": false
   },
   "outputs": [
    {
     "data": {
      "text/plain": [
       "[(1, {'a': 'apple'}), (2, {'a': 'avocado'})]"
      ]
     },
     "execution_count": 9,
     "metadata": {},
     "output_type": "execute_result"
    }
   ],
   "source": [
    "g.nodes(data=True)"
   ]
  },
  {
   "cell_type": "code",
   "execution_count": null,
   "metadata": {
    "collapsed": true
   },
   "outputs": [],
   "source": [
    "# Given a graph, make a table\n"
   ]
  },
  {
   "cell_type": "code",
   "execution_count": 6,
   "metadata": {
    "collapsed": false
   },
   "outputs": [
    {
     "data": {
      "text/html": [
       "<div>\n",
       "<table border=\"1\" class=\"dataframe\">\n",
       "  <thead>\n",
       "    <tr style=\"text-align: right;\">\n",
       "      <th></th>\n",
       "      <th>1</th>\n",
       "    </tr>\n",
       "  </thead>\n",
       "  <tbody>\n",
       "    <tr>\n",
       "      <th>1</th>\n",
       "      <td>0</td>\n",
       "    </tr>\n",
       "  </tbody>\n",
       "</table>\n",
       "</div>"
      ],
      "text/plain": [
       "   1\n",
       "1  0"
      ]
     },
     "execution_count": 6,
     "metadata": {},
     "output_type": "execute_result"
    }
   ],
   "source": [
    "nx.to_pandas_dataframe(g)"
   ]
  },
  {
   "cell_type": "code",
   "execution_count": 36,
   "metadata": {
    "collapsed": false
   },
   "outputs": [
    {
     "data": {
      "text/html": [
       "<div>\n",
       "<table border=\"1\" class=\"dataframe\">\n",
       "  <thead>\n",
       "    <tr style=\"text-align: right;\">\n",
       "      <th></th>\n",
       "      <th>a</th>\n",
       "      <th>b</th>\n",
       "    </tr>\n",
       "  </thead>\n",
       "  <tbody>\n",
       "    <tr>\n",
       "      <th>0</th>\n",
       "      <td>apple</td>\n",
       "      <td>butt</td>\n",
       "    </tr>\n",
       "    <tr>\n",
       "      <th>1</th>\n",
       "      <td>avocado</td>\n",
       "      <td>butt</td>\n",
       "    </tr>\n",
       "  </tbody>\n",
       "</table>\n",
       "</div>"
      ],
      "text/plain": [
       "         a     b\n",
       "0    apple  butt\n",
       "1  avocado  butt"
      ]
     },
     "execution_count": 36,
     "metadata": {},
     "output_type": "execute_result"
    }
   ],
   "source": [
    "from pandas import DataFrame\n",
    "table = DataFrame(x[1] for x in g.nodes(data=True))\n",
    "table"
   ]
  },
  {
   "cell_type": "code",
   "execution_count": 23,
   "metadata": {
    "collapsed": false
   },
   "outputs": [],
   "source": [
    "g = nx.Graph()\n",
    "for index, row in table.iterrows():\n",
    "    g.add_node(index, dict(row))"
   ]
  },
  {
   "cell_type": "code",
   "execution_count": 22,
   "metadata": {
    "collapsed": false
   },
   "outputs": [
    {
     "data": {
      "text/plain": [
       "{'a': 'avocado'}"
      ]
     },
     "execution_count": 22,
     "metadata": {},
     "output_type": "execute_result"
    }
   ],
   "source": [
    "dict(row)"
   ]
  },
  {
   "cell_type": "code",
   "execution_count": 27,
   "metadata": {
    "collapsed": false
   },
   "outputs": [],
   "source": [
    "import inspect\n",
    "\n",
    "def f(infrastructure_table):\n",
    "    pass\n",
    "\n",
    "argument_specification = inspect.getargspec(f)"
   ]
  },
  {
   "cell_type": "code",
   "execution_count": 28,
   "metadata": {
    "collapsed": false
   },
   "outputs": [
    {
     "data": {
      "text/plain": [
       "ArgSpec(args=['infrastructure_table'], varargs=None, keywords=None, defaults=None)"
      ]
     },
     "execution_count": 28,
     "metadata": {},
     "output_type": "execute_result"
    }
   ],
   "source": [
    "argument_specification"
   ]
  },
  {
   "cell_type": "code",
   "execution_count": 32,
   "metadata": {
    "collapsed": false
   },
   "outputs": [],
   "source": [
    "from invisibleroads_macros.iterable import merge_dictionaries\n",
    "\n",
    "g = nx.Graph()\n",
    "for index, row in table.iterrows():\n",
    "    g.add_node(index, merge_dictionaries({'b': 'butt'}, row))"
   ]
  },
  {
   "cell_type": "code",
   "execution_count": 33,
   "metadata": {
    "collapsed": false
   },
   "outputs": [
    {
     "data": {
      "text/plain": [
       "<networkx.classes.graph.Graph at 0x7f67d4181490>"
      ]
     },
     "execution_count": 33,
     "metadata": {},
     "output_type": "execute_result"
    }
   ],
   "source": [
    "g"
   ]
  },
  {
   "cell_type": "code",
   "execution_count": 37,
   "metadata": {
    "collapsed": false
   },
   "outputs": [
    {
     "data": {
      "text/plain": [
       "'f'"
      ]
     },
     "execution_count": 37,
     "metadata": {},
     "output_type": "execute_result"
    }
   ],
   "source": [
    "f.func_name"
   ]
  },
  {
   "cell_type": "code",
   "execution_count": 1,
   "metadata": {
    "collapsed": false
   },
   "outputs": [
    {
     "data": {
      "text/html": [
       "<div>\n",
       "<table border=\"1\" class=\"dataframe\">\n",
       "  <thead>\n",
       "    <tr style=\"text-align: right;\">\n",
       "      <th></th>\n",
       "      <th>Name</th>\n",
       "      <th>Year</th>\n",
       "      <th>Population</th>\n",
       "    </tr>\n",
       "  </thead>\n",
       "  <tbody>\n",
       "    <tr>\n",
       "      <th>0</th>\n",
       "      <td>X</td>\n",
       "      <td>2008</td>\n",
       "      <td>1000</td>\n",
       "    </tr>\n",
       "    <tr>\n",
       "      <th>1</th>\n",
       "      <td>X</td>\n",
       "      <td>2009</td>\n",
       "      <td>2000</td>\n",
       "    </tr>\n",
       "    <tr>\n",
       "      <th>2</th>\n",
       "      <td>Y</td>\n",
       "      <td>2009</td>\n",
       "      <td>1500</td>\n",
       "    </tr>\n",
       "  </tbody>\n",
       "</table>\n",
       "</div>"
      ],
      "text/plain": [
       "  Name  Year Population\n",
       "0    X  2008       1000\n",
       "1    X  2009       2000\n",
       "2    Y  2009       1500"
      ]
     },
     "execution_count": 1,
     "metadata": {},
     "output_type": "execute_result"
    }
   ],
   "source": [
    "from pandas import DataFrame\n",
    "table = DataFrame([\n",
    "    ('X', '2008', '1000'),\n",
    "    ('X', '2009', '2000'),\n",
    "    ('Y', '2009', '1500'),\n",
    "], columns=['Name', 'Year', 'Population'])\n",
    "table"
   ]
  },
  {
   "cell_type": "code",
   "execution_count": 2,
   "metadata": {
    "collapsed": false
   },
   "outputs": [
    {
     "data": {
      "text/html": [
       "<div>\n",
       "<table border=\"1\" class=\"dataframe\">\n",
       "  <thead>\n",
       "    <tr style=\"text-align: right;\">\n",
       "      <th></th>\n",
       "      <th>Year</th>\n",
       "      <th>Population</th>\n",
       "    </tr>\n",
       "    <tr>\n",
       "      <th>Name</th>\n",
       "      <th></th>\n",
       "      <th></th>\n",
       "    </tr>\n",
       "  </thead>\n",
       "  <tbody>\n",
       "    <tr>\n",
       "      <th>X</th>\n",
       "      <td>2009</td>\n",
       "      <td>2000</td>\n",
       "    </tr>\n",
       "    <tr>\n",
       "      <th>Y</th>\n",
       "      <td>2009</td>\n",
       "      <td>1500</td>\n",
       "    </tr>\n",
       "  </tbody>\n",
       "</table>\n",
       "</div>"
      ],
      "text/plain": [
       "      Year Population\n",
       "Name                 \n",
       "X     2009       2000\n",
       "Y     2009       1500"
      ]
     },
     "execution_count": 2,
     "metadata": {},
     "output_type": "execute_result"
    }
   ],
   "source": [
    "g = table.sort('Year').groupby('Name')\n",
    "t = g.last()\n",
    "t"
   ]
  },
  {
   "cell_type": "code",
   "execution_count": 4,
   "metadata": {
    "collapsed": false
   },
   "outputs": [
    {
     "data": {
      "text/html": [
       "<div>\n",
       "<table border=\"1\" class=\"dataframe\">\n",
       "  <thead>\n",
       "    <tr style=\"text-align: right;\">\n",
       "      <th></th>\n",
       "      <th>Name</th>\n",
       "      <th>Year</th>\n",
       "      <th>Population</th>\n",
       "    </tr>\n",
       "  </thead>\n",
       "  <tbody>\n",
       "    <tr>\n",
       "      <th>0</th>\n",
       "      <td>X</td>\n",
       "      <td>2009</td>\n",
       "      <td>2000</td>\n",
       "    </tr>\n",
       "    <tr>\n",
       "      <th>1</th>\n",
       "      <td>Y</td>\n",
       "      <td>2009</td>\n",
       "      <td>1500</td>\n",
       "    </tr>\n",
       "  </tbody>\n",
       "</table>\n",
       "</div>"
      ],
      "text/plain": [
       "  Name  Year Population\n",
       "0    X  2009       2000\n",
       "1    Y  2009       1500"
      ]
     },
     "execution_count": 4,
     "metadata": {},
     "output_type": "execute_result"
    }
   ],
   "source": [
    "t.reset_index()"
   ]
  },
  {
   "cell_type": "code",
   "execution_count": 22,
   "metadata": {
    "collapsed": true
   },
   "outputs": [],
   "source": [
    "from geometryIO import load\n",
    "from os.path import join"
   ]
  },
  {
   "cell_type": "code",
   "execution_count": 23,
   "metadata": {
    "collapsed": true
   },
   "outputs": [],
   "source": [
    "source_folder = '/tmp/estimate-electricity-cost-by-technology-from-population/results/6'"
   ]
  },
  {
   "cell_type": "code",
   "execution_count": 24,
   "metadata": {
    "collapsed": false
   },
   "outputs": [
    {
     "name": "stdout",
     "output_type": "stream",
     "text": [
      "common_values.csv                           nodes.prj\r\n",
      "edges.dbf                                   nodes.shp\r\n",
      "edges.prj                                   nodes.shx\r\n",
      "edges.shp                                   result.cfg\r\n",
      "edges.shx                                   standard_error.log\r\n",
      "infrastructure.csv                          standard_output.log\r\n",
      "internal_discounted_cost_by_technology.csv  unique_values.csv\r\n",
      "internal_levelized_cost_by_technology.csv   unique_values_transposed.csv\r\n",
      "nodes.dbf                                   yearly_values.csv\r\n"
     ]
    }
   ],
   "source": [
    "ls $source_folder"
   ]
  },
  {
   "cell_type": "code",
   "execution_count": 25,
   "metadata": {
    "collapsed": true
   },
   "outputs": [],
   "source": [
    "nodes = load(join(source_folder, 'nodes.shp'))\n",
    "edges = load(join(source_folder, 'edges.shp'))"
   ]
  },
  {
   "cell_type": "code",
   "execution_count": 31,
   "metadata": {
    "collapsed": false
   },
   "outputs": [
    {
     "data": {
      "text/plain": [
       "[('FID', 12)]"
      ]
     },
     "execution_count": 31,
     "metadata": {},
     "output_type": "execute_result"
    }
   ],
   "source": [
    "nodes[3]"
   ]
  },
  {
   "cell_type": "code",
   "execution_count": 43,
   "metadata": {
    "collapsed": false
   },
   "outputs": [
    {
     "data": {
      "text/plain": [
       "[('346282.2310794288',), ('504782.8745282977',)]"
      ]
     },
     "execution_count": 43,
     "metadata": {},
     "output_type": "execute_result"
    }
   ],
   "source": [
    "edges[2]"
   ]
  },
  {
   "cell_type": "code",
   "execution_count": null,
   "metadata": {
    "collapsed": true
   },
   "outputs": [],
   "source": [
    "nodes[]"
   ]
  },
  {
   "cell_type": "code",
   "execution_count": 40,
   "metadata": {
    "collapsed": true
   },
   "outputs": [],
   "source": [
    "from pandas import DataFrame"
   ]
  },
  {
   "cell_type": "code",
   "execution_count": 42,
   "metadata": {
    "collapsed": false
   },
   "outputs": [
    {
     "data": {
      "text/plain": [
       "<pandas.core.groupby.DataFrameGroupBy object at 0x7f057eb53550>"
      ]
     },
     "execution_count": 42,
     "metadata": {},
     "output_type": "execute_result"
    }
   ],
   "source": []
  },
  {
   "cell_type": "code",
   "execution_count": 44,
   "metadata": {
    "collapsed": true
   },
   "outputs": [],
   "source": [
    "from shapely.geometry import LineString"
   ]
  },
  {
   "cell_type": "code",
   "execution_count": 45,
   "metadata": {
    "collapsed": true
   },
   "outputs": [],
   "source": [
    "LineString?"
   ]
  }
 ],
 "metadata": {
  "kernelspec": {
   "display_name": "Python 2",
   "language": "python",
   "name": "python2"
  },
  "language_info": {
   "codemirror_mode": {
    "name": "ipython",
    "version": 2
   },
   "file_extension": ".py",
   "mimetype": "text/x-python",
   "name": "python",
   "nbconvert_exporter": "python",
   "pygments_lexer": "ipython2",
   "version": "2.7.11"
  }
 },
 "nbformat": 4,
 "nbformat_minor": 0
}
