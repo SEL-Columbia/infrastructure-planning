{
 "cells": [
  {
   "cell_type": "code",
   "execution_count": null,
   "metadata": {
    "collapsed": true
   },
   "outputs": [],
   "source": [
    "{\n",
    "    \"demand_nodes\": {\n",
    "        \"filename\": \"data/max_100.csv\",\n",
    "        \"x_column\": \"X\",\n",
    "        \"y_column\": \"Y\", \n",
    "        \"budget_column\": \"mvmax\"\n",
    "    },\n",
    "    \"network_algorithm\": \"mod_boruvka\",\n",
    "    \"network_parameters\": {\n",
    "        \"minimum_node_count\": 2\n",
    "    }\n",
    "}"
   ]
  },
  {
   "cell_type": "code",
   "execution_count": null,
   "metadata": {
    "collapsed": true
   },
   "outputs": [],
   "source": [
    "# python scripts/run_networker.py test/networker_config_max100.json -o output\n",
    "\n",
    "import argparse\n",
    "import json\n",
    "import sys\n",
    "import os\n",
    "import networker\n",
    "import logging\n",
    "from networker import networker_runner\n",
    "\n",
    "# setup log\n",
    "logger = logging.getLogger('networker')\n",
    "\n",
    "logger.info(\"networker %s (Python %s)\" % (\n",
    "                networker.__version__,\n",
    "                '.'.join(map(str, sys.version_info[:3]))))\n",
    "\n",
    "parser = argparse.ArgumentParser(description=\"Run networker\")\n",
    "parser.add_argument(\"config_filename\",\n",
    "                    help=\"json config file for running networker\")\n",
    "parser.add_argument(\"--working_directory\", \"-w\", \\\n",
    "        default=\".\", \\\n",
    "        help=\"base directory which all input paths are relative to\")\n",
    "parser.add_argument(\"--output_directory\", \"-o\", \\\n",
    "        default=\".\", \\\n",
    "        help=\"directory where all output files will be written\")\n",
    "\n",
    "args = parser.parse_args()"
   ]
  },
  {
   "cell_type": "code",
   "execution_count": null,
   "metadata": {
    "collapsed": true
   },
   "outputs": [],
   "source": [
    "# switch working dir BEFORE loading config\n",
    "os.chdir(args.working_directory)\n",
    "cfg = json.load(open(args.config_filename))\n",
    "nwk = networker_runner.NetworkerRunner(cfg, args.output_directory)\n",
    "\n",
    "nwk.validate()\n",
    "nwk.run()\n",
    "\n",
    "\n",
    "from sequencer import NetworkPlan\n",
    "from sequencer.Models import EnergyMaximizeReturn\n",
    "\n",
    "from os.path import join\n",
    "source_folder = 'data/sumaila/input'\n",
    "\n",
    "csv = join(source_folder, 'metrics-local.csv')\n",
    "shp = join(source_folder, 'networks-proposed.shp')\n",
    "\n",
    "nwp = NetworkPlan(shp, csv, prioritize='Population')\n",
    "model = EnergyMaximizeReturn(nwp)\n",
    "\n",
    "results = model.sequence()\n",
    "target_folder = 'xyz'\n",
    "\n",
    "from os import makedirs\n",
    "try:\n",
    "    makedirs(target_folder)\n",
    "except OSError:\n",
    "    pass\n",
    "\n",
    "model.output(target_folder)"
   ]
  }
 ],
 "metadata": {
  "kernelspec": {
   "display_name": "Python 2",
   "language": "python",
   "name": "python2"
  },
  "language_info": {
   "codemirror_mode": {
    "name": "ipython",
    "version": 2
   },
   "file_extension": ".py",
   "mimetype": "text/x-python",
   "name": "python",
   "nbconvert_exporter": "python",
   "pygments_lexer": "ipython2",
   "version": "2.7.10"
  }
 },
 "nbformat": 4,
 "nbformat_minor": 0
}
