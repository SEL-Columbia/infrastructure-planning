{
 "cells": [
  {
   "cell_type": "code",
   "execution_count": 1,
   "metadata": {
    "collapsed": true
   },
   "outputs": [],
   "source": [
    "from os.path import expanduser\n",
    "\n",
    "source_node_path = expanduser('~/Projects/networker/data/max_100.csv')\n",
    "# source_network_path\n",
    "target_network_folder = '/tmp/networker'"
   ]
  },
  {
   "cell_type": "code",
   "execution_count": 2,
   "metadata": {
    "collapsed": false
   },
   "outputs": [],
   "source": [
    "cfg = {\n",
    "    'demand_nodes': {\n",
    "        'filename': source_node_path,\n",
    "        'x_column': 'X',\n",
    "        'y_column': 'Y', \n",
    "        'budget_column': 'mvmax',\n",
    "    },\n",
    "    'network_algorithm': 'mod_boruvka',\n",
    "    'network_parameters': {\n",
    "        'minimum_node_count': 2,\n",
    "    }\n",
    "}"
   ]
  },
  {
   "cell_type": "code",
   "execution_count": 3,
   "metadata": {
    "collapsed": false
   },
   "outputs": [
    {
     "name": "stderr",
     "output_type": "stream",
     "text": [
      "2016-04-05 15:41:09,596 - networker - INFO - building network\n",
      "2016-04-05 15:41:09,597 - networker - INFO - running mod_boruvka on 100 demand nodes and 100 total nodes\n",
      "2016-04-05 15:41:09,998 - networker - INFO - filtered result has 99 nodes and 98 edges\n",
      "2016-04-05 15:41:09,999 - networker - INFO - writing output\n"
     ]
    },
    {
     "name": "stdout",
     "output_type": "stream",
     "text": [
      "Couldn't import dot_parser, loading of dot files will not be possible.\n"
     ]
    }
   ],
   "source": [
    "from networker.networker_runner import NetworkerRunner\n",
    "nwk = NetworkerRunner(cfg, target_network_folder)\n",
    "nwk.validate()\n",
    "nwk.run()"
   ]
  },
  {
   "cell_type": "code",
   "execution_count": 11,
   "metadata": {
    "collapsed": false
   },
   "outputs": [
    {
     "name": "stdout",
     "output_type": "stream",
     "text": [
      "check-locals.ipynb\r\n",
      "estimate-diesel-mini-grid-cost.ipynb\r\n",
      "estimate-diesel-mini-grid-fuel-cost.ipynb\r\n",
      "estimate-electricity-grid-internal-system-nodal-levelized-cost.ipynb\r\n",
      "estimate-low-voltage-transformer-system-capacity.ipynb\r\n",
      "estimate-network-cost.ipynb\r\n",
      "estimate-pre-network-grid-cost.ipynb\r\n",
      "estimate-pre-network-technology-cost.ipynb\r\n",
      "np-cost-grid.py\r\n",
      "sift-common-values.ipynb\r\n"
     ]
    }
   ],
   "source": [
    "ls $target_folder"
   ]
  },
  {
   "cell_type": "code",
   "execution_count": 4,
   "metadata": {
    "collapsed": false
   },
   "outputs": [
    {
     "name": "stderr",
     "output_type": "stream",
     "text": [
      "2016-04-05 15:41:18,847 - sequencer - INFO - Asserting Input Projections Match\n",
      "2016-04-05 15:41:18,894 - sequencer - INFO - Aligning Network Nodes With Input Metrics\n",
      "/home/rhh/Projects/sequencer/sequencer/Utils.py:52: FutureWarning: sort(....) is deprecated, use sort_index(.....)\n",
      "  metrics = pd.merge(metrics, node_df, on='m_coords', left_index=True).sort()\n",
      "/home/rhh/Projects/sequencer/sequencer/Utils.py:61: SettingWithCopyWarning: \n",
      "A value is trying to be set on a copy of a slice from a DataFrame.\n",
      "Try using .loc[row_indexer,col_indexer] = value instead\n",
      "\n",
      "See the caveats in the documentation: http://pandas.pydata.org/pandas-docs/stable/indexing.html#indexing-view-versus-copy\n",
      "  fake_nodes['m_coords'] = fake_nodes['m_coords'].apply(lambda x: ())\n",
      "/home/rhh/Projects/sequencer/sequencer/Utils.py:64: FutureWarning: sort(....) is deprecated, use sort_index(.....)\n",
      "  metrics = pd.concat([closest_match, fake_nodes]).sort()\n",
      "2016-04-05 15:41:19,117 - sequencer - INFO - Computing Pairwise Distances\n",
      "2016-04-05 15:41:19,118 - sequencer - INFO - Using haversine Distance\n",
      "2016-04-05 15:41:19,129 - sequencer - ERROR - Dataset Contains Edges, Less Than 0.5 Meters! \n",
      "                          This can result in incorrect alignment of metrics and network, \n",
      "                          where fake nodes are incorrectly assigned metrics. \n",
      "                          This error is resolved by buffering your input data.\n",
      "2016-04-05 15:41:19,130 - sequencer - INFO - Directing Network Away From Roots\n",
      "2016-04-05 15:41:19,142 - sequencer - INFO - Directing SUBGRAPH 1 / 52\n",
      "/home/rhh/Projects/sequencer/sequencer/NetworkPlan.py:159: FutureWarning: using '-' to provide set differences with Indexes is deprecated, use .difference()\n",
      "  non_positional = self.metrics[self.metrics.columns - ['X', 'Y', 'coords', 'm_coords']].ix[nodes]\n",
      "2016-04-05 15:41:19,146 - sequencer - INFO - DONE!\n",
      "2016-04-05 15:41:19,147 - sequencer - INFO - Directing SUBGRAPH 2 / 52\n",
      "2016-04-05 15:41:19,150 - sequencer - INFO - DONE!\n",
      "2016-04-05 15:41:19,151 - sequencer - INFO - Directing SUBGRAPH 3 / 52\n",
      "2016-04-05 15:41:19,155 - sequencer - INFO - DONE!\n",
      "2016-04-05 15:41:19,155 - sequencer - INFO - Directing SUBGRAPH 4 / 52\n",
      "2016-04-05 15:41:19,158 - sequencer - INFO - DONE!\n",
      "2016-04-05 15:41:19,159 - sequencer - INFO - Directing SUBGRAPH 5 / 52\n",
      "2016-04-05 15:41:19,161 - sequencer - INFO - DONE!\n",
      "2016-04-05 15:41:19,162 - sequencer - INFO - Directing SUBGRAPH 6 / 52\n",
      "2016-04-05 15:41:19,165 - sequencer - INFO - DONE!\n",
      "2016-04-05 15:41:19,166 - sequencer - INFO - Directing SUBGRAPH 7 / 52\n",
      "2016-04-05 15:41:19,169 - sequencer - INFO - DONE!\n",
      "2016-04-05 15:41:19,169 - sequencer - INFO - Directing SUBGRAPH 8 / 52\n",
      "2016-04-05 15:41:19,172 - sequencer - INFO - DONE!\n",
      "2016-04-05 15:41:19,173 - sequencer - INFO - Directing SUBGRAPH 9 / 52\n",
      "2016-04-05 15:41:19,175 - sequencer - INFO - DONE!\n",
      "2016-04-05 15:41:19,176 - sequencer - INFO - Directing SUBGRAPH 10 / 52\n",
      "2016-04-05 15:41:19,179 - sequencer - INFO - DONE!\n",
      "2016-04-05 15:41:19,179 - sequencer - INFO - Directing SUBGRAPH 11 / 52\n",
      "2016-04-05 15:41:19,182 - sequencer - INFO - DONE!\n",
      "2016-04-05 15:41:19,183 - sequencer - INFO - Directing SUBGRAPH 12 / 52\n",
      "2016-04-05 15:41:19,186 - sequencer - INFO - DONE!\n",
      "2016-04-05 15:41:19,186 - sequencer - INFO - Directing SUBGRAPH 13 / 52\n",
      "2016-04-05 15:41:19,190 - sequencer - INFO - DONE!\n",
      "2016-04-05 15:41:19,190 - sequencer - INFO - Directing SUBGRAPH 14 / 52\n",
      "2016-04-05 15:41:19,193 - sequencer - INFO - DONE!\n",
      "2016-04-05 15:41:19,193 - sequencer - INFO - Directing SUBGRAPH 15 / 52\n",
      "2016-04-05 15:41:19,196 - sequencer - INFO - DONE!\n",
      "2016-04-05 15:41:19,197 - sequencer - INFO - Directing SUBGRAPH 16 / 52\n",
      "2016-04-05 15:41:19,200 - sequencer - INFO - DONE!\n",
      "2016-04-05 15:41:19,200 - sequencer - INFO - Directing SUBGRAPH 17 / 52\n",
      "2016-04-05 15:41:19,203 - sequencer - INFO - DONE!\n",
      "2016-04-05 15:41:19,203 - sequencer - INFO - Directing SUBGRAPH 18 / 52\n",
      "2016-04-05 15:41:19,206 - sequencer - INFO - DONE!\n",
      "2016-04-05 15:41:19,207 - sequencer - INFO - Directing SUBGRAPH 19 / 52\n",
      "2016-04-05 15:41:19,210 - sequencer - INFO - DONE!\n",
      "2016-04-05 15:41:19,210 - sequencer - INFO - Directing SUBGRAPH 20 / 52\n",
      "2016-04-05 15:41:19,213 - sequencer - INFO - DONE!\n",
      "2016-04-05 15:41:19,213 - sequencer - INFO - Directing SUBGRAPH 21 / 52\n",
      "2016-04-05 15:41:19,216 - sequencer - INFO - DONE!\n",
      "2016-04-05 15:41:19,217 - sequencer - INFO - Directing SUBGRAPH 22 / 52\n",
      "2016-04-05 15:41:19,220 - sequencer - INFO - DONE!\n",
      "2016-04-05 15:41:19,221 - sequencer - INFO - Directing SUBGRAPH 23 / 52\n",
      "2016-04-05 15:41:19,225 - sequencer - INFO - DONE!\n",
      "2016-04-05 15:41:19,225 - sequencer - INFO - Directing SUBGRAPH 24 / 52\n",
      "2016-04-05 15:41:19,228 - sequencer - INFO - DONE!\n",
      "2016-04-05 15:41:19,229 - sequencer - INFO - Directing SUBGRAPH 25 / 52\n",
      "2016-04-05 15:41:19,233 - sequencer - INFO - DONE!\n",
      "2016-04-05 15:41:19,233 - sequencer - INFO - Directing SUBGRAPH 26 / 52\n",
      "2016-04-05 15:41:19,236 - sequencer - INFO - DONE!\n",
      "2016-04-05 15:41:19,236 - sequencer - INFO - Directing SUBGRAPH 27 / 52\n",
      "2016-04-05 15:41:19,239 - sequencer - INFO - DONE!\n",
      "2016-04-05 15:41:19,240 - sequencer - INFO - Directing SUBGRAPH 28 / 52\n",
      "2016-04-05 15:41:19,243 - sequencer - INFO - DONE!\n",
      "2016-04-05 15:41:19,243 - sequencer - INFO - Directing SUBGRAPH 29 / 52\n",
      "2016-04-05 15:41:19,247 - sequencer - INFO - DONE!\n",
      "2016-04-05 15:41:19,248 - sequencer - INFO - Directing SUBGRAPH 30 / 52\n",
      "2016-04-05 15:41:19,251 - sequencer - INFO - DONE!\n",
      "2016-04-05 15:41:19,251 - sequencer - INFO - Directing SUBGRAPH 31 / 52\n",
      "2016-04-05 15:41:19,254 - sequencer - INFO - DONE!\n",
      "2016-04-05 15:41:19,255 - sequencer - INFO - Directing SUBGRAPH 32 / 52\n",
      "2016-04-05 15:41:19,258 - sequencer - INFO - DONE!\n",
      "2016-04-05 15:41:19,258 - sequencer - INFO - Directing SUBGRAPH 33 / 52\n",
      "2016-04-05 15:41:19,261 - sequencer - INFO - DONE!\n",
      "2016-04-05 15:41:19,261 - sequencer - INFO - Directing SUBGRAPH 34 / 52\n",
      "2016-04-05 15:41:19,264 - sequencer - INFO - DONE!\n",
      "2016-04-05 15:41:19,265 - sequencer - INFO - Directing SUBGRAPH 35 / 52\n",
      "2016-04-05 15:41:19,268 - sequencer - INFO - DONE!\n",
      "2016-04-05 15:41:19,268 - sequencer - INFO - Directing SUBGRAPH 36 / 52\n",
      "2016-04-05 15:41:19,271 - sequencer - INFO - DONE!\n",
      "2016-04-05 15:41:19,272 - sequencer - INFO - Directing SUBGRAPH 37 / 52\n",
      "2016-04-05 15:41:19,274 - sequencer - INFO - DONE!\n",
      "2016-04-05 15:41:19,275 - sequencer - INFO - Directing SUBGRAPH 38 / 52\n",
      "2016-04-05 15:41:19,278 - sequencer - INFO - DONE!\n",
      "2016-04-05 15:41:19,278 - sequencer - INFO - Directing SUBGRAPH 39 / 52\n",
      "2016-04-05 15:41:19,281 - sequencer - INFO - DONE!\n",
      "2016-04-05 15:41:19,282 - sequencer - INFO - Directing SUBGRAPH 40 / 52\n",
      "2016-04-05 15:41:19,285 - sequencer - INFO - DONE!\n",
      "2016-04-05 15:41:19,285 - sequencer - INFO - Directing SUBGRAPH 41 / 52\n",
      "2016-04-05 15:41:19,288 - sequencer - INFO - DONE!\n",
      "2016-04-05 15:41:19,289 - sequencer - INFO - Directing SUBGRAPH 42 / 52\n",
      "2016-04-05 15:41:19,291 - sequencer - INFO - DONE!\n",
      "2016-04-05 15:41:19,292 - sequencer - INFO - Directing SUBGRAPH 43 / 52\n",
      "2016-04-05 15:41:19,295 - sequencer - INFO - DONE!\n",
      "2016-04-05 15:41:19,295 - sequencer - INFO - Directing SUBGRAPH 44 / 52\n",
      "2016-04-05 15:41:19,298 - sequencer - INFO - DONE!\n",
      "2016-04-05 15:41:19,299 - sequencer - INFO - Directing SUBGRAPH 45 / 52\n",
      "2016-04-05 15:41:19,302 - sequencer - INFO - DONE!\n",
      "2016-04-05 15:41:19,303 - sequencer - INFO - Directing SUBGRAPH 46 / 52\n",
      "2016-04-05 15:41:19,306 - sequencer - INFO - DONE!\n",
      "2016-04-05 15:41:19,306 - sequencer - INFO - Directing SUBGRAPH 47 / 52\n",
      "2016-04-05 15:41:19,309 - sequencer - INFO - DONE!\n",
      "2016-04-05 15:41:19,310 - sequencer - INFO - Directing SUBGRAPH 48 / 52\n",
      "2016-04-05 15:41:19,313 - sequencer - INFO - DONE!\n",
      "2016-04-05 15:41:19,314 - sequencer - INFO - Directing SUBGRAPH 49 / 52\n",
      "2016-04-05 15:41:19,317 - sequencer - INFO - DONE!\n",
      "2016-04-05 15:41:19,318 - sequencer - INFO - Directing SUBGRAPH 50 / 52\n",
      "2016-04-05 15:41:19,321 - sequencer - INFO - DONE!\n",
      "2016-04-05 15:41:19,321 - sequencer - INFO - Directing SUBGRAPH 51 / 52\n",
      "2016-04-05 15:41:19,325 - sequencer - INFO - DONE!\n",
      "2016-04-05 15:41:19,325 - sequencer - INFO - Directing SUBGRAPH 52 / 52\n",
      "2016-04-05 15:41:19,329 - sequencer - INFO - DONE!\n",
      "2016-04-05 15:41:19,361 - sequencer - INFO - Converting The Network to a HashMap (Warning: this is time consuming for large Networks)\n",
      "2016-04-05 15:41:19,363 - sequencer - INFO - Traversing The Input Network and Computing Decision Frontier\n"
     ]
    },
    {
     "name": "stdout",
     "output_type": "stream",
     "text": [
      "\n",
      "[                                       1.35%                                       ]\n",
      "[##                                     4.05%                                       ]\n",
      "[##                                     5.41%                                       ]\n",
      "[####                                   6.76%                                       ]\n",
      "[######                                 8.56%                                       ]\n",
      "[######                                 9.91%                                       ]\n",
      "[######                                 10.81%                                       ]\n",
      "[##############                         18.47%                                       ]\n",
      "[##############                         19.82%                                       ]\n",
      "[##############                         20.72%                                       ]\n",
      "[################                       21.62%                                       ]\n",
      "[################                       22.52%                                       ]\n",
      "[##################                     23.42%                                       ]\n",
      "[##################                     24.77%                                       ]\n",
      "[##################                     25.68%                                       ]\n",
      "[####################                   26.58%                                       ]\n",
      "[####################                   27.48%                                       ]\n",
      "[######################                 28.38%                                       ]\n",
      "[###################################### 53.60% ##                                    ]\n",
      "[###################################### 55.41% ####                                  ]\n",
      "[###################################### 56.31% ####                                  ]\n",
      "[###################################### 57.21% ####                                  ]\n",
      "[###################################### 59.91% ######                                ]\n",
      "[###################################### 60.81% ########                              ]\n",
      "[###################################### 61.71% ########                              ]\n",
      "[###################################### 63.96% ##########                            ]\n",
      "[###################################### 65.32% ############                          ]\n",
      "[###################################### 66.67% ############                          ]\n",
      "[###################################### 67.57% ############                          ]\n",
      "[###################################### 68.92% ##############                        ]\n",
      "[###################################### 69.82% ##############                        ]\n",
      "[###################################### 70.72% ################                      ]\n",
      "[###################################### 71.62% ################                      ]\n",
      "[###################################### 75.68% ####################                  ]\n",
      "[###################################### 76.58% ####################                  ]\n",
      "[###################################### 77.93% ####################                  ]\n",
      "[###################################### 78.83% ######################                ]\n",
      "[###################################### 79.73% ######################                ]\n",
      "[###################################### 80.63% ########################              ]\n",
      "[###################################### 81.98% ########################              ]\n",
      "[###################################### 84.23% ##########################            ]\n",
      "[###################################### 86.04% ############################          ]\n",
      "[###################################### 86.94% ############################          ]\n",
      "[###################################### 89.64% ##############################        ]\n",
      "[###################################### 91.44% ################################      ]\n",
      "[###################################### 92.34% ################################      ]\n",
      "[###################################### 93.24% ##################################    ]\n",
      "[###################################### 94.14% ##################################    ]\n",
      "[###################################### 95.50% ####################################  ]\n",
      "[###################################### 97.75% ####################################  ]\n",
      "[###################################### 98.65% ######################################]\n",
      "[###################################### 100.00% ######################################]\n",
      "Solving Frontier of n = 52\n",
      "Solving Frontier of n = 52\n",
      "Solving Frontier of n = 51\n",
      "Solving Frontier of n = 51\n",
      "Solving Frontier of n = 50\n",
      "Solving Frontier of n = 50\n",
      "Solving Frontier of n = 49\n",
      "Solving Frontier of n = 49\n",
      "Solving Frontier of n = 48\n",
      "Solving Frontier of n = 48\n",
      "Solving Frontier of n = 48\n",
      "Solving Frontier of n = 47\n",
      "Solving Frontier of n = 47\n",
      "Solving Frontier of n = 47\n",
      "Solving Frontier of n = 46\n",
      "Solving Frontier of n = 46\n",
      "Solving Frontier of n = 46\n",
      "Solving Frontier of n = 46\n",
      "Solving Frontier of n = 46\n",
      "Solving Frontier of n = 45\n",
      "Solving Frontier of n = 45\n",
      "Solving Frontier of n = 45\n",
      "Solving Frontier of n = 45\n",
      "Solving Frontier of n = 46\n",
      "Solving Frontier of n = 45\n",
      "Solving Frontier of n = 44\n",
      "Solving Frontier of n = 44\n",
      "Solving Frontier of n = 43\n",
      "Solving Frontier of n = 43\n",
      "Solving Frontier of n = 43\n",
      "Solving Frontier of n = 43\n",
      "Solving Frontier of n = 43\n",
      "Solving Frontier of n = 42\n",
      "Solving Frontier of n = 42\n",
      "Solving Frontier of n = 41\n",
      "Solving Frontier of n = 41\n",
      "Solving Frontier of n = 41\n",
      "Solving Frontier of n = 40\n",
      "Solving Frontier of n = 40\n",
      "Solving Frontier of n = 40\n",
      "Solving Frontier of n = 39\n",
      "Solving Frontier of n = 39\n",
      "Solving Frontier of n = 39\n",
      "Solving Frontier of n = 38\n",
      "Solving Frontier of n = 38\n",
      "Solving Frontier of n = 38\n",
      "Solving Frontier of n = 37\n",
      "Solving Frontier of n = 37\n",
      "Solving Frontier of n = 36\n",
      "Solving Frontier of n = 36\n",
      "Solving Frontier of n = 35\n",
      "Solving Frontier of n = 35\n",
      "Solving Frontier of n = 34\n",
      "Solving Frontier of n = 34\n",
      "Solving Frontier of n = 34\n",
      "Solving Frontier of n = 33\n",
      "Solving Frontier of n = 33\n",
      "Solving Frontier of n = 33\n",
      "Solving Frontier of n = 33\n",
      "Solving Frontier of n = 32\n",
      "Solving Frontier of n = 32\n",
      "Solving Frontier of n = 32\n",
      "Solving Frontier of n = 31\n",
      "Solving Frontier of n = 31\n",
      "Solving Frontier of n = 31\n",
      "Solving Frontier of n = 31\n",
      "Solving Frontier of n = 31\n",
      "Solving Frontier of n = 30\n",
      "Solving Frontier of n = 30\n",
      "Solving Frontier of n = 29\n",
      "Solving Frontier of n = 29\n",
      "Solving Frontier of n = 28\n",
      "Solving Frontier of n = 28\n",
      "Solving Frontier of n = 27\n",
      "Solving Frontier of n = 27\n",
      "Solving Frontier of n = 26\n",
      "Solving Frontier of n = 26\n",
      "Solving Frontier of n = 25\n",
      "Solving Frontier of n = 25\n",
      "Solving Frontier of n = 24\n",
      "Solving Frontier of n = 24\n",
      "Solving Frontier of n = 24\n",
      "Solving Frontier of n = 23\n",
      "Solving Frontier of n = 23\n",
      "Solving Frontier of n = 22\n",
      "Solving Frontier of n = 22\n",
      "Solving Frontier of n = 21\n",
      "Solving Frontier of n = 21\n",
      "Solving Frontier of n = 20\n",
      "Solving Frontier of n = 20\n",
      "Solving Frontier of n = 19\n",
      "Solving Frontier of n = 20\n",
      "Solving Frontier of n = 20\n",
      "Solving Frontier of n = 19\n",
      "Solving Frontier of n = 19\n",
      "Solving Frontier of n = 18\n",
      "Solving Frontier of n = 18\n",
      "Solving Frontier of n = 17\n",
      "Solving Frontier of n = 17\n",
      "Solving Frontier of n = 17\n",
      "Solving Frontier of n = 16\n",
      "Solving Frontier of n = 16\n",
      "Solving Frontier of n = 16\n",
      "Solving Frontier of n = 16\n",
      "Solving Frontier of n = 16\n",
      "Solving Frontier of n = 17\n",
      "Solving Frontier of n = 16\n",
      "Solving Frontier of n = 16\n",
      "Solving Frontier of n = 16\n",
      "Solving Frontier of n = 15\n",
      "Solving Frontier of n = 15\n",
      "Solving Frontier of n = 15\n",
      "Solving Frontier of n = 15\n",
      "Solving Frontier of n = 15\n",
      "Solving Frontier of n = 14\n",
      "Solving Frontier of n = 14\n",
      "Solving Frontier of n = 14\n",
      "Solving Frontier of n = 14\n",
      "Solving Frontier of n = 15\n",
      "Solving Frontier of n = 15\n",
      "Solving Frontier of n = 15\n",
      "Solving Frontier of n = 15\n",
      "Solving Frontier of n = 14\n",
      "Solving Frontier of n = 15\n",
      "Solving Frontier of n = 14\n",
      "Solving Frontier of n = 14\n",
      "Solving Frontier of n = 13\n",
      "Solving Frontier of n = 13\n",
      "Solving Frontier of n = 13\n",
      "Solving Frontier of n = 13\n",
      "Solving Frontier of n = 13\n",
      "Solving Frontier of n = 13\n",
      "Solving Frontier of n = 13\n",
      "Solving Frontier of n = 12\n",
      "Solving Frontier of n = 12\n",
      "Solving Frontier of n = 12\n",
      "Solving Frontier of n = 12\n",
      "Solving Frontier of n = 12\n",
      "Solving Frontier of n = 12\n",
      "Solving Frontier of n = 13\n",
      "Solving Frontier of n = 12\n",
      "Solving Frontier of n = 13\n",
      "Solving Frontier of n = 13\n",
      "Solving Frontier of n = 14\n",
      "Solving Frontier of n = 13\n",
      "Solving Frontier of n = 14\n",
      "Solving Frontier of n = 14\n",
      "Solving Frontier of n = 14\n",
      "Solving Frontier of n = 15\n",
      "Solving Frontier of n = 15\n",
      "Solving Frontier of n = 15\n",
      "Solving Frontier of n = 14\n",
      "Solving Frontier of n = 13\n",
      "Solving Frontier of n = 13\n",
      "Solving Frontier of n = 13\n",
      "Solving Frontier of n = 12\n",
      "Solving Frontier of n = 12\n",
      "Solving Frontier of n = 11\n",
      "Solving Frontier of n = 11\n",
      "Solving Frontier of n = 11\n",
      "Solving Frontier of n = 11\n",
      "Solving Frontier of n = 11\n",
      "Solving Frontier of n = 12\n",
      "Solving Frontier of n = 12\n",
      "Solving Frontier of n = 12\n",
      "Solving Frontier of n = 12\n",
      "Solving Frontier of n = 12\n",
      "Solving Frontier of n = 12\n",
      "Solving Frontier of n = 12\n",
      "Solving Frontier of n = 12\n",
      "Solving Frontier of n = 12\n",
      "Solving Frontier of n = 12\n",
      "Solving Frontier of n = 11\n",
      "Solving Frontier of n = 12\n",
      "Solving Frontier of n = 12\n",
      "Solving Frontier of n = 14\n",
      "Solving Frontier of n = 15\n",
      "Solving Frontier of n = 16\n",
      "Solving Frontier of n = 15\n",
      "Solving Frontier of n = 15\n",
      "Solving Frontier of n = 14\n",
      "Solving Frontier of n = 13\n",
      "Solving Frontier of n = 12\n",
      "Solving Frontier of n = 12\n",
      "Solving Frontier of n = 12\n",
      "Solving Frontier of n = 12\n",
      "Solving Frontier of n = 12\n",
      "Solving Frontier of n = 12\n",
      "Solving Frontier of n = 12\n",
      "Solving Frontier of n = 11\n",
      "Solving Frontier of n = 11\n",
      "Solving Frontier of n = 10\n",
      "Solving Frontier of n = 11\n",
      "Solving Frontier of n = 12\n",
      "Solving Frontier of n = 11\n",
      "Solving Frontier of n = 11\n",
      "Solving Frontier of n = 10\n",
      "Solving Frontier of n = 10\n",
      "Solving Frontier of n = 9\n",
      "Solving Frontier of n = 8\n",
      "Solving Frontier of n = 8\n",
      "Solving Frontier of n = 7\n",
      "Solving Frontier of n = 8\n",
      "Solving Frontier of n = 8\n",
      "Solving Frontier of n = 7\n",
      "Solving Frontier of n = 7\n",
      "Solving Frontier of n = 7\n",
      "Solving Frontier of n = 6\n",
      "Solving Frontier of n = 6\n",
      "Solving Frontier of n = 5\n",
      "Solving Frontier of n = 5\n",
      "Solving Frontier of n = 5\n",
      "Solving Frontier of n = 5\n",
      "Solving Frontier of n = 5\n",
      "Solving Frontier of n = 5\n",
      "Solving Frontier of n = 5\n",
      "Solving Frontier of n = 5\n",
      "Solving Frontier of n = 4\n",
      "Solving Frontier of n = 4\n",
      "Solving Frontier of n = 3\n",
      "Solving Frontier of n = 2\n",
      "Solving Frontier of n = 1\n"
     ]
    },
    {
     "name": "stderr",
     "output_type": "stream",
     "text": [
      "2016-04-05 15:41:19,654 - sequencer - INFO - Joining Sequencer Results on Input Metrics\n",
      "/home/rhh/Projects/sequencer/sequencer/Sequencer.py:299: FutureWarning: using '-' to provide set differences with Indexes is deprecated, use .difference()\n",
      "  cols_to_join_on = (sequenced_metrics.columns - orig.columns).tolist() + ['m_coords']\n",
      "2016-04-05 15:41:19,755 - sequencer - INFO - DONE!\n"
     ]
    }
   ],
   "source": [
    "from os.path import join\n",
    "from sequencer import NetworkPlan\n",
    "from sequencer.Models import EnergyMaximizeReturn\n",
    "\n",
    "source_folder = expanduser('~/Projects/sequencer/data/sumaila/input')\n",
    "csv = join(source_folder, 'metrics-local.csv')\n",
    "# shp = join(target_network_folder, 'edges.shp')\n",
    "shp = join(source_folder, 'networks-proposed.shp')\n",
    "nwp = NetworkPlan(shp, csv, prioritize='Population')\n",
    "model = EnergyMaximizeReturn(nwp)\n",
    "results = model.sequence()"
   ]
  },
  {
   "cell_type": "code",
   "execution_count": 5,
   "metadata": {
    "collapsed": false
   },
   "outputs": [
    {
     "ename": "NameError",
     "evalue": "name 'target_folder' is not defined",
     "output_type": "error",
     "traceback": [
      "\u001b[1;31m---------------------------------------------------------------------------\u001b[0m",
      "\u001b[1;31mNameError\u001b[0m                                 Traceback (most recent call last)",
      "\u001b[1;32m<ipython-input-5-4cc47cbe210c>\u001b[0m in \u001b[0;36m<module>\u001b[1;34m()\u001b[0m\n\u001b[0;32m      2\u001b[0m \u001b[1;33m\u001b[0m\u001b[0m\n\u001b[0;32m      3\u001b[0m \u001b[0mtarget_sequence_folder\u001b[0m \u001b[1;33m=\u001b[0m \u001b[0mmake_folder\u001b[0m\u001b[1;33m(\u001b[0m\u001b[1;34m'/tmp/sequencer'\u001b[0m\u001b[1;33m)\u001b[0m\u001b[1;33m\u001b[0m\u001b[0m\n\u001b[1;32m----> 4\u001b[1;33m \u001b[0mmodel\u001b[0m\u001b[1;33m.\u001b[0m\u001b[0moutput\u001b[0m\u001b[1;33m(\u001b[0m\u001b[0mtarget_folder\u001b[0m\u001b[1;33m)\u001b[0m\u001b[1;33m\u001b[0m\u001b[0m\n\u001b[0m",
      "\u001b[1;31mNameError\u001b[0m: name 'target_folder' is not defined"
     ]
    }
   ],
   "source": [
    "from invisibleroads_macros.disk import make_folder\n",
    "\n",
    "target_sequence_folder = make_folder('/tmp/sequencer')\n",
    "model.output(target_folder)"
   ]
  },
  {
   "cell_type": "code",
   "execution_count": null,
   "metadata": {
    "collapsed": true
   },
   "outputs": [],
   "source": []
  },
  {
   "cell_type": "code",
   "execution_count": 3,
   "metadata": {
    "collapsed": true
   },
   "outputs": [],
   "source": [
    "from os.path import expanduser\n",
    "\n",
    "geometry1_path = expanduser('~/Projects/sequencer/data/sumaila/input/networks-proposed.shp')\n",
    "geometry2_path = '/tmp/networker/edges.shp'\n",
    "geometry3_path = '/tmp/networker/nodes.shp'"
   ]
  },
  {
   "cell_type": "code",
   "execution_count": null,
   "metadata": {
    "collapsed": true
   },
   "outputs": [],
   "source": []
  },
  {
   "cell_type": "code",
   "execution_count": 4,
   "metadata": {
    "collapsed": false
   },
   "outputs": [
    {
     "name": "stdout",
     "output_type": "stream",
     "text": [
      "+proj=longlat +datum=WGS84 +no_defs \n",
      "[<shapely.geometry.linestring.LineString object at 0x7f75a654e990>, <shapely.geometry.linestring.LineString object at 0x7f75a654ea90>]\n",
      "[(0,), (1,)]\n",
      "[('FID', 12)]\n"
     ]
    }
   ],
   "source": [
    "from geometryIO import load\n",
    "a, b, c, d = load(geometry1_path)\n",
    "print a\n",
    "print b[:2]\n",
    "print c[:2]\n",
    "print d"
   ]
  },
  {
   "cell_type": "code",
   "execution_count": 5,
   "metadata": {
    "collapsed": false
   },
   "outputs": [
    {
     "data": {
      "image/svg+xml": [
       "<svg xmlns=\"http://www.w3.org/2000/svg\" xmlns:xlink=\"http://www.w3.org/1999/xlink\" width=\"100.0\" height=\"100.0\" viewBox=\"8.857061654 11.279409166 0.001743988 0.002419038\" preserveAspectRatio=\"xMinYMin meet\"><g transform=\"matrix(1,0,0,-1,0,22.56123737)\"><polyline fill=\"none\" stroke=\"#66cc99\" stroke-width=\"4.838076e-05\" points=\"8.857151248,11.28173861 8.858716048,11.27949876\" opacity=\"0.8\" /></g></svg>"
      ],
      "text/plain": [
       "<shapely.geometry.linestring.LineString at 0x7f75a654e990>"
      ]
     },
     "execution_count": 5,
     "metadata": {},
     "output_type": "execute_result"
    }
   ],
   "source": [
    "b[0]"
   ]
  },
  {
   "cell_type": "code",
   "execution_count": 6,
   "metadata": {
    "collapsed": false
   },
   "outputs": [
    {
     "ename": "GeometryError",
     "evalue": "Could not load edges.shp",
     "output_type": "error",
     "traceback": [
      "\u001b[1;31m---------------------------------------------------------------------------\u001b[0m",
      "\u001b[1;31mGeometryError\u001b[0m                             Traceback (most recent call last)",
      "\u001b[1;32m<ipython-input-6-7283d7a8ff36>\u001b[0m in \u001b[0;36m<module>\u001b[1;34m()\u001b[0m\n\u001b[0;32m      1\u001b[0m \u001b[1;32mfrom\u001b[0m \u001b[0mgeometryIO\u001b[0m \u001b[1;32mimport\u001b[0m \u001b[0mload\u001b[0m\u001b[1;33m\u001b[0m\u001b[0m\n\u001b[1;32m----> 2\u001b[1;33m \u001b[0ma\u001b[0m\u001b[1;33m,\u001b[0m \u001b[0mb\u001b[0m\u001b[1;33m,\u001b[0m \u001b[0mc\u001b[0m\u001b[1;33m,\u001b[0m \u001b[0md\u001b[0m \u001b[1;33m=\u001b[0m \u001b[0mload\u001b[0m\u001b[1;33m(\u001b[0m\u001b[0mgeometry2_path\u001b[0m\u001b[1;33m)\u001b[0m\u001b[1;33m\u001b[0m\u001b[0m\n\u001b[0m\u001b[0;32m      3\u001b[0m \u001b[1;32mprint\u001b[0m \u001b[0ma\u001b[0m\u001b[1;33m\u001b[0m\u001b[0m\n\u001b[0;32m      4\u001b[0m \u001b[1;32mprint\u001b[0m \u001b[0mb\u001b[0m\u001b[1;33m[\u001b[0m\u001b[1;33m:\u001b[0m\u001b[1;36m2\u001b[0m\u001b[1;33m]\u001b[0m\u001b[1;33m\u001b[0m\u001b[0m\n\u001b[0;32m      5\u001b[0m \u001b[1;32mprint\u001b[0m \u001b[0mc\u001b[0m\u001b[1;33m[\u001b[0m\u001b[1;33m:\u001b[0m\u001b[1;36m2\u001b[0m\u001b[1;33m]\u001b[0m\u001b[1;33m\u001b[0m\u001b[0m\n",
      "\u001b[1;32m<decorator-gen-127>\u001b[0m in \u001b[0;36mload\u001b[1;34m(sourcePath, sourceProj4, targetProj4)\u001b[0m\n",
      "\u001b[1;32m/home/rhh/.virtualenvs/crosscompute/lib/python2.7/site-packages/archiveIO/__init__.pyc\u001b[0m in \u001b[0;36mload\u001b[1;34m(function, *args, **kw)\u001b[0m\n\u001b[0;32m    161\u001b[0m         \u001b[1;31m# If we did not recognize the extension, run function as usual\u001b[0m\u001b[1;33m\u001b[0m\u001b[1;33m\u001b[0m\u001b[0m\n\u001b[0;32m    162\u001b[0m         \u001b[1;32mexcept\u001b[0m \u001b[0mArchiveError\u001b[0m\u001b[1;33m:\u001b[0m\u001b[1;33m\u001b[0m\u001b[0m\n\u001b[1;32m--> 163\u001b[1;33m             \u001b[1;32mreturn\u001b[0m \u001b[0mfunction\u001b[0m\u001b[1;33m(\u001b[0m\u001b[1;33m*\u001b[0m\u001b[0margs\u001b[0m\u001b[1;33m,\u001b[0m \u001b[1;33m**\u001b[0m\u001b[0mkw\u001b[0m\u001b[1;33m)\u001b[0m\u001b[1;33m\u001b[0m\u001b[0m\n\u001b[0m\u001b[0;32m    164\u001b[0m         \u001b[1;31m# Make temporaryFolder\u001b[0m\u001b[1;33m\u001b[0m\u001b[1;33m\u001b[0m\u001b[0m\n\u001b[0;32m    165\u001b[0m         \u001b[1;32mwith\u001b[0m \u001b[0mTemporaryFolder\u001b[0m\u001b[1;33m(\u001b[0m\u001b[1;33m)\u001b[0m \u001b[1;32mas\u001b[0m \u001b[0mtemporaryFolder\u001b[0m\u001b[1;33m:\u001b[0m\u001b[1;33m\u001b[0m\u001b[0m\n",
      "\u001b[1;32m/home/rhh/.virtualenvs/crosscompute/lib/python2.7/site-packages/geometryIO/__init__.pyc\u001b[0m in \u001b[0;36mload\u001b[1;34m(sourcePath, sourceProj4, targetProj4)\u001b[0m\n\u001b[0;32m     76\u001b[0m     \u001b[0mdataSource\u001b[0m \u001b[1;33m=\u001b[0m \u001b[0mogr\u001b[0m\u001b[1;33m.\u001b[0m\u001b[0mOpen\u001b[0m\u001b[1;33m(\u001b[0m\u001b[0msourcePath\u001b[0m\u001b[1;33m)\u001b[0m\u001b[1;33m\u001b[0m\u001b[0m\n\u001b[0;32m     77\u001b[0m     \u001b[1;32mif\u001b[0m \u001b[1;32mnot\u001b[0m \u001b[0mdataSource\u001b[0m\u001b[1;33m:\u001b[0m\u001b[1;33m\u001b[0m\u001b[0m\n\u001b[1;32m---> 78\u001b[1;33m         \u001b[1;32mraise\u001b[0m \u001b[0mGeometryError\u001b[0m\u001b[1;33m(\u001b[0m\u001b[1;34m'Could not load %s'\u001b[0m \u001b[1;33m%\u001b[0m \u001b[0mos\u001b[0m\u001b[1;33m.\u001b[0m\u001b[0mpath\u001b[0m\u001b[1;33m.\u001b[0m\u001b[0mbasename\u001b[0m\u001b[1;33m(\u001b[0m\u001b[0msourcePath\u001b[0m\u001b[1;33m)\u001b[0m\u001b[1;33m)\u001b[0m\u001b[1;33m\u001b[0m\u001b[0m\n\u001b[0m\u001b[0;32m     79\u001b[0m     \u001b[0mlayer\u001b[0m \u001b[1;33m=\u001b[0m \u001b[0mdataSource\u001b[0m\u001b[1;33m.\u001b[0m\u001b[0mGetLayer\u001b[0m\u001b[1;33m(\u001b[0m\u001b[1;33m)\u001b[0m\u001b[1;33m\u001b[0m\u001b[0m\n\u001b[0;32m     80\u001b[0m     \u001b[1;31m# Get fieldDefinitions from featureDefinition\u001b[0m\u001b[1;33m\u001b[0m\u001b[1;33m\u001b[0m\u001b[0m\n",
      "\u001b[1;31mGeometryError\u001b[0m: Could not load edges.shp"
     ]
    }
   ],
   "source": [
    "from geometryIO import load\n",
    "a, b, c, d = load(geometry2_path)\n",
    "print a\n",
    "print b[:2]\n",
    "print c[:2]\n",
    "print d"
   ]
  },
  {
   "cell_type": "code",
   "execution_count": null,
   "metadata": {
    "collapsed": true
   },
   "outputs": [],
   "source": []
  },
  {
   "cell_type": "code",
   "execution_count": 32,
   "metadata": {
    "collapsed": false
   },
   "outputs": [
    {
     "name": "stdout",
     "output_type": "stream",
     "text": [
      "+proj=longlat +ellps=WGS84 +towgs84=0,0,0,0,0,0,0 +no_defs \n",
      "[<shapely.geometry.point.Point object at 0x7f5ec7cf7890>, <shapely.geometry.point.Point object at 0x7f5ec7cf7a10>]\n",
      "[(0,), (1,)]\n",
      "[('FID', 12)]\n"
     ]
    }
   ],
   "source": [
    "from geometryIO import load\n",
    "a, b, c, d = load(geometry3_path)\n",
    "print a\n",
    "print b[:2]\n",
    "print c[:2]\n",
    "print d"
   ]
  }
 ],
 "metadata": {
  "kernelspec": {
   "display_name": "Python 2",
   "language": "python",
   "name": "python2"
  },
  "language_info": {
   "codemirror_mode": {
    "name": "ipython",
    "version": 2
   },
   "file_extension": ".py",
   "mimetype": "text/x-python",
   "name": "python",
   "nbconvert_exporter": "python",
   "pygments_lexer": "ipython2",
   "version": "2.7.10"
  }
 },
 "nbformat": 4,
 "nbformat_minor": 0
}
