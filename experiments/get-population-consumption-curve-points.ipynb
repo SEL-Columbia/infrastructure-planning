{
 "cells": [
  {
   "cell_type": "code",
   "execution_count": null,
   "metadata": {
    "collapsed": true
   },
   "outputs": [],
   "source": [
    "# Cite \"City population by sex, city and city type\" http://data.un.org/Data.aspx?d=POP&f=tableCode:240\n",
    "# Cite \"Electric power consumption (kWh per capita)\" http://data.worldbank.org/indicator/EG.USE.ELEC.KH.PC\n",
    "# Prototype tool to get population-consumption curve points by country, region or income group"
   ]
  },
  {
   "cell_type": "code",
   "execution_count": null,
   "metadata": {
    "collapsed": true
   },
   "outputs": [],
   "source": [
    "# Country\n",
    "# Given target_year and country, generate population consumption points\n",
    "# Plot points as scatter plot\n",
    "# We might want to pre-generate all of these values?\n",
    "# Or should it stay dynamic -- let's keep them dynamic for now"
   ]
  },
  {
   "cell_type": "code",
   "execution_count": null,
   "metadata": {
    "collapsed": true
   },
   "outputs": [],
   "source": [
    "# Region\n",
    "# Given target_year and region, generate population consumption points"
   ]
  },
  {
   "cell_type": "code",
   "execution_count": null,
   "metadata": {
    "collapsed": true
   },
   "outputs": [],
   "source": [
    "# Income\n",
    "# Given target_year and income, generate population consumption points"
   ]
  }
 ],
 "metadata": {
  "kernelspec": {
   "display_name": "Python 2",
   "language": "python",
   "name": "python2"
  },
  "language_info": {
   "codemirror_mode": {
    "name": "ipython",
    "version": 2
   },
   "file_extension": ".py",
   "mimetype": "text/x-python",
   "name": "python",
   "nbconvert_exporter": "python",
   "pygments_lexer": "ipython2",
   "version": "2.7.10"
  }
 },
 "nbformat": 4,
 "nbformat_minor": 0
}
