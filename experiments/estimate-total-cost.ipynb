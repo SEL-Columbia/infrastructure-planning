{
 "cells": [
  {
   "cell_type": "code",
   "execution_count": 62,
   "metadata": {
    "collapsed": false
   },
   "outputs": [],
   "source": [
    "from networkx import read_gpickle\n",
    "graph_path = '/tmp/estimate-electricity-cost-by-technology-from-population/results/20/infrastructure_graph.pkl'"
   ]
  },
  {
   "cell_type": "code",
   "execution_count": 63,
   "metadata": {
    "collapsed": false
   },
   "outputs": [],
   "source": [
    "g = read_gpickle(graph_path)"
   ]
  },
  {
   "cell_type": "code",
   "execution_count": 64,
   "metadata": {
    "collapsed": false
   },
   "outputs": [],
   "source": [
    "from geopy.distance import vincenty as get_distance\n",
    "node1_id, node2_id = g.edges_iter().next()\n",
    "node1 = g.node[node1_id]\n",
    "node1_xy = node1['latitude'], node1['longitude']\n",
    "node2 = g.node[node2_id]\n",
    "node2_xy = node2['latitude'], node2['longitude']\n",
    "x = get_distance(node1_xy, node2_xy)"
   ]
  },
  {
   "cell_type": "code",
   "execution_count": 65,
   "metadata": {
    "collapsed": false
   },
   "outputs": [
    {
     "data": {
      "text/plain": [
       "346610.4534300535"
      ]
     },
     "execution_count": 65,
     "metadata": {},
     "output_type": "execute_result"
    }
   ],
   "source": [
    "x.meters"
   ]
  },
  {
   "cell_type": "code",
   "execution_count": 56,
   "metadata": {
    "collapsed": false
   },
   "outputs": [
    {
     "data": {
      "text/plain": [
       "[(1, 1), (1, 1), (1, 1)]"
      ]
     },
     "execution_count": 56,
     "metadata": {},
     "output_type": "execute_result"
    }
   ],
   "source": [
    "[(1, 1) for x in xrange(3)]"
   ]
  },
  {
   "cell_type": "code",
   "execution_count": 57,
   "metadata": {
    "collapsed": false
   },
   "outputs": [
    {
     "data": {
      "text/plain": [
       "1.4142135623730951"
      ]
     },
     "execution_count": 57,
     "metadata": {},
     "output_type": "execute_result"
    }
   ],
   "source": [
    "import math\n",
    "math.sqrt(2)"
   ]
  },
  {
   "cell_type": "code",
   "execution_count": 59,
   "metadata": {
    "collapsed": false
   },
   "outputs": [],
   "source": [
    "\"\"\"\n",
    "# Get sum of mv line distance\n",
    "grid_mv_line_adjusted_length_in_meters = 0\n",
    "grid_mv_line_length_adjustment_factor = 1.4\n",
    "for node1_id, node2_id in g.edges_iter():\n",
    "    nodes = [g.node[x] for x in (node1_id, node2_id)]\n",
    "    node_lls = [(x['latitude'], x['longitude']) for x in nodes]\n",
    "    straight_length_in_meters = get_distance(*node_lls).meters\n",
    "    adjusted_length_in_meters = grid_mv_line_length_adjustment_factor * \\\n",
    "        straight_length_in_meters\n",
    "    g.edge[node1_id][node2_id]['grid_mv_line_straight_length_in_meters'] = \\\n",
    "        straight_length_in_meters\n",
    "    g.edge[node1_id][node2_id]['grid_mv_line_adjusted_length_in_meters'] = \\\n",
    "        adjusted_length_in_meters\n",
    "    grid_mv_line_adjusted_length_in_meters += adjusted_length_in_meters\n",
    "grid_mv_line_adjusted_length_in_meters\n",
    "\"\"\";"
   ]
  },
  {
   "cell_type": "code",
   "execution_count": 70,
   "metadata": {
    "collapsed": false
   },
   "outputs": [
    {
     "data": {
      "text/plain": [
       "['grid_mv_line_discounted_cost_per_meter',\n",
       " 'grid_mv_line_installation_lm_cost_per_meter',\n",
       " 'grid_mv_line_maintenance_lm_cost_per_meter_per_year',\n",
       " 'grid_mv_line_replacement_lm_cost_per_meter_per_year']"
      ]
     },
     "execution_count": 70,
     "metadata": {},
     "output_type": "execute_result"
    }
   ],
   "source": [
    "[x for x in g.node[1] if x.startswith('grid_mv_line')]"
   ]
  },
  {
   "cell_type": "code",
   "execution_count": 75,
   "metadata": {
    "collapsed": false
   },
   "outputs": [
    {
     "data": {
      "text/plain": [
       "[('grid_mv_line_adjusted_length_in_meters', 1189496.749735076)]"
      ]
     },
     "execution_count": 75,
     "metadata": {},
     "output_type": "execute_result"
    }
   ],
   "source": [
    "def estimate_grid_mv_line_length_in_meters(infrastructure_graph, line_length_adjustment_factor):\n",
    "    grid_mv_line_adjusted_length_in_meters = 0\n",
    "    g = infrastructure_graph\n",
    "    for node1_id, node2_id in g.edges_iter():\n",
    "        nodes = [g.node[x] for x in (node1_id, node2_id)]\n",
    "        node_lls = [(x['latitude'], x['longitude']) for x in nodes]\n",
    "        straight_length_in_meters = get_distance(*node_lls).meters\n",
    "        adjustment_factor = np.mean([g.node[x].get(\n",
    "            'line_length_adjustment_factor', line_length_adjustment_factor,\n",
    "        ) for x in [node1_id, node2_id]])\n",
    "        adjusted_length_in_meters = adjustment_factor * straight_length_in_meters\n",
    "        halved_adjusted_length_in_meters = adjusted_length_in_meters / 2.\n",
    "        grid_mv_line_adjusted_length_in_meters += adjusted_length_in_meters\n",
    "        g.edge[node1_id][node2_id]['grid_mv_line_adjusted_length_in_meters'] = adjusted_length_in_meters\n",
    "        g.node[node1_id]['grid_mv_line_adjusted_length_in_meters'] = halved_adjusted_length_in_meters\n",
    "        g.node[node2_id]['grid_mv_line_adjusted_length_in_meters'] = halved_adjusted_length_in_meters\n",
    "    return [\n",
    "        ('grid_mv_line_adjusted_length_in_meters', grid_mv_line_adjusted_length_in_meters),\n",
    "    ]\n",
    "\n",
    "estimate_grid_mv_line_length_in_meters(g, 1.4)"
   ]
  },
  {
   "cell_type": "code",
   "execution_count": 47,
   "metadata": {
    "collapsed": false
   },
   "outputs": [
    {
     "data": {
      "text/plain": [
       "{0: {'distance_in_meters': 346610.4534300535,\n",
       "  'grid_mv_line_adjusted_length_in_meters': 485254.63480207487,\n",
       "  'grid_mv_line_straight_length_in_meters': 346610.4534300535},\n",
       " 2: {'distance_in_meters': 503030.08209500083,\n",
       "  'grid_mv_line_adjusted_length_in_meters': 704242.1149330011,\n",
       "  'grid_mv_line_straight_length_in_meters': 503030.08209500083}}"
      ]
     },
     "execution_count": 47,
     "metadata": {},
     "output_type": "execute_result"
    }
   ],
   "source": [
    "g.edge[1]"
   ]
  },
  {
   "cell_type": "code",
   "execution_count": 48,
   "metadata": {
    "collapsed": false
   },
   "outputs": [
    {
     "data": {
      "text/plain": [
       "(0,\n",
       " 1,\n",
       " {'distance_in_meters': 346610.4534300535,\n",
       "  'grid_mv_line_adjusted_length_in_meters': 485254.63480207487,\n",
       "  'grid_mv_line_straight_length_in_meters': 346610.4534300535})"
      ]
     },
     "execution_count": 48,
     "metadata": {},
     "output_type": "execute_result"
    }
   ],
   "source": [
    "g.edges_iter(data=True).next()"
   ]
  },
  {
   "cell_type": "code",
   "execution_count": 41,
   "metadata": {
    "collapsed": false
   },
   "outputs": [
    {
     "data": {
      "text/plain": [
       "['grid_mv_line_discounted_cost_per_meter',\n",
       " 'grid_mv_line_installation_lm_cost_per_meter',\n",
       " 'grid_mv_line_maintenance_lm_cost_per_meter_per_year',\n",
       " 'grid_mv_line_replacement_lm_cost_per_meter_per_year']"
      ]
     },
     "execution_count": 41,
     "metadata": {},
     "output_type": "execute_result"
    }
   ],
   "source": [
    "[x for x in g.node[node1_id].keys() if x.startswith('grid_mv_line')]"
   ]
  },
  {
   "cell_type": "code",
   "execution_count": 42,
   "metadata": {
    "collapsed": true
   },
   "outputs": [],
   "source": [
    "import numpy as np"
   ]
  },
  {
   "cell_type": "code",
   "execution_count": 43,
   "metadata": {
    "collapsed": false
   },
   "outputs": [
    {
     "data": {
      "text/plain": [
       "2.5"
      ]
     },
     "execution_count": 43,
     "metadata": {},
     "output_type": "execute_result"
    }
   ],
   "source": [
    "np.mean([2, 3])"
   ]
  },
  {
   "cell_type": "code",
   "execution_count": 44,
   "metadata": {
    "collapsed": false
   },
   "outputs": [
    {
     "data": {
      "text/plain": [
       "25.325291491610727"
      ]
     },
     "execution_count": 44,
     "metadata": {},
     "output_type": "execute_result"
    }
   ],
   "source": [
    "g.node[1]['grid_mv_line_discounted_cost_per_meter']"
   ]
  },
  {
   "cell_type": "code",
   "execution_count": 49,
   "metadata": {
    "collapsed": false
   },
   "outputs": [
    {
     "data": {
      "text/plain": [
       "30124351.915364332"
      ]
     },
     "execution_count": 49,
     "metadata": {},
     "output_type": "execute_result"
    }
   ],
   "source": [
    "grid_mv_line_cost = 0\n",
    "for node1_id, node2_id, edge_d in g.edges_iter(data=True):\n",
    "    grid_mv_line_average_discounted_cost_per_meter = np.mean([\n",
    "        g.node[x]['grid_mv_line_discounted_cost_per_meter'] for x in [node1_id, node2_id]])\n",
    "    distance_in_meters = edge_d['grid_mv_line_adjusted_length_in_meters']\n",
    "    grid_mv_line_cost += grid_mv_line_average_discounted_cost_per_meter * distance_in_meters\n",
    "grid_mv_line_cost"
   ]
  },
  {
   "cell_type": "code",
   "execution_count": null,
   "metadata": {
    "collapsed": true
   },
   "outputs": [],
   "source": [
    "# Get discounted cost of mv line\n",
    "def estimate_grid_mv_line_cost(\n",
    "        grid_mv_line_adjusted_length_in_meters,\n",
    "        grid_mv_line_installation_lm_cost_per_meter,\n",
    "        grid_mv_line_maintenance_lm_cost_per_meter_per_year,\n",
    "        grid_mv_line_replacement_lm_cost_per_meter_per_year):\n",
    "    installation_lm_cost = grid_mv_line_installation_lm_cost_per_meter * \\\n",
    "        grid_mv_line_adjusted_length_in_meters\n",
    "    maintenance_lm_cost_per_year = grid_mv_line_maintenance_lm_cost_per_meter_per_year * \\\n",
    "        grid_mv_line_adjusted_length_in_meters\n",
    "    replacement_lm_cost_per_year = grid_mv_line_replacement_lm_cost_per_meter_per_year * \\\n",
    "        grid_mv_line_adjusted_length_in_meters\n",
    "    return [\n",
    "        ('installation_lm_cost', installation_lm_cost),\n",
    "        ('maintenance_lm_cost_per_year', maintenance_lm_cost_per_year),\n",
    "        ('replacement_lm_cost_per_year', replacement_lm_cost_per_year),\n",
    "    ]\n",
    "\n",
    "d = prepare_component_cost_by_year([\n",
    "    ('mv_line', estimate_grid_mv_line_cost),\n",
    "], kw, prefix='grid_')\n",
    "grid_mv_line_discounted_cost = compute_discounted_cash_flow(\n",
    "    d.pop('cost_by_year'),\n",
    "    kw['financing_year'],\n",
    "    kw['discount_rate_as_percent_of_cash_flow_per_year'])"
   ]
  },
  {
   "cell_type": "code",
   "execution_count": null,
   "metadata": {
    "collapsed": true
   },
   "outputs": [],
   "source": [
    "# Add to discounted grid cost\n",
    "# Compute levelized grid cost"
   ]
  },
  {
   "cell_type": "code",
   "execution_count": null,
   "metadata": {
    "collapsed": true
   },
   "outputs": [],
   "source": [
    "# For each node, select least expensive technology\n",
    "# Sum costs for selected technology across all nodes"
   ]
  },
  {
   "cell_type": "code",
   "execution_count": null,
   "metadata": {
    "collapsed": true
   },
   "outputs": [],
   "source": [
    "# Sum all discounted costs\n",
    "# Compute giant levelized costs for selected technology"
   ]
  },
  {
   "cell_type": "code",
   "execution_count": null,
   "metadata": {
    "collapsed": true
   },
   "outputs": [],
   "source": [
    "# Get counts\n",
    "# Render selected technology as color in map"
   ]
  }
 ],
 "metadata": {
  "kernelspec": {
   "display_name": "Python 2",
   "language": "python",
   "name": "python2"
  },
  "language_info": {
   "codemirror_mode": {
    "name": "ipython",
    "version": 2
   },
   "file_extension": ".py",
   "mimetype": "text/x-python",
   "name": "python",
   "nbconvert_exporter": "python",
   "pygments_lexer": "ipython2",
   "version": "2.7.11"
  }
 },
 "nbformat": 4,
 "nbformat_minor": 0
}
