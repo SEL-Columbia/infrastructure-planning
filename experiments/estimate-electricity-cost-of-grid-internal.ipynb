{
 "cells": [
  {
   "cell_type": "code",
   "execution_count": null,
   "metadata": {
    "collapsed": true
   },
   "outputs": [],
   "source": [
    "# Start with consumption in kWh for each locale\n",
    "# Assume each locale is independent from other locales"
   ]
  },
  {
   "cell_type": "code",
   "execution_count": 4,
   "metadata": {
    "collapsed": true
   },
   "outputs": [],
   "source": [
    "projected_nodal_consumption_per_year_in_kilowatt_hours = 1000"
   ]
  },
  {
   "cell_type": "code",
   "execution_count": null,
   "metadata": {
    "collapsed": true
   },
   "outputs": [],
   "source": [
    "# The user should be able to specify consumption for each year\n",
    "# Then we can compute discounted consumption over all years"
   ]
  },
  {
   "cell_type": "code",
   "execution_count": null,
   "metadata": {
    "collapsed": true
   },
   "outputs": [],
   "source": [
    "# We should define a function to compute discounted present value\n",
    "compute_net_present_value\n",
    "compute_levelized_cost_of_electricity\n",
    "compute_levelized_electricity_cost\n",
    "compute_electricity_levelized_cost"
   ]
  },
  {
   "cell_type": "code",
   "execution_count": 3,
   "metadata": {
    "collapsed": false
   },
   "outputs": [
    {
     "ename": "NameError",
     "evalue": "name 'grid_internal_system_nodal_discounted_cost_in_dollars' is not defined",
     "output_type": "error",
     "traceback": [
      "\u001b[1;31m---------------------------------------------------------------------------\u001b[0m",
      "\u001b[1;31mNameError\u001b[0m                                 Traceback (most recent call last)",
      "\u001b[1;32m<ipython-input-3-8bade4a4c81b>\u001b[0m in \u001b[0;36m<module>\u001b[1;34m()\u001b[0m\n\u001b[1;32m----> 1\u001b[1;33m \u001b[0mgrid_internal_system_nodal_discounted_cost_in_dollars\u001b[0m\u001b[1;33m\u001b[0m\u001b[0m\n\u001b[0m",
      "\u001b[1;31mNameError\u001b[0m: name 'grid_internal_system_nodal_discounted_cost_in_dollars' is not defined"
     ]
    }
   ],
   "source": [
    "# grid_internal_system_nodal_discounted_cost_in_dollars\n",
    "\n",
    "grid_internal_system_nodal_discounted_cost_in_dollars\n",
    "\n",
    "if self.get(demand.ProjectedNodalDemandPerYear) == 0:\n",
    "    return 0\n",
    "return self.get(GridInternalSystemInitialCost) + \\\n",
    "    self.get(GridInternalSystemRecurringCostPerYear) * self.get(finance.DiscountedCashFlowFactor)"
   ]
  },
  {
   "cell_type": "code",
   "execution_count": null,
   "metadata": {
    "collapsed": true
   },
   "outputs": [],
   "source": [
    "# We should define a function to compute discounted present value\n",
    "# This function should accept arrays, starting at year 0 for index 0, or it can accept a constant number"
   ]
  },
  {
   "cell_type": "code",
   "execution_count": null,
   "metadata": {
    "collapsed": true
   },
   "outputs": [],
   "source": [
    "# grid_internal_system_nodal_levelized_cost_in_dollars_per_kilowatt_hour\n",
    "\n",
    "if not projected_nodal_consumption_in_kilowatt_hours:\n",
    "    grid_internal_system_nodal_levelized_cost_in_dollars_per_kilowatt_hour = 0\n",
    "\n",
    "grid_internal_system_nodal_levelized_cost_in_dollars_per_kilowatt_hour = \\\n",
    "    grid_internal_system_nodal_discounted_cost_in_dollars / float(xxx_projected_nodal_consumption_in_kilowatt_hours)\n",
    "    \n",
    "# the formula for lcoe discounts consumption\n",
    "# it also sums consumption over all years"
   ]
  },
  {
   "cell_type": "code",
   "execution_count": null,
   "metadata": {
    "collapsed": true
   },
   "outputs": [],
   "source": [
    "class GridInternalSystemNodalDiscountedCost(V):\n",
    "\n",
    "    section = 'system (grid)'\n",
    "    option = 'internal system nodal discounted cost'\n",
    "    aliases = ['gr_int_sys_ndl_disc_cst', 'gi_nod_d']\n",
    "    dependencies = [\n",
    "        demand.ProjectedNodalDemandPerYear,\n",
    "        GridInternalSystemInitialCost,\n",
    "        GridInternalSystemRecurringCostPerYear,\n",
    "        finance.DiscountedCashFlowFactor,\n",
    "    ]\n",
    "    units = 'dollars'\n",
    "\n",
    "    def compute(self):"
   ]
  },
  {
   "cell_type": "code",
   "execution_count": null,
   "metadata": {
    "collapsed": true
   },
   "outputs": [],
   "source": [
    "class GridInternalSystemInitialCost(V):\n",
    "\n",
    "    section = 'system (grid)'\n",
    "    option = 'internal system initial cost'\n",
    "    aliases = ['gr_int_sys_init_cst', 'gi_ini']\n",
    "    dependencies = [\n",
    "        GridInstallationCost,\n",
    "        GridTransformerCost,\n",
    "        LowVoltageLineEquipmentCost,\n",
    "        costDistribution.LowVoltageLineInitialCost,\n",
    "    ]\n",
    "    units = 'dollars'\n",
    "\n",
    "    def compute(self):\n",
    "        return sum([\n",
    "            self.get(GridInstallationCost),\n",
    "            self.get(GridTransformerCost),\n",
    "            self.get(LowVoltageLineEquipmentCost),\n",
    "            self.get(costDistribution.LowVoltageLineInitialCost),\n",
    "        ])"
   ]
  },
  {
   "cell_type": "code",
   "execution_count": null,
   "metadata": {
    "collapsed": true
   },
   "outputs": [],
   "source": [
    "class GridInternalSystemRecurringCostPerYear(V):\n",
    "\n",
    "    section = 'system (grid)'\n",
    "    option = 'internal system recurring cost per year'\n",
    "    aliases = ['gr_int_sys_rcrg_cst_pr_yr', 'gi_rec']\n",
    "    dependencies = [\n",
    "        GridTransformerOperationsAndMaintenanceCostPerYear,\n",
    "        GridTransformerReplacementCostPerYear,\n",
    "        GridElectricityCostPerYear,\n",
    "        LowVoltageLineEquipmentOperationsAndMaintenanceCostPerYear,\n",
    "        costDistribution.LowVoltageLineRecurringCostPerYear,\n",
    "    ]\n",
    "    units = 'dollars per year'\n",
    "\n",
    "    def compute(self):\n",
    "        return sum([\n",
    "            self.get(GridTransformerOperationsAndMaintenanceCostPerYear),\n",
    "            self.get(GridTransformerReplacementCostPerYear),\n",
    "            self.get(GridElectricityCostPerYear),\n",
    "            self.get(LowVoltageLineEquipmentOperationsAndMaintenanceCostPerYear),\n",
    "            self.get(costDistribution.LowVoltageLineRecurringCostPerYear),\n",
    "        ])"
   ]
  },
  {
   "cell_type": "code",
   "execution_count": null,
   "metadata": {
    "collapsed": true
   },
   "outputs": [],
   "source": [
    "# End with grid internal cost for each locale\n",
    "# Also compute grid levelized cost"
   ]
  }
 ],
 "metadata": {
  "kernelspec": {
   "display_name": "Python 2",
   "language": "python",
   "name": "python2"
  },
  "language_info": {
   "codemirror_mode": {
    "name": "ipython",
    "version": 2
   },
   "file_extension": ".py",
   "mimetype": "text/x-python",
   "name": "python",
   "nbconvert_exporter": "python",
   "pygments_lexer": "ipython2",
   "version": "2.7.10"
  }
 },
 "nbformat": 4,
 "nbformat_minor": 0
}
