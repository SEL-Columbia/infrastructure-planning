{
 "cells": [
  {
   "cell_type": "code",
   "execution_count": 1,
   "metadata": {
    "collapsed": true
   },
   "outputs": [],
   "source": [
    "# Decide tool name\n",
    "# _ estimate electricity grid internal system nodal levelized cost\n",
    "# _ estimate electricity levelized cost for grid without medium voltage line\n",
    "# _ estimate electricity levelized cost for grid internal\n",
    "# _ estimate electricity levelized cost for off-grid\n",
    "# _ estimate electricity levelized cost for mini-grid\n",
    "# _ estimate electricity levelized cost for grid without transmission\n",
    "# _ estimate electricity levelized cost for grid with transmission\n",
    "# _ estimate levelized electricity cost for grid without transmission\n",
    "# _ estimate levelized cost of electricity with grid without transmission\n",
    "# _ estimate levelized cost of electricity via grid without transmission\n",
    "# _ estimate levelized cost of electricity for grid without transmission"
   ]
  },
  {
   "cell_type": "code",
   "execution_count": 2,
   "metadata": {
    "collapsed": true
   },
   "outputs": [],
   "source": [
    "# estimate levelized cost of electricity from grid without transmission"
   ]
  },
  {
   "cell_type": "code",
   "execution_count": null,
   "metadata": {
    "collapsed": true
   },
   "outputs": [],
   "source": [
    "# estimate levelized cost of electricity from grid"
   ]
  },
  {
   "cell_type": "code",
   "execution_count": null,
   "metadata": {
    "collapsed": true
   },
   "outputs": [],
   "source": [
    "PRE-NETWORK TECHNOLOGY COST (generates CSV, almost finished one example)\n",
    "Estimate pre-network technology cost breakdown by year.\n",
    "Estimate discounted and levelized cost."
   ]
  },
  {
   "cell_type": "code",
   "execution_count": null,
   "metadata": {
    "collapsed": true
   },
   "outputs": [],
   "source": [
    "GridElectricityCostPerYear\n",
    "units = 'dollars per year'\n",
    "\n",
    "def compute(self):\n",
    "    return self.get(GridElectricityCostPerKilowattHour) * self.get(demand.ProjectedNodalDemandPerYear) / float(1 - self.get(DistributionLoss))"
   ]
  },
  {
   "cell_type": "code",
   "execution_count": null,
   "metadata": {
    "collapsed": true
   },
   "outputs": [],
   "source": [
    "GridInternalSystemInitialCost\n",
    "units = 'dollars'\n",
    "\n",
    "def compute(self):\n",
    "    return sum([\n",
    "        self.get(GridInstallationCost),\n",
    "        self.get(GridTransformerCost),\n",
    "        self.get(LowVoltageLineEquipmentCost),\n",
    "        self.get(costDistribution.LowVoltageLineInitialCost),\n",
    "    ])"
   ]
  },
  {
   "cell_type": "code",
   "execution_count": null,
   "metadata": {
    "collapsed": true
   },
   "outputs": [],
   "source": [
    "GridInternalSystemRecurringCostPerYear\n",
    "       return sum([\n",
    "            self.get(GridTransformerOperationsAndMaintenanceCostPerYear),\n",
    "            self.get(GridTransformerReplacementCostPerYear),\n",
    "            self.get(GridElectricityCostPerYear),\n",
    "            self.get(LowVoltageLineEquipmentOperationsAndMaintenanceCostPerYear),\n",
    "            self.get(costDistribution.LowVoltageLineRecurringCostPerYear),\n",
    "        ])\n",
    "dollars per year"
   ]
  },
  {
   "cell_type": "code",
   "execution_count": null,
   "metadata": {
    "collapsed": true
   },
   "outputs": [],
   "source": [
    "grid_internal_system_nodal_discounted_cost_in_dollars =\n",
    "if self.get(demand.ProjectedNodalDemandPerYear) == 0:\n",
    "    return 0\n",
    "return self.get(GridInternalSystemInitialCost) + self.get(GridInternalSystemRecurringCostPerYear) * self.get(finance.DiscountedCashFlowFactor)"
   ]
  },
  {
   "cell_type": "code",
   "execution_count": null,
   "metadata": {
    "collapsed": true
   },
   "outputs": [],
   "source": [
    "nodal_discounted_production_in_kilowatt_hours ="
   ]
  },
  {
   "cell_type": "code",
   "execution_count": null,
   "metadata": {
    "collapsed": false
   },
   "outputs": [],
   "source": [
    "if not nodal_discounted_production:\n",
    "    grid_internal_system_nodal_levelized_cost = 0\n",
    "else:\n",
    "    grid_internal_system_nodal_levelized_cost_in_dollars_per_kilowatt_hour = \\\n",
    "        grid_internal_system_nodal_discounted_cost_in_dollars / float(\n",
    "            nodal_discounted_production_in_kilowatt_hours)"
   ]
  },
  {
   "cell_type": "code",
   "execution_count": null,
   "metadata": {
    "collapsed": true
   },
   "outputs": [],
   "source": [
    "\"\"\"\n",
    "Given demand by year, estimate cost by year, discounted cost, levelized cost.\n",
    "\n",
    "PRODUCTION\n",
    "Electricity production cost per year \n",
    "$/yr\n",
    "is proportional to consumption per year\n",
    "is proportional to distribution loss\n",
    "\n",
    "MEDIUM VOLTAGE\n",
    "Line\n",
    "Years 0-X Initial Cost (Labor + Material)\n",
    "Years X-Y Recurring Costs (Labor + Material)\n",
    "\n",
    "LOW VOLTAGE\n",
    "Transformer (sized using multiples of largest available capacity)\n",
    "Years 0-X Initial Cost (Labor + Material)\n",
    "Years X-Y Recurring Costs (Labor + Material)\n",
    "\n",
    "Line\n",
    "Years 0-X Initial Cost (Labor + Material)\n",
    "Years X-Y Recurring Costs (Labor + Material)\n",
    "\"\"\""
   ]
  },
  {
   "cell_type": "code",
   "execution_count": null,
   "metadata": {
    "collapsed": true
   },
   "outputs": [],
   "source": []
  },
  {
   "cell_type": "code",
   "execution_count": null,
   "metadata": {
    "collapsed": true
   },
   "outputs": [],
   "source": [
    "\"\"\"\n",
    "Consumption by year table\n",
    "Production cost per kilowatt hour\n",
    "Medium voltage line\n",
    "installation\n",
    "labor cost in dollars\n",
    "material cost in dollars\n",
    "time in years\n",
    "maintenance\n",
    "labor cost in dollars\n",
    "material cost in dollars\n",
    "time in years\n",
    "replacement\n",
    "labor cost in dollars\n",
    "material cost in dollars\n",
    "time in years\n",
    "Low voltage transformer\n",
    "Low voltage line\n",
    "\"\"\""
   ]
  },
  {
   "cell_type": "code",
   "execution_count": null,
   "metadata": {
    "collapsed": true
   },
   "outputs": [],
   "source": [
    "\"\"\"\n",
    "+ Discounted cost (pre-network grid discounted cost)\n",
    "= Levelized cost (pre-network grid levelized cost)\n",
    "Cost by year table (pre-network grid cost by year table)\n",
    "    Year\n",
    "    Cost (Populate initial, recurring, replacement costs by year)\n",
    "    Production Cost\n",
    "\n",
    "    Medium Voltage Line Labor Cost\n",
    "    Medium Voltage Line Material Cost\n",
    "\n",
    "    Low Voltage Transformer Labor Cost\n",
    "    Low Voltage Transformer Material Cost\n",
    "\n",
    "    Low Voltage Line Labor Cost\n",
    "    Low Voltage Line Material Cost\n",
    "\"\"\""
   ]
  },
  {
   "cell_type": "code",
   "execution_count": 6,
   "metadata": {
    "collapsed": false
   },
   "outputs": [
    {
     "data": {
      "text/html": [
       "<div>\n",
       "<table border=\"1\" class=\"dataframe\">\n",
       "  <thead>\n",
       "    <tr style=\"text-align: right;\">\n",
       "      <th></th>\n",
       "      <th>Year</th>\n",
       "      <th>Cost</th>\n",
       "    </tr>\n",
       "  </thead>\n",
       "  <tbody>\n",
       "    <tr>\n",
       "      <th>0</th>\n",
       "      <td>2020</td>\n",
       "      <td>10000</td>\n",
       "    </tr>\n",
       "    <tr>\n",
       "      <th>1</th>\n",
       "      <td>2021</td>\n",
       "      <td>10000</td>\n",
       "    </tr>\n",
       "    <tr>\n",
       "      <th>2</th>\n",
       "      <td>2022</td>\n",
       "      <td>10000</td>\n",
       "    </tr>\n",
       "    <tr>\n",
       "      <th>3</th>\n",
       "      <td>2023</td>\n",
       "      <td>10000</td>\n",
       "    </tr>\n",
       "    <tr>\n",
       "      <th>4</th>\n",
       "      <td>2024</td>\n",
       "      <td>10000</td>\n",
       "    </tr>\n",
       "  </tbody>\n",
       "</table>\n",
       "</div>"
      ],
      "text/plain": [
       "   Year   Cost\n",
       "0  2020  10000\n",
       "1  2021  10000\n",
       "2  2022  10000\n",
       "3  2023  10000\n",
       "4  2024  10000"
      ]
     },
     "execution_count": 6,
     "metadata": {},
     "output_type": "execute_result"
    }
   ],
   "source": [
    "from pandas import DataFrame\n",
    "# Given a cost by year table, compute discounted cost\n",
    "cost_by_year_table = DataFrame([\n",
    "    [2020, 10000],\n",
    "    [2021, 10000],\n",
    "    [2022, 10000],\n",
    "    [2023, 10000],\n",
    "    [2024, 10000],\n",
    "], columns=[\n",
    "    'Year', 'Cost',\n",
    "])\n",
    "cost_by_year_table"
   ]
  },
  {
   "cell_type": "code",
   "execution_count": 1,
   "metadata": {
    "collapsed": false
   },
   "outputs": [
    {
     "ename": "NameError",
     "evalue": "name 'parse_date' is not defined",
     "output_type": "error",
     "traceback": [
      "\u001b[1;31m---------------------------------------------------------------------------\u001b[0m",
      "\u001b[1;31mNameError\u001b[0m                                 Traceback (most recent call last)",
      "\u001b[1;32m<ipython-input-1-4de4791daf7d>\u001b[0m in \u001b[0;36m<module>\u001b[1;34m()\u001b[0m\n\u001b[1;32m----> 1\u001b[1;33m \u001b[0mparse_date\u001b[0m\u001b[1;33m(\u001b[0m\u001b[0mstr\u001b[0m\u001b[1;33m(\u001b[0m\u001b[0mcost_by_year_table\u001b[0m\u001b[1;33m[\u001b[0m\u001b[1;33m[\u001b[0m\u001b[1;34m'Year'\u001b[0m\u001b[1;33m,\u001b[0m \u001b[1;34m'Cost'\u001b[0m\u001b[1;33m]\u001b[0m\u001b[1;33m]\u001b[0m\u001b[1;33m.\u001b[0m\u001b[0mvalues\u001b[0m\u001b[1;33m[\u001b[0m\u001b[1;36m0\u001b[0m\u001b[1;33m]\u001b[0m\u001b[1;33m[\u001b[0m\u001b[1;36m0\u001b[0m\u001b[1;33m]\u001b[0m\u001b[1;33m)\u001b[0m\u001b[1;33m)\u001b[0m\u001b[1;33m\u001b[0m\u001b[0m\n\u001b[0m",
      "\u001b[1;31mNameError\u001b[0m: name 'parse_date' is not defined"
     ]
    }
   ],
   "source": [
    "parse_date(str(cost_by_year_table[['Year', 'Cost']].values[0][0]))"
   ]
  },
  {
   "cell_type": "code",
   "execution_count": 2,
   "metadata": {
    "collapsed": false
   },
   "outputs": [
    {
     "data": {
      "text/plain": [
       "datetime.datetime(2000, 2, 29, 0, 0)"
      ]
     },
     "execution_count": 2,
     "metadata": {},
     "output_type": "execute_result"
    }
   ],
   "source": [
    "from dateutil.parser import parse as parse_date\n",
    "parse_date('2000')"
   ]
  },
  {
   "cell_type": "code",
   "execution_count": 7,
   "metadata": {
    "collapsed": false
   },
   "outputs": [
    {
     "data": {
      "text/plain": [
       "41698.654463492923"
      ]
     },
     "execution_count": 7,
     "metadata": {},
     "output_type": "execute_result"
    }
   ],
   "source": [
    "from infrastructure_planning.finance.valuation import compute_discounted_cash_flow\n",
    "compute_discounted_cash_flow(cost_by_year_table[['Year', 'Cost']].values, 10)"
   ]
  },
  {
   "cell_type": "code",
   "execution_count": 10,
   "metadata": {
    "collapsed": true
   },
   "outputs": [],
   "source": [
    "from pandas import DataFrame\n",
    "cost_by_year_table = DataFrame([\n",
    "    [2020, 10000],\n",
    "    [2021, 10000],\n",
    "    [2022, 10000],\n",
    "    [2023, 10000],\n",
    "    [2024, 10000],\n",
    "], columns=[\n",
    "    'Year', 'Cost',\n",
    "])\n",
    "discount_rate_percent = 10"
   ]
  },
  {
   "cell_type": "code",
   "execution_count": 11,
   "metadata": {
    "collapsed": false
   },
   "outputs": [
    {
     "data": {
      "text/plain": [
       "41698.654463492923"
      ]
     },
     "execution_count": 11,
     "metadata": {},
     "output_type": "execute_result"
    }
   ],
   "source": [
    "# Discounted cost\n",
    "from infrastructure_planning.finance.valuation import compute_discounted_cash_flow\n",
    "discounted_cost = compute_discounted_cash_flow(\n",
    "    cost_by_year_table[['Year', 'Cost']].values, discount_rate_percent)\n",
    "discounted_cost"
   ]
  },
  {
   "cell_type": "code",
   "execution_count": null,
   "metadata": {
    "collapsed": true
   },
   "outputs": [],
   "source": [
    "# Levelized cost\n"
   ]
  }
 ],
 "metadata": {
  "kernelspec": {
   "display_name": "Python 2",
   "language": "python",
   "name": "python2"
  },
  "language_info": {
   "codemirror_mode": {
    "name": "ipython",
    "version": 2
   },
   "file_extension": ".py",
   "mimetype": "text/x-python",
   "name": "python",
   "nbconvert_exporter": "python",
   "pygments_lexer": "ipython2",
   "version": "2.7.10"
  }
 },
 "nbformat": 4,
 "nbformat_minor": 0
}
