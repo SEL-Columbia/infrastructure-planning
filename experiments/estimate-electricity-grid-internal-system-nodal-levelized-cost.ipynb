{
 "cells": [
  {
   "cell_type": "code",
   "execution_count": 1,
   "metadata": {
    "collapsed": true
   },
   "outputs": [],
   "source": [
    "# Decide tool name\n",
    "# _ estimate electricity grid internal system nodal levelized cost\n",
    "# _ estimate electricity levelized cost for grid without medium voltage line\n",
    "# _ estimate electricity levelized cost for grid internal\n",
    "# _ estimate electricity levelized cost for off-grid\n",
    "# _ estimate electricity levelized cost for mini-grid\n",
    "# _ estimate electricity levelized cost for grid without transmission\n",
    "# _ estimate electricity levelized cost for grid with transmission\n",
    "# _ estimate levelized electricity cost for grid without transmission\n",
    "# _ estimate levelized cost of electricity with grid without transmission\n",
    "# _ estimate levelized cost of electricity via grid without transmission\n",
    "# _ estimate levelized cost of electricity for grid without transmission"
   ]
  },
  {
   "cell_type": "code",
   "execution_count": 2,
   "metadata": {
    "collapsed": true
   },
   "outputs": [],
   "source": [
    "# estimate levelized cost of electricity from grid without transmission"
   ]
  },
  {
   "cell_type": "code",
   "execution_count": null,
   "metadata": {
    "collapsed": true
   },
   "outputs": [],
   "source": [
    "class GridInternalSystemNodalLevelizedCost(V):\n",
    "\n",
    "    section = 'system (grid)'\n",
    "    option = 'internal system nodal levelized cost'\n",
    "    aliases = ['gr_int_sys_ndl_lvlzd_cst', 'gi_nod_lev']\n",
    "    dependencies = [\n",
    "        demand.ProjectedNodalDiscountedDemand,\n",
    "        GridInternalSystemNodalDiscountedCost,\n",
    "    ]\n",
    "    units = 'dollars per kilowatt-hour'\n",
    "\n",
    "    def compute(self):\n",
    "        if self.get(demand.ProjectedNodalDiscountedDemand) == 0:\n",
    "            return 0\n",
    "        return self.get(GridInternalSystemNodalDiscountedCost) / float(self.get(demand.ProjectedNodalDiscountedDemand))"
   ]
  },
  {
   "cell_type": "code",
   "execution_count": null,
   "metadata": {
    "collapsed": true
   },
   "outputs": [],
   "source": [
    "levelized_cost"
   ]
  }
 ],
 "metadata": {
  "kernelspec": {
   "display_name": "Python 2",
   "language": "python",
   "name": "python2"
  },
  "language_info": {
   "codemirror_mode": {
    "name": "ipython",
    "version": 2
   },
   "file_extension": ".py",
   "mimetype": "text/x-python",
   "name": "python",
   "nbconvert_exporter": "python",
   "pygments_lexer": "ipython2",
   "version": "2.7.10"
  }
 },
 "nbformat": 4,
 "nbformat_minor": 0
}
