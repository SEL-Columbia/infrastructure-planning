{
 "cells": [
  {
   "cell_type": "code",
   "execution_count": 41,
   "metadata": {
    "collapsed": true
   },
   "outputs": [],
   "source": [
    "# Decide tool name\n",
    "# Estimate levelized cost of elecricity from grid before network"
   ]
  },
  {
   "cell_type": "code",
   "execution_count": null,
   "metadata": {
    "collapsed": true
   },
   "outputs": [],
   "source": [
    "\"\"\"\n",
    "estimate pre-network technology cost of electricity\n",
    "estimate levelized cost of electricity from grid before network\n",
    "estimate electricity cost from grid before network\n",
    "\"\"\""
   ]
  },
  {
   "cell_type": "code",
   "execution_count": null,
   "metadata": {
    "collapsed": true
   },
   "outputs": [],
   "source": [
    "\"\"\"\n",
    "Given demand by year, estimate cost by year, discounted cost, levelized cost.\n",
    "\n",
    "PRODUCTION\n",
    "Electricity production cost per year \n",
    "$/yr\n",
    "is proportional to consumption per year\n",
    "is proportional to distribution loss\n",
    "\n",
    "MEDIUM VOLTAGE\n",
    "Line\n",
    "Years 0-X Initial Cost (Labor + Material)\n",
    "Years X-Y Recurring Costs (Labor + Material)\n",
    "\n",
    "LOW VOLTAGE\n",
    "Transformer (sized using multiples of largest available capacity)\n",
    "Years 0-X Initial Cost (Labor + Material)\n",
    "Years X-Y Recurring Costs (Labor + Material)\n",
    "\n",
    "Line\n",
    "Years 0-X Initial Cost (Labor + Material)\n",
    "Years X-Y Recurring Costs (Labor + Material)\n",
    "\"\"\""
   ]
  },
  {
   "cell_type": "code",
   "execution_count": null,
   "metadata": {
    "collapsed": true
   },
   "outputs": [],
   "source": [
    "\"\"\"\n",
    "Consumption by year table\n",
    "Production cost per kilowatt hour\n",
    "Medium voltage line\n",
    "installation\n",
    "labor cost in dollars\n",
    "material cost in dollars\n",
    "time in years\n",
    "maintenance\n",
    "labor cost in dollars\n",
    "material cost in dollars\n",
    "time in years\n",
    "replacement\n",
    "labor cost in dollars\n",
    "material cost in dollars\n",
    "time in years\n",
    "Low voltage transformer\n",
    "Low voltage line\n",
    "\"\"\""
   ]
  },
  {
   "cell_type": "code",
   "execution_count": null,
   "metadata": {
    "collapsed": true
   },
   "outputs": [],
   "source": [
    "\"\"\"\n",
    "+ Discounted cost (pre-network grid discounted cost)\n",
    "= Levelized cost (pre-network grid levelized cost)\n",
    "Cost by year table (pre-network grid cost by year table)\n",
    "    Year\n",
    "    Cost (Populate initial, recurring, replacement costs by year)\n",
    "    Production Cost\n",
    "\n",
    "    Medium Voltage Line Labor Cost\n",
    "    Medium Voltage Line Material Cost\n",
    "\n",
    "    Low Voltage Transformer Labor Cost\n",
    "    Low Voltage Transformer Material Cost\n",
    "\n",
    "    Low Voltage Line Labor Cost\n",
    "    Low Voltage Line Material Cost\n",
    "\"\"\""
   ]
  },
  {
   "cell_type": "code",
   "execution_count": 4,
   "metadata": {
    "collapsed": true
   },
   "outputs": [],
   "source": [
    "from pandas import DataFrame\n",
    "cost_by_year_table = DataFrame([\n",
    "    [2020, 10000],\n",
    "    [2021, 10000],\n",
    "    [2022, 5000],\n",
    "    [2023, 5000],\n",
    "    [2024, 5000],\n",
    "], columns=[\n",
    "    'Year', 'Cost ($)',\n",
    "])\n",
    "discount_rate_percent = 10"
   ]
  },
  {
   "cell_type": "code",
   "execution_count": 5,
   "metadata": {
    "collapsed": false
   },
   "outputs": [
    {
     "data": {
      "text/plain": [
       "30394.781777201009"
      ]
     },
     "execution_count": 5,
     "metadata": {},
     "output_type": "execute_result"
    }
   ],
   "source": [
    "# Discounted cost\n",
    "from infrastructure_planning.finance.valuation import compute_discounted_cash_flow\n",
    "discounted_cost = compute_discounted_cash_flow(\n",
    "    cost_by_year_table[['Year', 'Cost ($)']].values,\n",
    "    discount_rate_percent)\n",
    "discounted_cost"
   ]
  },
  {
   "cell_type": "code",
   "execution_count": 6,
   "metadata": {
    "collapsed": true
   },
   "outputs": [],
   "source": [
    "# Levelized cost\n",
    "consumption_by_year_table = DataFrame([\n",
    "    [2020, 10000],\n",
    "    [2021, 50000],\n",
    "    [2022, 99999],\n",
    "    [2023, 99999],\n",
    "    [2024, 99999],\n",
    "], columns=[\n",
    "    'Year', 'Consumption (kWh)',\n",
    "])"
   ]
  },
  {
   "cell_type": "code",
   "execution_count": 7,
   "metadata": {
    "collapsed": false
   },
   "outputs": [
    {
     "data": {
      "text/plain": [
       "281529.73840584652"
      ]
     },
     "execution_count": 7,
     "metadata": {},
     "output_type": "execute_result"
    }
   ],
   "source": [
    "discounted_consumption = compute_discounted_cash_flow(\n",
    "    consumption_by_year_table[['Year', 'Consumption (kWh)']].values,\n",
    "    discount_rate_percent)\n",
    "discounted_consumption"
   ]
  },
  {
   "cell_type": "code",
   "execution_count": 8,
   "metadata": {
    "collapsed": false
   },
   "outputs": [
    {
     "data": {
      "text/plain": [
       "0.10796295250835854"
      ]
     },
     "execution_count": 8,
     "metadata": {},
     "output_type": "execute_result"
    }
   ],
   "source": [
    "levelized_cost = discounted_cost / float(\n",
    "    discounted_consumption) if discounted_consumption else 0\n",
    "levelized_cost"
   ]
  },
  {
   "cell_type": "code",
   "execution_count": 9,
   "metadata": {
    "collapsed": true
   },
   "outputs": [],
   "source": [
    "# Get production_cost"
   ]
  },
  {
   "cell_type": "code",
   "execution_count": 10,
   "metadata": {
    "collapsed": true
   },
   "outputs": [],
   "source": [
    "# _ Option 1: Row calculation\n",
    "# = Option 2: Table calculation"
   ]
  },
  {
   "cell_type": "code",
   "execution_count": 11,
   "metadata": {
    "collapsed": false
   },
   "outputs": [
    {
     "ename": "NameError",
     "evalue": "name 'self' is not defined",
     "output_type": "error",
     "traceback": [
      "\u001b[1;31m---------------------------------------------------------------------------\u001b[0m",
      "\u001b[1;31mNameError\u001b[0m                                 Traceback (most recent call last)",
      "\u001b[1;32m<ipython-input-11-9691f1aac885>\u001b[0m in \u001b[0;36m<module>\u001b[1;34m()\u001b[0m\n\u001b[0;32m      1\u001b[0m self.get(\n\u001b[0;32m      2\u001b[0m     \u001b[0mGridElectricityCostPerKilowattHour\u001b[0m\u001b[1;33m)\u001b[0m \u001b[1;33m*\u001b[0m \u001b[0mself\u001b[0m\u001b[1;33m.\u001b[0m\u001b[0mget\u001b[0m\u001b[1;33m(\u001b[0m\u001b[1;33m\u001b[0m\u001b[0m\n\u001b[1;32m----> 3\u001b[1;33m     demand.ProjectedNodalDemandPerYear) / float(1 - self.get(DistributionLoss))\n\u001b[0m",
      "\u001b[1;31mNameError\u001b[0m: name 'self' is not defined"
     ]
    }
   ],
   "source": [
    "self.get(\n",
    "    GridElectricityCostPerKilowattHour) * self.get(\n",
    "    demand.ProjectedNodalDemandPerYear) / float(1 - self.get(DistributionLoss))"
   ]
  },
  {
   "cell_type": "code",
   "execution_count": 12,
   "metadata": {
    "collapsed": true
   },
   "outputs": [],
   "source": [
    "# consumption_by_year_table\n",
    "year_column = 'Year'\n",
    "consumption_column = 'Consumption (kWh)'"
   ]
  },
  {
   "cell_type": "code",
   "execution_count": 13,
   "metadata": {
    "collapsed": true
   },
   "outputs": [],
   "source": [
    "distribution_loss_percent = 15\n",
    "grid_electricity_cost_in_dollars_per_kilowatt_hour = 0.15"
   ]
  },
  {
   "cell_type": "code",
   "execution_count": 14,
   "metadata": {
    "collapsed": true
   },
   "outputs": [],
   "source": [
    "consumption_by_year_table[\n",
    "    'Production Cost ($)'\n",
    "] = grid_electricity_cost_in_dollars_per_kilowatt_hour * consumption_by_year_table[\n",
    "    consumption_column\n",
    "] / float(1 - distribution_loss_percent / 100.)"
   ]
  },
  {
   "cell_type": "code",
   "execution_count": 15,
   "metadata": {
    "collapsed": false
   },
   "outputs": [
    {
     "data": {
      "text/html": [
       "<div>\n",
       "<table border=\"1\" class=\"dataframe\">\n",
       "  <thead>\n",
       "    <tr style=\"text-align: right;\">\n",
       "      <th></th>\n",
       "      <th>Year</th>\n",
       "      <th>Consumption (kWh)</th>\n",
       "      <th>Production Cost ($)</th>\n",
       "    </tr>\n",
       "  </thead>\n",
       "  <tbody>\n",
       "    <tr>\n",
       "      <th>0</th>\n",
       "      <td>2020</td>\n",
       "      <td>10000</td>\n",
       "      <td>1764.705882</td>\n",
       "    </tr>\n",
       "    <tr>\n",
       "      <th>1</th>\n",
       "      <td>2021</td>\n",
       "      <td>50000</td>\n",
       "      <td>8823.529412</td>\n",
       "    </tr>\n",
       "    <tr>\n",
       "      <th>2</th>\n",
       "      <td>2022</td>\n",
       "      <td>99999</td>\n",
       "      <td>17646.882353</td>\n",
       "    </tr>\n",
       "    <tr>\n",
       "      <th>3</th>\n",
       "      <td>2023</td>\n",
       "      <td>99999</td>\n",
       "      <td>17646.882353</td>\n",
       "    </tr>\n",
       "    <tr>\n",
       "      <th>4</th>\n",
       "      <td>2024</td>\n",
       "      <td>99999</td>\n",
       "      <td>17646.882353</td>\n",
       "    </tr>\n",
       "  </tbody>\n",
       "</table>\n",
       "</div>"
      ],
      "text/plain": [
       "   Year  Consumption (kWh)  Production Cost ($)\n",
       "0  2020              10000          1764.705882\n",
       "1  2021              50000          8823.529412\n",
       "2  2022              99999         17646.882353\n",
       "3  2023              99999         17646.882353\n",
       "4  2024              99999         17646.882353"
      ]
     },
     "execution_count": 15,
     "metadata": {},
     "output_type": "execute_result"
    }
   ],
   "source": [
    "consumption_by_year_table"
   ]
  },
  {
   "cell_type": "code",
   "execution_count": 16,
   "metadata": {
    "collapsed": false
   },
   "outputs": [
    {
     "data": {
      "text/plain": [
       "'\\ninstallation\\n    labor cost in dollars\\n    material cost in dollars\\n    time in years\\nmaintenance\\n    labor cost in dollars\\n    material cost in dollars\\n    time in years\\nreplacement\\n    labor cost in dollars\\n    material cost in dollars\\n    time in years\\n'"
      ]
     },
     "execution_count": 16,
     "metadata": {},
     "output_type": "execute_result"
    }
   ],
   "source": [
    "# Get low voltage transformer cost\n",
    "# Labor\n",
    "# Material\n",
    "\n",
    "# grid_low_voltage_transformer_installation_material_cost_in_dollars\n",
    "# Low Voltage Transformer Installation Material Cost ($)\n",
    "\n",
    "\"\"\"\n",
    "installation\n",
    "    labor cost in dollars\n",
    "    material cost in dollars\n",
    "    time in years\n",
    "maintenance\n",
    "    labor cost in dollars\n",
    "    material cost in dollars\n",
    "    time in years\n",
    "replacement\n",
    "    labor cost in dollars\n",
    "    material cost in dollars\n",
    "    time in years\n",
    "\"\"\""
   ]
  },
  {
   "cell_type": "code",
   "execution_count": 17,
   "metadata": {
    "collapsed": true
   },
   "outputs": [],
   "source": [
    "# + Translate components into variable names\n",
    "# = Identify equivalents from old model\n",
    "# Place into table"
   ]
  },
  {
   "cell_type": "code",
   "execution_count": 18,
   "metadata": {
    "collapsed": true
   },
   "outputs": [],
   "source": [
    "grid_low_voltage_transformer_installation_labor_cost_in_dollars_per_year = 500000\n",
    "grid_low_voltage_transformer_installation_material_cost_in_dollars = 100000\n",
    "grid_low_voltage_transformer_installation_time_in_years = 2\n",
    "\n",
    "grid_low_voltage_transformer_maintenance_labor_cost_in_dollars_per_year = 50000\n",
    "grid_low_voltage_transformer_maintenance_material_cost_in_dollars_per_year = 1000\n",
    "grid_low_voltage_transformer_maintenance_time_in_years = 10\n",
    "\n",
    "grid_low_voltage_transformer_replacement_labor_cost_in_dollars_per_year = 50000\n",
    "grid_low_voltage_transformer_replacement_material_cost_in_dollars = 150000\n",
    "grid_low_voltage_transformer_replacement_time_in_years = 3"
   ]
  },
  {
   "cell_type": "code",
   "execution_count": 19,
   "metadata": {
    "collapsed": true
   },
   "outputs": [],
   "source": [
    "# consumption_by_year_table\n",
    "# ... above variables\n",
    "\n",
    "# Given a number of years, generate array that we can just assign as a column in the table"
   ]
  },
  {
   "cell_type": "code",
   "execution_count": 20,
   "metadata": {
    "collapsed": false
   },
   "outputs": [
    {
     "data": {
      "text/html": [
       "<div>\n",
       "<table border=\"1\" class=\"dataframe\">\n",
       "  <thead>\n",
       "    <tr style=\"text-align: right;\">\n",
       "      <th></th>\n",
       "      <th>Year</th>\n",
       "      <th>Consumption (kWh)</th>\n",
       "      <th>Production Cost ($)</th>\n",
       "    </tr>\n",
       "  </thead>\n",
       "  <tbody>\n",
       "    <tr>\n",
       "      <th>0</th>\n",
       "      <td>2020</td>\n",
       "      <td>10000</td>\n",
       "      <td>1764.705882</td>\n",
       "    </tr>\n",
       "    <tr>\n",
       "      <th>1</th>\n",
       "      <td>2021</td>\n",
       "      <td>50000</td>\n",
       "      <td>8823.529412</td>\n",
       "    </tr>\n",
       "    <tr>\n",
       "      <th>2</th>\n",
       "      <td>2022</td>\n",
       "      <td>99999</td>\n",
       "      <td>17646.882353</td>\n",
       "    </tr>\n",
       "    <tr>\n",
       "      <th>3</th>\n",
       "      <td>2023</td>\n",
       "      <td>99999</td>\n",
       "      <td>17646.882353</td>\n",
       "    </tr>\n",
       "    <tr>\n",
       "      <th>4</th>\n",
       "      <td>2024</td>\n",
       "      <td>99999</td>\n",
       "      <td>17646.882353</td>\n",
       "    </tr>\n",
       "  </tbody>\n",
       "</table>\n",
       "</div>"
      ],
      "text/plain": [
       "   Year  Consumption (kWh)  Production Cost ($)\n",
       "0  2020              10000          1764.705882\n",
       "1  2021              50000          8823.529412\n",
       "2  2022              99999         17646.882353\n",
       "3  2023              99999         17646.882353\n",
       "4  2024              99999         17646.882353"
      ]
     },
     "execution_count": 20,
     "metadata": {},
     "output_type": "execute_result"
    }
   ],
   "source": [
    "# Is it safe to assume that there are no duplicate years?\n",
    "consumption_by_year_table"
   ]
  },
  {
   "cell_type": "code",
   "execution_count": 21,
   "metadata": {
    "collapsed": false
   },
   "outputs": [
    {
     "data": {
      "text/html": [
       "<div>\n",
       "<table border=\"1\" class=\"dataframe\">\n",
       "  <thead>\n",
       "    <tr style=\"text-align: right;\">\n",
       "      <th></th>\n",
       "      <th>Year</th>\n",
       "      <th>Value</th>\n",
       "    </tr>\n",
       "  </thead>\n",
       "  <tbody>\n",
       "    <tr>\n",
       "      <th>0</th>\n",
       "      <td>2020</td>\n",
       "      <td>one</td>\n",
       "    </tr>\n",
       "    <tr>\n",
       "      <th>1</th>\n",
       "      <td>2020</td>\n",
       "      <td>two</td>\n",
       "    </tr>\n",
       "    <tr>\n",
       "      <th>2</th>\n",
       "      <td>2021</td>\n",
       "      <td>three</td>\n",
       "    </tr>\n",
       "    <tr>\n",
       "      <th>3</th>\n",
       "      <td>2022</td>\n",
       "      <td>four</td>\n",
       "    </tr>\n",
       "  </tbody>\n",
       "</table>\n",
       "</div>"
      ],
      "text/plain": [
       "   Year  Value\n",
       "0  2020    one\n",
       "1  2020    two\n",
       "2  2021  three\n",
       "3  2022   four"
      ]
     },
     "execution_count": 21,
     "metadata": {},
     "output_type": "execute_result"
    }
   ],
   "source": [
    "from pandas import DataFrame\n",
    "df = DataFrame([\n",
    "    [2020, 'one'],\n",
    "    [2020, 'two'],\n",
    "    [2021, 'three'],\n",
    "    [2022, 'four'],\n",
    "], columns=[\n",
    "    'Year', 'Value',\n",
    "])\n",
    "df"
   ]
  },
  {
   "cell_type": "code",
   "execution_count": 22,
   "metadata": {
    "collapsed": false
   },
   "outputs": [
    {
     "data": {
      "text/html": [
       "<div>\n",
       "<table border=\"1\" class=\"dataframe\">\n",
       "  <thead>\n",
       "    <tr style=\"text-align: right;\">\n",
       "      <th></th>\n",
       "      <th>Year</th>\n",
       "      <th>Value</th>\n",
       "    </tr>\n",
       "  </thead>\n",
       "  <tbody>\n",
       "    <tr>\n",
       "      <th>0</th>\n",
       "      <td>2020</td>\n",
       "      <td>one</td>\n",
       "    </tr>\n",
       "    <tr>\n",
       "      <th>2</th>\n",
       "      <td>2021</td>\n",
       "      <td>three</td>\n",
       "    </tr>\n",
       "    <tr>\n",
       "      <th>3</th>\n",
       "      <td>2022</td>\n",
       "      <td>four</td>\n",
       "    </tr>\n",
       "  </tbody>\n",
       "</table>\n",
       "</div>"
      ],
      "text/plain": [
       "   Year  Value\n",
       "0  2020    one\n",
       "2  2021  three\n",
       "3  2022   four"
      ]
     },
     "execution_count": 22,
     "metadata": {},
     "output_type": "execute_result"
    }
   ],
   "source": [
    "# We need to do this for the initial consumption table\n",
    "df.drop_duplicates('Year')"
   ]
  },
  {
   "cell_type": "code",
   "execution_count": 23,
   "metadata": {
    "collapsed": false
   },
   "outputs": [
    {
     "data": {
      "text/plain": [
       "5"
      ]
     },
     "execution_count": 23,
     "metadata": {},
     "output_type": "execute_result"
    }
   ],
   "source": [
    "len(consumption_by_year_table)"
   ]
  },
  {
   "cell_type": "code",
   "execution_count": 24,
   "metadata": {
    "collapsed": true
   },
   "outputs": [],
   "source": [
    "year_count = 30\n",
    "\n",
    "installation_labor_cost_in_dollars_per_year = 500000\n",
    "installation_material_cost_in_dollars = 100000\n",
    "installation_time_in_years = 2\n",
    "\n",
    "maintenance_labor_cost_in_dollars_per_year = 50000\n",
    "maintenance_material_cost_in_dollars_per_year = 1000\n",
    "maintenance_time_in_years = 10\n",
    "\n",
    "replacement_labor_cost_in_dollars_per_year = 50000\n",
    "replacement_material_cost_in_dollars = 150000\n",
    "replacement_time_in_years = 3"
   ]
  },
  {
   "cell_type": "code",
   "execution_count": 25,
   "metadata": {
    "collapsed": true
   },
   "outputs": [],
   "source": [
    "from pandas import DataFrame"
   ]
  },
  {
   "cell_type": "code",
   "execution_count": null,
   "metadata": {
    "collapsed": false
   },
   "outputs": [],
   "source": []
  },
  {
   "cell_type": "code",
   "execution_count": 26,
   "metadata": {
    "collapsed": false
   },
   "outputs": [
    {
     "data": {
      "text/html": [
       "<div>\n",
       "<table border=\"1\" class=\"dataframe\">\n",
       "  <thead>\n",
       "    <tr style=\"text-align: right;\">\n",
       "      <th></th>\n",
       "      <th>LV Transformer Installation Labor Cost ($)</th>\n",
       "      <th>LV Transformer Installation Material Cost ($)</th>\n",
       "      <th>LV Transformer Maintenance Labor Cost ($)</th>\n",
       "      <th>LV Transformer Maintenance Material Cost ($)</th>\n",
       "      <th>LV Transformer Replacement Labor Cost ($)</th>\n",
       "      <th>LV Transformer Replacement Material Cost ($)</th>\n",
       "    </tr>\n",
       "  </thead>\n",
       "  <tbody>\n",
       "  </tbody>\n",
       "</table>\n",
       "</div>"
      ],
      "text/plain": [
       "Empty DataFrame\n",
       "Columns: [LV Transformer Installation Labor Cost ($), LV Transformer Installation Material Cost ($), LV Transformer Maintenance Labor Cost ($), LV Transformer Maintenance Material Cost ($), LV Transformer Replacement Labor Cost ($), LV Transformer Replacement Material Cost ($)]\n",
       "Index: []"
      ]
     },
     "execution_count": 26,
     "metadata": {},
     "output_type": "execute_result"
    }
   ],
   "source": [
    "prefix = 'LV Transformer'\n",
    "table = DataFrame({\n",
    "    prefix + ' Installation Labor Cost ($)': [],\n",
    "    prefix + ' Installation Material Cost ($)': [],\n",
    "    prefix + ' Maintenance Labor Cost ($)': [],\n",
    "    prefix + ' Maintenance Material Cost ($)': [],\n",
    "    prefix + ' Replacement Labor Cost ($)': [],\n",
    "    prefix + ' Replacement Material Cost ($)': [],\n",
    "})\n",
    "table"
   ]
  },
  {
   "cell_type": "code",
   "execution_count": 27,
   "metadata": {
    "collapsed": false
   },
   "outputs": [
    {
     "data": {
      "text/plain": [
       "array([ 0.,  0.,  0.,  0.,  0.,  0.,  0.,  0.,  0.,  0.,  0.,  0.,  0.,\n",
       "        0.,  0.,  0.,  0.,  0.,  0.,  0.,  0.,  0.,  0.,  0.,  0.,  0.,\n",
       "        0.,  0.,  0.,  0.])"
      ]
     },
     "execution_count": 27,
     "metadata": {},
     "output_type": "execute_result"
    }
   ],
   "source": [
    "import numpy as np\n",
    "installation_labor_costs = np.zeros(year_count)\n",
    "installation_labor_costs"
   ]
  },
  {
   "cell_type": "code",
   "execution_count": 28,
   "metadata": {
    "collapsed": false
   },
   "outputs": [
    {
     "data": {
      "text/plain": [
       "array([ 500000.,  500000.,       0.,       0.,       0.,       0.,\n",
       "             0.,       0.,       0.,       0.,       0.,       0.,\n",
       "             0.,       0.,       0.,       0.,       0.,       0.,\n",
       "             0.,       0.,       0.,       0.,       0.,       0.,\n",
       "             0.,       0.,       0.,       0.,       0.,       0.])"
      ]
     },
     "execution_count": 28,
     "metadata": {},
     "output_type": "execute_result"
    }
   ],
   "source": [
    "import numpy as np\n",
    "installation_labor_costs = np.zeros(year_count)\n",
    "installation_labor_costs[:installation_time_in_years] = installation_labor_cost_in_dollars_per_year\n",
    "installation_labor_costs"
   ]
  },
  {
   "cell_type": "code",
   "execution_count": 29,
   "metadata": {
    "collapsed": false
   },
   "outputs": [
    {
     "data": {
      "text/plain": [
       "array([ 100000.,       0.,       0.,       0.,       0.,       0.,\n",
       "             0.,       0.,       0.,       0.,       0.,       0.,\n",
       "             0.,       0.,       0.,       0.,       0.,       0.,\n",
       "             0.,       0.,       0.,       0.,       0.,       0.,\n",
       "             0.,       0.,       0.,       0.,       0.,       0.])"
      ]
     },
     "execution_count": 29,
     "metadata": {},
     "output_type": "execute_result"
    }
   ],
   "source": [
    "installation_material_costs = np.zeros(year_count)\n",
    "installation_material_costs[0] = installation_material_cost_in_dollars\n",
    "installation_material_costs"
   ]
  },
  {
   "cell_type": "code",
   "execution_count": 30,
   "metadata": {
    "collapsed": true
   },
   "outputs": [],
   "source": [
    "year_count = 30\n",
    "\n",
    "installation_labor_cost_in_dollars_per_year = 500000\n",
    "installation_material_cost_in_dollars = 100000\n",
    "installation_time_in_years = 2\n",
    "\n",
    "maintenance_labor_cost_in_dollars_per_year = 50000\n",
    "maintenance_material_cost_in_dollars_per_year = 1000\n",
    "maintenance_time_in_years = 10\n",
    "\n",
    "replacement_labor_cost_in_dollars_per_year = 50000\n",
    "replacement_material_cost_in_dollars = 150000\n",
    "replacement_time_in_years = 3"
   ]
  },
  {
   "cell_type": "code",
   "execution_count": 31,
   "metadata": {
    "collapsed": false
   },
   "outputs": [
    {
     "data": {
      "text/plain": [
       "array([ 0.,  0.,  0.,  0.,  0.,  0.,  0.,  0.,  0.,  0.,  0.,  0.,  0.,\n",
       "        0.,  0.,  0.,  0.,  0.,  0.,  0.,  0.,  0.,  0.,  0.,  0.,  0.,\n",
       "        0.,  0.,  0.,  0.])"
      ]
     },
     "execution_count": 31,
     "metadata": {},
     "output_type": "execute_result"
    }
   ],
   "source": [
    "x = np.zeros(year_count)\n",
    "x"
   ]
  },
  {
   "cell_type": "code",
   "execution_count": 32,
   "metadata": {
    "collapsed": false
   },
   "outputs": [
    {
     "data": {
      "text/plain": [
       "0.0"
      ]
     },
     "execution_count": 32,
     "metadata": {},
     "output_type": "execute_result"
    }
   ],
   "source": [
    "x[29]"
   ]
  },
  {
   "cell_type": "code",
   "execution_count": 33,
   "metadata": {
    "collapsed": false
   },
   "outputs": [
    {
     "data": {
      "text/plain": [
       "array([], dtype=float64)"
      ]
     },
     "execution_count": 33,
     "metadata": {},
     "output_type": "execute_result"
    }
   ],
   "source": [
    "x[30:31]"
   ]
  },
  {
   "cell_type": "code",
   "execution_count": 35,
   "metadata": {
    "collapsed": false
   },
   "outputs": [
    {
     "data": {
      "text/plain": [
       "array([     0.,      0.,  50000.,  50000.,  50000.,  50000.,  50000.,\n",
       "        50000.,  50000.,  50000.,  50000.,  50000.,  50000.,  50000.,\n",
       "        50000.,  50000.,  50000.,  50000.,  50000.,  50000.,  50000.,\n",
       "        50000.,  50000.,  50000.,  50000.,  50000.,  50000.,  50000.,\n",
       "        50000.,  50000.])"
      ]
     },
     "execution_count": 35,
     "metadata": {},
     "output_type": "execute_result"
    }
   ],
   "source": [
    "maintenance_labor_costs = np.zeros(year_count)\n",
    "maintenance_labor_costs[installation_time_in_years:] = maintenance_labor_cost_in_dollars_per_year\n",
    "maintenance_labor_costs"
   ]
  },
  {
   "cell_type": "code",
   "execution_count": 43,
   "metadata": {
    "collapsed": false
   },
   "outputs": [
    {
     "data": {
      "text/plain": [
       "array([    0.,     0.,  1000.,  1000.,  1000.,  1000.,  1000.,  1000.,\n",
       "        1000.,  1000.,  1000.,  1000.,  1000.,  1000.,  1000.,  1000.,\n",
       "        1000.,  1000.,  1000.,  1000.,  1000.,  1000.,  1000.,  1000.,\n",
       "        1000.,  1000.,  1000.,  1000.,  1000.,  1000.])"
      ]
     },
     "execution_count": 43,
     "metadata": {},
     "output_type": "execute_result"
    }
   ],
   "source": [
    "maintenance_material_costs = np.zeros(year_count)\n",
    "maintenance_material_costs[installation_time_in_years:] = maintenance_material_cost_in_dollars_per_year\n",
    "maintenance_material_costs"
   ]
  },
  {
   "cell_type": "code",
   "execution_count": 39,
   "metadata": {
    "collapsed": false
   },
   "outputs": [
    {
     "data": {
      "text/plain": [
       "array([     0.,      0.,      0.,      0.,      0.,      0.,      0.,\n",
       "            0.,      0.,      0.,      0.,      0.,  50000.,  50000.,\n",
       "        50000.,      0.,      0.,      0.,      0.,      0.,      0.,\n",
       "            0.,      0.,      0.,      0.,  50000.,  50000.,  50000.,\n",
       "            0.,      0.])"
      ]
     },
     "execution_count": 39,
     "metadata": {},
     "output_type": "execute_result"
    }
   ],
   "source": [
    "replacement_labor_costs = np.zeros(year_count)\n",
    "index1 = installation_time_in_years + maintenance_time_in_years\n",
    "index2 = index1 + replacement_time_in_years\n",
    "while index1 < year_count:\n",
    "    replacement_labor_costs[index1:index2] = replacement_labor_cost_in_dollars_per_year\n",
    "    index1 = index2 + maintenance_time_in_years\n",
    "    index2 = index1 + replacement_time_in_years\n",
    "replacement_labor_costs"
   ]
  },
  {
   "cell_type": "code",
   "execution_count": 42,
   "metadata": {
    "collapsed": false
   },
   "outputs": [
    {
     "data": {
      "text/plain": [
       "array([      0.,       0.,       0.,       0.,       0.,       0.,\n",
       "             0.,       0.,       0.,       0.,       0.,       0.,\n",
       "        150000.,       0.,       0.,       0.,       0.,       0.,\n",
       "             0.,       0.,       0.,       0.,       0.,       0.,\n",
       "             0.,  150000.,       0.,       0.,       0.,       0.])"
      ]
     },
     "execution_count": 42,
     "metadata": {},
     "output_type": "execute_result"
    }
   ],
   "source": [
    "replacement_material_costs = np.zeros(year_count)\n",
    "index1 = installation_time_in_years + maintenance_time_in_years\n",
    "while index1 < year_count:\n",
    "    replacement_material_costs[index1] = replacement_material_cost_in_dollars\n",
    "    index1 += maintenance_time_in_years + replacement_time_in_years\n",
    "replacement_material_costs"
   ]
  },
  {
   "cell_type": "code",
   "execution_count": 44,
   "metadata": {
    "collapsed": false
   },
   "outputs": [
    {
     "data": {
      "text/html": [
       "<div>\n",
       "<table border=\"1\" class=\"dataframe\">\n",
       "  <thead>\n",
       "    <tr style=\"text-align: right;\">\n",
       "      <th></th>\n",
       "      <th>LV Transformer Installation Labor Cost ($)</th>\n",
       "      <th>LV Transformer Installation Material Cost ($)</th>\n",
       "      <th>LV Transformer Maintenance Labor Cost ($)</th>\n",
       "      <th>LV Transformer Maintenance Material Cost ($)</th>\n",
       "      <th>LV Transformer Replacement Labor Cost ($)</th>\n",
       "      <th>LV Transformer Replacement Material Cost ($)</th>\n",
       "    </tr>\n",
       "  </thead>\n",
       "  <tbody>\n",
       "    <tr>\n",
       "      <th>0</th>\n",
       "      <td>500000</td>\n",
       "      <td>100000</td>\n",
       "      <td>0</td>\n",
       "      <td>0</td>\n",
       "      <td>0</td>\n",
       "      <td>0</td>\n",
       "    </tr>\n",
       "    <tr>\n",
       "      <th>1</th>\n",
       "      <td>500000</td>\n",
       "      <td>0</td>\n",
       "      <td>0</td>\n",
       "      <td>0</td>\n",
       "      <td>0</td>\n",
       "      <td>0</td>\n",
       "    </tr>\n",
       "    <tr>\n",
       "      <th>2</th>\n",
       "      <td>0</td>\n",
       "      <td>0</td>\n",
       "      <td>50000</td>\n",
       "      <td>1000</td>\n",
       "      <td>0</td>\n",
       "      <td>0</td>\n",
       "    </tr>\n",
       "    <tr>\n",
       "      <th>3</th>\n",
       "      <td>0</td>\n",
       "      <td>0</td>\n",
       "      <td>50000</td>\n",
       "      <td>1000</td>\n",
       "      <td>0</td>\n",
       "      <td>0</td>\n",
       "    </tr>\n",
       "    <tr>\n",
       "      <th>4</th>\n",
       "      <td>0</td>\n",
       "      <td>0</td>\n",
       "      <td>50000</td>\n",
       "      <td>1000</td>\n",
       "      <td>0</td>\n",
       "      <td>0</td>\n",
       "    </tr>\n",
       "    <tr>\n",
       "      <th>5</th>\n",
       "      <td>0</td>\n",
       "      <td>0</td>\n",
       "      <td>50000</td>\n",
       "      <td>1000</td>\n",
       "      <td>0</td>\n",
       "      <td>0</td>\n",
       "    </tr>\n",
       "    <tr>\n",
       "      <th>6</th>\n",
       "      <td>0</td>\n",
       "      <td>0</td>\n",
       "      <td>50000</td>\n",
       "      <td>1000</td>\n",
       "      <td>0</td>\n",
       "      <td>0</td>\n",
       "    </tr>\n",
       "    <tr>\n",
       "      <th>7</th>\n",
       "      <td>0</td>\n",
       "      <td>0</td>\n",
       "      <td>50000</td>\n",
       "      <td>1000</td>\n",
       "      <td>0</td>\n",
       "      <td>0</td>\n",
       "    </tr>\n",
       "    <tr>\n",
       "      <th>8</th>\n",
       "      <td>0</td>\n",
       "      <td>0</td>\n",
       "      <td>50000</td>\n",
       "      <td>1000</td>\n",
       "      <td>0</td>\n",
       "      <td>0</td>\n",
       "    </tr>\n",
       "    <tr>\n",
       "      <th>9</th>\n",
       "      <td>0</td>\n",
       "      <td>0</td>\n",
       "      <td>50000</td>\n",
       "      <td>1000</td>\n",
       "      <td>0</td>\n",
       "      <td>0</td>\n",
       "    </tr>\n",
       "    <tr>\n",
       "      <th>10</th>\n",
       "      <td>0</td>\n",
       "      <td>0</td>\n",
       "      <td>50000</td>\n",
       "      <td>1000</td>\n",
       "      <td>0</td>\n",
       "      <td>0</td>\n",
       "    </tr>\n",
       "    <tr>\n",
       "      <th>11</th>\n",
       "      <td>0</td>\n",
       "      <td>0</td>\n",
       "      <td>50000</td>\n",
       "      <td>1000</td>\n",
       "      <td>0</td>\n",
       "      <td>0</td>\n",
       "    </tr>\n",
       "    <tr>\n",
       "      <th>12</th>\n",
       "      <td>0</td>\n",
       "      <td>0</td>\n",
       "      <td>50000</td>\n",
       "      <td>1000</td>\n",
       "      <td>50000</td>\n",
       "      <td>150000</td>\n",
       "    </tr>\n",
       "    <tr>\n",
       "      <th>13</th>\n",
       "      <td>0</td>\n",
       "      <td>0</td>\n",
       "      <td>50000</td>\n",
       "      <td>1000</td>\n",
       "      <td>50000</td>\n",
       "      <td>0</td>\n",
       "    </tr>\n",
       "    <tr>\n",
       "      <th>14</th>\n",
       "      <td>0</td>\n",
       "      <td>0</td>\n",
       "      <td>50000</td>\n",
       "      <td>1000</td>\n",
       "      <td>50000</td>\n",
       "      <td>0</td>\n",
       "    </tr>\n",
       "    <tr>\n",
       "      <th>15</th>\n",
       "      <td>0</td>\n",
       "      <td>0</td>\n",
       "      <td>50000</td>\n",
       "      <td>1000</td>\n",
       "      <td>0</td>\n",
       "      <td>0</td>\n",
       "    </tr>\n",
       "    <tr>\n",
       "      <th>16</th>\n",
       "      <td>0</td>\n",
       "      <td>0</td>\n",
       "      <td>50000</td>\n",
       "      <td>1000</td>\n",
       "      <td>0</td>\n",
       "      <td>0</td>\n",
       "    </tr>\n",
       "    <tr>\n",
       "      <th>17</th>\n",
       "      <td>0</td>\n",
       "      <td>0</td>\n",
       "      <td>50000</td>\n",
       "      <td>1000</td>\n",
       "      <td>0</td>\n",
       "      <td>0</td>\n",
       "    </tr>\n",
       "    <tr>\n",
       "      <th>18</th>\n",
       "      <td>0</td>\n",
       "      <td>0</td>\n",
       "      <td>50000</td>\n",
       "      <td>1000</td>\n",
       "      <td>0</td>\n",
       "      <td>0</td>\n",
       "    </tr>\n",
       "    <tr>\n",
       "      <th>19</th>\n",
       "      <td>0</td>\n",
       "      <td>0</td>\n",
       "      <td>50000</td>\n",
       "      <td>1000</td>\n",
       "      <td>0</td>\n",
       "      <td>0</td>\n",
       "    </tr>\n",
       "    <tr>\n",
       "      <th>20</th>\n",
       "      <td>0</td>\n",
       "      <td>0</td>\n",
       "      <td>50000</td>\n",
       "      <td>1000</td>\n",
       "      <td>0</td>\n",
       "      <td>0</td>\n",
       "    </tr>\n",
       "    <tr>\n",
       "      <th>21</th>\n",
       "      <td>0</td>\n",
       "      <td>0</td>\n",
       "      <td>50000</td>\n",
       "      <td>1000</td>\n",
       "      <td>0</td>\n",
       "      <td>0</td>\n",
       "    </tr>\n",
       "    <tr>\n",
       "      <th>22</th>\n",
       "      <td>0</td>\n",
       "      <td>0</td>\n",
       "      <td>50000</td>\n",
       "      <td>1000</td>\n",
       "      <td>0</td>\n",
       "      <td>0</td>\n",
       "    </tr>\n",
       "    <tr>\n",
       "      <th>23</th>\n",
       "      <td>0</td>\n",
       "      <td>0</td>\n",
       "      <td>50000</td>\n",
       "      <td>1000</td>\n",
       "      <td>0</td>\n",
       "      <td>0</td>\n",
       "    </tr>\n",
       "    <tr>\n",
       "      <th>24</th>\n",
       "      <td>0</td>\n",
       "      <td>0</td>\n",
       "      <td>50000</td>\n",
       "      <td>1000</td>\n",
       "      <td>0</td>\n",
       "      <td>0</td>\n",
       "    </tr>\n",
       "    <tr>\n",
       "      <th>25</th>\n",
       "      <td>0</td>\n",
       "      <td>0</td>\n",
       "      <td>50000</td>\n",
       "      <td>1000</td>\n",
       "      <td>50000</td>\n",
       "      <td>150000</td>\n",
       "    </tr>\n",
       "    <tr>\n",
       "      <th>26</th>\n",
       "      <td>0</td>\n",
       "      <td>0</td>\n",
       "      <td>50000</td>\n",
       "      <td>1000</td>\n",
       "      <td>50000</td>\n",
       "      <td>0</td>\n",
       "    </tr>\n",
       "    <tr>\n",
       "      <th>27</th>\n",
       "      <td>0</td>\n",
       "      <td>0</td>\n",
       "      <td>50000</td>\n",
       "      <td>1000</td>\n",
       "      <td>50000</td>\n",
       "      <td>0</td>\n",
       "    </tr>\n",
       "    <tr>\n",
       "      <th>28</th>\n",
       "      <td>0</td>\n",
       "      <td>0</td>\n",
       "      <td>50000</td>\n",
       "      <td>1000</td>\n",
       "      <td>0</td>\n",
       "      <td>0</td>\n",
       "    </tr>\n",
       "    <tr>\n",
       "      <th>29</th>\n",
       "      <td>0</td>\n",
       "      <td>0</td>\n",
       "      <td>50000</td>\n",
       "      <td>1000</td>\n",
       "      <td>0</td>\n",
       "      <td>0</td>\n",
       "    </tr>\n",
       "  </tbody>\n",
       "</table>\n",
       "</div>"
      ],
      "text/plain": [
       "    LV Transformer Installation Labor Cost ($)  \\\n",
       "0                                       500000   \n",
       "1                                       500000   \n",
       "2                                            0   \n",
       "3                                            0   \n",
       "4                                            0   \n",
       "5                                            0   \n",
       "6                                            0   \n",
       "7                                            0   \n",
       "8                                            0   \n",
       "9                                            0   \n",
       "10                                           0   \n",
       "11                                           0   \n",
       "12                                           0   \n",
       "13                                           0   \n",
       "14                                           0   \n",
       "15                                           0   \n",
       "16                                           0   \n",
       "17                                           0   \n",
       "18                                           0   \n",
       "19                                           0   \n",
       "20                                           0   \n",
       "21                                           0   \n",
       "22                                           0   \n",
       "23                                           0   \n",
       "24                                           0   \n",
       "25                                           0   \n",
       "26                                           0   \n",
       "27                                           0   \n",
       "28                                           0   \n",
       "29                                           0   \n",
       "\n",
       "    LV Transformer Installation Material Cost ($)  \\\n",
       "0                                          100000   \n",
       "1                                               0   \n",
       "2                                               0   \n",
       "3                                               0   \n",
       "4                                               0   \n",
       "5                                               0   \n",
       "6                                               0   \n",
       "7                                               0   \n",
       "8                                               0   \n",
       "9                                               0   \n",
       "10                                              0   \n",
       "11                                              0   \n",
       "12                                              0   \n",
       "13                                              0   \n",
       "14                                              0   \n",
       "15                                              0   \n",
       "16                                              0   \n",
       "17                                              0   \n",
       "18                                              0   \n",
       "19                                              0   \n",
       "20                                              0   \n",
       "21                                              0   \n",
       "22                                              0   \n",
       "23                                              0   \n",
       "24                                              0   \n",
       "25                                              0   \n",
       "26                                              0   \n",
       "27                                              0   \n",
       "28                                              0   \n",
       "29                                              0   \n",
       "\n",
       "    LV Transformer Maintenance Labor Cost ($)  \\\n",
       "0                                           0   \n",
       "1                                           0   \n",
       "2                                       50000   \n",
       "3                                       50000   \n",
       "4                                       50000   \n",
       "5                                       50000   \n",
       "6                                       50000   \n",
       "7                                       50000   \n",
       "8                                       50000   \n",
       "9                                       50000   \n",
       "10                                      50000   \n",
       "11                                      50000   \n",
       "12                                      50000   \n",
       "13                                      50000   \n",
       "14                                      50000   \n",
       "15                                      50000   \n",
       "16                                      50000   \n",
       "17                                      50000   \n",
       "18                                      50000   \n",
       "19                                      50000   \n",
       "20                                      50000   \n",
       "21                                      50000   \n",
       "22                                      50000   \n",
       "23                                      50000   \n",
       "24                                      50000   \n",
       "25                                      50000   \n",
       "26                                      50000   \n",
       "27                                      50000   \n",
       "28                                      50000   \n",
       "29                                      50000   \n",
       "\n",
       "    LV Transformer Maintenance Material Cost ($)  \\\n",
       "0                                              0   \n",
       "1                                              0   \n",
       "2                                           1000   \n",
       "3                                           1000   \n",
       "4                                           1000   \n",
       "5                                           1000   \n",
       "6                                           1000   \n",
       "7                                           1000   \n",
       "8                                           1000   \n",
       "9                                           1000   \n",
       "10                                          1000   \n",
       "11                                          1000   \n",
       "12                                          1000   \n",
       "13                                          1000   \n",
       "14                                          1000   \n",
       "15                                          1000   \n",
       "16                                          1000   \n",
       "17                                          1000   \n",
       "18                                          1000   \n",
       "19                                          1000   \n",
       "20                                          1000   \n",
       "21                                          1000   \n",
       "22                                          1000   \n",
       "23                                          1000   \n",
       "24                                          1000   \n",
       "25                                          1000   \n",
       "26                                          1000   \n",
       "27                                          1000   \n",
       "28                                          1000   \n",
       "29                                          1000   \n",
       "\n",
       "    LV Transformer Replacement Labor Cost ($)  \\\n",
       "0                                           0   \n",
       "1                                           0   \n",
       "2                                           0   \n",
       "3                                           0   \n",
       "4                                           0   \n",
       "5                                           0   \n",
       "6                                           0   \n",
       "7                                           0   \n",
       "8                                           0   \n",
       "9                                           0   \n",
       "10                                          0   \n",
       "11                                          0   \n",
       "12                                      50000   \n",
       "13                                      50000   \n",
       "14                                      50000   \n",
       "15                                          0   \n",
       "16                                          0   \n",
       "17                                          0   \n",
       "18                                          0   \n",
       "19                                          0   \n",
       "20                                          0   \n",
       "21                                          0   \n",
       "22                                          0   \n",
       "23                                          0   \n",
       "24                                          0   \n",
       "25                                      50000   \n",
       "26                                      50000   \n",
       "27                                      50000   \n",
       "28                                          0   \n",
       "29                                          0   \n",
       "\n",
       "    LV Transformer Replacement Material Cost ($)  \n",
       "0                                              0  \n",
       "1                                              0  \n",
       "2                                              0  \n",
       "3                                              0  \n",
       "4                                              0  \n",
       "5                                              0  \n",
       "6                                              0  \n",
       "7                                              0  \n",
       "8                                              0  \n",
       "9                                              0  \n",
       "10                                             0  \n",
       "11                                             0  \n",
       "12                                        150000  \n",
       "13                                             0  \n",
       "14                                             0  \n",
       "15                                             0  \n",
       "16                                             0  \n",
       "17                                             0  \n",
       "18                                             0  \n",
       "19                                             0  \n",
       "20                                             0  \n",
       "21                                             0  \n",
       "22                                             0  \n",
       "23                                             0  \n",
       "24                                             0  \n",
       "25                                        150000  \n",
       "26                                             0  \n",
       "27                                             0  \n",
       "28                                             0  \n",
       "29                                             0  "
      ]
     },
     "execution_count": 44,
     "metadata": {},
     "output_type": "execute_result"
    }
   ],
   "source": [
    "prefix = 'LV Transformer'\n",
    "table = DataFrame({\n",
    "    prefix + ' Installation Labor Cost ($)': installation_labor_costs,\n",
    "    prefix + ' Installation Material Cost ($)': installation_material_costs,\n",
    "    prefix + ' Maintenance Labor Cost ($)': maintenance_labor_costs,\n",
    "    prefix + ' Maintenance Material Cost ($)': maintenance_material_costs,\n",
    "    prefix + ' Replacement Labor Cost ($)': replacement_labor_costs,\n",
    "    prefix + ' Replacement Material Cost ($)': replacement_material_costs,\n",
    "})\n",
    "table"
   ]
  },
  {
   "cell_type": "code",
   "execution_count": null,
   "metadata": {
    "collapsed": true
   },
   "outputs": [],
   "source": [
    "year_count = 30\n",
    "\n",
    "installation_labor_cost_in_dollars_per_year = 500000\n",
    "installation_material_cost_in_dollars = 100000\n",
    "installation_time_in_years = 2\n",
    "\n",
    "maintenance_labor_cost_in_dollars_per_year = 50000\n",
    "maintenance_material_cost_in_dollars_per_year = 1000\n",
    "maintenance_time_in_years = 10\n",
    "\n",
    "replacement_labor_cost_in_dollars_per_year = 50000\n",
    "replacement_material_cost_in_dollars = 150000\n",
    "replacement_time_in_years = 3"
   ]
  },
  {
   "cell_type": "code",
   "execution_count": 47,
   "metadata": {
    "collapsed": false
   },
   "outputs": [
    {
     "data": {
      "text/html": [
       "<div>\n",
       "<table border=\"1\" class=\"dataframe\">\n",
       "  <thead>\n",
       "    <tr style=\"text-align: right;\">\n",
       "      <th></th>\n",
       "      <th>LV Transformer Installation Labor Cost ($)</th>\n",
       "      <th>LV Transformer Installation Material Cost ($)</th>\n",
       "      <th>LV Transformer Maintenance Labor Cost ($)</th>\n",
       "      <th>LV Transformer Maintenance Material Cost ($)</th>\n",
       "      <th>LV Transformer Replacement Labor Cost ($)</th>\n",
       "      <th>LV Transformer Replacement Material Cost ($)</th>\n",
       "    </tr>\n",
       "  </thead>\n",
       "  <tbody>\n",
       "    <tr>\n",
       "      <th>0</th>\n",
       "      <td>500000</td>\n",
       "      <td>100000</td>\n",
       "      <td>0</td>\n",
       "      <td>0</td>\n",
       "      <td>0</td>\n",
       "      <td>0</td>\n",
       "    </tr>\n",
       "    <tr>\n",
       "      <th>1</th>\n",
       "      <td>500000</td>\n",
       "      <td>0</td>\n",
       "      <td>0</td>\n",
       "      <td>0</td>\n",
       "      <td>0</td>\n",
       "      <td>0</td>\n",
       "    </tr>\n",
       "    <tr>\n",
       "      <th>2</th>\n",
       "      <td>0</td>\n",
       "      <td>0</td>\n",
       "      <td>50000</td>\n",
       "      <td>1000</td>\n",
       "      <td>0</td>\n",
       "      <td>0</td>\n",
       "    </tr>\n",
       "    <tr>\n",
       "      <th>3</th>\n",
       "      <td>0</td>\n",
       "      <td>0</td>\n",
       "      <td>50000</td>\n",
       "      <td>1000</td>\n",
       "      <td>0</td>\n",
       "      <td>0</td>\n",
       "    </tr>\n",
       "    <tr>\n",
       "      <th>4</th>\n",
       "      <td>0</td>\n",
       "      <td>0</td>\n",
       "      <td>50000</td>\n",
       "      <td>1000</td>\n",
       "      <td>0</td>\n",
       "      <td>0</td>\n",
       "    </tr>\n",
       "    <tr>\n",
       "      <th>5</th>\n",
       "      <td>0</td>\n",
       "      <td>0</td>\n",
       "      <td>50000</td>\n",
       "      <td>1000</td>\n",
       "      <td>0</td>\n",
       "      <td>0</td>\n",
       "    </tr>\n",
       "    <tr>\n",
       "      <th>6</th>\n",
       "      <td>0</td>\n",
       "      <td>0</td>\n",
       "      <td>50000</td>\n",
       "      <td>1000</td>\n",
       "      <td>0</td>\n",
       "      <td>0</td>\n",
       "    </tr>\n",
       "    <tr>\n",
       "      <th>7</th>\n",
       "      <td>0</td>\n",
       "      <td>0</td>\n",
       "      <td>50000</td>\n",
       "      <td>1000</td>\n",
       "      <td>50000</td>\n",
       "      <td>150000</td>\n",
       "    </tr>\n",
       "    <tr>\n",
       "      <th>8</th>\n",
       "      <td>0</td>\n",
       "      <td>0</td>\n",
       "      <td>50000</td>\n",
       "      <td>1000</td>\n",
       "      <td>50000</td>\n",
       "      <td>0</td>\n",
       "    </tr>\n",
       "    <tr>\n",
       "      <th>9</th>\n",
       "      <td>0</td>\n",
       "      <td>0</td>\n",
       "      <td>50000</td>\n",
       "      <td>1000</td>\n",
       "      <td>50000</td>\n",
       "      <td>0</td>\n",
       "    </tr>\n",
       "    <tr>\n",
       "      <th>10</th>\n",
       "      <td>0</td>\n",
       "      <td>0</td>\n",
       "      <td>50000</td>\n",
       "      <td>1000</td>\n",
       "      <td>0</td>\n",
       "      <td>0</td>\n",
       "    </tr>\n",
       "    <tr>\n",
       "      <th>11</th>\n",
       "      <td>0</td>\n",
       "      <td>0</td>\n",
       "      <td>50000</td>\n",
       "      <td>1000</td>\n",
       "      <td>0</td>\n",
       "      <td>0</td>\n",
       "    </tr>\n",
       "    <tr>\n",
       "      <th>12</th>\n",
       "      <td>0</td>\n",
       "      <td>0</td>\n",
       "      <td>50000</td>\n",
       "      <td>1000</td>\n",
       "      <td>0</td>\n",
       "      <td>0</td>\n",
       "    </tr>\n",
       "    <tr>\n",
       "      <th>13</th>\n",
       "      <td>0</td>\n",
       "      <td>0</td>\n",
       "      <td>50000</td>\n",
       "      <td>1000</td>\n",
       "      <td>0</td>\n",
       "      <td>0</td>\n",
       "    </tr>\n",
       "    <tr>\n",
       "      <th>14</th>\n",
       "      <td>0</td>\n",
       "      <td>0</td>\n",
       "      <td>50000</td>\n",
       "      <td>1000</td>\n",
       "      <td>0</td>\n",
       "      <td>0</td>\n",
       "    </tr>\n",
       "    <tr>\n",
       "      <th>15</th>\n",
       "      <td>0</td>\n",
       "      <td>0</td>\n",
       "      <td>50000</td>\n",
       "      <td>1000</td>\n",
       "      <td>50000</td>\n",
       "      <td>150000</td>\n",
       "    </tr>\n",
       "    <tr>\n",
       "      <th>16</th>\n",
       "      <td>0</td>\n",
       "      <td>0</td>\n",
       "      <td>50000</td>\n",
       "      <td>1000</td>\n",
       "      <td>50000</td>\n",
       "      <td>0</td>\n",
       "    </tr>\n",
       "    <tr>\n",
       "      <th>17</th>\n",
       "      <td>0</td>\n",
       "      <td>0</td>\n",
       "      <td>50000</td>\n",
       "      <td>1000</td>\n",
       "      <td>50000</td>\n",
       "      <td>0</td>\n",
       "    </tr>\n",
       "    <tr>\n",
       "      <th>18</th>\n",
       "      <td>0</td>\n",
       "      <td>0</td>\n",
       "      <td>50000</td>\n",
       "      <td>1000</td>\n",
       "      <td>0</td>\n",
       "      <td>0</td>\n",
       "    </tr>\n",
       "    <tr>\n",
       "      <th>19</th>\n",
       "      <td>0</td>\n",
       "      <td>0</td>\n",
       "      <td>50000</td>\n",
       "      <td>1000</td>\n",
       "      <td>0</td>\n",
       "      <td>0</td>\n",
       "    </tr>\n",
       "    <tr>\n",
       "      <th>20</th>\n",
       "      <td>0</td>\n",
       "      <td>0</td>\n",
       "      <td>50000</td>\n",
       "      <td>1000</td>\n",
       "      <td>0</td>\n",
       "      <td>0</td>\n",
       "    </tr>\n",
       "    <tr>\n",
       "      <th>21</th>\n",
       "      <td>0</td>\n",
       "      <td>0</td>\n",
       "      <td>50000</td>\n",
       "      <td>1000</td>\n",
       "      <td>0</td>\n",
       "      <td>0</td>\n",
       "    </tr>\n",
       "    <tr>\n",
       "      <th>22</th>\n",
       "      <td>0</td>\n",
       "      <td>0</td>\n",
       "      <td>50000</td>\n",
       "      <td>1000</td>\n",
       "      <td>0</td>\n",
       "      <td>0</td>\n",
       "    </tr>\n",
       "    <tr>\n",
       "      <th>23</th>\n",
       "      <td>0</td>\n",
       "      <td>0</td>\n",
       "      <td>50000</td>\n",
       "      <td>1000</td>\n",
       "      <td>50000</td>\n",
       "      <td>150000</td>\n",
       "    </tr>\n",
       "    <tr>\n",
       "      <th>24</th>\n",
       "      <td>0</td>\n",
       "      <td>0</td>\n",
       "      <td>50000</td>\n",
       "      <td>1000</td>\n",
       "      <td>50000</td>\n",
       "      <td>0</td>\n",
       "    </tr>\n",
       "    <tr>\n",
       "      <th>25</th>\n",
       "      <td>0</td>\n",
       "      <td>0</td>\n",
       "      <td>50000</td>\n",
       "      <td>1000</td>\n",
       "      <td>50000</td>\n",
       "      <td>0</td>\n",
       "    </tr>\n",
       "    <tr>\n",
       "      <th>26</th>\n",
       "      <td>0</td>\n",
       "      <td>0</td>\n",
       "      <td>50000</td>\n",
       "      <td>1000</td>\n",
       "      <td>0</td>\n",
       "      <td>0</td>\n",
       "    </tr>\n",
       "    <tr>\n",
       "      <th>27</th>\n",
       "      <td>0</td>\n",
       "      <td>0</td>\n",
       "      <td>50000</td>\n",
       "      <td>1000</td>\n",
       "      <td>0</td>\n",
       "      <td>0</td>\n",
       "    </tr>\n",
       "    <tr>\n",
       "      <th>28</th>\n",
       "      <td>0</td>\n",
       "      <td>0</td>\n",
       "      <td>50000</td>\n",
       "      <td>1000</td>\n",
       "      <td>0</td>\n",
       "      <td>0</td>\n",
       "    </tr>\n",
       "    <tr>\n",
       "      <th>29</th>\n",
       "      <td>0</td>\n",
       "      <td>0</td>\n",
       "      <td>50000</td>\n",
       "      <td>1000</td>\n",
       "      <td>0</td>\n",
       "      <td>0</td>\n",
       "    </tr>\n",
       "  </tbody>\n",
       "</table>\n",
       "</div>"
      ],
      "text/plain": [
       "    LV Transformer Installation Labor Cost ($)  \\\n",
       "0                                       500000   \n",
       "1                                       500000   \n",
       "2                                            0   \n",
       "3                                            0   \n",
       "4                                            0   \n",
       "5                                            0   \n",
       "6                                            0   \n",
       "7                                            0   \n",
       "8                                            0   \n",
       "9                                            0   \n",
       "10                                           0   \n",
       "11                                           0   \n",
       "12                                           0   \n",
       "13                                           0   \n",
       "14                                           0   \n",
       "15                                           0   \n",
       "16                                           0   \n",
       "17                                           0   \n",
       "18                                           0   \n",
       "19                                           0   \n",
       "20                                           0   \n",
       "21                                           0   \n",
       "22                                           0   \n",
       "23                                           0   \n",
       "24                                           0   \n",
       "25                                           0   \n",
       "26                                           0   \n",
       "27                                           0   \n",
       "28                                           0   \n",
       "29                                           0   \n",
       "\n",
       "    LV Transformer Installation Material Cost ($)  \\\n",
       "0                                          100000   \n",
       "1                                               0   \n",
       "2                                               0   \n",
       "3                                               0   \n",
       "4                                               0   \n",
       "5                                               0   \n",
       "6                                               0   \n",
       "7                                               0   \n",
       "8                                               0   \n",
       "9                                               0   \n",
       "10                                              0   \n",
       "11                                              0   \n",
       "12                                              0   \n",
       "13                                              0   \n",
       "14                                              0   \n",
       "15                                              0   \n",
       "16                                              0   \n",
       "17                                              0   \n",
       "18                                              0   \n",
       "19                                              0   \n",
       "20                                              0   \n",
       "21                                              0   \n",
       "22                                              0   \n",
       "23                                              0   \n",
       "24                                              0   \n",
       "25                                              0   \n",
       "26                                              0   \n",
       "27                                              0   \n",
       "28                                              0   \n",
       "29                                              0   \n",
       "\n",
       "    LV Transformer Maintenance Labor Cost ($)  \\\n",
       "0                                           0   \n",
       "1                                           0   \n",
       "2                                       50000   \n",
       "3                                       50000   \n",
       "4                                       50000   \n",
       "5                                       50000   \n",
       "6                                       50000   \n",
       "7                                       50000   \n",
       "8                                       50000   \n",
       "9                                       50000   \n",
       "10                                      50000   \n",
       "11                                      50000   \n",
       "12                                      50000   \n",
       "13                                      50000   \n",
       "14                                      50000   \n",
       "15                                      50000   \n",
       "16                                      50000   \n",
       "17                                      50000   \n",
       "18                                      50000   \n",
       "19                                      50000   \n",
       "20                                      50000   \n",
       "21                                      50000   \n",
       "22                                      50000   \n",
       "23                                      50000   \n",
       "24                                      50000   \n",
       "25                                      50000   \n",
       "26                                      50000   \n",
       "27                                      50000   \n",
       "28                                      50000   \n",
       "29                                      50000   \n",
       "\n",
       "    LV Transformer Maintenance Material Cost ($)  \\\n",
       "0                                              0   \n",
       "1                                              0   \n",
       "2                                           1000   \n",
       "3                                           1000   \n",
       "4                                           1000   \n",
       "5                                           1000   \n",
       "6                                           1000   \n",
       "7                                           1000   \n",
       "8                                           1000   \n",
       "9                                           1000   \n",
       "10                                          1000   \n",
       "11                                          1000   \n",
       "12                                          1000   \n",
       "13                                          1000   \n",
       "14                                          1000   \n",
       "15                                          1000   \n",
       "16                                          1000   \n",
       "17                                          1000   \n",
       "18                                          1000   \n",
       "19                                          1000   \n",
       "20                                          1000   \n",
       "21                                          1000   \n",
       "22                                          1000   \n",
       "23                                          1000   \n",
       "24                                          1000   \n",
       "25                                          1000   \n",
       "26                                          1000   \n",
       "27                                          1000   \n",
       "28                                          1000   \n",
       "29                                          1000   \n",
       "\n",
       "    LV Transformer Replacement Labor Cost ($)  \\\n",
       "0                                           0   \n",
       "1                                           0   \n",
       "2                                           0   \n",
       "3                                           0   \n",
       "4                                           0   \n",
       "5                                           0   \n",
       "6                                           0   \n",
       "7                                       50000   \n",
       "8                                       50000   \n",
       "9                                       50000   \n",
       "10                                          0   \n",
       "11                                          0   \n",
       "12                                          0   \n",
       "13                                          0   \n",
       "14                                          0   \n",
       "15                                      50000   \n",
       "16                                      50000   \n",
       "17                                      50000   \n",
       "18                                          0   \n",
       "19                                          0   \n",
       "20                                          0   \n",
       "21                                          0   \n",
       "22                                          0   \n",
       "23                                      50000   \n",
       "24                                      50000   \n",
       "25                                      50000   \n",
       "26                                          0   \n",
       "27                                          0   \n",
       "28                                          0   \n",
       "29                                          0   \n",
       "\n",
       "    LV Transformer Replacement Material Cost ($)  \n",
       "0                                              0  \n",
       "1                                              0  \n",
       "2                                              0  \n",
       "3                                              0  \n",
       "4                                              0  \n",
       "5                                              0  \n",
       "6                                              0  \n",
       "7                                         150000  \n",
       "8                                              0  \n",
       "9                                              0  \n",
       "10                                             0  \n",
       "11                                             0  \n",
       "12                                             0  \n",
       "13                                             0  \n",
       "14                                             0  \n",
       "15                                        150000  \n",
       "16                                             0  \n",
       "17                                             0  \n",
       "18                                             0  \n",
       "19                                             0  \n",
       "20                                             0  \n",
       "21                                             0  \n",
       "22                                             0  \n",
       "23                                        150000  \n",
       "24                                             0  \n",
       "25                                             0  \n",
       "26                                             0  \n",
       "27                                             0  \n",
       "28                                             0  \n",
       "29                                             0  "
      ]
     },
     "execution_count": 47,
     "metadata": {},
     "output_type": "execute_result"
    }
   ],
   "source": [
    "import numpy as np\n",
    "\n",
    "def get_cost_breakdown_table(\n",
    "        prefix,\n",
    "        year_count,\n",
    "        installation_labor_cost_in_dollars_per_year,\n",
    "        installation_material_cost_in_dollars,\n",
    "        installation_time_in_years,\n",
    "        maintenance_labor_cost_in_dollars_per_year,\n",
    "        maintenance_material_cost_in_dollars_per_year,\n",
    "        maintenance_time_in_years,\n",
    "        replacement_labor_cost_in_dollars_per_year,\n",
    "        replacement_material_cost_in_dollars,\n",
    "        replacement_time_in_years):\n",
    "\n",
    "    installation_labor_costs = np.zeros(year_count)\n",
    "    installation_labor_costs[:installation_time_in_years] = installation_labor_cost_in_dollars_per_year\n",
    "\n",
    "    installation_material_costs = np.zeros(year_count)\n",
    "    installation_material_costs[0] = installation_material_cost_in_dollars\n",
    "\n",
    "    maintenance_labor_costs = np.zeros(year_count)\n",
    "    maintenance_labor_costs[installation_time_in_years:] = maintenance_labor_cost_in_dollars_per_year\n",
    "\n",
    "    maintenance_material_costs = np.zeros(year_count)\n",
    "    maintenance_material_costs[installation_time_in_years:] = maintenance_material_cost_in_dollars_per_year\n",
    "\n",
    "    replacement_labor_costs = np.zeros(year_count)\n",
    "    index1 = installation_time_in_years + maintenance_time_in_years\n",
    "    index2 = index1 + replacement_time_in_years\n",
    "    while index1 < year_count:\n",
    "        replacement_labor_costs[index1:index2] = replacement_labor_cost_in_dollars_per_year\n",
    "        index1 = index2 + maintenance_time_in_years\n",
    "        index2 = index1 + replacement_time_in_years\n",
    "\n",
    "    replacement_material_costs = np.zeros(year_count)\n",
    "    index1 = installation_time_in_years + maintenance_time_in_years\n",
    "    while index1 < year_count:\n",
    "        replacement_material_costs[index1] = replacement_material_cost_in_dollars\n",
    "        index1 += maintenance_time_in_years + replacement_time_in_years\n",
    "    replacement_material_costs\n",
    "\n",
    "    return DataFrame({\n",
    "        prefix + ' Installation Labor Cost ($)': installation_labor_costs,\n",
    "        prefix + ' Installation Material Cost ($)': installation_material_costs,\n",
    "        prefix + ' Maintenance Labor Cost ($)': maintenance_labor_costs,\n",
    "        prefix + ' Maintenance Material Cost ($)': maintenance_material_costs,\n",
    "        prefix + ' Replacement Labor Cost ($)': replacement_labor_costs,\n",
    "        prefix + ' Replacement Material Cost ($)': replacement_material_costs,\n",
    "    })\n",
    "\n",
    "get_cost_breakdown_table(\n",
    "    prefix='LV Transformer',\n",
    "    year_count=30,\n",
    "    installation_labor_cost_in_dollars_per_year=500000,\n",
    "    installation_material_cost_in_dollars=100000,\n",
    "    installation_time_in_years=2,\n",
    "    maintenance_labor_cost_in_dollars_per_year=50000,\n",
    "    maintenance_material_cost_in_dollars_per_year=1000,\n",
    "    maintenance_time_in_years=5,\n",
    "    replacement_labor_cost_in_dollars_per_year=50000,\n",
    "    replacement_material_cost_in_dollars=150000,\n",
    "    replacement_time_in_years=3)"
   ]
  },
  {
   "cell_type": "code",
   "execution_count": null,
   "metadata": {
    "collapsed": true
   },
   "outputs": [],
   "source": []
  }
 ],
 "metadata": {
  "kernelspec": {
   "display_name": "Python 2",
   "language": "python",
   "name": "python2"
  },
  "language_info": {
   "codemirror_mode": {
    "name": "ipython",
    "version": 2
   },
   "file_extension": ".py",
   "mimetype": "text/x-python",
   "name": "python",
   "nbconvert_exporter": "python",
   "pygments_lexer": "ipython2",
   "version": "2.7.10"
  }
 },
 "nbformat": 4,
 "nbformat_minor": 0
}
