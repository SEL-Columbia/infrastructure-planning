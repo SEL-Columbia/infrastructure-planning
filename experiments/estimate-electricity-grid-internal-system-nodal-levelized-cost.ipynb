{
 "cells": [
  {
   "cell_type": "code",
   "execution_count": 1,
   "metadata": {
    "collapsed": true
   },
   "outputs": [],
   "source": [
    "# Decide tool name\n",
    "# _ estimate electricity grid internal system nodal levelized cost\n",
    "# _ estimate electricity levelized cost for grid without medium voltage line\n",
    "# _ estimate electricity levelized cost for grid internal\n",
    "# _ estimate electricity levelized cost for off-grid\n",
    "# _ estimate electricity levelized cost for mini-grid\n",
    "# _ estimate electricity levelized cost for grid without transmission\n",
    "# _ estimate electricity levelized cost for grid with transmission\n",
    "# _ estimate levelized electricity cost for grid without transmission\n",
    "# _ estimate levelized cost of electricity with grid without transmission\n",
    "# _ estimate levelized cost of electricity via grid without transmission\n",
    "# _ estimate levelized cost of electricity for grid without transmission"
   ]
  },
  {
   "cell_type": "code",
   "execution_count": 2,
   "metadata": {
    "collapsed": true
   },
   "outputs": [],
   "source": [
    "# estimate levelized cost of electricity from grid without transmission"
   ]
  },
  {
   "cell_type": "code",
   "execution_count": null,
   "metadata": {
    "collapsed": true
   },
   "outputs": [],
   "source": [
    "GridElectricityCostPerYear\n",
    "units = 'dollars per year'\n",
    "\n",
    "def compute(self):\n",
    "    return self.get(GridElectricityCostPerKilowattHour) * self.get(demand.ProjectedNodalDemandPerYear) / float(1 - self.get(DistributionLoss))"
   ]
  },
  {
   "cell_type": "code",
   "execution_count": null,
   "metadata": {
    "collapsed": true
   },
   "outputs": [],
   "source": [
    "GridInternalSystemInitialCost\n",
    "units = 'dollars'\n",
    "\n",
    "def compute(self):\n",
    "    return sum([\n",
    "        self.get(GridInstallationCost),\n",
    "        self.get(GridTransformerCost),\n",
    "        self.get(LowVoltageLineEquipmentCost),\n",
    "        self.get(costDistribution.LowVoltageLineInitialCost),\n",
    "    ])"
   ]
  },
  {
   "cell_type": "code",
   "execution_count": null,
   "metadata": {
    "collapsed": true
   },
   "outputs": [],
   "source": [
    "GridInternalSystemRecurringCostPerYear\n",
    "       return sum([\n",
    "            self.get(GridTransformerOperationsAndMaintenanceCostPerYear),\n",
    "            self.get(GridTransformerReplacementCostPerYear),\n",
    "            self.get(GridElectricityCostPerYear),\n",
    "            self.get(LowVoltageLineEquipmentOperationsAndMaintenanceCostPerYear),\n",
    "            self.get(costDistribution.LowVoltageLineRecurringCostPerYear),\n",
    "        ])\n",
    "dollars per year"
   ]
  },
  {
   "cell_type": "code",
   "execution_count": null,
   "metadata": {
    "collapsed": true
   },
   "outputs": [],
   "source": [
    "grid_internal_system_nodal_discounted_cost_in_dollars =\n",
    "if self.get(demand.ProjectedNodalDemandPerYear) == 0:\n",
    "    return 0\n",
    "return self.get(GridInternalSystemInitialCost) + self.get(GridInternalSystemRecurringCostPerYear) * self.get(finance.DiscountedCashFlowFactor)"
   ]
  },
  {
   "cell_type": "code",
   "execution_count": null,
   "metadata": {
    "collapsed": true
   },
   "outputs": [],
   "source": [
    "nodal_discounted_production_in_kilowatt_hours ="
   ]
  },
  {
   "cell_type": "code",
   "execution_count": null,
   "metadata": {
    "collapsed": false
   },
   "outputs": [],
   "source": [
    "if not nodal_discounted_production:\n",
    "    grid_internal_system_nodal_levelized_cost = 0\n",
    "else:\n",
    "    grid_internal_system_nodal_levelized_cost_in_dollars_per_kilowatt_hour = \\\n",
    "        grid_internal_system_nodal_discounted_cost_in_dollars / float(\n",
    "            nodal_discounted_production_in_kilowatt_hours)"
   ]
  },
  {
   "cell_type": "code",
   "execution_count": null,
   "metadata": {
    "collapsed": true
   },
   "outputs": [],
   "source": [
    "\"\"\"\n",
    "Given demand by year, estimate cost by year, discounted cost, levelized cost.\n",
    "\n",
    "\n",
    "PRODUCTION\n",
    "Electricity production cost per year \n",
    "$/yr\n",
    "is proportional to consumption per year\n",
    "is proportional to distribution loss\n",
    "\n",
    "\n",
    "TRANSMISSION (previously medium voltage)\n",
    "Line\n",
    "Years 0-X Initial Cost (Labor + Material)\n",
    "Years X-Y Recurring Costs (Labor + Material)\n",
    "\n",
    "\n",
    "DISTRIBUTION (previously low voltage)\n",
    "Transformer (sized using multiples of largest available capacity)\n",
    "Years 0-X Initial Cost (Labor + Material)\n",
    "Years X-Y Recurring Costs (Labor + Material)\n",
    "\n",
    "Line\n",
    "Years 0-X Initial Cost (Labor + Material)\n",
    "Years X-Y Recurring Costs (Labor + Material)\n",
    "\"\"\""
   ]
  }
 ],
 "metadata": {
  "kernelspec": {
   "display_name": "Python 2",
   "language": "python",
   "name": "python2"
  },
  "language_info": {
   "codemirror_mode": {
    "name": "ipython",
    "version": 2
   },
   "file_extension": ".py",
   "mimetype": "text/x-python",
   "name": "python",
   "nbconvert_exporter": "python",
   "pygments_lexer": "ipython2",
   "version": "2.7.10"
  }
 },
 "nbformat": 4,
 "nbformat_minor": 0
}
