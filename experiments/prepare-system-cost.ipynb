{
 "cells": [
  {
   "cell_type": "code",
   "execution_count": 2,
   "metadata": {
    "collapsed": true
   },
   "outputs": [],
   "source": [
    "desired_system_capacity = '800'\n",
    "option_table_path = 'example-diesel-generator-by-capacity.csv'\n",
    "capacity_column = 'capacity_in_kw'"
   ]
  },
  {
   "cell_type": "code",
   "execution_count": 3,
   "metadata": {
    "collapsed": false
   },
   "outputs": [
    {
     "data": {
      "text/html": [
       "<div>\n",
       "<table border=\"1\" class=\"dataframe\">\n",
       "  <thead>\n",
       "    <tr style=\"text-align: right;\">\n",
       "      <th></th>\n",
       "      <th>Capacity in kW</th>\n",
       "      <th>Raw Cost</th>\n",
       "      <th>Installation Cost as Percent of Raw Cost</th>\n",
       "      <th>Maintenance Cost per Year as Percent of Raw Cost</th>\n",
       "      <th>Lifetime in Years</th>\n",
       "    </tr>\n",
       "  </thead>\n",
       "  <tbody>\n",
       "    <tr>\n",
       "      <th>0</th>\n",
       "      <td>500</td>\n",
       "      <td>52500</td>\n",
       "      <td>25</td>\n",
       "      <td>1</td>\n",
       "      <td>5</td>\n",
       "    </tr>\n",
       "    <tr>\n",
       "      <th>1</th>\n",
       "      <td>1000</td>\n",
       "      <td>100000</td>\n",
       "      <td>25</td>\n",
       "      <td>1</td>\n",
       "      <td>5</td>\n",
       "    </tr>\n",
       "  </tbody>\n",
       "</table>\n",
       "</div>"
      ],
      "text/plain": [
       "   Capacity in kW  Raw Cost  Installation Cost as Percent of Raw Cost  \\\n",
       "0             500     52500                                        25   \n",
       "1            1000    100000                                        25   \n",
       "\n",
       "   Maintenance Cost per Year as Percent of Raw Cost  Lifetime in Years  \n",
       "0                                                 1                  5  \n",
       "1                                                 1                  5  "
      ]
     },
     "execution_count": 3,
     "metadata": {},
     "output_type": "execute_result"
    }
   ],
   "source": [
    "from pandas import read_csv\n",
    "option_table = read_csv(option_table_path)\n",
    "option_table"
   ]
  },
  {
   "cell_type": "code",
   "execution_count": 5,
   "metadata": {
    "collapsed": false
   },
   "outputs": [
    {
     "data": {
      "text/plain": [
       "['capacity in kw',\n",
       " 'raw cost',\n",
       " 'installation cost as percent of raw cost',\n",
       " 'maintenance cost per year as percent of raw cost',\n",
       " 'lifetime in years']"
      ]
     },
     "execution_count": 5,
     "metadata": {},
     "output_type": "execute_result"
    }
   ],
   "source": [
    "from invisibleroads_macros.table import normalize_column_name\n",
    "[normalize_column_name(x) for x in option_table.columns]"
   ]
  },
  {
   "cell_type": "code",
   "execution_count": 8,
   "metadata": {
    "collapsed": false
   },
   "outputs": [
    {
     "data": {
      "text/plain": [
       "'kwh'"
      ]
     },
     "execution_count": 8,
     "metadata": {},
     "output_type": "execute_result"
    }
   ],
   "source": [
    "normalize_column_name('kWh')"
   ]
  },
  {
   "cell_type": "code",
   "execution_count": null,
   "metadata": {
    "collapsed": true
   },
   "outputs": [],
   "source": [
    "def prepare_system_cost(desired_system_capacity, option_table, capacity_column):\n",
    "    "
   ]
  },
  {
   "cell_type": "code",
   "execution_count": null,
   "metadata": {
    "collapsed": true
   },
   "outputs": [],
   "source": [
    "\"\"\"\n",
    "    Name initial variables\n",
    "    Draft table\n",
    "    Specify final variables\n",
    "\n",
    "    Fix oversizing system capacity\n",
    "        Draft system capacity algorithm\n",
    "            Have user specify generator capacity\n",
    "            Have user specify generator raw cost\n",
    "            Have user specify generator installation cost as fraction of raw cost\n",
    "            Have user specify maintenance cost per year as fraction of raw cost\n",
    "            Get desired system capacity\n",
    "            _ Add system capacity safety factor\n",
    "            Compute raw cost per kw\n",
    "            Pick nearest generator capacity and use those costs per kw\n",
    "            Round actual capacity to integer\n",
    "\"\"\""
   ]
  },
  {
   "cell_type": "code",
   "execution_count": null,
   "metadata": {
    "collapsed": true
   },
   "outputs": [],
   "source": [
    "def prepare_system_cost(\n",
    "        desired_system_capacity, option_table, capacity_column):\n",
    "    t = option_table\n",
    "    # Select option\n",
    "    eligible_t = t[t[capacity_column] < desired_system_capacity]\n",
    "    if len(eligible_t):\n",
    "        t = eligible_t\n",
    "        # Choose the largest capacity from eligible types\n",
    "        selected_t = t[t[capacity_column] == t[capacity_column].max()]\n",
    "    else:\n",
    "        # Choose the smallest capacity from all types\n",
    "        selected_t = t[t[capacity_column] == t[capacity_column].min()]\n",
    "    selected = selected_t.ix[selected_t.index[0]]\n",
    "    # Get capacity and count\n",
    "    selected_capacity = selected[capacity_column]\n",
    "    selected_count = int(ceil(divide_safely(\n",
    "        desired_system_capacity, selected_capacity,\n",
    "        ExpectedPositive('selected_capacity'))))\n",
    "    actual_system_capacity = selected_capacity * selected_count\n",
    "    # Get costs\n",
    "    installation_lm_cost = selected_count * selected['installation_lm_cost']\n",
    "    maintenance_lm_cost_per_year = selected_count * selected[\n",
    "        'maintenance_lm_cost_per_year']\n",
    "    replacement_lm_cost_per_year = divide_safely(\n",
    "        installation_lm_cost, selected['lifetime_in_years'],\n",
    "        ExpectedPositive('lifetime_in_years'))\n",
    "    return {\n",
    "        'desired_system_' + capacity_column: desired_system_capacity,\n",
    "        'selected_' + capacity_column: selected_capacity,\n",
    "        'selected_count': selected_count,\n",
    "        'actual_system_' + capacity_column: actual_system_capacity,\n",
    "        'installation_lm_cost': installation_lm_cost,\n",
    "        'maintenance_lm_cost_per_year': maintenance_lm_cost_per_year,\n",
    "        'replacement_lm_cost_per_year': replacement_lm_cost_per_year,\n",
    "    }"
   ]
  }
 ],
 "metadata": {
  "kernelspec": {
   "display_name": "Python 2",
   "language": "python",
   "name": "python2"
  },
  "language_info": {
   "codemirror_mode": {
    "name": "ipython",
    "version": 2
   },
   "file_extension": ".py",
   "mimetype": "text/x-python",
   "name": "python",
   "nbconvert_exporter": "python",
   "pygments_lexer": "ipython2",
   "version": "2.7.12"
  }
 },
 "nbformat": 4,
 "nbformat_minor": 1
}
