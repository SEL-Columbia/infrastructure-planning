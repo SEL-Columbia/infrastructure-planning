{
 "cells": [
  {
   "cell_type": "code",
   "execution_count": 29,
   "metadata": {
    "collapsed": true
   },
   "outputs": [],
   "source": [
    "desired_system_capacity = 750\n",
    "option_table_path = 'example-diesel-generator-by-capacity.csv'\n",
    "capacity_column = 'capacity_in_kw'"
   ]
  },
  {
   "cell_type": "code",
   "execution_count": 30,
   "metadata": {
    "collapsed": false
   },
   "outputs": [
    {
     "data": {
      "text/html": [
       "<div>\n",
       "<table border=\"1\" class=\"dataframe\">\n",
       "  <thead>\n",
       "    <tr style=\"text-align: right;\">\n",
       "      <th></th>\n",
       "      <th>Capacity in kW</th>\n",
       "      <th>Raw Cost</th>\n",
       "      <th>Installation Cost as Percent of Raw Cost</th>\n",
       "      <th>Maintenance Cost per Year as Percent of Raw Cost</th>\n",
       "      <th>Lifetime in Years</th>\n",
       "    </tr>\n",
       "  </thead>\n",
       "  <tbody>\n",
       "    <tr>\n",
       "      <th>0</th>\n",
       "      <td>500</td>\n",
       "      <td>52500</td>\n",
       "      <td>25</td>\n",
       "      <td>1</td>\n",
       "      <td>5</td>\n",
       "    </tr>\n",
       "    <tr>\n",
       "      <th>1</th>\n",
       "      <td>1000</td>\n",
       "      <td>100000</td>\n",
       "      <td>25</td>\n",
       "      <td>1</td>\n",
       "      <td>5</td>\n",
       "    </tr>\n",
       "  </tbody>\n",
       "</table>\n",
       "</div>"
      ],
      "text/plain": [
       "   Capacity in kW  Raw Cost  Installation Cost as Percent of Raw Cost  \\\n",
       "0             500     52500                                        25   \n",
       "1            1000    100000                                        25   \n",
       "\n",
       "   Maintenance Cost per Year as Percent of Raw Cost  Lifetime in Years  \n",
       "0                                                 1                  5  \n",
       "1                                                 1                  5  "
      ]
     },
     "execution_count": 30,
     "metadata": {},
     "output_type": "execute_result"
    }
   ],
   "source": [
    "from pandas import read_csv\n",
    "option_table = read_csv(option_table_path)\n",
    "option_table"
   ]
  },
  {
   "cell_type": "code",
   "execution_count": 31,
   "metadata": {
    "collapsed": false
   },
   "outputs": [
    {
     "data": {
      "text/plain": [
       "Index([u'capacity_in_kw', u'raw_cost',\n",
       "       u'installation_cost_as_percent_of_raw_cost',\n",
       "       u'maintenance_cost_per_year_as_percent_of_raw_cost',\n",
       "       u'lifetime_in_years'],\n",
       "      dtype='object')"
      ]
     },
     "execution_count": 31,
     "metadata": {},
     "output_type": "execute_result"
    }
   ],
   "source": [
    "from invisibleroads_macros.table import normalize_column_name\n",
    "option_table.columns = [normalize_column_name(x, '_') for x in option_table.columns]\n",
    "option_table.columns"
   ]
  },
  {
   "cell_type": "code",
   "execution_count": 32,
   "metadata": {
    "collapsed": false
   },
   "outputs": [
    {
     "data": {
      "text/plain": [
       "750"
      ]
     },
     "execution_count": 32,
     "metadata": {},
     "output_type": "execute_result"
    }
   ],
   "source": [
    "desired_system_capacity"
   ]
  },
  {
   "cell_type": "code",
   "execution_count": 33,
   "metadata": {
    "collapsed": false
   },
   "outputs": [
    {
     "data": {
      "text/plain": [
       "0    250\n",
       "1    250\n",
       "Name: capacity_in_kw, dtype: int64"
      ]
     },
     "execution_count": 33,
     "metadata": {},
     "output_type": "execute_result"
    }
   ],
   "source": [
    "x = (option_table['capacity_in_kw'] - desired_system_capacity).abs()\n",
    "x"
   ]
  },
  {
   "cell_type": "code",
   "execution_count": 34,
   "metadata": {
    "collapsed": false
   },
   "outputs": [
    {
     "data": {
      "text/html": [
       "<div>\n",
       "<table border=\"1\" class=\"dataframe\">\n",
       "  <thead>\n",
       "    <tr style=\"text-align: right;\">\n",
       "      <th></th>\n",
       "      <th>capacity_in_kw</th>\n",
       "      <th>raw_cost</th>\n",
       "      <th>installation_cost_as_percent_of_raw_cost</th>\n",
       "      <th>maintenance_cost_per_year_as_percent_of_raw_cost</th>\n",
       "      <th>lifetime_in_years</th>\n",
       "    </tr>\n",
       "  </thead>\n",
       "  <tbody>\n",
       "    <tr>\n",
       "      <th>0</th>\n",
       "      <td>500</td>\n",
       "      <td>52500</td>\n",
       "      <td>25</td>\n",
       "      <td>1</td>\n",
       "      <td>5</td>\n",
       "    </tr>\n",
       "    <tr>\n",
       "      <th>1</th>\n",
       "      <td>1000</td>\n",
       "      <td>100000</td>\n",
       "      <td>25</td>\n",
       "      <td>1</td>\n",
       "      <td>5</td>\n",
       "    </tr>\n",
       "  </tbody>\n",
       "</table>\n",
       "</div>"
      ],
      "text/plain": [
       "   capacity_in_kw  raw_cost  installation_cost_as_percent_of_raw_cost  \\\n",
       "0             500     52500                                        25   \n",
       "1            1000    100000                                        25   \n",
       "\n",
       "   maintenance_cost_per_year_as_percent_of_raw_cost  lifetime_in_years  \n",
       "0                                                 1                  5  \n",
       "1                                                 1                  5  "
      ]
     },
     "execution_count": 34,
     "metadata": {},
     "output_type": "execute_result"
    }
   ],
   "source": [
    "option_table.ix[x.argsort()]"
   ]
  },
  {
   "cell_type": "code",
   "execution_count": 40,
   "metadata": {
    "collapsed": false,
    "scrolled": true
   },
   "outputs": [
    {
     "data": {
      "text/html": [
       "<div>\n",
       "<table border=\"1\" class=\"dataframe\">\n",
       "  <thead>\n",
       "    <tr style=\"text-align: right;\">\n",
       "      <th></th>\n",
       "      <th>capacity_in_kw</th>\n",
       "      <th>raw_cost</th>\n",
       "      <th>installation_cost_as_percent_of_raw_cost</th>\n",
       "      <th>maintenance_cost_per_year_as_percent_of_raw_cost</th>\n",
       "      <th>lifetime_in_years</th>\n",
       "    </tr>\n",
       "  </thead>\n",
       "  <tbody>\n",
       "    <tr>\n",
       "      <th>0</th>\n",
       "      <td>500</td>\n",
       "      <td>52500</td>\n",
       "      <td>25</td>\n",
       "      <td>1</td>\n",
       "      <td>5</td>\n",
       "    </tr>\n",
       "    <tr>\n",
       "      <th>1</th>\n",
       "      <td>1000</td>\n",
       "      <td>100000</td>\n",
       "      <td>25</td>\n",
       "      <td>1</td>\n",
       "      <td>5</td>\n",
       "    </tr>\n",
       "  </tbody>\n",
       "</table>\n",
       "</div>"
      ],
      "text/plain": [
       "   capacity_in_kw  raw_cost  installation_cost_as_percent_of_raw_cost  \\\n",
       "0             500     52500                                        25   \n",
       "1            1000    100000                                        25   \n",
       "\n",
       "   maintenance_cost_per_year_as_percent_of_raw_cost  lifetime_in_years  \n",
       "0                                                 1                  5  \n",
       "1                                                 1                  5  "
      ]
     },
     "execution_count": 40,
     "metadata": {},
     "output_type": "execute_result"
    }
   ],
   "source": [
    "# We should pre sort the tables to normalize them\n",
    "option_table.sort_values([\n",
    "    'capacity_in_kw',\n",
    "], ascending=True)"
   ]
  },
  {
   "cell_type": "code",
   "execution_count": 52,
   "metadata": {
    "collapsed": false
   },
   "outputs": [
    {
     "data": {
      "text/html": [
       "<div>\n",
       "<table border=\"1\" class=\"dataframe\">\n",
       "  <thead>\n",
       "    <tr style=\"text-align: right;\">\n",
       "      <th></th>\n",
       "      <th>capacity_in_kw</th>\n",
       "      <th>raw_cost</th>\n",
       "      <th>installation_cost_as_percent_of_raw_cost</th>\n",
       "      <th>maintenance_cost_per_year_as_percent_of_raw_cost</th>\n",
       "      <th>lifetime_in_years</th>\n",
       "    </tr>\n",
       "  </thead>\n",
       "  <tbody>\n",
       "    <tr>\n",
       "      <th>1</th>\n",
       "      <td>1000</td>\n",
       "      <td>100000</td>\n",
       "      <td>25</td>\n",
       "      <td>1</td>\n",
       "      <td>5</td>\n",
       "    </tr>\n",
       "    <tr>\n",
       "      <th>0</th>\n",
       "      <td>500</td>\n",
       "      <td>52500</td>\n",
       "      <td>25</td>\n",
       "      <td>1</td>\n",
       "      <td>5</td>\n",
       "    </tr>\n",
       "  </tbody>\n",
       "</table>\n",
       "</div>"
      ],
      "text/plain": [
       "   capacity_in_kw  raw_cost  installation_cost_as_percent_of_raw_cost  \\\n",
       "1            1000    100000                                        25   \n",
       "0             500     52500                                        25   \n",
       "\n",
       "   maintenance_cost_per_year_as_percent_of_raw_cost  lifetime_in_years  \n",
       "1                                                 1                  5  \n",
       "0                                                 1                  5  "
      ]
     },
     "execution_count": 52,
     "metadata": {},
     "output_type": "execute_result"
    }
   ],
   "source": [
    "option_table.sort_values('capacity_in_kw', ascending=False`)"
   ]
  },
  {
   "cell_type": "code",
   "execution_count": null,
   "metadata": {
    "collapsed": true
   },
   "outputs": [],
   "source": [
    "# We should assert non-duplicates of capacity_in_kw"
   ]
  },
  {
   "cell_type": "code",
   "execution_count": 43,
   "metadata": {
    "collapsed": false
   },
   "outputs": [
    {
     "data": {
      "text/plain": [
       "2"
      ]
     },
     "execution_count": 43,
     "metadata": {},
     "output_type": "execute_result"
    }
   ],
   "source": [
    "len(set(option_table['capacity_in_kw']))"
   ]
  },
  {
   "cell_type": "code",
   "execution_count": 49,
   "metadata": {
    "collapsed": false,
    "scrolled": true
   },
   "outputs": [
    {
     "data": {
      "text/plain": [
       "2"
      ]
     },
     "execution_count": 49,
     "metadata": {},
     "output_type": "execute_result"
    }
   ],
   "source": [
    "len(option_table)"
   ]
  },
  {
   "cell_type": "code",
   "execution_count": 50,
   "metadata": {
    "collapsed": true
   },
   "outputs": [],
   "source": [
    "from infrastructure_planning.exceptions import InvalidData"
   ]
  },
  {
   "cell_type": "code",
   "execution_count": null,
   "metadata": {
    "collapsed": true
   },
   "outputs": [],
   "source": [
    "if len(option_table) != len(set(option_table['capacity_in_kw'])):\n",
    "    raise InvalidData"
   ]
  },
  {
   "cell_type": "code",
   "execution_count": 48,
   "metadata": {
    "collapsed": false
   },
   "outputs": [
    {
     "ename": "AssertionError",
     "evalue": "hey",
     "output_type": "error",
     "traceback": [
      "\u001b[0;31m\u001b[0m",
      "\u001b[0;31mAssertionError\u001b[0mTraceback (most recent call last)",
      "\u001b[0;32m<ipython-input-48-08fbe9b357df>\u001b[0m in \u001b[0;36m<module>\u001b[0;34m()\u001b[0m\n\u001b[0;32m----> 1\u001b[0;31m \u001b[0;32massert\u001b[0m \u001b[0;36m1\u001b[0m \u001b[0;34m==\u001b[0m \u001b[0;36m2\u001b[0m\u001b[0;34m,\u001b[0m \u001b[0;34m'hey'\u001b[0m\u001b[0;34m\u001b[0m\u001b[0m\n\u001b[0m",
      "\u001b[0;31mAssertionError\u001b[0m: hey"
     ]
    }
   ],
   "source": [
    "assert 1 == 2, 'hey'"
   ]
  },
  {
   "cell_type": "code",
   "execution_count": null,
   "metadata": {
    "collapsed": true
   },
   "outputs": [],
   "source": [
    "'capacity_in_kw',\n",
    "'raw_cost',\n",
    "'installation_cost_as_percent_of_raw_cost',\n",
    "'maintenance_cost_per_year_as_percent_of_raw_cost',\n",
    "'lifetime_in_years',"
   ]
  },
  {
   "cell_type": "code",
   "execution_count": null,
   "metadata": {
    "collapsed": true
   },
   "outputs": [],
   "source": [
    "def prepare_system_cost(desired_system_capacity, option_table, capacity_column):\n",
    "    \n",
    "    \n",
    "    \n",
    "    return {\n",
    "        'actual_system_' + capacity_column: desired_system_capacity,\n",
    "        'raw_cost': raw_cost,\n",
    "        'installation_cost': installation_cost,\n",
    "        'maintenance_cost_per_year': maintenance_cost_per_year,\n",
    "        'replacement_cost_per_year': replacement_cost_per_year,\n",
    "    }"
   ]
  },
  {
   "cell_type": "code",
   "execution_count": null,
   "metadata": {
    "collapsed": true
   },
   "outputs": [],
   "source": [
    "\"\"\"\n",
    "    Name initial variables\n",
    "    Draft table\n",
    "    Specify final variables\n",
    "\n",
    "    Fix oversizing system capacity\n",
    "        Draft system capacity algorithm\n",
    "            _ Get generator capacity\n",
    "            _ Get generator raw cost\n",
    "            _ Get generator installation cost as percent of raw cost\n",
    "            _ Get maintenance cost per year as percent of raw cost\n",
    "            _ Get desired system capacity\n",
    "            _ Add system capacity safety factor\n",
    "            Compute raw cost per kw\n",
    "            Pick nearest generator capacity and use those costs per kw\n",
    "            Round actual capacity to integer\n",
    "\"\"\""
   ]
  },
  {
   "cell_type": "code",
   "execution_count": null,
   "metadata": {
    "collapsed": true
   },
   "outputs": [],
   "source": [
    "def prepare_system_cost(\n",
    "        desired_system_capacity, option_table, capacity_column):\n",
    "    t = option_table\n",
    "    # Select option\n",
    "    eligible_t = t[t[capacity_column] < desired_system_capacity]\n",
    "    if len(eligible_t):\n",
    "        t = eligible_t\n",
    "        # Choose the largest capacity from eligible types\n",
    "        selected_t = t[t[capacity_column] == t[capacity_column].max()]\n",
    "    else:\n",
    "        # Choose the smallest capacity from all types\n",
    "        selected_t = t[t[capacity_column] == t[capacity_column].min()]\n",
    "    selected = selected_t.ix[selected_t.index[0]]\n",
    "    # Get capacity and count\n",
    "    selected_capacity = selected[capacity_column]\n",
    "    selected_count = int(ceil(divide_safely(\n",
    "        desired_system_capacity, selected_capacity,\n",
    "        ExpectedPositive('selected_capacity'))))\n",
    "    actual_system_capacity = selected_capacity * selected_count\n",
    "    # Get costs\n",
    "    installation_lm_cost = selected_count * selected['installation_lm_cost']\n",
    "    maintenance_lm_cost_per_year = selected_count * selected[\n",
    "        'maintenance_lm_cost_per_year']\n",
    "    replacement_lm_cost_per_year = divide_safely(\n",
    "        installation_lm_cost, selected['lifetime_in_years'],\n",
    "        ExpectedPositive('lifetime_in_years'))\n",
    "    return {\n",
    "        'desired_system_' + capacity_column: desired_system_capacity,\n",
    "        'selected_' + capacity_column: selected_capacity,\n",
    "        'selected_count': selected_count,\n",
    "        'actual_system_' + capacity_column: actual_system_capacity,\n",
    "        'installation_lm_cost': installation_lm_cost,\n",
    "        'maintenance_lm_cost_per_year': maintenance_lm_cost_per_year,\n",
    "        'replacement_lm_cost_per_year': replacement_lm_cost_per_year,\n",
    "    }"
   ]
  }
 ],
 "metadata": {
  "kernelspec": {
   "display_name": "Python 2",
   "language": "python",
   "name": "python2"
  },
  "language_info": {
   "codemirror_mode": {
    "name": "ipython",
    "version": 2
   },
   "file_extension": ".py",
   "mimetype": "text/x-python",
   "name": "python",
   "nbconvert_exporter": "python",
   "pygments_lexer": "ipython2",
   "version": "2.7.12"
  }
 },
 "nbformat": 4,
 "nbformat_minor": 1
}
