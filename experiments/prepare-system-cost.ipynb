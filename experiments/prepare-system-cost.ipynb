{
 "cells": [
  {
   "cell_type": "code",
   "execution_count": 111,
   "metadata": {
    "collapsed": true
   },
   "outputs": [],
   "source": [
    "desired_system_capacity = 750\n",
    "option_table_path = 'example-diesel-generator-by-capacity.csv'\n",
    "capacity_column = 'capacity_in_kw'"
   ]
  },
  {
   "cell_type": "code",
   "execution_count": 112,
   "metadata": {
    "collapsed": false
   },
   "outputs": [
    {
     "data": {
      "text/html": [
       "<div>\n",
       "<table border=\"1\" class=\"dataframe\">\n",
       "  <thead>\n",
       "    <tr style=\"text-align: right;\">\n",
       "      <th></th>\n",
       "      <th>Capacity in kW</th>\n",
       "      <th>Raw Cost</th>\n",
       "      <th>Installation Cost as Percent of Raw Cost</th>\n",
       "      <th>Maintenance Cost per Year as Percent of Raw Cost</th>\n",
       "      <th>Lifetime in Years</th>\n",
       "    </tr>\n",
       "  </thead>\n",
       "  <tbody>\n",
       "    <tr>\n",
       "      <th>0</th>\n",
       "      <td>500</td>\n",
       "      <td>52500</td>\n",
       "      <td>25</td>\n",
       "      <td>1</td>\n",
       "      <td>5</td>\n",
       "    </tr>\n",
       "    <tr>\n",
       "      <th>1</th>\n",
       "      <td>1000</td>\n",
       "      <td>100000</td>\n",
       "      <td>25</td>\n",
       "      <td>1</td>\n",
       "      <td>5</td>\n",
       "    </tr>\n",
       "  </tbody>\n",
       "</table>\n",
       "</div>"
      ],
      "text/plain": [
       "   Capacity in kW  Raw Cost  Installation Cost as Percent of Raw Cost  \\\n",
       "0             500     52500                                        25   \n",
       "1            1000    100000                                        25   \n",
       "\n",
       "   Maintenance Cost per Year as Percent of Raw Cost  Lifetime in Years  \n",
       "0                                                 1                  5  \n",
       "1                                                 1                  5  "
      ]
     },
     "execution_count": 112,
     "metadata": {},
     "output_type": "execute_result"
    }
   ],
   "source": [
    "from pandas import read_csv\n",
    "option_table = read_csv(option_table_path)\n",
    "option_table"
   ]
  },
  {
   "cell_type": "code",
   "execution_count": 113,
   "metadata": {
    "collapsed": false
   },
   "outputs": [
    {
     "data": {
      "text/plain": [
       "Index([u'capacity_in_kw', u'raw_cost',\n",
       "       u'installation_cost_as_percent_of_raw_cost',\n",
       "       u'maintenance_cost_per_year_as_percent_of_raw_cost',\n",
       "       u'lifetime_in_years'],\n",
       "      dtype='object')"
      ]
     },
     "execution_count": 113,
     "metadata": {},
     "output_type": "execute_result"
    }
   ],
   "source": [
    "from invisibleroads_macros.table import normalize_column_name\n",
    "option_table.columns = [normalize_column_name(x, '_') for x in option_table.columns]\n",
    "option_table.columns"
   ]
  },
  {
   "cell_type": "code",
   "execution_count": 114,
   "metadata": {
    "collapsed": false
   },
   "outputs": [
    {
     "data": {
      "text/plain": [
       "750"
      ]
     },
     "execution_count": 114,
     "metadata": {},
     "output_type": "execute_result"
    }
   ],
   "source": [
    "desired_system_capacity"
   ]
  },
  {
   "cell_type": "code",
   "execution_count": 115,
   "metadata": {
    "collapsed": false
   },
   "outputs": [
    {
     "data": {
      "text/plain": [
       "0    250\n",
       "1    250\n",
       "Name: capacity_in_kw, dtype: int64"
      ]
     },
     "execution_count": 115,
     "metadata": {},
     "output_type": "execute_result"
    }
   ],
   "source": [
    "x = (option_table['capacity_in_kw'] - desired_system_capacity).abs()\n",
    "x"
   ]
  },
  {
   "cell_type": "code",
   "execution_count": 116,
   "metadata": {
    "collapsed": false
   },
   "outputs": [
    {
     "data": {
      "text/html": [
       "<div>\n",
       "<table border=\"1\" class=\"dataframe\">\n",
       "  <thead>\n",
       "    <tr style=\"text-align: right;\">\n",
       "      <th></th>\n",
       "      <th>capacity_in_kw</th>\n",
       "      <th>raw_cost</th>\n",
       "      <th>installation_cost_as_percent_of_raw_cost</th>\n",
       "      <th>maintenance_cost_per_year_as_percent_of_raw_cost</th>\n",
       "      <th>lifetime_in_years</th>\n",
       "    </tr>\n",
       "  </thead>\n",
       "  <tbody>\n",
       "    <tr>\n",
       "      <th>0</th>\n",
       "      <td>500</td>\n",
       "      <td>52500</td>\n",
       "      <td>25</td>\n",
       "      <td>1</td>\n",
       "      <td>5</td>\n",
       "    </tr>\n",
       "    <tr>\n",
       "      <th>1</th>\n",
       "      <td>1000</td>\n",
       "      <td>100000</td>\n",
       "      <td>25</td>\n",
       "      <td>1</td>\n",
       "      <td>5</td>\n",
       "    </tr>\n",
       "  </tbody>\n",
       "</table>\n",
       "</div>"
      ],
      "text/plain": [
       "   capacity_in_kw  raw_cost  installation_cost_as_percent_of_raw_cost  \\\n",
       "0             500     52500                                        25   \n",
       "1            1000    100000                                        25   \n",
       "\n",
       "   maintenance_cost_per_year_as_percent_of_raw_cost  lifetime_in_years  \n",
       "0                                                 1                  5  \n",
       "1                                                 1                  5  "
      ]
     },
     "execution_count": 116,
     "metadata": {},
     "output_type": "execute_result"
    }
   ],
   "source": [
    "option_table.ix[x.argsort()]"
   ]
  },
  {
   "cell_type": "code",
   "execution_count": 117,
   "metadata": {
    "collapsed": false
   },
   "outputs": [
    {
     "data": {
      "text/html": [
       "<div>\n",
       "<table border=\"1\" class=\"dataframe\">\n",
       "  <thead>\n",
       "    <tr style=\"text-align: right;\">\n",
       "      <th></th>\n",
       "      <th>capacity_in_kw</th>\n",
       "      <th>raw_cost</th>\n",
       "      <th>installation_cost_as_percent_of_raw_cost</th>\n",
       "      <th>maintenance_cost_per_year_as_percent_of_raw_cost</th>\n",
       "      <th>lifetime_in_years</th>\n",
       "    </tr>\n",
       "  </thead>\n",
       "  <tbody>\n",
       "    <tr>\n",
       "      <th>0</th>\n",
       "      <td>500</td>\n",
       "      <td>52500</td>\n",
       "      <td>25</td>\n",
       "      <td>1</td>\n",
       "      <td>5</td>\n",
       "    </tr>\n",
       "    <tr>\n",
       "      <th>1</th>\n",
       "      <td>1000</td>\n",
       "      <td>100000</td>\n",
       "      <td>25</td>\n",
       "      <td>1</td>\n",
       "      <td>5</td>\n",
       "    </tr>\n",
       "  </tbody>\n",
       "</table>\n",
       "</div>"
      ],
      "text/plain": [
       "   capacity_in_kw  raw_cost  installation_cost_as_percent_of_raw_cost  \\\n",
       "0             500     52500                                        25   \n",
       "1            1000    100000                                        25   \n",
       "\n",
       "   maintenance_cost_per_year_as_percent_of_raw_cost  lifetime_in_years  \n",
       "0                                                 1                  5  \n",
       "1                                                 1                  5  "
      ]
     },
     "execution_count": 117,
     "metadata": {},
     "output_type": "execute_result"
    }
   ],
   "source": [
    "# Get two closest\n",
    "aaa = option_table.ix[x.argsort()][:2]\n",
    "aaa"
   ]
  },
  {
   "cell_type": "code",
   "execution_count": 118,
   "metadata": {
    "collapsed": false
   },
   "outputs": [
    {
     "ename": "ValueError",
     "evalue": "too many values to unpack",
     "output_type": "error",
     "traceback": [
      "\u001b[0;31m---------------------------------------------------------------------------\u001b[0m",
      "\u001b[0;31mValueError\u001b[0m                                Traceback (most recent call last)",
      "\u001b[0;32m<ipython-input-118-7f0536f6e445>\u001b[0m in \u001b[0;36m<module>\u001b[0;34m()\u001b[0m\n\u001b[0;32m----> 1\u001b[0;31m \u001b[0ma\u001b[0m\u001b[0;34m,\u001b[0m \u001b[0mb\u001b[0m \u001b[0;34m=\u001b[0m \u001b[0moption_table\u001b[0m\u001b[0;34m.\u001b[0m\u001b[0mix\u001b[0m\u001b[0;34m[\u001b[0m\u001b[0mx\u001b[0m\u001b[0;34m.\u001b[0m\u001b[0margsort\u001b[0m\u001b[0;34m(\u001b[0m\u001b[0;34m)\u001b[0m\u001b[0;34m]\u001b[0m\u001b[0;34m[\u001b[0m\u001b[0;34m:\u001b[0m\u001b[0;36m2\u001b[0m\u001b[0;34m]\u001b[0m\u001b[0;34m\u001b[0m\u001b[0m\n\u001b[0m",
      "\u001b[0;31mValueError\u001b[0m: too many values to unpack"
     ]
    }
   ],
   "source": [
    "a, b = option_table.ix[x.argsort()][:2]"
   ]
  },
  {
   "cell_type": "code",
   "execution_count": 42,
   "metadata": {
    "collapsed": false
   },
   "outputs": [
    {
     "data": {
      "text/plain": [
       "0    0\n",
       "1    1\n",
       "Name: capacity_in_kw, dtype: int64"
      ]
     },
     "execution_count": 42,
     "metadata": {},
     "output_type": "execute_result"
    }
   ],
   "source": [
    "x.argsort()"
   ]
  },
  {
   "cell_type": "code",
   "execution_count": 43,
   "metadata": {
    "collapsed": true
   },
   "outputs": [],
   "source": [
    "y = x.argsort()"
   ]
  },
  {
   "cell_type": "code",
   "execution_count": 44,
   "metadata": {
    "collapsed": false
   },
   "outputs": [
    {
     "data": {
      "text/plain": [
       "array([0, 1])"
      ]
     },
     "execution_count": 44,
     "metadata": {},
     "output_type": "execute_result"
    }
   ],
   "source": [
    "y.values"
   ]
  },
  {
   "cell_type": "code",
   "execution_count": 61,
   "metadata": {
    "collapsed": true
   },
   "outputs": [],
   "source": [
    "from pandas import DataFrame\n",
    "t = DataFrame([[1000]], columns=['a'])"
   ]
  },
  {
   "cell_type": "code",
   "execution_count": 62,
   "metadata": {
    "collapsed": false
   },
   "outputs": [
    {
     "ename": "ValueError",
     "evalue": "need more than 1 value to unpack",
     "output_type": "error",
     "traceback": [
      "\u001b[0;31m---------------------------------------------------------------------------\u001b[0m",
      "\u001b[0;31mValueError\u001b[0m                                Traceback (most recent call last)",
      "\u001b[0;32m<ipython-input-62-fadc25e048fa>\u001b[0m in \u001b[0;36m<module>\u001b[0;34m()\u001b[0m\n\u001b[0;32m----> 1\u001b[0;31m \u001b[0mx\u001b[0m\u001b[0;34m,\u001b[0m \u001b[0my\u001b[0m \u001b[0;34m=\u001b[0m \u001b[0mt\u001b[0m\u001b[0;34m.\u001b[0m\u001b[0ma\u001b[0m\u001b[0;34m.\u001b[0m\u001b[0margsort\u001b[0m\u001b[0;34m(\u001b[0m\u001b[0;34m)\u001b[0m\u001b[0;34m[\u001b[0m\u001b[0;34m:\u001b[0m\u001b[0;36m2\u001b[0m\u001b[0;34m]\u001b[0m\u001b[0;34m\u001b[0m\u001b[0m\n\u001b[0m",
      "\u001b[0;31mValueError\u001b[0m: need more than 1 value to unpack"
     ]
    }
   ],
   "source": [
    "x, y = t.a.argsort()[:2]"
   ]
  },
  {
   "cell_type": "code",
   "execution_count": 59,
   "metadata": {
    "collapsed": false
   },
   "outputs": [
    {
     "data": {
      "text/plain": [
       "1"
      ]
     },
     "execution_count": 59,
     "metadata": {},
     "output_type": "execute_result"
    }
   ],
   "source": [
    "x"
   ]
  },
  {
   "cell_type": "code",
   "execution_count": 60,
   "metadata": {
    "collapsed": false
   },
   "outputs": [
    {
     "data": {
      "text/plain": [
       "2"
      ]
     },
     "execution_count": 60,
     "metadata": {},
     "output_type": "execute_result"
    }
   ],
   "source": [
    "y"
   ]
  },
  {
   "cell_type": "code",
   "execution_count": 55,
   "metadata": {
    "collapsed": true
   },
   "outputs": [],
   "source": [
    "from pandas import DataFrame\n",
    "t = DataFrame([[1000], [500], [750]], columns=['a'])"
   ]
  },
  {
   "cell_type": "code",
   "execution_count": 56,
   "metadata": {
    "collapsed": false
   },
   "outputs": [
    {
     "data": {
      "text/html": [
       "<div>\n",
       "<table border=\"1\" class=\"dataframe\">\n",
       "  <thead>\n",
       "    <tr style=\"text-align: right;\">\n",
       "      <th></th>\n",
       "      <th>a</th>\n",
       "    </tr>\n",
       "  </thead>\n",
       "  <tbody>\n",
       "    <tr>\n",
       "      <th>0</th>\n",
       "      <td>1000</td>\n",
       "    </tr>\n",
       "    <tr>\n",
       "      <th>1</th>\n",
       "      <td>500</td>\n",
       "    </tr>\n",
       "    <tr>\n",
       "      <th>2</th>\n",
       "      <td>750</td>\n",
       "    </tr>\n",
       "  </tbody>\n",
       "</table>\n",
       "</div>"
      ],
      "text/plain": [
       "      a\n",
       "0  1000\n",
       "1   500\n",
       "2   750"
      ]
     },
     "execution_count": 56,
     "metadata": {},
     "output_type": "execute_result"
    }
   ],
   "source": [
    "t"
   ]
  },
  {
   "cell_type": "code",
   "execution_count": 57,
   "metadata": {
    "collapsed": false
   },
   "outputs": [
    {
     "data": {
      "text/plain": [
       "array([1, 2, 0])"
      ]
     },
     "execution_count": 57,
     "metadata": {},
     "output_type": "execute_result"
    }
   ],
   "source": [
    "t.a.argsort().values"
   ]
  },
  {
   "cell_type": "code",
   "execution_count": 32,
   "metadata": {
    "collapsed": false
   },
   "outputs": [
    {
     "data": {
      "text/plain": [
       "array([ 500, 1000])"
      ]
     },
     "execution_count": 32,
     "metadata": {},
     "output_type": "execute_result"
    }
   ],
   "source": [
    "aaa.capacity_in_kw.values"
   ]
  },
  {
   "cell_type": "code",
   "execution_count": 33,
   "metadata": {
    "collapsed": false
   },
   "outputs": [
    {
     "data": {
      "text/plain": [
       "500"
      ]
     },
     "execution_count": 33,
     "metadata": {},
     "output_type": "execute_result"
    }
   ],
   "source": [
    "aaa.capacity_in_kw.values[1] - aaa.capacity_in_kw.values[0]"
   ]
  },
  {
   "cell_type": "code",
   "execution_count": 34,
   "metadata": {
    "collapsed": false
   },
   "outputs": [
    {
     "data": {
      "text/plain": [
       "250"
      ]
     },
     "execution_count": 34,
     "metadata": {},
     "output_type": "execute_result"
    }
   ],
   "source": [
    "# Compute fraction of difference\n",
    "desired_system_capacity - aaa.capacity_in_kw.values[0]"
   ]
  },
  {
   "cell_type": "code",
   "execution_count": 36,
   "metadata": {
    "collapsed": false
   },
   "outputs": [
    {
     "data": {
      "text/plain": [
       "0.5"
      ]
     },
     "execution_count": 36,
     "metadata": {},
     "output_type": "execute_result"
    }
   ],
   "source": [
    "(desired_system_capacity - aaa.capacity_in_kw.values[0]) / float(aaa.capacity_in_kw.values[1] - aaa.capacity_in_kw.values[0])"
   ]
  },
  {
   "cell_type": "code",
   "execution_count": 37,
   "metadata": {
    "collapsed": false
   },
   "outputs": [
    {
     "data": {
      "text/plain": [
       "capacity_in_kw                                        500\n",
       "raw_cost                                            47500\n",
       "installation_cost_as_percent_of_raw_cost                0\n",
       "maintenance_cost_per_year_as_percent_of_raw_cost        0\n",
       "lifetime_in_years                                       0\n",
       "dtype: int64"
      ]
     },
     "execution_count": 37,
     "metadata": {},
     "output_type": "execute_result"
    }
   ],
   "source": [
    "aaa.ix[aaa.index[1]] - aaa.ix[aaa.index[0]]"
   ]
  },
  {
   "cell_type": "code",
   "execution_count": null,
   "metadata": {
    "collapsed": true
   },
   "outputs": [],
   "source": []
  },
  {
   "cell_type": "code",
   "execution_count": 38,
   "metadata": {
    "collapsed": false
   },
   "outputs": [
    {
     "data": {
      "text/plain": [
       "capacity_in_kw                                        250.0\n",
       "raw_cost                                            23750.0\n",
       "installation_cost_as_percent_of_raw_cost                0.0\n",
       "maintenance_cost_per_year_as_percent_of_raw_cost        0.0\n",
       "lifetime_in_years                                       0.0\n",
       "dtype: float64"
      ]
     },
     "execution_count": 38,
     "metadata": {},
     "output_type": "execute_result"
    }
   ],
   "source": [
    "(aaa.ix[aaa.index[1]] - aaa.ix[aaa.index[0]]) * 0.5"
   ]
  },
  {
   "cell_type": "code",
   "execution_count": 39,
   "metadata": {
    "collapsed": false
   },
   "outputs": [
    {
     "data": {
      "text/plain": [
       "capacity_in_kw                                        750.0\n",
       "raw_cost                                            76250.0\n",
       "installation_cost_as_percent_of_raw_cost               25.0\n",
       "maintenance_cost_per_year_as_percent_of_raw_cost        1.0\n",
       "lifetime_in_years                                       5.0\n",
       "dtype: float64"
      ]
     },
     "execution_count": 39,
     "metadata": {},
     "output_type": "execute_result"
    }
   ],
   "source": [
    "aaa.ix[aaa.index[0]] + (aaa.ix[aaa.index[1]] - aaa.ix[aaa.index[0]]) * 0.5"
   ]
  },
  {
   "cell_type": "code",
   "execution_count": null,
   "metadata": {
    "collapsed": true
   },
   "outputs": [],
   "source": [
    "# Spline it"
   ]
  },
  {
   "cell_type": "code",
   "execution_count": 16,
   "metadata": {
    "collapsed": false
   },
   "outputs": [
    {
     "data": {
      "text/plain": [
       "capacity_in_kw                                        500\n",
       "raw_cost                                            52500\n",
       "installation_cost_as_percent_of_raw_cost               25\n",
       "maintenance_cost_per_year_as_percent_of_raw_cost        1\n",
       "lifetime_in_years                                       5\n",
       "Name: 0, dtype: int64"
      ]
     },
     "execution_count": 16,
     "metadata": {},
     "output_type": "execute_result"
    }
   ],
   "source": [
    "t = option_table.ix[x.argsort()]\n",
    "selected_system = t.ix[t.index[0]]\n",
    "selected_system"
   ]
  },
  {
   "cell_type": "code",
   "execution_count": 40,
   "metadata": {
    "collapsed": false,
    "scrolled": true
   },
   "outputs": [
    {
     "data": {
      "text/html": [
       "<div>\n",
       "<table border=\"1\" class=\"dataframe\">\n",
       "  <thead>\n",
       "    <tr style=\"text-align: right;\">\n",
       "      <th></th>\n",
       "      <th>capacity_in_kw</th>\n",
       "      <th>raw_cost</th>\n",
       "      <th>installation_cost_as_percent_of_raw_cost</th>\n",
       "      <th>maintenance_cost_per_year_as_percent_of_raw_cost</th>\n",
       "      <th>lifetime_in_years</th>\n",
       "    </tr>\n",
       "  </thead>\n",
       "  <tbody>\n",
       "    <tr>\n",
       "      <th>0</th>\n",
       "      <td>500</td>\n",
       "      <td>52500</td>\n",
       "      <td>25</td>\n",
       "      <td>1</td>\n",
       "      <td>5</td>\n",
       "    </tr>\n",
       "    <tr>\n",
       "      <th>1</th>\n",
       "      <td>1000</td>\n",
       "      <td>100000</td>\n",
       "      <td>25</td>\n",
       "      <td>1</td>\n",
       "      <td>5</td>\n",
       "    </tr>\n",
       "  </tbody>\n",
       "</table>\n",
       "</div>"
      ],
      "text/plain": [
       "   capacity_in_kw  raw_cost  installation_cost_as_percent_of_raw_cost  \\\n",
       "0             500     52500                                        25   \n",
       "1            1000    100000                                        25   \n",
       "\n",
       "   maintenance_cost_per_year_as_percent_of_raw_cost  lifetime_in_years  \n",
       "0                                                 1                  5  \n",
       "1                                                 1                  5  "
      ]
     },
     "execution_count": 40,
     "metadata": {},
     "output_type": "execute_result"
    }
   ],
   "source": [
    "# We should pre sort the tables to normalize them\n",
    "option_table.sort_values([\n",
    "    'capacity_in_kw',\n",
    "], ascending=True)"
   ]
  },
  {
   "cell_type": "code",
   "execution_count": 52,
   "metadata": {
    "collapsed": false
   },
   "outputs": [
    {
     "data": {
      "text/html": [
       "<div>\n",
       "<table border=\"1\" class=\"dataframe\">\n",
       "  <thead>\n",
       "    <tr style=\"text-align: right;\">\n",
       "      <th></th>\n",
       "      <th>capacity_in_kw</th>\n",
       "      <th>raw_cost</th>\n",
       "      <th>installation_cost_as_percent_of_raw_cost</th>\n",
       "      <th>maintenance_cost_per_year_as_percent_of_raw_cost</th>\n",
       "      <th>lifetime_in_years</th>\n",
       "    </tr>\n",
       "  </thead>\n",
       "  <tbody>\n",
       "    <tr>\n",
       "      <th>1</th>\n",
       "      <td>1000</td>\n",
       "      <td>100000</td>\n",
       "      <td>25</td>\n",
       "      <td>1</td>\n",
       "      <td>5</td>\n",
       "    </tr>\n",
       "    <tr>\n",
       "      <th>0</th>\n",
       "      <td>500</td>\n",
       "      <td>52500</td>\n",
       "      <td>25</td>\n",
       "      <td>1</td>\n",
       "      <td>5</td>\n",
       "    </tr>\n",
       "  </tbody>\n",
       "</table>\n",
       "</div>"
      ],
      "text/plain": [
       "   capacity_in_kw  raw_cost  installation_cost_as_percent_of_raw_cost  \\\n",
       "1            1000    100000                                        25   \n",
       "0             500     52500                                        25   \n",
       "\n",
       "   maintenance_cost_per_year_as_percent_of_raw_cost  lifetime_in_years  \n",
       "1                                                 1                  5  \n",
       "0                                                 1                  5  "
      ]
     },
     "execution_count": 52,
     "metadata": {},
     "output_type": "execute_result"
    }
   ],
   "source": [
    "option_table.sort_values('capacity_in_kw', ascending=False`)"
   ]
  },
  {
   "cell_type": "code",
   "execution_count": null,
   "metadata": {
    "collapsed": true
   },
   "outputs": [],
   "source": [
    "# We should assert non-duplicates of capacity_in_kw"
   ]
  },
  {
   "cell_type": "code",
   "execution_count": 43,
   "metadata": {
    "collapsed": false
   },
   "outputs": [
    {
     "data": {
      "text/plain": [
       "2"
      ]
     },
     "execution_count": 43,
     "metadata": {},
     "output_type": "execute_result"
    }
   ],
   "source": [
    "len(set(option_table['capacity_in_kw']))"
   ]
  },
  {
   "cell_type": "code",
   "execution_count": 49,
   "metadata": {
    "collapsed": false,
    "scrolled": true
   },
   "outputs": [
    {
     "data": {
      "text/plain": [
       "2"
      ]
     },
     "execution_count": 49,
     "metadata": {},
     "output_type": "execute_result"
    }
   ],
   "source": [
    "len(option_table)"
   ]
  },
  {
   "cell_type": "code",
   "execution_count": 50,
   "metadata": {
    "collapsed": true
   },
   "outputs": [],
   "source": [
    "from infrastructure_planning.exceptions import InvalidData"
   ]
  },
  {
   "cell_type": "code",
   "execution_count": null,
   "metadata": {
    "collapsed": true
   },
   "outputs": [],
   "source": [
    "if len(option_table) != len(set(option_table['capacity_in_kw'])):\n",
    "    raise InvalidData"
   ]
  },
  {
   "cell_type": "code",
   "execution_count": 48,
   "metadata": {
    "collapsed": false
   },
   "outputs": [
    {
     "ename": "AssertionError",
     "evalue": "hey",
     "output_type": "error",
     "traceback": [
      "\u001b[0;31m\u001b[0m",
      "\u001b[0;31mAssertionError\u001b[0mTraceback (most recent call last)",
      "\u001b[0;32m<ipython-input-48-08fbe9b357df>\u001b[0m in \u001b[0;36m<module>\u001b[0;34m()\u001b[0m\n\u001b[0;32m----> 1\u001b[0;31m \u001b[0;32massert\u001b[0m \u001b[0;36m1\u001b[0m \u001b[0;34m==\u001b[0m \u001b[0;36m2\u001b[0m\u001b[0;34m,\u001b[0m \u001b[0;34m'hey'\u001b[0m\u001b[0;34m\u001b[0m\u001b[0m\n\u001b[0m",
      "\u001b[0;31mAssertionError\u001b[0m: hey"
     ]
    }
   ],
   "source": [
    "assert 1 == 2, 'hey'"
   ]
  },
  {
   "cell_type": "code",
   "execution_count": 17,
   "metadata": {
    "collapsed": false
   },
   "outputs": [
    {
     "data": {
      "text/plain": [
       "capacity_in_kw                                        500\n",
       "raw_cost                                            52500\n",
       "installation_cost_as_percent_of_raw_cost               25\n",
       "maintenance_cost_per_year_as_percent_of_raw_cost        1\n",
       "lifetime_in_years                                       5\n",
       "Name: 0, dtype: int64"
      ]
     },
     "execution_count": 17,
     "metadata": {},
     "output_type": "execute_result"
    }
   ],
   "source": [
    "selected_system"
   ]
  },
  {
   "cell_type": "code",
   "execution_count": 18,
   "metadata": {
    "collapsed": false
   },
   "outputs": [
    {
     "data": {
      "text/plain": [
       "105.0"
      ]
     },
     "execution_count": 18,
     "metadata": {},
     "output_type": "execute_result"
    }
   ],
   "source": [
    "# Be conservative (over-estimate price)\n",
    "raw_cost_per_unit_capacity = selected_system['raw_cost'] / float(selected_system[capacity_column])\n",
    "raw_cost_per_unit_capacity"
   ]
  },
  {
   "cell_type": "code",
   "execution_count": 19,
   "metadata": {
    "collapsed": false
   },
   "outputs": [
    {
     "data": {
      "text/plain": [
       "78750.0"
      ]
     },
     "execution_count": 19,
     "metadata": {},
     "output_type": "execute_result"
    }
   ],
   "source": [
    "raw_cost = desired_system_capacity * raw_cost_per_unit_capacity\n",
    "raw_cost"
   ]
  },
  {
   "cell_type": "code",
   "execution_count": 21,
   "metadata": {
    "collapsed": false
   },
   "outputs": [
    {
     "data": {
      "text/plain": [
       "19687.5"
      ]
     },
     "execution_count": 21,
     "metadata": {},
     "output_type": "execute_result"
    }
   ],
   "source": [
    "installation_cost = raw_cost * selected_system['installation_cost_as_percent_of_raw_cost'] / float(100)\n",
    "installation_cost"
   ]
  },
  {
   "cell_type": "code",
   "execution_count": 22,
   "metadata": {
    "collapsed": false
   },
   "outputs": [
    {
     "data": {
      "text/plain": [
       "787.5"
      ]
     },
     "execution_count": 22,
     "metadata": {},
     "output_type": "execute_result"
    }
   ],
   "source": [
    "maintenance_cost_per_year = raw_cost * selected_system[\n",
    "    'maintenance_cost_per_year_as_percent_of_raw_cost'] / float(100)\n",
    "maintenance_cost_per_year"
   ]
  },
  {
   "cell_type": "code",
   "execution_count": 25,
   "metadata": {
    "collapsed": false
   },
   "outputs": [
    {
     "data": {
      "text/plain": [
       "3937.5"
      ]
     },
     "execution_count": 25,
     "metadata": {},
     "output_type": "execute_result"
    }
   ],
   "source": [
    "from invisibleroads_macros.math import divide_safely\n",
    "from infrastructure_planning.exceptions import ExpectedPositive\n",
    "replacement_cost_per_year = divide_safely(\n",
    "    installation_cost, selected_system['lifetime_in_years'],\n",
    "    ExpectedPositive('lifetime_in_years'))\n",
    "replacement_cost_per_year"
   ]
  },
  {
   "cell_type": "code",
   "execution_count": 26,
   "metadata": {
    "collapsed": true
   },
   "outputs": [],
   "source": [
    "from math import ceil"
   ]
  },
  {
   "cell_type": "code",
   "execution_count": 28,
   "metadata": {
    "collapsed": false
   },
   "outputs": [
    {
     "data": {
      "text/plain": [
       "750"
      ]
     },
     "execution_count": 28,
     "metadata": {},
     "output_type": "execute_result"
    }
   ],
   "source": [
    "int(ceil(desired_system_capacity))"
   ]
  },
  {
   "cell_type": "code",
   "execution_count": 67,
   "metadata": {
    "collapsed": true
   },
   "outputs": [],
   "source": [
    "difference = option_table[capacity_column] - desired_system_capacity\n",
    "sorted_indices = difference.abs().argsort()\n",
    "index0 = sorted_indices[0]\n",
    "index1 = sorted_indices[1] if len(sorted_indices) > 1 else index1"
   ]
  },
  {
   "cell_type": "code",
   "execution_count": 68,
   "metadata": {
    "collapsed": false
   },
   "outputs": [
    {
     "data": {
      "text/plain": [
       "(0, 1)"
      ]
     },
     "execution_count": 68,
     "metadata": {},
     "output_type": "execute_result"
    }
   ],
   "source": [
    "index0, index1"
   ]
  },
  {
   "cell_type": "code",
   "execution_count": 71,
   "metadata": {
    "collapsed": false
   },
   "outputs": [
    {
     "data": {
      "text/plain": [
       "500"
      ]
     },
     "execution_count": 71,
     "metadata": {},
     "output_type": "execute_result"
    }
   ],
   "source": [
    "# Compute fraction of difference in capacity\n",
    "capacity0 = option_table[capacity_column].ix[index0]\n",
    "capacity0"
   ]
  },
  {
   "cell_type": "code",
   "execution_count": null,
   "metadata": {
    "collapsed": true
   },
   "outputs": [],
   "source": []
  },
  {
   "cell_type": "code",
   "execution_count": 73,
   "metadata": {
    "collapsed": false
   },
   "outputs": [
    {
     "data": {
      "text/plain": [
       "1000"
      ]
     },
     "execution_count": 73,
     "metadata": {},
     "output_type": "execute_result"
    }
   ],
   "source": [
    "capacity1 = option_table[capacity_column].ix[index1]\n",
    "capacity1"
   ]
  },
  {
   "cell_type": "code",
   "execution_count": 75,
   "metadata": {
    "collapsed": false
   },
   "outputs": [
    {
     "data": {
      "text/plain": [
       "0.5"
      ]
     },
     "execution_count": 75,
     "metadata": {},
     "output_type": "execute_result"
    }
   ],
   "source": [
    "fraction = divide_safely(capacity0, capacity1, ExpectedPositive(capacity_column))\n",
    "fraction"
   ]
  },
  {
   "cell_type": "code",
   "execution_count": 80,
   "metadata": {
    "collapsed": false
   },
   "outputs": [
    {
     "data": {
      "text/html": [
       "<div>\n",
       "<table border=\"1\" class=\"dataframe\">\n",
       "  <thead>\n",
       "    <tr style=\"text-align: right;\">\n",
       "      <th></th>\n",
       "      <th>capacity_in_kw</th>\n",
       "      <th>raw_cost</th>\n",
       "      <th>installation_cost_as_percent_of_raw_cost</th>\n",
       "      <th>maintenance_cost_per_year_as_percent_of_raw_cost</th>\n",
       "      <th>lifetime_in_years</th>\n",
       "    </tr>\n",
       "  </thead>\n",
       "  <tbody>\n",
       "    <tr>\n",
       "      <th>0</th>\n",
       "      <td>500</td>\n",
       "      <td>52500</td>\n",
       "      <td>25</td>\n",
       "      <td>1</td>\n",
       "      <td>5</td>\n",
       "    </tr>\n",
       "    <tr>\n",
       "      <th>1</th>\n",
       "      <td>1000</td>\n",
       "      <td>100000</td>\n",
       "      <td>25</td>\n",
       "      <td>1</td>\n",
       "      <td>5</td>\n",
       "    </tr>\n",
       "  </tbody>\n",
       "</table>\n",
       "</div>"
      ],
      "text/plain": [
       "   capacity_in_kw  raw_cost  installation_cost_as_percent_of_raw_cost  \\\n",
       "0             500     52500                                        25   \n",
       "1            1000    100000                                        25   \n",
       "\n",
       "   maintenance_cost_per_year_as_percent_of_raw_cost  lifetime_in_years  \n",
       "0                                                 1                  5  \n",
       "1                                                 1                  5  "
      ]
     },
     "execution_count": 80,
     "metadata": {},
     "output_type": "execute_result"
    }
   ],
   "source": [
    "t = option_table.copy()\n",
    "t"
   ]
  },
  {
   "cell_type": "code",
   "execution_count": 96,
   "metadata": {
    "collapsed": false
   },
   "outputs": [
    {
     "data": {
      "text/plain": [
       "0     500\n",
       "1    1000\n",
       "Name: capacity_in_kw, dtype: int64"
      ]
     },
     "execution_count": 96,
     "metadata": {},
     "output_type": "execute_result"
    }
   ],
   "source": [
    "t[capacity_column]"
   ]
  },
  {
   "cell_type": "code",
   "execution_count": 99,
   "metadata": {
    "collapsed": false
   },
   "outputs": [],
   "source": [
    "t['raw_cost_per_unit_capacity'] = t['raw_cost'].divide(t[capacity_column])"
   ]
  },
  {
   "cell_type": "code",
   "execution_count": 100,
   "metadata": {
    "collapsed": false
   },
   "outputs": [
    {
     "data": {
      "text/html": [
       "<div>\n",
       "<table border=\"1\" class=\"dataframe\">\n",
       "  <thead>\n",
       "    <tr style=\"text-align: right;\">\n",
       "      <th></th>\n",
       "      <th>capacity_in_kw</th>\n",
       "      <th>raw_cost</th>\n",
       "      <th>installation_cost_as_percent_of_raw_cost</th>\n",
       "      <th>maintenance_cost_per_year_as_percent_of_raw_cost</th>\n",
       "      <th>lifetime_in_years</th>\n",
       "      <th>raw_cost_per_unit_capacity</th>\n",
       "    </tr>\n",
       "  </thead>\n",
       "  <tbody>\n",
       "    <tr>\n",
       "      <th>0</th>\n",
       "      <td>500</td>\n",
       "      <td>52500</td>\n",
       "      <td>25</td>\n",
       "      <td>1</td>\n",
       "      <td>5</td>\n",
       "      <td>105.0</td>\n",
       "    </tr>\n",
       "    <tr>\n",
       "      <th>1</th>\n",
       "      <td>1000</td>\n",
       "      <td>100000</td>\n",
       "      <td>25</td>\n",
       "      <td>1</td>\n",
       "      <td>5</td>\n",
       "      <td>100.0</td>\n",
       "    </tr>\n",
       "  </tbody>\n",
       "</table>\n",
       "</div>"
      ],
      "text/plain": [
       "   capacity_in_kw  raw_cost  installation_cost_as_percent_of_raw_cost  \\\n",
       "0             500     52500                                        25   \n",
       "1            1000    100000                                        25   \n",
       "\n",
       "   maintenance_cost_per_year_as_percent_of_raw_cost  lifetime_in_years  \\\n",
       "0                                                 1                  5   \n",
       "1                                                 1                  5   \n",
       "\n",
       "   raw_cost_per_unit_capacity  \n",
       "0                       105.0  \n",
       "1                       100.0  "
      ]
     },
     "execution_count": 100,
     "metadata": {},
     "output_type": "execute_result"
    }
   ],
   "source": [
    "t"
   ]
  },
  {
   "cell_type": "code",
   "execution_count": 102,
   "metadata": {
    "collapsed": false
   },
   "outputs": [
    {
     "data": {
      "text/html": [
       "<div>\n",
       "<table border=\"1\" class=\"dataframe\">\n",
       "  <thead>\n",
       "    <tr style=\"text-align: right;\">\n",
       "      <th></th>\n",
       "      <th>a</th>\n",
       "      <th>b</th>\n",
       "    </tr>\n",
       "  </thead>\n",
       "  <tbody>\n",
       "    <tr>\n",
       "      <th>0</th>\n",
       "      <td>1</td>\n",
       "      <td>2</td>\n",
       "    </tr>\n",
       "  </tbody>\n",
       "</table>\n",
       "</div>"
      ],
      "text/plain": [
       "   a  b\n",
       "0  1  2"
      ]
     },
     "execution_count": 102,
     "metadata": {},
     "output_type": "execute_result"
    }
   ],
   "source": [
    "from pandas import DataFrame\n",
    "z = DataFrame([[1, 2]], columns=['a', 'b'])\n",
    "z"
   ]
  },
  {
   "cell_type": "code",
   "execution_count": 104,
   "metadata": {
    "collapsed": false
   },
   "outputs": [
    {
     "data": {
      "text/plain": [
       "0    0.5\n",
       "dtype: float64"
      ]
     },
     "execution_count": 104,
     "metadata": {},
     "output_type": "execute_result"
    }
   ],
   "source": [
    "z.a / z.b"
   ]
  },
  {
   "cell_type": "code",
   "execution_count": null,
   "metadata": {
    "collapsed": true
   },
   "outputs": [],
   "source": []
  },
  {
   "cell_type": "code",
   "execution_count": 84,
   "metadata": {
    "collapsed": false
   },
   "outputs": [
    {
     "data": {
      "text/plain": [
       "True"
      ]
     },
     "execution_count": 84,
     "metadata": {},
     "output_type": "execute_result"
    }
   ],
   "source": [
    "float('inf') in (t['raw_cost'] / 0).values"
   ]
  },
  {
   "cell_type": "code",
   "execution_count": 85,
   "metadata": {
    "collapsed": true
   },
   "outputs": [],
   "source": [
    "from pandas import Series"
   ]
  },
  {
   "cell_type": "code",
   "execution_count": 94,
   "metadata": {
    "collapsed": false
   },
   "outputs": [
    {
     "ename": "TypeError",
     "evalue": "object of type 'int' has no len()",
     "output_type": "error",
     "traceback": [
      "\u001b[0;31m---------------------------------------------------------------------------\u001b[0m",
      "\u001b[0;31mTypeError\u001b[0m                                 Traceback (most recent call last)",
      "\u001b[0;32m<ipython-input-94-9646b5b9408a>\u001b[0m in \u001b[0;36m<module>\u001b[0;34m()\u001b[0m\n\u001b[0;32m----> 1\u001b[0;31m \u001b[0mlen\u001b[0m\u001b[0;34m(\u001b[0m\u001b[0;36m0\u001b[0m\u001b[0;34m)\u001b[0m\u001b[0;34m\u001b[0m\u001b[0m\n\u001b[0m",
      "\u001b[0;31mTypeError\u001b[0m: object of type 'int' has no len()"
     ]
    }
   ],
   "source": [
    "len(0)"
   ]
  },
  {
   "cell_type": "code",
   "execution_count": 86,
   "metadata": {
    "collapsed": true
   },
   "outputs": [],
   "source": [
    "import numpy as np"
   ]
  },
  {
   "cell_type": "code",
   "execution_count": 88,
   "metadata": {
    "collapsed": false
   },
   "outputs": [],
   "source": [
    "x = np.array([1, 0, 2])"
   ]
  },
  {
   "cell_type": "code",
   "execution_count": 89,
   "metadata": {
    "collapsed": false
   },
   "outputs": [
    {
     "data": {
      "text/plain": [
       "True"
      ]
     },
     "execution_count": 89,
     "metadata": {},
     "output_type": "execute_result"
    }
   ],
   "source": [
    "0 in x"
   ]
  },
  {
   "cell_type": "code",
   "execution_count": 90,
   "metadata": {
    "collapsed": false
   },
   "outputs": [
    {
     "data": {
      "text/plain": [
       "True"
      ]
     },
     "execution_count": 90,
     "metadata": {},
     "output_type": "execute_result"
    }
   ],
   "source": [
    "0 in t['raw_cost']"
   ]
  },
  {
   "cell_type": "code",
   "execution_count": 93,
   "metadata": {
    "collapsed": true
   },
   "outputs": [],
   "source": [
    "t.divide?"
   ]
  },
  {
   "cell_type": "code",
   "execution_count": 91,
   "metadata": {
    "collapsed": false
   },
   "outputs": [
    {
     "ename": "TypeError",
     "evalue": "argument of type 'int' is not iterable",
     "output_type": "error",
     "traceback": [
      "\u001b[0;31m---------------------------------------------------------------------------\u001b[0m",
      "\u001b[0;31mTypeError\u001b[0m                                 Traceback (most recent call last)",
      "\u001b[0;32m<ipython-input-91-cbef3dcbd7d0>\u001b[0m in \u001b[0;36m<module>\u001b[0;34m()\u001b[0m\n\u001b[0;32m----> 1\u001b[0;31m \u001b[0;36m0\u001b[0m \u001b[0;32min\u001b[0m \u001b[0;36m0\u001b[0m\u001b[0;34m\u001b[0m\u001b[0m\n\u001b[0m",
      "\u001b[0;31mTypeError\u001b[0m: argument of type 'int' is not iterable"
     ]
    }
   ],
   "source": [
    "0 in 0"
   ]
  },
  {
   "cell_type": "code",
   "execution_count": 78,
   "metadata": {
    "collapsed": false
   },
   "outputs": [
    {
     "data": {
      "text/plain": [
       "capacity_in_kw                                        750.0\n",
       "raw_cost                                            76250.0\n",
       "installation_cost_as_percent_of_raw_cost               25.0\n",
       "maintenance_cost_per_year_as_percent_of_raw_cost        1.0\n",
       "lifetime_in_years                                       5.0\n",
       "dtype: float64"
      ]
     },
     "execution_count": 78,
     "metadata": {},
     "output_type": "execute_result"
    }
   ],
   "source": [
    "option_table.ix[index0] + (option_table.ix[index1] - option_table.ix[index0]) * fraction"
   ]
  },
  {
   "cell_type": "code",
   "execution_count": null,
   "metadata": {
    "collapsed": true
   },
   "outputs": [],
   "source": [
    "# x + (y - x) * a\n",
    "# x + ay - ax\n",
    "# (1 - a)x + ay"
   ]
  },
  {
   "cell_type": "code",
   "execution_count": null,
   "metadata": {
    "collapsed": true
   },
   "outputs": [],
   "source": [
    "# Get two closest\n",
    "aaa = option_table.ix[][:2]\n",
    "aaa.capacity_in_kw.values[1] - aaa.capacity_in_kw.values[0]\n",
    "# Compute fraction of difference\n",
    "desired_system_capacity - aaa.capacity_in_kw.values[0]\n",
    "(desired_system_capacity - aaa.capacity_in_kw.values[0]) / float(aaa.capacity_in_kw.values[1] - aaa.capacity_in_kw.values[0])\n",
    "\n",
    "aaa.ix[aaa.index[1]] - aaa.ix[aaa.index[0]]\n",
    "(aaa.ix[aaa.index[1]] - aaa.ix[aaa.index[0]]) * 0.5\n",
    "aaa.ix[aaa.index[0]] + (aaa.ix[aaa.index[1]] - aaa.ix[aaa.index[0]]) * 0.5"
   ]
  },
  {
   "cell_type": "code",
   "execution_count": null,
   "metadata": {
    "collapsed": true
   },
   "outputs": [],
   "source": [
    "# def interpolate_system_cost_parameters\n",
    "# def interpolate_system_cost_pack"
   ]
  },
  {
   "cell_type": "code",
   "execution_count": 119,
   "metadata": {
    "collapsed": false
   },
   "outputs": [
    {
     "data": {
      "text/plain": [
       "{'installation_cost_as_percent_of_raw_cost': 25.0,\n",
       " 'lifetime_in_years': 5.0,\n",
       " 'maintenance_cost_per_year_as_percent_of_raw_cost': 1.0,\n",
       " 'raw_cost_per_unit_capacity': 102.5}"
      ]
     },
     "execution_count": 119,
     "metadata": {},
     "output_type": "execute_result"
    }
   ],
   "source": [
    "def interpolate_system_cost_parameters(desired_system_capacity, option_table, capacity_column):\n",
    "    \"\"\"\n",
    "    Interpolate parameters for computing system cost.\n",
    "    Assume that the option_table has unique capacity values and at least one row.\n",
    "    \"\"\"\n",
    "    # Get the indices of the two systems that are nearest in capacity\n",
    "    difference = option_table[capacity_column] - desired_system_capacity\n",
    "    sorted_indices = difference.abs().argsort()\n",
    "    index0 = sorted_indices[0]\n",
    "    index1 = sorted_indices[1] if len(sorted_indices) > 1 else index0\n",
    "    # Add raw_cost_per_unit_capacity\n",
    "    t = option_table.copy()\n",
    "    t['raw_cost_per_unit_capacity'] = t['raw_cost'] / t[capacity_column]\n",
    "    # Compute fraction of difference in capacity\n",
    "    capacity0 = option_table[capacity_column].ix[index0]\n",
    "    capacity1 = option_table[capacity_column].ix[index1]\n",
    "    fraction = divide_safely(capacity0, capacity1, ExpectedPositive(capacity_column))\n",
    "    # Interpolate\n",
    "    x = t.ix[index0] + (t.ix[index1] - t.ix[index0]) * fraction    \n",
    "    return {\n",
    "        'raw_cost_per_unit_capacity': x['raw_cost_per_unit_capacity'],\n",
    "        'installation_cost_as_percent_of_raw_cost': x['installation_cost_as_percent_of_raw_cost'],\n",
    "        'maintenance_cost_per_year_as_percent_of_raw_cost': x['maintenance_cost_per_year_as_percent_of_raw_cost'],\n",
    "        'lifetime_in_years': x['lifetime_in_years'],\n",
    "    }\n",
    "\n",
    "interpolate_system_cost_parameters(desired_system_capacity, option_table, capacity_column)"
   ]
  },
  {
   "cell_type": "code",
   "execution_count": 106,
   "metadata": {
    "collapsed": false
   },
   "outputs": [
    {
     "data": {
      "text/html": [
       "<div>\n",
       "<table border=\"1\" class=\"dataframe\">\n",
       "  <thead>\n",
       "    <tr style=\"text-align: right;\">\n",
       "      <th></th>\n",
       "      <th>capacity_in_kw</th>\n",
       "      <th>raw_cost</th>\n",
       "      <th>installation_cost_as_percent_of_raw_cost</th>\n",
       "      <th>maintenance_cost_per_year_as_percent_of_raw_cost</th>\n",
       "      <th>lifetime_in_years</th>\n",
       "    </tr>\n",
       "  </thead>\n",
       "  <tbody>\n",
       "    <tr>\n",
       "      <th>0</th>\n",
       "      <td>500</td>\n",
       "      <td>52500</td>\n",
       "      <td>25</td>\n",
       "      <td>1</td>\n",
       "      <td>5</td>\n",
       "    </tr>\n",
       "    <tr>\n",
       "      <th>1</th>\n",
       "      <td>1000</td>\n",
       "      <td>100000</td>\n",
       "      <td>25</td>\n",
       "      <td>1</td>\n",
       "      <td>5</td>\n",
       "    </tr>\n",
       "  </tbody>\n",
       "</table>\n",
       "</div>"
      ],
      "text/plain": [
       "   capacity_in_kw  raw_cost  installation_cost_as_percent_of_raw_cost  \\\n",
       "0             500     52500                                        25   \n",
       "1            1000    100000                                        25   \n",
       "\n",
       "   maintenance_cost_per_year_as_percent_of_raw_cost  lifetime_in_years  \n",
       "0                                                 1                  5  \n",
       "1                                                 1                  5  "
      ]
     },
     "execution_count": 106,
     "metadata": {},
     "output_type": "execute_result"
    }
   ],
   "source": [
    "option_table"
   ]
  },
  {
   "cell_type": "code",
   "execution_count": 107,
   "metadata": {
    "collapsed": true
   },
   "outputs": [],
   "source": [
    "option_table['x'] = option_table.raw_cost / option_table.capacity_in_kw"
   ]
  },
  {
   "cell_type": "code",
   "execution_count": 108,
   "metadata": {
    "collapsed": false
   },
   "outputs": [
    {
     "data": {
      "text/html": [
       "<div>\n",
       "<table border=\"1\" class=\"dataframe\">\n",
       "  <thead>\n",
       "    <tr style=\"text-align: right;\">\n",
       "      <th></th>\n",
       "      <th>capacity_in_kw</th>\n",
       "      <th>raw_cost</th>\n",
       "      <th>installation_cost_as_percent_of_raw_cost</th>\n",
       "      <th>maintenance_cost_per_year_as_percent_of_raw_cost</th>\n",
       "      <th>lifetime_in_years</th>\n",
       "      <th>x</th>\n",
       "    </tr>\n",
       "  </thead>\n",
       "  <tbody>\n",
       "    <tr>\n",
       "      <th>0</th>\n",
       "      <td>500</td>\n",
       "      <td>52500</td>\n",
       "      <td>25</td>\n",
       "      <td>1</td>\n",
       "      <td>5</td>\n",
       "      <td>105.0</td>\n",
       "    </tr>\n",
       "    <tr>\n",
       "      <th>1</th>\n",
       "      <td>1000</td>\n",
       "      <td>100000</td>\n",
       "      <td>25</td>\n",
       "      <td>1</td>\n",
       "      <td>5</td>\n",
       "      <td>100.0</td>\n",
       "    </tr>\n",
       "  </tbody>\n",
       "</table>\n",
       "</div>"
      ],
      "text/plain": [
       "   capacity_in_kw  raw_cost  installation_cost_as_percent_of_raw_cost  \\\n",
       "0             500     52500                                        25   \n",
       "1            1000    100000                                        25   \n",
       "\n",
       "   maintenance_cost_per_year_as_percent_of_raw_cost  lifetime_in_years      x  \n",
       "0                                                 1                  5  105.0  \n",
       "1                                                 1                  5  100.0  "
      ]
     },
     "execution_count": 108,
     "metadata": {},
     "output_type": "execute_result"
    }
   ],
   "source": [
    "option_table"
   ]
  },
  {
   "cell_type": "code",
   "execution_count": null,
   "metadata": {
    "collapsed": true
   },
   "outputs": [],
   "source": [
    "from pandas import read_csv\n",
    "\n",
    "\n",
    "desired_system_capacity = 750\n",
    "option_table_path = 'example-diesel-generator-by-capacity.csv'\n",
    "capacity_column = 'capacity_in_kw'\n",
    "\n",
    "\n",
    "\n",
    "option_table = read_csv(option_table_path)\n",
    "\n",
    "\n",
    "def prepare_system_cost(desired_system_capacity, option_table, capacity_column):\n",
    "    \n",
    "    t = option_table.ix[]\n",
    "    \n",
    "    \n",
    "# Get two closest\n",
    "aaa = option_table.ix[][:2]\n",
    "aaa\n",
    "aaa.capacity_in_kw.values[1] - aaa.capacity_in_kw.values[0]\n",
    "# Compute fraction of difference\n",
    "desired_system_capacity - aaa.capacity_in_kw.values[0]\n",
    "(desired_system_capacity - aaa.capacity_in_kw.values[0]) / float(aaa.capacity_in_kw.values[1] - aaa.capacity_in_kw.values[0])\n",
    "\n",
    "aaa.ix[aaa.index[1]] - aaa.ix[aaa.index[0]]\n",
    "(aaa.ix[aaa.index[1]] - aaa.ix[aaa.index[0]]) * 0.5\n",
    "aaa.ix[aaa.index[0]] + (aaa.ix[aaa.index[1]] - aaa.ix[aaa.index[0]]) * 0.5\n",
    "  "
   ]
  },
  {
   "cell_type": "code",
   "execution_count": 110,
   "metadata": {
    "collapsed": false
   },
   "outputs": [
    {
     "data": {
      "text/html": [
       "<div>\n",
       "<table border=\"1\" class=\"dataframe\">\n",
       "  <thead>\n",
       "    <tr style=\"text-align: right;\">\n",
       "      <th></th>\n",
       "      <th>Capacity in kW</th>\n",
       "      <th>Raw Cost</th>\n",
       "      <th>Installation Cost as Percent of Raw Cost</th>\n",
       "      <th>Maintenance Cost per Year as Percent of Raw Cost</th>\n",
       "      <th>Lifetime in Years</th>\n",
       "    </tr>\n",
       "  </thead>\n",
       "  <tbody>\n",
       "    <tr>\n",
       "      <th>0</th>\n",
       "      <td>500</td>\n",
       "      <td>52500</td>\n",
       "      <td>25</td>\n",
       "      <td>1</td>\n",
       "      <td>5</td>\n",
       "    </tr>\n",
       "    <tr>\n",
       "      <th>1</th>\n",
       "      <td>1000</td>\n",
       "      <td>100000</td>\n",
       "      <td>25</td>\n",
       "      <td>1</td>\n",
       "      <td>5</td>\n",
       "    </tr>\n",
       "  </tbody>\n",
       "</table>\n",
       "</div>"
      ],
      "text/plain": [
       "   Capacity in kW  Raw Cost  Installation Cost as Percent of Raw Cost  \\\n",
       "0             500     52500                                        25   \n",
       "1            1000    100000                                        25   \n",
       "\n",
       "   Maintenance Cost per Year as Percent of Raw Cost  Lifetime in Years  \n",
       "0                                                 1                  5  \n",
       "1                                                 1                  5  "
      ]
     },
     "execution_count": 110,
     "metadata": {},
     "output_type": "execute_result"
    }
   ],
   "source": [
    "option_table"
   ]
  },
  {
   "cell_type": "code",
   "execution_count": 121,
   "metadata": {
    "collapsed": false
   },
   "outputs": [
    {
     "data": {
      "text/plain": [
       "{'actual_system_capacity_in_kw': 750,\n",
       " 'installation_cost': 19218.75,\n",
       " 'maintenance_cost_per_year': 768.75,\n",
       " 'raw_cost': 76875.0,\n",
       " 'replacement_cost_per_year': 3843.75}"
      ]
     },
     "execution_count": 121,
     "metadata": {},
     "output_type": "execute_result"
    }
   ],
   "source": [
    "from infrastructure_planning.exceptions import ExpectedPositive\n",
    "from invisibleroads_macros.math import divide_safely\n",
    "from invisibleroads_macros.table import normalize_column_name\n",
    "from math import ceil\n",
    "from pandas import read_csv\n",
    "\n",
    "\n",
    "desired_system_capacity = 750\n",
    "option_table_path = 'example-diesel-generator-by-capacity.csv'\n",
    "capacity_column = 'capacity_in_kw'\n",
    "\n",
    "\n",
    "option_table = read_csv(option_table_path)\n",
    "option_table.columns = [normalize_column_name(x, '_') for x in option_table.columns]\n",
    "\n",
    "\n",
    "def prepare_system_cost(desired_system_capacity, option_table, capacity_column):\n",
    "    x = interpolate_system_cost_parameters(desired_system_capacity, option_table, capacity_column)\n",
    "    raw_cost = desired_system_capacity * x['raw_cost_per_unit_capacity']\n",
    "    installation_cost = raw_cost * x['installation_cost_as_percent_of_raw_cost'] / float(100)\n",
    "    maintenance_cost_per_year = raw_cost * x['maintenance_cost_per_year_as_percent_of_raw_cost'] / float(100)\n",
    "    replacement_cost_per_year = divide_safely(\n",
    "        installation_cost, x['lifetime_in_years'],\n",
    "        ExpectedPositive('lifetime_in_years'))\n",
    "    return {\n",
    "        'actual_system_' + capacity_column: int(ceil(desired_system_capacity)),\n",
    "        'raw_cost': raw_cost,\n",
    "        'installation_cost': installation_cost,\n",
    "        'maintenance_cost_per_year': maintenance_cost_per_year,\n",
    "        'replacement_cost_per_year': replacement_cost_per_year,\n",
    "    }\n",
    "\n",
    "prepare_system_cost(desired_system_capacity, option_table, capacity_column)"
   ]
  },
  {
   "cell_type": "code",
   "execution_count": null,
   "metadata": {
    "collapsed": true
   },
   "outputs": [],
   "source": [
    "\"\"\"\n",
    "    + Name initial variables\n",
    "    + Draft table\n",
    "    + Specify final variables\n",
    "    + Fix oversizing system capacity\n",
    "        + Draft system capacity algorithm\n",
    "            + Get generator capacity\n",
    "            + Get generator raw cost\n",
    "            + Get generator installation cost as percent of raw cost\n",
    "            + Get maintenance cost per year as percent of raw cost\n",
    "            + Get desired system capacity\n",
    "            _ Add system capacity safety factor\n",
    "            + Compute raw cost per kw\n",
    "            + Pick nearest generator capacity and use those costs per kw\n",
    "            + Round actual capacity to integer\n",
    "    = Make function\n",
    "\"\"\""
   ]
  },
  {
   "cell_type": "code",
   "execution_count": null,
   "metadata": {
    "collapsed": true
   },
   "outputs": [],
   "source": [
    "def prepare_system_cost(\n",
    "        desired_system_capacity, option_table, capacity_column):\n",
    "    t = option_table\n",
    "    # Select option\n",
    "    eligible_t = t[t[capacity_column] < desired_system_capacity]\n",
    "    if len(eligible_t):\n",
    "        t = eligible_t\n",
    "        # Choose the largest capacity from eligible types\n",
    "        selected_t = t[t[capacity_column] == t[capacity_column].max()]\n",
    "    else:\n",
    "        # Choose the smallest capacity from all types\n",
    "        selected_t = t[t[capacity_column] == t[capacity_column].min()]\n",
    "    selected = selected_t.ix[selected_t.index[0]]\n",
    "    # Get capacity and count\n",
    "    selected_capacity = selected[capacity_column]\n",
    "    selected_count = int(ceil(divide_safely(\n",
    "        desired_system_capacity, selected_capacity,\n",
    "        ExpectedPositive('selected_capacity'))))\n",
    "    actual_system_capacity = selected_capacity * selected_count\n",
    "    # Get costs\n",
    "    installation_lm_cost = selected_count * selected['installation_lm_cost']\n",
    "    maintenance_lm_cost_per_year = selected_count * selected[\n",
    "        'maintenance_lm_cost_per_year']\n",
    "    replacement_lm_cost_per_year = divide_safely(\n",
    "        installation_lm_cost, selected['lifetime_in_years'],\n",
    "        ExpectedPositive('lifetime_in_years'))\n",
    "    return {\n",
    "        'desired_system_' + capacity_column: desired_system_capacity,\n",
    "        'selected_' + capacity_column: selected_capacity,\n",
    "        'selected_count': selected_count,\n",
    "        'actual_system_' + capacity_column: actual_system_capacity,\n",
    "        'installation_lm_cost': installation_lm_cost,\n",
    "        'maintenance_lm_cost_per_year': maintenance_lm_cost_per_year,\n",
    "        'replacement_lm_cost_per_year': replacement_lm_cost_per_year,\n",
    "    }"
   ]
  },
  {
   "cell_type": "code",
   "execution_count": 122,
   "metadata": {
    "collapsed": true
   },
   "outputs": [],
   "source": [
    "def interpolate_values(source_table, target_column, target_value):\n",
    "    t = source_table\n",
    "    # Get indices of two rows nearest to target value\n",
    "    difference = t[target_column] - target_value\n",
    "    sorted_indices = difference.abs().argsort()\n",
    "    index0 = sorted_indices[0]\n",
    "    index1 = sorted_indices[1] if len(sorted_indices) > 1 else index0\n",
    "    # Compute fraction of difference in target column\n",
    "    fraction = divide_safely(\n",
    "        t[target_column].ix[index0],\n",
    "        t[target_column].ix[index1],\n",
    "        ExpectedPositive(target_column))\n",
    "    # Interpolate\n",
    "    return t.ix[index0] + (t.ix[index1] - t.ix[index0]) * fraction\n"
   ]
  },
  {
   "cell_type": "code",
   "execution_count": 123,
   "metadata": {
    "collapsed": false
   },
   "outputs": [
    {
     "data": {
      "text/plain": [
       "capacity_in_kw                                        750.0\n",
       "raw_cost                                            76250.0\n",
       "installation_cost_as_percent_of_raw_cost               25.0\n",
       "maintenance_cost_per_year_as_percent_of_raw_cost        1.0\n",
       "lifetime_in_years                                       5.0\n",
       "dtype: float64"
      ]
     },
     "execution_count": 123,
     "metadata": {},
     "output_type": "execute_result"
    }
   ],
   "source": [
    "interpolate_values(option_table, capacity_column, 750)"
   ]
  },
  {
   "cell_type": "code",
   "execution_count": null,
   "metadata": {
    "collapsed": true
   },
   "outputs": [],
   "source": []
  }
 ],
 "metadata": {
  "kernelspec": {
   "display_name": "Python 2",
   "language": "python",
   "name": "python2"
  },
  "language_info": {
   "codemirror_mode": {
    "name": "ipython",
    "version": 2
   },
   "file_extension": ".py",
   "mimetype": "text/x-python",
   "name": "python",
   "nbconvert_exporter": "python",
   "pygments_lexer": "ipython2",
   "version": "2.7.12"
  }
 },
 "nbformat": 4,
 "nbformat_minor": 1
}
