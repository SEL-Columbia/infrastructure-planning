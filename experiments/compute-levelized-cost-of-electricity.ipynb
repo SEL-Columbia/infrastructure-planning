{
 "cells": [
  {
   "cell_type": "code",
   "execution_count": 83,
   "metadata": {
    "collapsed": true
   },
   "outputs": [],
   "source": [
    "from pandas import DataFrame\n",
    "\n",
    "electricity_cost_production_table = DataFrame([\n",
    "    (2020, 250000, 0),\n",
    "    (2021, 250000, 0),\n",
    "    (2022, 50000, 20000),\n",
    "    (2023, 50000, 20000),\n",
    "    (2024, 50000, 20000),\n",
    "    (2025, 50000, 20000),\n",
    "    (2026, 50000, 20000),\n",
    "    (2027, 50000, 20000),\n",
    "    (2028, 50000, 20000),\n",
    "    (2029, 50000, 20000),\n",
    "    (2030, 50000, 20000),\n",
    "    (2031, 50000, 20000),\n",
    "    (2032, 50000, 20000),\n",
    "    (2033, 50000, 20000),\n",
    "    (2034, 50000, 20000),\n",
    "    (2035, 50000, 10000),\n",
    "    (2036, 50000, 10000),\n",
    "    (2037, 50000, 10000),\n",
    "    (2038, 50000, 10000),\n",
    "    (2039, 50000, 10000),\n",
    "    (2040, 50000, 10000),\n",
    "    (2041, 50000, 10000),\n",
    "    (2042, 50000, 10000),\n",
    "    (2043, 50000, 10000),\n",
    "    (2044, 50000, 10000),\n",
    "    (2045, 50000, 10000),\n",
    "    (2046, 50000, 10000),\n",
    "    (2047, 50000, 10000),\n",
    "    (2048, 50000, 10000),\n",
    "    (2049, 50000, 10000),\n",
    "    (2050, 50000, 10000),        \n",
    "], columns=[\n",
    "    'year',\n",
    "    'cost',\n",
    "    'production',\n",
    "])\n",
    "discount_rate_percent = 10"
   ]
  },
  {
   "cell_type": "code",
   "execution_count": 84,
   "metadata": {
    "collapsed": false
   },
   "outputs": [
    {
     "data": {
      "text/html": [
       "<div>\n",
       "<table border=\"1\" class=\"dataframe\">\n",
       "  <thead>\n",
       "    <tr style=\"text-align: right;\">\n",
       "      <th></th>\n",
       "      <th>year</th>\n",
       "      <th>cost</th>\n",
       "      <th>production</th>\n",
       "    </tr>\n",
       "  </thead>\n",
       "  <tbody>\n",
       "    <tr>\n",
       "      <th>0</th>\n",
       "      <td>2020</td>\n",
       "      <td>250000</td>\n",
       "      <td>0</td>\n",
       "    </tr>\n",
       "    <tr>\n",
       "      <th>1</th>\n",
       "      <td>2021</td>\n",
       "      <td>250000</td>\n",
       "      <td>0</td>\n",
       "    </tr>\n",
       "    <tr>\n",
       "      <th>2</th>\n",
       "      <td>2022</td>\n",
       "      <td>50000</td>\n",
       "      <td>10000</td>\n",
       "    </tr>\n",
       "    <tr>\n",
       "      <th>3</th>\n",
       "      <td>2023</td>\n",
       "      <td>50000</td>\n",
       "      <td>10000</td>\n",
       "    </tr>\n",
       "    <tr>\n",
       "      <th>4</th>\n",
       "      <td>2024</td>\n",
       "      <td>50000</td>\n",
       "      <td>10000</td>\n",
       "    </tr>\n",
       "  </tbody>\n",
       "</table>\n",
       "</div>"
      ],
      "text/plain": [
       "   year    cost  production\n",
       "0  2020  250000           0\n",
       "1  2021  250000           0\n",
       "2  2022   50000       10000\n",
       "3  2023   50000       10000\n",
       "4  2024   50000       10000"
      ]
     },
     "execution_count": 84,
     "metadata": {},
     "output_type": "execute_result"
    }
   ],
   "source": [
    "electricity_cost_production_table[:5]"
   ]
  },
  {
   "cell_type": "code",
   "execution_count": 85,
   "metadata": {
    "collapsed": true
   },
   "outputs": [],
   "source": [
    "from infrastructure_planning.finance import valuation as v"
   ]
  },
  {
   "cell_type": "code",
   "execution_count": 86,
   "metadata": {
    "collapsed": false
   },
   "outputs": [
    {
     "data": {
      "text/plain": [
       "903163.90516759735"
      ]
     },
     "execution_count": 86,
     "metadata": {},
     "output_type": "execute_result"
    }
   ],
   "source": [
    "y = v.compute_discounted_cash_flow(electricity_cost_production_table[['year', 'cost']].values, discount_rate_percent)\n",
    "y"
   ]
  },
  {
   "cell_type": "code",
   "execution_count": 87,
   "metadata": {
    "collapsed": false
   },
   "outputs": [
    {
     "data": {
      "text/plain": [
       "85178.23557897401"
      ]
     },
     "execution_count": 87,
     "metadata": {},
     "output_type": "execute_result"
    }
   ],
   "source": [
    "x = v.compute_discounted_cash_flow(electricity_cost_production_table[['year', 'production']].values, discount_rate_percent)\n",
    "x"
   ]
  },
  {
   "cell_type": "code",
   "execution_count": 88,
   "metadata": {
    "collapsed": false
   },
   "outputs": [
    {
     "data": {
      "text/plain": [
       "10.603223922503281"
      ]
     },
     "execution_count": 88,
     "metadata": {},
     "output_type": "execute_result"
    }
   ],
   "source": [
    "y / x"
   ]
  },
  {
   "cell_type": "code",
   "execution_count": null,
   "metadata": {
    "collapsed": true
   },
   "outputs": [],
   "source": []
  }
 ],
 "metadata": {
  "kernelspec": {
   "display_name": "Python 2",
   "language": "python",
   "name": "python2"
  },
  "language_info": {
   "codemirror_mode": {
    "name": "ipython",
    "version": 2
   },
   "file_extension": ".py",
   "mimetype": "text/x-python",
   "name": "python",
   "nbconvert_exporter": "python",
   "pygments_lexer": "ipython2",
   "version": "2.7.10"
  }
 },
 "nbformat": 4,
 "nbformat_minor": 0
}
