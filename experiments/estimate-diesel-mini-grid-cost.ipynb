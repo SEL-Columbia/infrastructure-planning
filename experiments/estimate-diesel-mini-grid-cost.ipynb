{
 "cells": [
  {
   "cell_type": "code",
   "execution_count": 1,
   "metadata": {
    "collapsed": false
   },
   "outputs": [
    {
     "data": {
      "text/plain": [
       "2000    100\n",
       "2002    200\n",
       "2004    300\n",
       "dtype: int64"
      ]
     },
     "execution_count": 1,
     "metadata": {},
     "output_type": "execute_result"
    }
   ],
   "source": [
    "from pandas import Series\n",
    "consumption_by_year = Series([100, 200, 300], index=[2000, 2002, 2004])\n",
    "consumption_by_year"
   ]
  },
  {
   "cell_type": "code",
   "execution_count": 4,
   "metadata": {
    "collapsed": false
   },
   "outputs": [
    {
     "data": {
      "text/plain": [
       "300"
      ]
     },
     "execution_count": 4,
     "metadata": {},
     "output_type": "execute_result"
    }
   ],
   "source": [
    "maximum_consumpion_per_year_in_kwh = consumption_by_year.max()\n",
    "maximum_consumpion_per_year_in_kwh"
   ]
  },
  {
   "cell_type": "code",
   "execution_count": null,
   "metadata": {
    "collapsed": true
   },
   "outputs": [],
   "source": [
    "peak_hours_of_consumption_per_year"
   ]
  },
  {
   "cell_type": "code",
   "execution_count": null,
   "metadata": {
    "collapsed": true
   },
   "outputs": [],
   "source": [
    "peak_demand_in_kw\n",
    "diesel_mini_grid_system_loss_as_percent_of_total_production"
   ]
  },
  {
   "cell_type": "code",
   "execution_count": null,
   "metadata": {
    "collapsed": true
   },
   "outputs": [],
   "source": []
  },
  {
   "cell_type": "code",
   "execution_count": null,
   "metadata": {
    "collapsed": true
   },
   "outputs": [],
   "source": []
  },
  {
   "cell_type": "code",
   "execution_count": null,
   "metadata": {
    "collapsed": true
   },
   "outputs": [],
   "source": [
    "      \"\"\"\n",
    "      maximum_consumption_per_year_in_kwh = consumption_in_kwh_by_year.max()\n",
    "      \n",
    "      diesel_mini_grid_system_loss_as_percent_of_total_production\n",
    "      diesel_mini_grid_generator_table\n",
    "      \n",
    "      diesel_mini_grid_fuel_cost_per_liter\n",
    "      \"\"\"\n",
    "      \n",
    "      # Size generator capacity based on estimated peak demand.\n",
    "  \n",
    "      \n",
    "S>    # Select the largest generator capacity that will satisfy the estimated peak demand.\n",
    "S>    # Estimate the number of those generators that will satisfy the estimated peak demand.\n",
    "S>    # Estimate the installation cost by multiplying the installation cost of the selected generator by the number of generators."
   ]
  },
  {
   "cell_type": "code",
   "execution_count": null,
   "metadata": {
    "collapsed": true
   },
   "outputs": [],
   "source": [
    "Local Diesel Generator\n",
    "Initial Installation Cost\n",
    "Size generator capacity based on estimated peak demand.\n",
    "Estimate the amount of loss-adjusted consumption that is happening during peak hours. Divide the loss-adjusted consumption by the number of peak hours per year to estimate peak demand.\n",
    "Select the largest generator capacity that will satisfy the estimated peak demand.\n",
    "Estimate the number of those generators that will satisfy the estimated peak demand.\n",
    "Estimate the installation cost by multiplying the installation cost of the selected generator by the number of generators.\n",
    "\n",
    "Recurring Maintenance Cost\n",
    "Multiply the maintenance cost per year of the selected generator by the number of generators.\n",
    "\n",
    "Recurring Replacement Cost\n",
    "Divide the installation cost by the lifetime of the selected generator.\n",
    "\n",
    "Recurring Production Cost\n",
    "The cost of fuel consumed is the product of the fuel cost per liter, the fuel liters consumed per kilowatt-hour, the generator's capacity in kilowatts and its effective hours of production per year. The effective hours of production per year is the larger of either the loss-adjusted consumption per year divided by the system capacity or the minimum hours of production per year."
   ]
  }
 ],
 "metadata": {
  "kernelspec": {
   "display_name": "Python 2",
   "language": "python",
   "name": "python2"
  },
  "language_info": {
   "codemirror_mode": {
    "name": "ipython",
    "version": 2
   },
   "file_extension": ".py",
   "mimetype": "text/x-python",
   "name": "python",
   "nbconvert_exporter": "python",
   "pygments_lexer": "ipython2",
   "version": "2.7.10"
  }
 },
 "nbformat": 4,
 "nbformat_minor": 0
}
