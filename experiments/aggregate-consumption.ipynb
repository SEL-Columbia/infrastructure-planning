{
 "cells": [
  {
   "cell_type": "code",
   "execution_count": 36,
   "metadata": {
    "collapsed": true
   },
   "outputs": [],
   "source": [
    "from pandas import DataFrame"
   ]
  },
  {
   "cell_type": "code",
   "execution_count": 7,
   "metadata": {
    "collapsed": false
   },
   "outputs": [
    {
     "data": {
      "text/html": [
       "<div>\n",
       "<table border=\"1\" class=\"dataframe\">\n",
       "  <thead>\n",
       "    <tr style=\"text-align: right;\">\n",
       "      <th></th>\n",
       "      <th>connection_type</th>\n",
       "      <th>consumption_in_kwh_per_year</th>\n",
       "    </tr>\n",
       "  </thead>\n",
       "  <tbody>\n",
       "    <tr>\n",
       "      <th>0</th>\n",
       "      <td>Household</td>\n",
       "      <td>100</td>\n",
       "    </tr>\n",
       "    <tr>\n",
       "      <th>1</th>\n",
       "      <td>Hospital</td>\n",
       "      <td>1000</td>\n",
       "    </tr>\n",
       "  </tbody>\n",
       "</table>\n",
       "</div>"
      ],
      "text/plain": [
       "  connection_type  consumption_in_kwh_per_year\n",
       "0       Household                          100\n",
       "1        Hospital                         1000"
      ]
     },
     "execution_count": 7,
     "metadata": {},
     "output_type": "execute_result"
    }
   ],
   "source": [
    "connection_type_table = DataFrame([\n",
    "    ['Household', 100],\n",
    "    ['Hospital', 1000],\n",
    "], columns=['connection_type', 'consumption_in_kwh_per_year'])\n",
    "connection_type_table"
   ]
  },
  {
   "cell_type": "code",
   "execution_count": 39,
   "metadata": {
    "collapsed": false
   },
   "outputs": [
    {
     "data": {
      "text/plain": [
       "0    HOUSEHOLD\n",
       "1     HOSPITAL\n",
       "Name: connection_type, dtype: object"
      ]
     },
     "execution_count": 39,
     "metadata": {},
     "output_type": "execute_result"
    }
   ],
   "source": [
    "connection_type_table['connection_type'].apply(lambda x: x.upper())"
   ]
  },
  {
   "cell_type": "code",
   "execution_count": 38,
   "metadata": {
    "collapsed": false
   },
   "outputs": [
    {
     "data": {
      "text/html": [
       "<div>\n",
       "<table border=\"1\" class=\"dataframe\">\n",
       "  <thead>\n",
       "    <tr style=\"text-align: right;\">\n",
       "      <th></th>\n",
       "      <th>consumption_in_kwh_per_year</th>\n",
       "    </tr>\n",
       "    <tr>\n",
       "      <th>connection_type</th>\n",
       "      <th></th>\n",
       "    </tr>\n",
       "  </thead>\n",
       "  <tbody>\n",
       "    <tr>\n",
       "      <th>Household</th>\n",
       "      <td>100</td>\n",
       "    </tr>\n",
       "    <tr>\n",
       "      <th>Hospital</th>\n",
       "      <td>1000</td>\n",
       "    </tr>\n",
       "  </tbody>\n",
       "</table>\n",
       "</div>"
      ],
      "text/plain": [
       "                 consumption_in_kwh_per_year\n",
       "connection_type                             \n",
       "Household                                100\n",
       "Hospital                                1000"
      ]
     },
     "execution_count": 38,
     "metadata": {},
     "output_type": "execute_result"
    }
   ],
   "source": [
    "t = connection_type_table.set_index('connection_type')\n",
    "t"
   ]
  },
  {
   "cell_type": "code",
   "execution_count": 39,
   "metadata": {
    "collapsed": false
   },
   "outputs": [
    {
     "data": {
      "text/plain": [
       "{'Hospital': 1000, 'Household': 100}"
      ]
     },
     "execution_count": 39,
     "metadata": {},
     "output_type": "execute_result"
    }
   ],
   "source": [
    "consumption_by_connection_type = t['consumption_in_kwh_per_year'].to_dict()\n",
    "consumption_by_connection_type"
   ]
  },
  {
   "cell_type": "code",
   "execution_count": 10,
   "metadata": {
    "collapsed": false
   },
   "outputs": [
    {
     "data": {
      "text/html": [
       "<div>\n",
       "<table border=\"1\" class=\"dataframe\">\n",
       "  <thead>\n",
       "    <tr style=\"text-align: right;\">\n",
       "      <th></th>\n",
       "      <th>name</th>\n",
       "      <th>household_count</th>\n",
       "      <th>hospital_count</th>\n",
       "    </tr>\n",
       "  </thead>\n",
       "  <tbody>\n",
       "    <tr>\n",
       "      <th>0</th>\n",
       "      <td>Village A</td>\n",
       "      <td>50</td>\n",
       "      <td>2</td>\n",
       "    </tr>\n",
       "    <tr>\n",
       "      <th>1</th>\n",
       "      <td>Village B</td>\n",
       "      <td>15</td>\n",
       "      <td>1</td>\n",
       "    </tr>\n",
       "  </tbody>\n",
       "</table>\n",
       "</div>"
      ],
      "text/plain": [
       "        name  household_count  hospital_count\n",
       "0  Village A               50               2\n",
       "1  Village B               15               1"
      ]
     },
     "execution_count": 10,
     "metadata": {},
     "output_type": "execute_result"
    }
   ],
   "source": [
    "demand_point_table = DataFrame([\n",
    "    ['Village A', 50, 2],\n",
    "    ['Village B', 15, 1],\n",
    "], columns=[\n",
    "    'name',\n",
    "    'household_count',\n",
    "    'hospital_count',\n",
    "])\n",
    "demand_point_table"
   ]
  },
  {
   "cell_type": "code",
   "execution_count": 11,
   "metadata": {
    "collapsed": false
   },
   "outputs": [
    {
     "data": {
      "text/plain": [
       "Index([u'name', u'household_count', u'hospital_count'], dtype='object')"
      ]
     },
     "execution_count": 11,
     "metadata": {},
     "output_type": "execute_result"
    }
   ],
   "source": [
    "demand_point_table.columns"
   ]
  },
  {
   "cell_type": "code",
   "execution_count": 12,
   "metadata": {
    "collapsed": false
   },
   "outputs": [],
   "source": [
    "# It should be the other way around\n",
    "\"\"\"\n",
    "consumption_in_kwh_per_year = 0\n",
    "for column_name in demand_point_table.columns:\n",
    "    connection_type = column_name.replace('_count', '')\n",
    "    if connection_type not in consumption_by_connection_type:\n",
    "        continue\n",
    "    consumption_per_connection = consumption_by_connection_type[connection_type] \n",
    "\"\"\";"
   ]
  },
  {
   "cell_type": "code",
   "execution_count": 13,
   "metadata": {
    "collapsed": false
   },
   "outputs": [
    {
     "data": {
      "text/plain": [
       "{'hospital_count': 2, 'household_count': 50, 'name': 'Village A'}"
      ]
     },
     "execution_count": 13,
     "metadata": {},
     "output_type": "execute_result"
    }
   ],
   "source": [
    "keywords = dict(demand_point_table.iterrows().next()[1])\n",
    "keywords"
   ]
  },
  {
   "cell_type": "code",
   "execution_count": 15,
   "metadata": {
    "collapsed": false
   },
   "outputs": [
    {
     "name": "stdout",
     "output_type": "stream",
     "text": [
      "7000\n",
      "52\n"
     ]
    }
   ],
   "source": [
    "total_consumption_in_kwh_per_year = 0\n",
    "total_connection_count = 0\n",
    "for row_index, row in connection_type_table.iterrows():\n",
    "    connection_type = row['connection_type'].lower()\n",
    "    try:\n",
    "        connection_count = keywords[connection_type + '_count']\n",
    "    except KeyError:\n",
    "        continue\n",
    "    consumption_per_connection = row['consumption_in_kwh_per_year']\n",
    "    total_consumption_in_kwh_per_year += consumption_per_connection * connection_count\n",
    "    total_connection_count += connection_count\n",
    "print(total_consumption_in_kwh_per_year)\n",
    "print(total_connection_count)"
   ]
  },
  {
   "cell_type": "code",
   "execution_count": null,
   "metadata": {
    "collapsed": true
   },
   "outputs": [],
   "source": [
    "\"\"\"\n",
    "estimate_consumption_from_connection_type\n",
    "    population_by_year,\n",
    "    number_of_people_per_household,\n",
    "    connection_type_table,\n",
    "    **keywords\n",
    "\"\"\""
   ]
  },
  {
   "cell_type": "code",
   "execution_count": 2,
   "metadata": {
    "collapsed": true
   },
   "outputs": [],
   "source": [
    "from pandas import DataFrame, Series"
   ]
  },
  {
   "cell_type": "code",
   "execution_count": 6,
   "metadata": {
    "collapsed": false
   },
   "outputs": [
    {
     "data": {
      "text/plain": [
       "2016    301.000000\n",
       "2017    331.100000\n",
       "2018    364.210000\n",
       "2019    400.631000\n",
       "2020    440.694100\n",
       "2021    484.763510\n",
       "2022    533.239861\n",
       "2023    586.563847\n",
       "2024    645.220232\n",
       "2025    709.742255\n",
       "2026    780.716480\n",
       "dtype: float64"
      ]
     },
     "execution_count": 6,
     "metadata": {},
     "output_type": "execute_result"
    }
   ],
   "source": [
    "population_by_year = Series({\n",
    "    2016: 301.0,\n",
    "    2017: 331.10000000000002,\n",
    "    2018: 364.21000000000004,\n",
    "    2019: 400.63100000000014,\n",
    "    2020: 440.69410000000011,\n",
    "    2021: 484.76351000000017,\n",
    "    2022: 533.23986100000025,\n",
    "    2023: 586.56384710000032,\n",
    "    2024: 645.22023181000043,\n",
    "    2025: 709.74225499100055,\n",
    "    2026: 780.71648049010071,\n",
    "})\n",
    "population_by_year"
   ]
  },
  {
   "cell_type": "code",
   "execution_count": 9,
   "metadata": {
    "collapsed": false
   },
   "outputs": [
    {
     "data": {
      "text/html": [
       "<div>\n",
       "<table border=\"1\" class=\"dataframe\">\n",
       "  <thead>\n",
       "    <tr style=\"text-align: right;\">\n",
       "      <th></th>\n",
       "      <th>connection_type</th>\n",
       "      <th>consumption_in_kwh_per_year</th>\n",
       "    </tr>\n",
       "  </thead>\n",
       "  <tbody>\n",
       "    <tr>\n",
       "      <th>0</th>\n",
       "      <td>Household</td>\n",
       "      <td>100</td>\n",
       "    </tr>\n",
       "    <tr>\n",
       "      <th>1</th>\n",
       "      <td>Hospital</td>\n",
       "      <td>1000</td>\n",
       "    </tr>\n",
       "  </tbody>\n",
       "</table>\n",
       "</div>"
      ],
      "text/plain": [
       "  connection_type  consumption_in_kwh_per_year\n",
       "0       Household                          100\n",
       "1        Hospital                         1000"
      ]
     },
     "execution_count": 9,
     "metadata": {},
     "output_type": "execute_result"
    }
   ],
   "source": [
    "number_of_people_per_household = 5\n",
    "connection_type_table"
   ]
  },
  {
   "cell_type": "code",
   "execution_count": 16,
   "metadata": {
    "collapsed": false
   },
   "outputs": [
    {
     "data": {
      "text/plain": [
       "2016    301.000000\n",
       "2017    331.100000\n",
       "2018    364.210000\n",
       "2019    400.631000\n",
       "2020    440.694100\n",
       "2021    484.763510\n",
       "2022    533.239861\n",
       "2023    586.563847\n",
       "2024    645.220232\n",
       "2025    709.742255\n",
       "2026    780.716480\n",
       "dtype: float64"
      ]
     },
     "execution_count": 16,
     "metadata": {},
     "output_type": "execute_result"
    }
   ],
   "source": [
    "population_by_year"
   ]
  },
  {
   "cell_type": "code",
   "execution_count": 17,
   "metadata": {
    "collapsed": false
   },
   "outputs": [
    {
     "data": {
      "text/plain": [
       "2016    401.000000\n",
       "2017    431.100000\n",
       "2018    464.210000\n",
       "2019    500.631000\n",
       "2020    540.694100\n",
       "2021    584.763510\n",
       "2022    633.239861\n",
       "2023    686.563847\n",
       "2024    745.220232\n",
       "2025    809.742255\n",
       "2026    880.716480\n",
       "dtype: float64"
      ]
     },
     "execution_count": 17,
     "metadata": {},
     "output_type": "execute_result"
    }
   ],
   "source": [
    "population_by_year + 100"
   ]
  },
  {
   "cell_type": "code",
   "execution_count": 22,
   "metadata": {
    "collapsed": false
   },
   "outputs": [
    {
     "data": {
      "text/plain": [
       "2016    401.000000\n",
       "2017    431.100000\n",
       "2018    464.210000\n",
       "2019    500.631000\n",
       "2020    540.694100\n",
       "2021    584.763510\n",
       "2022    633.239861\n",
       "2023    686.563847\n",
       "2024    745.220232\n",
       "2025    809.742255\n",
       "2026    880.716480\n",
       "dtype: float64"
      ]
     },
     "execution_count": 22,
     "metadata": {},
     "output_type": "execute_result"
    }
   ],
   "source": [
    "100 + population_by_year"
   ]
  },
  {
   "cell_type": "code",
   "execution_count": 19,
   "metadata": {
    "collapsed": false
   },
   "outputs": [
    {
     "ename": "TypeError",
     "evalue": "'int' object is not iterable",
     "output_type": "error",
     "traceback": [
      "\u001b[1;31m---------------------------------------------------------------------------\u001b[0m",
      "\u001b[1;31mTypeError\u001b[0m                                 Traceback (most recent call last)",
      "\u001b[1;32m<ipython-input-19-513104a170b3>\u001b[0m in \u001b[0;36m<module>\u001b[1;34m()\u001b[0m\n\u001b[1;32m----> 1\u001b[1;33m \u001b[0mmax\u001b[0m\u001b[1;33m(\u001b[0m\u001b[1;36m100\u001b[0m\u001b[1;33m)\u001b[0m\u001b[1;33m\u001b[0m\u001b[0m\n\u001b[0m",
      "\u001b[1;31mTypeError\u001b[0m: 'int' object is not iterable"
     ]
    }
   ],
   "source": [
    "max(100)"
   ]
  },
  {
   "cell_type": "code",
   "execution_count": 21,
   "metadata": {
    "collapsed": false
   },
   "outputs": [
    {
     "ename": "AttributeError",
     "evalue": "can't set attribute",
     "output_type": "error",
     "traceback": [
      "\u001b[1;31m---------------------------------------------------------------------------\u001b[0m",
      "\u001b[1;31mAttributeError\u001b[0m                            Traceback (most recent call last)",
      "\u001b[1;32m<ipython-input-21-0056b1a1ea03>\u001b[0m in \u001b[0;36m<module>\u001b[1;34m()\u001b[0m\n\u001b[1;32m----> 1\u001b[1;33m \u001b[0mpopulation_by_year\u001b[0m\u001b[1;33m.\u001b[0m\u001b[0mvalues\u001b[0m \u001b[1;33m=\u001b[0m \u001b[0mxrange\u001b[0m\u001b[1;33m(\u001b[0m\u001b[1;36m10\u001b[0m\u001b[1;33m)\u001b[0m\u001b[1;33m\u001b[0m\u001b[0m\n\u001b[0m",
      "\u001b[1;32m/home/rhh/.virtualenvs/134F/lib/python2.7/site-packages/pandas-0.18.1-py2.7-linux-x86_64.egg/pandas/core/generic.pyc\u001b[0m in \u001b[0;36m__setattr__\u001b[1;34m(self, name, value)\u001b[0m\n\u001b[0;32m   2703\u001b[0m                     \u001b[0mobject\u001b[0m\u001b[1;33m.\u001b[0m\u001b[0m__setattr__\u001b[0m\u001b[1;33m(\u001b[0m\u001b[0mself\u001b[0m\u001b[1;33m,\u001b[0m \u001b[0mname\u001b[0m\u001b[1;33m,\u001b[0m \u001b[0mvalue\u001b[0m\u001b[1;33m)\u001b[0m\u001b[1;33m\u001b[0m\u001b[0m\n\u001b[0;32m   2704\u001b[0m             \u001b[1;32mexcept\u001b[0m \u001b[1;33m(\u001b[0m\u001b[0mAttributeError\u001b[0m\u001b[1;33m,\u001b[0m \u001b[0mTypeError\u001b[0m\u001b[1;33m)\u001b[0m\u001b[1;33m:\u001b[0m\u001b[1;33m\u001b[0m\u001b[0m\n\u001b[1;32m-> 2705\u001b[1;33m                 \u001b[0mobject\u001b[0m\u001b[1;33m.\u001b[0m\u001b[0m__setattr__\u001b[0m\u001b[1;33m(\u001b[0m\u001b[0mself\u001b[0m\u001b[1;33m,\u001b[0m \u001b[0mname\u001b[0m\u001b[1;33m,\u001b[0m \u001b[0mvalue\u001b[0m\u001b[1;33m)\u001b[0m\u001b[1;33m\u001b[0m\u001b[0m\n\u001b[0m\u001b[0;32m   2706\u001b[0m \u001b[1;33m\u001b[0m\u001b[0m\n\u001b[0;32m   2707\u001b[0m     \u001b[1;31m# ----------------------------------------------------------------------\u001b[0m\u001b[1;33m\u001b[0m\u001b[1;33m\u001b[0m\u001b[0m\n",
      "\u001b[1;31mAttributeError\u001b[0m: can't set attribute"
     ]
    }
   ],
   "source": []
  },
  {
   "cell_type": "code",
   "execution_count": 26,
   "metadata": {
    "collapsed": true
   },
   "outputs": [],
   "source": [
    "keywords = {'hospital_count': 2, 'name': 'Village A'}"
   ]
  },
  {
   "cell_type": "code",
   "execution_count": 33,
   "metadata": {
    "collapsed": false
   },
   "outputs": [
    {
     "data": {
      "text/plain": [
       "0    10\n",
       "1    10\n",
       "2    10\n",
       "3    10\n",
       "4    10\n",
       "5    10\n",
       "6    10\n",
       "7    10\n",
       "8    10\n",
       "9    10\n",
       "dtype: int64"
      ]
     },
     "execution_count": 33,
     "metadata": {},
     "output_type": "execute_result"
    }
   ],
   "source": [
    "Series(0, index=xrange(10)) + 10"
   ]
  },
  {
   "cell_type": "code",
   "execution_count": 32,
   "metadata": {
    "collapsed": false
   },
   "outputs": [
    {
     "data": {
      "text/plain": [
       "0   NaN\n",
       "1   NaN\n",
       "2   NaN\n",
       "3   NaN\n",
       "4   NaN\n",
       "5   NaN\n",
       "6   NaN\n",
       "7   NaN\n",
       "8   NaN\n",
       "9   NaN\n",
       "dtype: float64"
      ]
     },
     "execution_count": 32,
     "metadata": {},
     "output_type": "execute_result"
    }
   ],
   "source": [
    "Series(index=xrange(10)) + 10"
   ]
  },
  {
   "cell_type": "code",
   "execution_count": 34,
   "metadata": {
    "collapsed": true
   },
   "outputs": [],
   "source": []
  },
  {
   "cell_type": "code",
   "execution_count": null,
   "metadata": {
    "collapsed": true
   },
   "outputs": [],
   "source": []
  },
  {
   "cell_type": "code",
   "execution_count": 35,
   "metadata": {
    "collapsed": false
   },
   "outputs": [
    {
     "name": "stdout",
     "output_type": "stream",
     "text": [
      "2016     8020.000000\n",
      "2017     8622.000000\n",
      "2018     9284.200000\n",
      "2019    10012.620000\n",
      "2020    10813.882000\n",
      "2021    11695.270200\n",
      "2022    12664.797220\n",
      "2023    13731.276942\n",
      "2024    14904.404636\n",
      "2025    16194.845100\n",
      "2026    17614.329610\n",
      "dtype: float64\n",
      "2016     62.200000\n",
      "2017     68.220000\n",
      "2018     74.842000\n",
      "2019     82.126200\n",
      "2020     90.138820\n",
      "2021     98.952702\n",
      "2022    108.647972\n",
      "2023    119.312769\n",
      "2024    131.044046\n",
      "2025    143.948451\n",
      "2026    158.143296\n",
      "dtype: float64\n"
     ]
    }
   ],
   "source": [
    "connection_count_by_year = Series(0, index=population_by_year.index)\n",
    "consumption_by_year = Series(0, index=population_by_year.index)\n",
    "for row_index, row in connection_type_table.iterrows():\n",
    "    connection_type = row['connection_type'].lower()  # this should happen earlier during normalization\n",
    "    try:\n",
    "        connection_count = keywords[connection_type + '_count']\n",
    "    except KeyError:\n",
    "        if connection_type != 'household':\n",
    "            continue\n",
    "        connection_count = population_by_year / float(number_of_people_per_household)\n",
    "    consumption_per_connection = row['consumption_in_kwh_per_year']\n",
    "    consumption_by_year += consumption_per_connection * connection_count\n",
    "    connection_count_by_year += connection_count\n",
    "print(consumption_by_year)\n",
    "print(connection_count_by_year)"
   ]
  },
  {
   "cell_type": "code",
   "execution_count": 23,
   "metadata": {
    "collapsed": false
   },
   "outputs": [
    {
     "data": {
      "text/plain": [
       "{'hospital_count': 2, 'household_count': 50, 'name': 'Village A'}"
      ]
     },
     "execution_count": 23,
     "metadata": {},
     "output_type": "execute_result"
    }
   ],
   "source": [
    "keywords"
   ]
  },
  {
   "cell_type": "code",
   "execution_count": null,
   "metadata": {
    "collapsed": true
   },
   "outputs": [],
   "source": [
    "connection_count_by_year = "
   ]
  },
  {
   "cell_type": "code",
   "execution_count": null,
   "metadata": {
    "collapsed": true
   },
   "outputs": [],
   "source": [
    "consumption_in_kwh_by_year"
   ]
  },
  {
   "cell_type": "code",
   "execution_count": 28,
   "metadata": {
    "collapsed": false
   },
   "outputs": [
    {
     "name": "stdout",
     "output_type": "stream",
     "text": [
      "2016     60.200000\n",
      "2017     66.220000\n",
      "2018     72.842000\n",
      "2019     80.126200\n",
      "2020     88.138820\n",
      "2021     96.952702\n",
      "2022    106.647972\n",
      "2023    117.312769\n",
      "2024    129.044046\n",
      "2025    141.948451\n",
      "2026    156.143296\n",
      "dtype: float64\n",
      "2016     6020.000000\n",
      "2017     6622.000000\n",
      "2018     7284.200000\n",
      "2019     8012.620000\n",
      "2020     8813.882000\n",
      "2021     9695.270200\n",
      "2022    10664.797220\n",
      "2023    11731.276942\n",
      "2024    12904.404636\n",
      "2025    14194.845100\n",
      "2026    15614.329610\n",
      "dtype: float64\n"
     ]
    }
   ],
   "source": [
    "number_of_people_per_connection = 5\n",
    "consumption_in_kwh_per_year_per_connection = 100\n",
    "connection_count_by_year = population_by_year / float(number_of_people_per_connection)\n",
    "print(connection_count_by_year)\n",
    "consumption_in_kwh_by_year = consumption_in_kwh_per_year_per_connection * connection_count_by_year\n",
    "print(consumption_in_kwh_by_year)"
   ]
  }
 ],
 "metadata": {
  "kernelspec": {
   "display_name": "Python 2",
   "language": "python",
   "name": "python2"
  },
  "language_info": {
   "codemirror_mode": {
    "name": "ipython",
    "version": 2
   },
   "file_extension": ".py",
   "mimetype": "text/x-python",
   "name": "python",
   "nbconvert_exporter": "python",
   "pygments_lexer": "ipython2",
   "version": "2.7.11"
  }
 },
 "nbformat": 4,
 "nbformat_minor": 0
}
